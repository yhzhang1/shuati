{
 "cells": [
  {
   "cell_type": "markdown",
   "metadata": {},
   "source": [
    "https://www.youtube.com/watch?v=grfZlZT03mM"
   ]
  },
  {
   "cell_type": "code",
   "execution_count": 2,
   "metadata": {},
   "outputs": [],
   "source": [
    "from typing import List\n",
    "class Solution:\n",
    "    def maximalSquare(self, matrix: List[List[str]]) -> int:\n",
    "        if not matrix:\n",
    "            return 0\n",
    "        m, n = len(matrix), len(matrix[0])\n",
    "        dp = [[0]*(n+1) for _ in range(m+1)]\n",
    "        ans = 0\n",
    "        \n",
    "        for i in range(1,m+1):\n",
    "            for j in range(1,n+1):\n",
    "                if matrix[i-1][j-1] == '1':\n",
    "                    dp[i][j] = min([dp[i-1][j], dp[i][j-1], dp[i-1][j-1]]) + 1\n",
    "                    ans = max(ans, dp[i][j])\n",
    "                    \n",
    "        print(dp)\n",
    "        return ans * ans\n",
    "                    \n",
    "        "
   ]
  }
 ],
 "metadata": {
  "kernelspec": {
   "display_name": "Python 3",
   "language": "python",
   "name": "python3"
  },
  "language_info": {
   "codemirror_mode": {
    "name": "ipython",
    "version": 3
   },
   "file_extension": ".py",
   "mimetype": "text/x-python",
   "name": "python",
   "nbconvert_exporter": "python",
   "pygments_lexer": "ipython3",
   "version": "3.7.6"
  }
 },
 "nbformat": 4,
 "nbformat_minor": 4
}
