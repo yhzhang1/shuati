{
 "cells": [
  {
   "cell_type": "markdown",
   "metadata": {},
   "source": [
    "https://www.youtube.com/watch?v=a4XZu2VVE9Q"
   ]
  },
  {
   "cell_type": "code",
   "execution_count": 3,
   "metadata": {},
   "outputs": [],
   "source": [
    "#Definition for singly-linked list.\n",
    "class ListNode:\n",
    "    def __init__(self, val=0, next=None):\n",
    "        self.val = val\n",
    "        self.next = next\n",
    "class Solution:\n",
    "    def rotateRight(self, head: ListNode, k: int) -> ListNode:\n",
    "        if not head:    return head\n",
    "        tail = head\n",
    "        l = 1\n",
    "        while tail.next:\n",
    "            tail = tail.next\n",
    "            l += 1\n",
    "        k %= l\n",
    "        if k == 0:  return head\n",
    "        \n",
    "        prev = head\n",
    "        for _ in range(l - k - 1):  prev = prev.next\n",
    "            \n",
    "        new_head = prev.next\n",
    "        tail.next = head\n",
    "        prev.next = None\n",
    "        return new_head"
   ]
  },
  {
   "cell_type": "code",
   "execution_count": 4,
   "metadata": {},
   "outputs": [],
   "source": [
    "# Definition for singly-linked list.\n",
    "# class ListNode:\n",
    "#     def __init__(self, val=0, next=None):\n",
    "#         self.val = val\n",
    "#         self.next = next\n",
    "class Solution:\n",
    "    def rotateRight(self, head: ListNode, k: int) -> ListNode:\n",
    "        if not head or k == 0:    return head\n",
    "        n = 0\n",
    "        cur = head\n",
    "        while cur:\n",
    "            n += 1\n",
    "            cur = cur.next\n",
    "        k %= n\n",
    "        if k == 0:  return head\n",
    "        tail = head\n",
    "        for _ in range(n-k-1):\n",
    "            tail = tail.next\n",
    "            print(tail.val)\n",
    "            \n",
    "        newHead = tail.next\n",
    "        tail.next = None\n",
    "        \n",
    "        cur = newHead\n",
    "        while cur.next:\n",
    "            cur = cur.next\n",
    "        cur.next = head\n",
    "        \n",
    "        return newHead"
   ]
  },
  {
   "cell_type": "code",
   "execution_count": null,
   "metadata": {},
   "outputs": [],
   "source": []
  }
 ],
 "metadata": {
  "kernelspec": {
   "display_name": "Python 3",
   "language": "python",
   "name": "python3"
  },
  "language_info": {
   "codemirror_mode": {
    "name": "ipython",
    "version": 3
   },
   "file_extension": ".py",
   "mimetype": "text/x-python",
   "name": "python",
   "nbconvert_exporter": "python",
   "pygments_lexer": "ipython3",
   "version": "3.8.5"
  }
 },
 "nbformat": 4,
 "nbformat_minor": 4
}
