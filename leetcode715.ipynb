{
 "cells": [
  {
   "cell_type": "markdown",
   "id": "924f2976-b70c-4692-9d7f-5d60b39692e4",
   "metadata": {},
   "source": [
    "https://www.youtube.com/watch?v=pcpB9ux3RrQ"
   ]
  },
  {
   "cell_type": "code",
   "execution_count": 9,
   "id": "142fc15c-cf28-4104-a143-d05d4e06b6f8",
   "metadata": {},
   "outputs": [
    {
     "ename": "IndentationError",
     "evalue": "unindent does not match any outer indentation level (<tokenize>, line 11)",
     "output_type": "error",
     "traceback": [
      "\u001b[1;36m  File \u001b[1;32m\"<tokenize>\"\u001b[1;36m, line \u001b[1;32m11\u001b[0m\n\u001b[1;33m    if not inserted and right < range_l:\u001b[0m\n\u001b[1;37m    ^\u001b[0m\n\u001b[1;31mIndentationError\u001b[0m\u001b[1;31m:\u001b[0m unindent does not match any outer indentation level\n"
     ]
    }
   ],
   "source": [
    "class RangeModule:\n",
    "\n",
    "    def __init__(self):\n",
    "        self.ranges = []\n",
    "\n",
    "    def addRange(self, left: int, right: int) -> None:\n",
    "\t# T: O(n), S: O(n)\n",
    "\t\tnew_ranges = []\n",
    "\t\tinserted = False\n",
    "\t\tfor range_l, range_r in self.ranges:\n",
    "            if not inserted and right < range_l:\n",
    "                new_ranges += [(left,right)]\n",
    "                inserted = True\n",
    "            if range_r < left or range_l > right:\n",
    "                # non overlap\n",
    "                new_ranges += [(range_l, range_r)]\n",
    "            else:\n",
    "                # overlap, merge\n",
    "                left = min(left, range_l)\n",
    "                right = max(right, range_r)\n",
    "        if not inserted:\n",
    "            new_ranges += [(left,right)]\n",
    "        self.ranges = new_ranges\n",
    "        # print(f'after add range {left,right}, new rangge: {self.ranges}')\n",
    "\n",
    "    def queryRange(self, left: int, right: int) -> bool:\n",
    "\t# T: O(logn), S: O(1)\n",
    "        n = len(self.ranges)\n",
    "        l, r = 0, n-1\n",
    "        while l <= r:\n",
    "            m = (l + r) // 2\n",
    "            if self.ranges[m][1] <= left:\n",
    "                l = m + 1\n",
    "            elif self.ranges[m][0] >= right:\n",
    "                r = m - 1\n",
    "            else:\n",
    "                return self.ranges[m][0] <= left and right <= self.ranges[m][1]\n",
    "        return False\n",
    "        \n",
    "\n",
    "    def removeRange(self, left: int, right: int) -> None:\n",
    "\t# T: O(n), S: O(n)\n",
    "        new_ranges = []\n",
    "        for range_l, range_r in self.ranges:\n",
    "            if range_r <= left or range_l >= right:\n",
    "            # non overlap\n",
    "                new_ranges += [(range_l,range_r)]\n",
    "            else:\n",
    "                if range_l < left:\n",
    "                    new_ranges += [(range_l,left)]\n",
    "                if range_r > right:\n",
    "                    new_ranges += [(right, range_r)]\n",
    "        self.ranges = new_ranges\n",
    "        # print(f'after remove range {left,right}, new rangge: {self.ranges}')\n",
    "\n",
    "\n",
    "\n",
    "# Your RangeModule object will be instantiated and called as such:\n",
    "# obj = RangeModule()\n",
    "# obj.addRange(left,right)\n",
    "# param_2 = obj.queryRange(left,right)\n",
    "# obj.removeRange(left,right)"
   ]
  },
  {
   "cell_type": "code",
   "execution_count": null,
   "id": "ba35e771-b766-459c-bf43-6f398db5c0b3",
   "metadata": {},
   "outputs": [],
   "source": []
  }
 ],
 "metadata": {
  "kernelspec": {
   "display_name": "Python 3 (ipykernel)",
   "language": "python",
   "name": "python3"
  },
  "language_info": {
   "codemirror_mode": {
    "name": "ipython",
    "version": 3
   },
   "file_extension": ".py",
   "mimetype": "text/x-python",
   "name": "python",
   "nbconvert_exporter": "python",
   "pygments_lexer": "ipython3",
   "version": "3.8.5"
  }
 },
 "nbformat": 4,
 "nbformat_minor": 5
}
