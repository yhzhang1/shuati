{
 "cells": [
  {
   "cell_type": "code",
   "execution_count": 4,
   "metadata": {},
   "outputs": [],
   "source": [
    "# T: O(n), S: O(n)\n",
    "# Definition for singly-linked list.\n",
    "class ListNode:\n",
    "    def __init__(self, val=0, next=None):\n",
    "        self.val = val\n",
    "        self.next = next\n",
    "class Solution:\n",
    "    def deleteDuplicatesUnsorted(self, head: ListNode) -> ListNode:\n",
    "        count = Counter()\n",
    "        cur = head\n",
    "        while cur:\n",
    "            count[cur.val] += 1\n",
    "            cur = cur.next\n",
    "            \n",
    "        print(count)\n",
    "        dummy = ListNode()\n",
    "        tail = dummy\n",
    "        cur = head\n",
    "        while cur:\n",
    "            nxt = cur.next\n",
    "            if count[cur.val] == 1:\n",
    "                tail.next = cur\n",
    "                tail = tail.next\n",
    "                tail.next = None\n",
    "            cur = nxt\n",
    "            \n",
    "        return dummy.next"
   ]
  },
  {
   "cell_type": "code",
   "execution_count": null,
   "metadata": {},
   "outputs": [],
   "source": []
  }
 ],
 "metadata": {
  "kernelspec": {
   "display_name": "Python 3",
   "language": "python",
   "name": "python3"
  },
  "language_info": {
   "codemirror_mode": {
    "name": "ipython",
    "version": 3
   },
   "file_extension": ".py",
   "mimetype": "text/x-python",
   "name": "python",
   "nbconvert_exporter": "python",
   "pygments_lexer": "ipython3",
   "version": "3.8.5"
  }
 },
 "nbformat": 4,
 "nbformat_minor": 4
}
