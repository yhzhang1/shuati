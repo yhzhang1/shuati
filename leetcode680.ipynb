{
 "cells": [
  {
   "cell_type": "markdown",
   "metadata": {},
   "source": [
    "https://www.youtube.com/watch?v=hvI-rJyG4ik&t=410s"
   ]
  },
  {
   "cell_type": "code",
   "execution_count": 1,
   "metadata": {},
   "outputs": [],
   "source": [
    "# T: O(n)\n",
    "class Solution:\n",
    "    def validPalindrome(self, s: str) -> bool:\n",
    "        def isPalindrome(s):\n",
    "            l, r = 0, len(s) - 1\n",
    "            while l < r:\n",
    "                if s[l] != s[r]:    return False\n",
    "                l += 1\n",
    "                r -= 1\n",
    "                \n",
    "            return True\n",
    "        \n",
    "        l, r = 0, len(s) - 1\n",
    "        while l < r:\n",
    "            if s[l] != s[r]:\n",
    "                return isPalindrome(s[l+1:r+1]) or isPalindrome(s[l:r])\n",
    "            else:\n",
    "                l += 1\n",
    "                r -= 1\n",
    "                \n",
    "        return True\n",
    "            "
   ]
  },
  {
   "cell_type": "code",
   "execution_count": null,
   "metadata": {},
   "outputs": [],
   "source": []
  }
 ],
 "metadata": {
  "kernelspec": {
   "display_name": "Python 3",
   "language": "python",
   "name": "python3"
  },
  "language_info": {
   "codemirror_mode": {
    "name": "ipython",
    "version": 3
   },
   "file_extension": ".py",
   "mimetype": "text/x-python",
   "name": "python",
   "nbconvert_exporter": "python",
   "pygments_lexer": "ipython3",
   "version": "3.8.5"
  }
 },
 "nbformat": 4,
 "nbformat_minor": 4
}
