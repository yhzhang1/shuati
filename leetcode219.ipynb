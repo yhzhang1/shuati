{
 "cells": [
  {
   "cell_type": "markdown",
   "metadata": {},
   "source": [
    "https://leetcode.com/problems/contains-duplicate-ii/solution/"
   ]
  },
  {
   "cell_type": "code",
   "execution_count": 5,
   "metadata": {},
   "outputs": [],
   "source": [
    "class Solution:\n",
    "    def containsNearbyDuplicate(self, nums: List[int], k: int) -> bool:\n",
    "        hashset = set()\n",
    "        for i in range(len(nums)):\n",
    "            if nums[i] in hashset:    return True\n",
    "            hashset.add(nums[i])\n",
    "            if len(hashset) > k:\n",
    "                hashset.remove(nums[i-k])\n",
    "        return False"
   ]
  },
  {
   "cell_type": "code",
   "execution_count": 2,
   "metadata": {},
   "outputs": [],
   "source": [
    "from typing import List\n",
    "class Solution:\n",
    "    def containsNearbyDuplicate(self, nums: List[int], k: int) -> bool:\n",
    "        hashmap = {}\n",
    "        for i in range(len(nums)):\n",
    "            if nums[i] in hashmap:\n",
    "                for idx in hashmap[nums[i]]:\n",
    "                    if abs(i-idx) <= k: return True\n",
    "                hashmap[nums[i]].append(i)\n",
    "            else:\n",
    "                hashmap[nums[i]] = [i]\n",
    "        return False"
   ]
  }
 ],
 "metadata": {
  "kernelspec": {
   "display_name": "Python 3",
   "language": "python",
   "name": "python3"
  },
  "language_info": {
   "codemirror_mode": {
    "name": "ipython",
    "version": 3
   },
   "file_extension": ".py",
   "mimetype": "text/x-python",
   "name": "python",
   "nbconvert_exporter": "python",
   "pygments_lexer": "ipython3",
   "version": "3.7.6"
  }
 },
 "nbformat": 4,
 "nbformat_minor": 4
}
