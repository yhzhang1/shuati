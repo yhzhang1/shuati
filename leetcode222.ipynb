{
 "cells": [
  {
   "cell_type": "markdown",
   "metadata": {},
   "source": [
    "https://leetcode.com/problems/count-complete-tree-nodes/solution/"
   ]
  },
  {
   "cell_type": "code",
   "execution_count": 3,
   "metadata": {},
   "outputs": [],
   "source": [
    "# Definition for a binary tree node.\n",
    "class TreeNode:\n",
    "    def __init__(self, val=0, left=None, right=None):\n",
    "        self.val = val\n",
    "        self.left = left\n",
    "        self.right = right\n",
    "class Solution:\n",
    "    def computeDepth(self, node) -> int:\n",
    "        d = 0\n",
    "        while node.left:\n",
    "            node = node.left\n",
    "            d += 1\n",
    "        return d\n",
    "    \n",
    "    def exists(self, idx, d, node) -> bool:\n",
    "        left, right = 0, 2**d - 1\n",
    "        for _ in range(d):\n",
    "            mid = (left + right) // 2\n",
    "            if idx <= mid:\n",
    "                node = node.left\n",
    "                right = mid\n",
    "            else:\n",
    "                node = node.right\n",
    "                left = mid + 1\n",
    "        return node is not None\n",
    "    \n",
    "    def countNodes(self, root: TreeNode) -> int:\n",
    "        if not root:\n",
    "            return 0\n",
    "        \n",
    "        d = self.computeDepth(root)\n",
    "        left, right = 1, 2**d - 1\n",
    "        while left <= right:\n",
    "            mid = (left + right) // 2\n",
    "            if self.exists(mid, d, root):\n",
    "                left = mid + 1\n",
    "            else:\n",
    "                right = mid - 1\n",
    "                \n",
    "        return 2**d-1 + left\n",
    "            \n",
    "            "
   ]
  },
  {
   "cell_type": "code",
   "execution_count": 2,
   "metadata": {},
   "outputs": [],
   "source": [
    "# Definition for a binary tree node.\n",
    "class TreeNode:\n",
    "    def __init__(self, val=0, left=None, right=None):\n",
    "        self.val = val\n",
    "        self.left = left\n",
    "        self.right = right\n",
    "class Solution:\n",
    "    def countNodes(self, root: TreeNode) -> int:\n",
    "        if not root:    return 0\n",
    "        \n",
    "        return self.countNodes(root.left) + self.countNodes(root.right) + 1"
   ]
  }
 ],
 "metadata": {
  "kernelspec": {
   "display_name": "Python 3",
   "language": "python",
   "name": "python3"
  },
  "language_info": {
   "codemirror_mode": {
    "name": "ipython",
    "version": 3
   },
   "file_extension": ".py",
   "mimetype": "text/x-python",
   "name": "python",
   "nbconvert_exporter": "python",
   "pygments_lexer": "ipython3",
   "version": "3.7.6"
  }
 },
 "nbformat": 4,
 "nbformat_minor": 4
}
