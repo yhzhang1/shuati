{
 "cells": [
  {
   "cell_type": "markdown",
   "metadata": {},
   "source": [
    "https://www.youtube.com/watch?v=TfTv4G8qrjs"
   ]
  },
  {
   "cell_type": "code",
   "execution_count": 1,
   "metadata": {},
   "outputs": [],
   "source": [
    "class Solution:\n",
    "    def isHappy(self, n: int) -> bool:\n",
    "        visited = set()\n",
    "        \n",
    "        while n != 1:\n",
    "            temp = 0\n",
    "            while n:\n",
    "                digit = n % 10\n",
    "                temp += digit**2\n",
    "                n //= 10\n",
    "                \n",
    "            if temp in visited:\n",
    "                return False\n",
    "            \n",
    "            visited.add(temp)\n",
    "            n = temp\n",
    "            \n",
    "        return True\n",
    "    "
   ]
  }
 ],
 "metadata": {
  "kernelspec": {
   "display_name": "Python 3",
   "language": "python",
   "name": "python3"
  },
  "language_info": {
   "codemirror_mode": {
    "name": "ipython",
    "version": 3
   },
   "file_extension": ".py",
   "mimetype": "text/x-python",
   "name": "python",
   "nbconvert_exporter": "python",
   "pygments_lexer": "ipython3",
   "version": "3.7.6"
  }
 },
 "nbformat": 4,
 "nbformat_minor": 4
}
