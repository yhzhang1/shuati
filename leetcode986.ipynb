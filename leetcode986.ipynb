{
 "cells": [
  {
   "cell_type": "markdown",
   "metadata": {},
   "source": [
    "https://leetcode.com/problems/interval-list-intersections/"
   ]
  },
  {
   "cell_type": "code",
   "execution_count": 1,
   "metadata": {},
   "outputs": [],
   "source": [
    "# T: O(M+N), S:O(M+N)\n",
    "from typing import List\n",
    "class Solution:\n",
    "    def intervalIntersection(self, firstList: List[List[int]], secondList: List[List[int]]) -> List[List[int]]:\n",
    "        ans = []\n",
    "        i = j = 0\n",
    "        \n",
    "        while i < len(firstList) and j < len(secondList):\n",
    "            low = max(firstList[i][0], secondList[j][0])\n",
    "            high = min(firstList[i][1], secondList[j][1])\n",
    "            if low <= high:\n",
    "                ans += [[low, high]]\n",
    "                \n",
    "            if firstList[i][1] < secondList[j][1]:\n",
    "                i += 1\n",
    "            else:\n",
    "                j += 1\n",
    "                \n",
    "        return ans\n",
    "        "
   ]
  },
  {
   "cell_type": "code",
   "execution_count": null,
   "metadata": {},
   "outputs": [],
   "source": []
  }
 ],
 "metadata": {
  "kernelspec": {
   "display_name": "Python 3",
   "language": "python",
   "name": "python3"
  },
  "language_info": {
   "codemirror_mode": {
    "name": "ipython",
    "version": 3
   },
   "file_extension": ".py",
   "mimetype": "text/x-python",
   "name": "python",
   "nbconvert_exporter": "python",
   "pygments_lexer": "ipython3",
   "version": "3.8.5"
  }
 },
 "nbformat": 4,
 "nbformat_minor": 4
}
