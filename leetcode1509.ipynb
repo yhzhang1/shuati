{
 "cells": [
  {
   "cell_type": "markdown",
   "id": "09713898-b97d-4b54-b7ed-9ba8ece62894",
   "metadata": {},
   "source": [
    "https://leetcode.com/problems/minimum-difference-between-largest-and-smallest-value-in-three-moves/solutions/730567/java-c-python-straight-forward/"
   ]
  },
  {
   "cell_type": "code",
   "execution_count": 28,
   "id": "f222a3c0-0b6a-4212-8fbf-ff3014d7fa37",
   "metadata": {},
   "outputs": [],
   "source": [
    "# T: O(nlogk)=O(n), S: O(k)=O(1), where k = 4\n",
    "class Solution:\n",
    "    def minDifference(self, nums: List[int]) -> int:\n",
    "        n = len(nums)\n",
    "        if n < 5:\n",
    "            return 0\n",
    "\n",
    "        min_heap = [] # 4 larggest\n",
    "        max_heap = [] # 4 smallest\n",
    "        for num in nums:\n",
    "            heapq.heappush(min_heap, num)\n",
    "            heapq.heappush(max_heap, -num)\n",
    "            if len(min_heap) > 4:\n",
    "                heapq.heappop(min_heap)\n",
    "                heapq.heappop(max_heap)\n",
    "\n",
    "        four_smallest = []\n",
    "        while max_heap:\n",
    "            four_smallest.append(-heapq.heappop(max_heap))\n",
    "        four_smallest.reverse()\n",
    "\n",
    "        min_ = float('inf')\n",
    "        for i in range(len(four_smallest)):\n",
    "            b = heapq.heappop(min_heap)\n",
    "            a = four_smallest[i]\n",
    "            min_ = min(min_, b-a)\n",
    "        return min_\n",
    "                        "
   ]
  },
  {
   "cell_type": "code",
   "execution_count": 6,
   "id": "f771d989-8af5-4010-8f17-a97e033e5227",
   "metadata": {},
   "outputs": [],
   "source": [
    "# T: O(nlogn), S: O(1)\n",
    "from typing import List\n",
    "class Solution:\n",
    "    def minDifference(self, nums: List[int]) -> int:\n",
    "        n = len(nums)\n",
    "        if n <= 4:\n",
    "            return 0\n",
    "\n",
    "        def dfs(i,j,depth):\n",
    "            if depth == 3:\n",
    "                return nums[j]-nums[i]\n",
    "\n",
    "            return min( dfs(i+1,j,depth+1), dfs(i,j-1,depth+1) )\n",
    "\n",
    "        nums.sort()\n",
    "        return dfs(0,n-1,0)"
   ]
  },
  {
   "cell_type": "code",
   "execution_count": 11,
   "id": "1d827b61-700e-4644-b946-2340eeb5a1f8",
   "metadata": {},
   "outputs": [
    {
     "data": {
      "text/plain": [
       "[0, 1, 2, 3, 4, 5, 6, 7, 8, 9]"
      ]
     },
     "execution_count": 11,
     "metadata": {},
     "output_type": "execute_result"
    }
   ],
   "source": [
    "arr = list(range(10))\n",
    "arr"
   ]
  },
  {
   "cell_type": "code",
   "execution_count": 10,
   "id": "822698a5-aa43-4036-8c80-0e6be6fff97e",
   "metadata": {},
   "outputs": [
    {
     "data": {
      "text/plain": [
       "[range(0, 10), range(0, 20)]"
      ]
     },
     "execution_count": 10,
     "metadata": {},
     "output_type": "execute_result"
    }
   ],
   "source": [
    "[range(10), range(20)]"
   ]
  },
  {
   "cell_type": "code",
   "execution_count": 12,
   "id": "7ddebda8-5be5-4b44-8185-ddc055fc1b08",
   "metadata": {},
   "outputs": [
    {
     "data": {
      "text/plain": [
       "[0, 1, 2, 3]"
      ]
     },
     "execution_count": 12,
     "metadata": {},
     "output_type": "execute_result"
    }
   ],
   "source": [
    "arr[:4]"
   ]
  },
  {
   "cell_type": "code",
   "execution_count": 13,
   "id": "9adc8423-85c1-401b-b78e-6828b3a1d954",
   "metadata": {},
   "outputs": [
    {
     "data": {
      "text/plain": [
       "[6, 7, 8, 9]"
      ]
     },
     "execution_count": 13,
     "metadata": {},
     "output_type": "execute_result"
    }
   ],
   "source": [
    "arr[-4:]"
   ]
  },
  {
   "cell_type": "code",
   "execution_count": 14,
   "id": "76eb6d26-7267-4706-b6c4-065cbd41f19a",
   "metadata": {},
   "outputs": [
    {
     "data": {
      "text/plain": [
       "[0, 1, 2, 3, 4, 5, 6, 7, 8, 9]"
      ]
     },
     "execution_count": 14,
     "metadata": {},
     "output_type": "execute_result"
    }
   ],
   "source": [
    "A = arr\n",
    "A"
   ]
  },
  {
   "cell_type": "code",
   "execution_count": null,
   "id": "ecfc8739-ca62-4438-aac3-88e13af2c36a",
   "metadata": {},
   "outputs": [
    {
     "ename": "SyntaxError",
     "evalue": "invalid syntax (Temp/ipykernel_23204/3130332598.py, line 1)",
     "output_type": "error",
     "traceback": [
      "\u001b[1;36m  File \u001b[1;32m\"C:\\Users\\yhzha\\AppData\\Local\\Temp/ipykernel_23204/3130332598.py\"\u001b[1;36m, line \u001b[1;32m1\u001b[0m\n\u001b[1;33m    b - a for a, b in zip(A[:4], A[-4:])\u001b[0m\n\u001b[1;37m          ^\u001b[0m\n\u001b[1;31mSyntaxError\u001b[0m\u001b[1;31m:\u001b[0m invalid syntax\n"
     ]
    }
   ],
   "source": [
    "b - a for a, b in zip(A[:4], A[-4:])"
   ]
  },
  {
   "cell_type": "code",
   "execution_count": 20,
   "id": "f81fddbe-aeec-4e39-adce-417d367cbe64",
   "metadata": {},
   "outputs": [],
   "source": [
    "import heapq\n",
    "\n",
    "heap = [1, 5, 14, 10]\n",
    "heapq.heapify([1, 5, 14, 10])\n"
   ]
  },
  {
   "cell_type": "code",
   "execution_count": 21,
   "id": "bc7e537d-3054-4a7c-8400-49316270d275",
   "metadata": {},
   "outputs": [
    {
     "data": {
      "text/plain": [
       "[1, 5, 14, 10]"
      ]
     },
     "execution_count": 21,
     "metadata": {},
     "output_type": "execute_result"
    }
   ],
   "source": [
    "heap"
   ]
  },
  {
   "cell_type": "code",
   "execution_count": 22,
   "id": "4f2ef483-0dd2-44f0-9b4b-cae8b5831b4e",
   "metadata": {},
   "outputs": [
    {
     "name": "stdout",
     "output_type": "stream",
     "text": [
      "1\n",
      "5\n",
      "10\n",
      "14\n"
     ]
    }
   ],
   "source": [
    "while heap:\n",
    "\tprint(heapq.heappop(heap))"
   ]
  },
  {
   "cell_type": "code",
   "execution_count": 24,
   "id": "271a0d96-23f3-403f-9caf-2cd4a786fa14",
   "metadata": {},
   "outputs": [
    {
     "data": {
      "text/plain": [
       "['cherry', 'banana', 'apple']"
      ]
     },
     "execution_count": 24,
     "metadata": {},
     "output_type": "execute_result"
    }
   ],
   "source": [
    "fruits = ['apple', 'banana', 'cherry']\n",
    "\n",
    "fruits.reverse()\n",
    "fruits"
   ]
  },
  {
   "cell_type": "code",
   "execution_count": null,
   "id": "e507c0bb-cc39-48c5-98c9-0f97daafaed3",
   "metadata": {},
   "outputs": [],
   "source": []
  }
 ],
 "metadata": {
  "kernelspec": {
   "display_name": "Python 3 (ipykernel)",
   "language": "python",
   "name": "python3"
  },
  "language_info": {
   "codemirror_mode": {
    "name": "ipython",
    "version": 3
   },
   "file_extension": ".py",
   "mimetype": "text/x-python",
   "name": "python",
   "nbconvert_exporter": "python",
   "pygments_lexer": "ipython3",
   "version": "3.8.5"
  }
 },
 "nbformat": 4,
 "nbformat_minor": 5
}
