{
 "cells": [
  {
   "cell_type": "markdown",
   "metadata": {},
   "source": [
    "https://leetcode.com/problems/find-the-duplicate-number/solution/"
   ]
  },
  {
   "cell_type": "code",
   "execution_count": 3,
   "metadata": {},
   "outputs": [],
   "source": [
    "from typing import List\n",
    "class Solution:\n",
    "    def findDuplicate(self, nums: List[int]) -> int:\n",
    "        tortoise = hare = nums[0]\n",
    "        while True:\n",
    "            tortoise = nums[tortoise]\n",
    "            hare = nums[nums[hare]]\n",
    "            if tortoise == hare:\n",
    "                break\n",
    "                \n",
    "        tortoise = nums[0]\n",
    "        while tortoise != hare:\n",
    "            tortoise = nums[tortoise]\n",
    "            hare = nums[hare]\n",
    "            \n",
    "        return hare"
   ]
  },
  {
   "cell_type": "code",
   "execution_count": 2,
   "metadata": {},
   "outputs": [],
   "source": [
    "from typing import List\n",
    "class Solution:\n",
    "    def findDuplicate(self, nums: List[int]) -> int:\n",
    "        s = set()\n",
    "        for i in nums:\n",
    "            if i in s:\n",
    "                return i\n",
    "            else:\n",
    "                s.add(i)"
   ]
  }
 ],
 "metadata": {
  "kernelspec": {
   "display_name": "Python 3",
   "language": "python",
   "name": "python3"
  },
  "language_info": {
   "codemirror_mode": {
    "name": "ipython",
    "version": 3
   },
   "file_extension": ".py",
   "mimetype": "text/x-python",
   "name": "python",
   "nbconvert_exporter": "python",
   "pygments_lexer": "ipython3",
   "version": "3.7.6"
  }
 },
 "nbformat": 4,
 "nbformat_minor": 4
}
