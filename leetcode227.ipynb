{
 "cells": [
  {
   "cell_type": "markdown",
   "metadata": {},
   "source": [
    "https://leetcode.com/problems/basic-calculator-ii/discuss/63076/Python-short-solution-with-stack."
   ]
  },
  {
   "cell_type": "code",
   "execution_count": 1,
   "metadata": {},
   "outputs": [],
   "source": [
    "# T: O(n), S: O(1)\n",
    "\n",
    "class Solution:\n",
    "    def calculate(self, s: str) -> int:\n",
    "        leftOperand = rightOperand = ans = 0\n",
    "        prevOperator = '+'\n",
    "        \n",
    "        for i, c in enumerate(s):\n",
    "            if c.isdigit():\n",
    "                rightOperand = rightOperand*10 + ord(c)-ord('0')\n",
    "            if c in '+-*/' or i == len(s)-1: # finish reading rightOperand\n",
    "                if prevOperator == '+':\n",
    "                    ans += leftOperand\n",
    "                    leftOperand = rightOperand\n",
    "                elif prevOperator == '-':\n",
    "                    ans += leftOperand\n",
    "                    leftOperand = -rightOperand\n",
    "                elif prevOperator == '*':\n",
    "                    leftOperand = leftOperand*rightOperand\n",
    "                elif prevOperator == '/':\n",
    "                    leftOperand = int(leftOperand/rightOperand)\n",
    "                prevOperator = c\n",
    "                rightOperand = 0\n",
    "                \n",
    "        ans += leftOperand\n",
    "                \n",
    "        return ans"
   ]
  },
  {
   "cell_type": "code",
   "execution_count": 2,
   "metadata": {},
   "outputs": [],
   "source": [
    "# T: O(n), S: O(n)\n",
    "class Solution:\n",
    "    def calculate(self, s: str) -> int:\n",
    "        stack = []\n",
    "        prevOperator = '+'\n",
    "        num = 0\n",
    "        \n",
    "        for i,c in enumerate(s):\n",
    "            if c.isdigit():\n",
    "                num = 10*num + ord(c) - ord('0')\n",
    "            if c in '+-*/' or i == len(s) - 1:\n",
    "                if prevOperator == '+':\n",
    "                    stack.append(num)\n",
    "                elif prevOperator == '-':\n",
    "                    stack.append(-num)\n",
    "                elif prevOperator == '*':\n",
    "                    stack.append(stack.pop() * num)\n",
    "                else:\n",
    "                    stack.append(int(stack.pop() / num))\n",
    "                    \n",
    "                prevOperator = c\n",
    "                num = 0\n",
    "            \n",
    "        return sum(stack)"
   ]
  },
  {
   "cell_type": "code",
   "execution_count": 1,
   "metadata": {},
   "outputs": [],
   "source": [
    "class Solution:\n",
    "    def calculate(self, s: str) -> int:\n",
    "        stack = []\n",
    "        operator = '+'\n",
    "        num = 0\n",
    "        \n",
    "        for i in range(len(s)):\n",
    "            if s[i].isdigit(): # continue recording current number\n",
    "                num = 10 * num + int(s[i])\n",
    "                \n",
    "            if s[i] in '+-*/' or i == len(s) - 1: # finish record previous number\n",
    "                if operator == '+':\n",
    "                    stack.append(num)\n",
    "                elif operator == '-':\n",
    "                    stack.append(-num)\n",
    "                elif operator == '*':\n",
    "                    stack.append(stack.pop() * num)\n",
    "                elif operator == '/':\n",
    "                    stack.append(int(stack.pop() / num))\n",
    "                    \n",
    "                operator = s[i]\n",
    "                num = 0\n",
    "\n",
    "                \n",
    "        return sum(stack)"
   ]
  },
  {
   "cell_type": "code",
   "execution_count": 13,
   "metadata": {},
   "outputs": [
    {
     "name": "stdout",
     "output_type": "stream",
     "text": [
      "2\n",
      "3\n",
      "4\n",
      "5\n",
      "6\n"
     ]
    }
   ],
   "source": [
    "for i in range(5):\n",
    "    i += 2\n",
    "    \n",
    "    print(i)"
   ]
  },
  {
   "cell_type": "code",
   "execution_count": 1,
   "metadata": {},
   "outputs": [
    {
     "data": {
      "text/plain": [
       "-2"
      ]
     },
     "execution_count": 1,
     "metadata": {},
     "output_type": "execute_result"
    }
   ],
   "source": [
    "-3//2"
   ]
  },
  {
   "cell_type": "code",
   "execution_count": null,
   "metadata": {},
   "outputs": [],
   "source": [
    "126   58"
   ]
  }
 ],
 "metadata": {
  "kernelspec": {
   "display_name": "Python 3",
   "language": "python",
   "name": "python3"
  },
  "language_info": {
   "codemirror_mode": {
    "name": "ipython",
    "version": 3
   },
   "file_extension": ".py",
   "mimetype": "text/x-python",
   "name": "python",
   "nbconvert_exporter": "python",
   "pygments_lexer": "ipython3",
   "version": "3.8.5"
  }
 },
 "nbformat": 4,
 "nbformat_minor": 4
}
