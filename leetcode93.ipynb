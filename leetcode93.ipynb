{
 "cells": [
  {
   "cell_type": "markdown",
   "metadata": {},
   "source": [
    "https://leetcode.com/problems/restore-ip-addresses/solution/"
   ]
  },
  {
   "cell_type": "code",
   "execution_count": 2,
   "metadata": {},
   "outputs": [],
   "source": [
    "class Solution:\n",
    "    def restoreIpAddresses(self, s: str) -> List[str]:\n",
    "        def dfs(prevPos=-1, dots=0):\n",
    "            if dots == 3:\n",
    "                lastSegment = s[prevPos+1:len(s)]\n",
    "                if valid(lastSegment):\n",
    "                    segments.append(lastSegment)\n",
    "                    ans.append('.'.join(segments))\n",
    "                    segments.pop()\n",
    "                return\n",
    "                \n",
    "            for curPos in range(prevPos+1, min(prevPos+4, len(s)-1)):\n",
    "                segment = s[prevPos+1:curPos+1]\n",
    "                if valid(segment):\n",
    "                    segments.append(segment)\n",
    "                    dfs(curPos, dots+1)\n",
    "                    segments.pop()\n",
    "                \n",
    "        def valid(segment):\n",
    "            return int(segment) <= 255 if segment[0] != '0' else len(segment) == 1\n",
    "        \n",
    "        \n",
    "        ans, segments = [], []\n",
    "        dfs()\n",
    "        return ans"
   ]
  },
  {
   "cell_type": "code",
   "execution_count": 1,
   "metadata": {},
   "outputs": [],
   "source": [
    "from typing import List\n",
    "class Solution:\n",
    "    def restoreIpAddresses(self, s: str) -> List[str]:\n",
    "        def valid(segment):\n",
    "            return int(segment) <= 255 if segment[0] != '0' else len(segment) == 1\n",
    "        def update_ans(cur_pos):\n",
    "            segment = s[cur_pos+1:n]\n",
    "            if valid(segment):\n",
    "                segments.append(segment)\n",
    "                ans.append('.'.join(segments))\n",
    "                segments.pop()\n",
    "                \n",
    "        def dfs(prev_pos=-1, dots=3):\n",
    "            for cur_pos in range(prev_pos+1, min(n-1, prev_pos+4)):\n",
    "                segment = s[prev_pos+1:cur_pos+1]\n",
    "                if valid(segment):\n",
    "                    segments.append(segment)\n",
    "                    if dots-1 == 0:\n",
    "                        update_ans(cur_pos)\n",
    "                    else:\n",
    "                        dfs(cur_pos, dots-1)\n",
    "                    segments.pop()\n",
    "             \n",
    "        n = len(s)\n",
    "        ans, segments = list(), list()\n",
    "        dfs()\n",
    "        return ans"
   ]
  },
  {
   "cell_type": "code",
   "execution_count": 118,
   "metadata": {},
   "outputs": [
    {
     "data": {
      "text/plain": [
       "['0.0.0.0']"
      ]
     },
     "execution_count": 118,
     "metadata": {},
     "output_type": "execute_result"
    }
   ],
   "source": [
    "ip = '0000'\n",
    "Solution().restoreIpAddresses(ip)"
   ]
  },
  {
   "cell_type": "code",
   "execution_count": 76,
   "metadata": {},
   "outputs": [],
   "source": [
    "def update_ans(cur_pos):\n",
    "    segment = ip[cur_pos+1:len(ip)]\n",
    "    if valid(segment):\n",
    "        segments.append(segment)\n",
    "        cur_ip = '.'.join(segments)\n",
    "        ans.append(cur_ip)\n",
    "        segments.pop()\n",
    "def valid(segment) -> bool:\n",
    "    return int(segment) <= 255\n",
    "def dfs(prev_pos=-1, dots=3):\n",
    "    print('dots: ', dots)\n",
    "    for cur_pos in range(prev_pos+1, prev_pos+4):\n",
    "        segment = ip[prev_pos+1:cur_pos+1]\n",
    "        print('segment: ', segment)\n",
    "        if valid(segment):\n",
    "            segments.append(segment)\n",
    "            if dots-1 == 0:\n",
    "                update_ans(cur_pos)\n",
    "            else:\n",
    "                dfs(cur_pos, dots-1)\n",
    "            print(segments)\n",
    "            poped_seg = segments.pop()\n",
    "            print('poped_seg: ', poped_seg)\n",
    "        \n",
    "ans = list()\n",
    "segments = list()"
   ]
  },
  {
   "cell_type": "code",
   "execution_count": 75,
   "metadata": {},
   "outputs": [
    {
     "name": "stdout",
     "output_type": "stream",
     "text": [
      "dots:  3\n",
      "segment:  2\n",
      "dots:  2\n",
      "segment:  5\n",
      "dots:  1\n",
      "segment:  5\n",
      "['2', '5', '5']\n",
      "poped_seg:  5\n",
      "segment:  52\n",
      "['2', '5', '52']\n",
      "poped_seg:  52\n",
      "segment:  525\n",
      "['2', '5']\n",
      "poped_seg:  5\n",
      "segment:  55\n",
      "dots:  1\n",
      "segment:  2\n",
      "['2', '55', '2']\n",
      "poped_seg:  2\n",
      "segment:  25\n",
      "['2', '55', '25']\n",
      "poped_seg:  25\n",
      "segment:  255\n",
      "['2', '55', '255']\n",
      "poped_seg:  255\n",
      "['2', '55']\n",
      "poped_seg:  55\n",
      "segment:  552\n",
      "['2']\n",
      "poped_seg:  2\n",
      "segment:  25\n",
      "dots:  2\n",
      "segment:  5\n",
      "dots:  1\n",
      "segment:  2\n",
      "['25', '5', '2']\n",
      "poped_seg:  2\n",
      "segment:  25\n",
      "['25', '5', '25']\n",
      "poped_seg:  25\n",
      "segment:  255\n",
      "['25', '5', '255']\n",
      "poped_seg:  255\n",
      "['25', '5']\n",
      "poped_seg:  5\n",
      "segment:  52\n",
      "dots:  1\n",
      "segment:  5\n",
      "['25', '52', '5']\n",
      "poped_seg:  5\n",
      "segment:  55\n",
      "['25', '52', '55']\n",
      "poped_seg:  55\n",
      "segment:  551\n",
      "['25', '52']\n",
      "poped_seg:  52\n",
      "segment:  525\n",
      "['25']\n",
      "poped_seg:  25\n",
      "segment:  255\n",
      "dots:  2\n",
      "segment:  2\n",
      "dots:  1\n",
      "segment:  5\n",
      "['255', '2', '5']\n",
      "poped_seg:  5\n",
      "segment:  55\n",
      "['255', '2', '55']\n",
      "poped_seg:  55\n",
      "segment:  551\n",
      "['255', '2']\n",
      "poped_seg:  2\n",
      "segment:  25\n",
      "dots:  1\n",
      "segment:  5\n",
      "['255', '25', '5']\n",
      "poped_seg:  5\n",
      "segment:  51\n",
      "['255', '25', '51']\n",
      "poped_seg:  51\n",
      "segment:  511\n",
      "['255', '25']\n",
      "poped_seg:  25\n",
      "segment:  255\n",
      "dots:  1\n",
      "segment:  1\n",
      "['255', '255', '1']\n",
      "poped_seg:  1\n",
      "segment:  11\n",
      "['255', '255', '11']\n",
      "poped_seg:  11\n",
      "segment:  111\n",
      "['255', '255', '111']\n",
      "poped_seg:  111\n",
      "['255', '255']\n",
      "poped_seg:  255\n",
      "['255']\n",
      "poped_seg:  255\n",
      "['255.255.11.135', '255.255.111.35']\n"
     ]
    }
   ],
   "source": [
    "dfs()\n",
    "print(ans)"
   ]
  },
  {
   "cell_type": "code",
   "execution_count": 109,
   "metadata": {},
   "outputs": [
    {
     "data": {
      "text/plain": [
       "'123'"
      ]
     },
     "execution_count": 109,
     "metadata": {},
     "output_type": "execute_result"
    }
   ],
   "source": [
    "a = '123'\n",
    "a[:3]"
   ]
  },
  {
   "cell_type": "code",
   "execution_count": 113,
   "metadata": {},
   "outputs": [
    {
     "name": "stdout",
     "output_type": "stream",
     "text": [
      "1\n",
      "2\n",
      "3\n",
      "4\n"
     ]
    }
   ],
   "source": [
    "for i in range(1,5):\n",
    "    print(i)"
   ]
  }
 ],
 "metadata": {
  "kernelspec": {
   "display_name": "Python 3",
   "language": "python",
   "name": "python3"
  },
  "language_info": {
   "codemirror_mode": {
    "name": "ipython",
    "version": 3
   },
   "file_extension": ".py",
   "mimetype": "text/x-python",
   "name": "python",
   "nbconvert_exporter": "python",
   "pygments_lexer": "ipython3",
   "version": "3.8.5"
  }
 },
 "nbformat": 4,
 "nbformat_minor": 4
}
