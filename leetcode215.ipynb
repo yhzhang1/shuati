{
 "cells": [
  {
   "cell_type": "markdown",
   "metadata": {},
   "source": [
    "https://www.youtube.com/watch?v=zOmIKYKpzB4"
   ]
  },
  {
   "cell_type": "code",
   "execution_count": 3,
   "metadata": {},
   "outputs": [],
   "source": [
    "# quickselect\n",
    "# T: Average O(2N)=O(N) Worset O(N^2) S: O(1)\n",
    "from typing import List\n",
    "class Solution:\n",
    "    def findKthLargest(self, nums: List[int], k: int) -> int:\n",
    "        left, right = 0, len(nums) - 1\n",
    "        while True:\n",
    "            pos = self.position(nums, left, right)\n",
    "            if pos + 1 == k:\n",
    "                return nums[pos]\n",
    "            elif pos + 1 > k:\n",
    "                right = pos - 1\n",
    "            else:\n",
    "                left = pos + 1\n",
    "            \n",
    "    def position(self, nums, left, right):\n",
    "        '''\n",
    "        重新排列 nums， 使得比nums[left]大的都在左边，比nums[left]小的都在右边\n",
    "        返回排序后的nums[left]的index\n",
    "        '''\n",
    "        pivot = nums[left]\n",
    "        l = left + 1\n",
    "        r = right\n",
    "        # 使得pivot左边的值都大于它，右边的值都小于它\n",
    "        while l <= r:\n",
    "            if nums[l] < pivot and nums[r] > pivot:\n",
    "                nums[l], nums[r] = nums[r], nums[l]\n",
    "                l += 1\n",
    "                r -= 1\n",
    "                \n",
    "            if nums[l] >= pivot:    l += 1\n",
    "            if nums[r] <= pivot:    r -= 1\n",
    "        \n",
    "        nums[left], nums[r] = nums[r], nums[left]\n",
    "        \n",
    "        return r"
   ]
  },
  {
   "cell_type": "code",
   "execution_count": 4,
   "metadata": {},
   "outputs": [],
   "source": [
    "# T: O(nlogk) S: O(k)\n",
    "\n",
    "from queue import PriorityQueue\n",
    "class Solution:\n",
    "    def findKthLargest(self, nums: List[int], k: int) -> int:\n",
    "        heap = PriorityQueue()\n",
    "        for num in nums:\n",
    "            heap.put(num)\n",
    "            if heap.qsize() > k:\n",
    "                heap.get()\n",
    "                \n",
    "        return heap.get()"
   ]
  },
  {
   "cell_type": "code",
   "execution_count": 5,
   "metadata": {},
   "outputs": [],
   "source": [
    "# T: O(nlogk) S: O(k)\n",
    "class Solution:\n",
    "    def findKthLargest(self, nums: List[int], k: int) -> int:\n",
    "        minHeap = []\n",
    "        for num in nums:\n",
    "            heapq.heappush(minHeap, num)\n",
    "            if len(minHeap) > k:\n",
    "                heapq.heappop(minHeap)\n",
    "                \n",
    "        return minHeap[0]"
   ]
  },
  {
   "cell_type": "code",
   "execution_count": 6,
   "metadata": {},
   "outputs": [],
   "source": [
    "from typing import List\n",
    "class Solution:\n",
    "    def findKthLargest(self, nums: List[int], k: int) -> int:\n",
    "        return heapq.nlargest(k, nums)[-1]"
   ]
  },
  {
   "cell_type": "code",
   "execution_count": null,
   "metadata": {},
   "outputs": [],
   "source": []
  },
  {
   "cell_type": "code",
   "execution_count": null,
   "metadata": {},
   "outputs": [],
   "source": []
  }
 ],
 "metadata": {
  "kernelspec": {
   "display_name": "Python 3",
   "language": "python",
   "name": "python3"
  },
  "language_info": {
   "codemirror_mode": {
    "name": "ipython",
    "version": 3
   },
   "file_extension": ".py",
   "mimetype": "text/x-python",
   "name": "python",
   "nbconvert_exporter": "python",
   "pygments_lexer": "ipython3",
   "version": "3.8.5"
  }
 },
 "nbformat": 4,
 "nbformat_minor": 4
}
