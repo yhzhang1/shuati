{
 "cells": [
  {
   "cell_type": "code",
   "execution_count": 1,
   "metadata": {
    "execution": {
     "iopub.execute_input": "2025-06-16T17:53:41.439370Z",
     "iopub.status.busy": "2025-06-16T17:53:41.437415Z",
     "iopub.status.idle": "2025-06-16T17:53:41.473022Z",
     "shell.execute_reply": "2025-06-16T17:53:41.471047Z",
     "shell.execute_reply.started": "2025-06-16T17:53:41.439370Z"
    }
   },
   "outputs": [],
   "source": [
    "# T:O(n), S:O(n)\n",
    "\"\"\"\n",
    "# Definition for a Node.\n",
    "class Node:\n",
    "    def __init__(self, val: int = 0, left: 'Node' = None, right: 'Node' = None, next: 'Node' = None):\n",
    "        self.val = val\n",
    "        self.left = left\n",
    "        self.right = right\n",
    "        self.next = next\n",
    "\"\"\"\n",
    "\n",
    "class Solution:\n",
    "    def connect(self, root: 'Optional[Node]') -> 'Optional[Node]':\n",
    "        q = deque()\n",
    "        if root:\n",
    "            q.append(root)\n",
    "\n",
    "        while q:\n",
    "            size = len(q)\n",
    "            for i in range(size):\n",
    "                node = q.popleft()\n",
    "                if i < size-1:\n",
    "                    node.next = q[0]\n",
    "\n",
    "                if node.left:\n",
    "                    q.append(node.left)\n",
    "                if node.right:\n",
    "                    q.append(node.right)\n",
    "        return root"
   ]
  },
  {
   "cell_type": "code",
   "execution_count": 4,
   "metadata": {
    "execution": {
     "iopub.execute_input": "2025-06-15T22:12:00.802172Z",
     "iopub.status.busy": "2025-06-15T22:12:00.800224Z",
     "iopub.status.idle": "2025-06-15T22:12:00.821128Z",
     "shell.execute_reply": "2025-06-15T22:12:00.818181Z",
     "shell.execute_reply.started": "2025-06-15T22:12:00.802172Z"
    }
   },
   "outputs": [],
   "source": [
    "# T:O(n), S:O(logn)\n",
    "\"\"\"\n",
    "# Definition for a Node.\n",
    "class Node:\n",
    "    def __init__(self, val: int = 0, left: 'Node' = None, right: 'Node' = None, next: 'Node' = None):\n",
    "        self.val = val\n",
    "        self.left = left\n",
    "        self.right = right\n",
    "        self.next = next\n",
    "\"\"\"\n",
    "\n",
    "class Solution:\n",
    "    def connect(self, root: 'Node') -> 'Node':\n",
    "        if root and root.left and root.right:\n",
    "            root.left.next = root.right\n",
    "            if root.next:\n",
    "                root.right.next = root.next.left\n",
    "                \n",
    "            self.connect(root.left)\n",
    "            self.connect(root.right)\n",
    "            \n",
    "        return root"
   ]
  },
  {
   "cell_type": "code",
   "execution_count": 3,
   "metadata": {
    "execution": {
     "iopub.execute_input": "2025-06-15T22:08:19.568204Z",
     "iopub.status.busy": "2025-06-15T22:08:19.566257Z",
     "iopub.status.idle": "2025-06-15T22:08:19.586642Z",
     "shell.execute_reply": "2025-06-15T22:08:19.583692Z",
     "shell.execute_reply.started": "2025-06-15T22:08:19.568204Z"
    }
   },
   "outputs": [],
   "source": []
  },
  {
   "cell_type": "code",
   "execution_count": 1,
   "metadata": {
    "execution": {
     "iopub.execute_input": "2025-06-15T21:32:33.993199Z",
     "iopub.status.busy": "2025-06-15T21:32:33.992223Z",
     "iopub.status.idle": "2025-06-15T21:32:34.031624Z",
     "shell.execute_reply": "2025-06-15T21:32:34.028678Z",
     "shell.execute_reply.started": "2025-06-15T21:32:33.993199Z"
    }
   },
   "outputs": [
    {
     "data": {
      "text/plain": [
       "deque([])"
      ]
     },
     "execution_count": 1,
     "metadata": {},
     "output_type": "execute_result"
    }
   ],
   "source": [
    "from collections import deque\n",
    "\n",
    "deque()"
   ]
  }
 ],
 "metadata": {
  "kernelspec": {
   "display_name": "Python 3 (ipykernel)",
   "language": "python",
   "name": "python3"
  },
  "language_info": {
   "codemirror_mode": {
    "name": "ipython",
    "version": 3
   },
   "file_extension": ".py",
   "mimetype": "text/x-python",
   "name": "python",
   "nbconvert_exporter": "python",
   "pygments_lexer": "ipython3",
   "version": "3.11.5"
  }
 },
 "nbformat": 4,
 "nbformat_minor": 4
}
