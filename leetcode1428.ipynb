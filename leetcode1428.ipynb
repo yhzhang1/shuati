{
 "cells": [
  {
   "cell_type": "markdown",
   "metadata": {},
   "source": [
    "https://leetcode.com/problems/leftmost-column-with-at-least-a-one/solution/"
   ]
  },
  {
   "cell_type": "code",
   "execution_count": 1,
   "metadata": {},
   "outputs": [],
   "source": [
    "# T: O(m+n), S: O(1)\n",
    "# \"\"\"\n",
    "# This is BinaryMatrix's API interface.\n",
    "# You should not implement it, or speculate about its implementation\n",
    "# \"\"\"\n",
    "#class BinaryMatrix(object):\n",
    "#    def get(self, row: int, col: int) -> int:\n",
    "#    def dimensions(self) -> list[]:\n",
    "\n",
    "class Solution:\n",
    "    def leftMostColumnWithOne(self, binaryMatrix: 'BinaryMatrix') -> int:\n",
    "        nrows, ncols = binaryMatrix.dimensions()\n",
    "        row, col = 0, ncols - 1\n",
    "        \n",
    "        while row < nrows and col >= 0:\n",
    "            if binaryMatrix.get(row, col):\n",
    "                col -= 1\n",
    "            else:\n",
    "                row += 1\n",
    "                \n",
    "        return col+1 if col != ncols-1 else -1"
   ]
  },
  {
   "cell_type": "code",
   "execution_count": 1,
   "metadata": {},
   "outputs": [],
   "source": [
    "# \"\"\"\n",
    "# This is BinaryMatrix's API interface.\n",
    "# You should not implement it, or speculate about its implementation\n",
    "# \"\"\"\n",
    "#class BinaryMatrix(object):\n",
    "#    def get(self, row: int, col: int) -> int:\n",
    "#    def dimensions(self) -> list[]:\n",
    "\n",
    "class Solution:\n",
    "    def leftMostColumnWithOne(self, binaryMatrix: 'BinaryMatrix') -> int:\n",
    "        m, n = binaryMatrix.dimensions()\n",
    "        l, r = 0, n-1\n",
    "        \n",
    "        while l < r:\n",
    "            mid = (l + r) // 2\n",
    "            max_ = 0\n",
    "            for row in range(m):\n",
    "                max_ = max(max_, binaryMatrix.get(row, mid))\n",
    "            if max_ == 1:\n",
    "                r = mid\n",
    "            else:\n",
    "                l = mid + 1\n",
    "                \n",
    "        max_ = 0\n",
    "        for row in range(m):\n",
    "            max_ = max(max_, binaryMatrix.get(row, l))\n",
    "            \n",
    "        return l if max_ == 1 else -1"
   ]
  },
  {
   "cell_type": "code",
   "execution_count": null,
   "metadata": {},
   "outputs": [],
   "source": []
  }
 ],
 "metadata": {
  "kernelspec": {
   "display_name": "Python 3",
   "language": "python",
   "name": "python3"
  },
  "language_info": {
   "codemirror_mode": {
    "name": "ipython",
    "version": 3
   },
   "file_extension": ".py",
   "mimetype": "text/x-python",
   "name": "python",
   "nbconvert_exporter": "python",
   "pygments_lexer": "ipython3",
   "version": "3.8.5"
  }
 },
 "nbformat": 4,
 "nbformat_minor": 4
}
