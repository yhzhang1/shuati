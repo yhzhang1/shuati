{
 "cells": [
  {
   "cell_type": "markdown",
   "metadata": {},
   "source": [
    "https://www.youtube.com/watch?v=DqhPJ8MzDKM"
   ]
  },
  {
   "cell_type": "code",
   "execution_count": 1,
   "metadata": {},
   "outputs": [],
   "source": [
    "class Solution:\n",
    "    def isMatch(self, s: str, p: str) -> bool:\n",
    "        s_n = len(s)\n",
    "        p_n = len(p)\n",
    "        # match[i][j]: s取i个 p取j个\n",
    "        match = [[False]*(p_n+1) for _ in range(s_n+1)]\n",
    "        match[0][0] = True\n",
    "        \n",
    "        for i in range(p_n):\n",
    "            if p[i] == '*':\n",
    "                match[0][i+1] = match[0][i-1]\n",
    "                \n",
    "        for si in range(s_n):\n",
    "            for pi in range(p_n):\n",
    "                if s[si] == p[pi] or p[pi] == '.':\n",
    "                    match[si+1][pi+1] = match[si][pi]\n",
    "                elif p[pi] == '*':\n",
    "                    if p[pi-1] == s[si] or p[pi-1] == '.':\n",
    "                        match[si+1][pi+1] = match[si+1][pi-1] or match[si][pi+1] # delete or insert\n",
    "                    else:\n",
    "                        match[si+1][pi+1] = match[si+1][pi-1]   # delete\n",
    "                        \n",
    "        return match[-1][-1]"
   ]
  },
  {
   "cell_type": "code",
   "execution_count": 1,
   "metadata": {},
   "outputs": [],
   "source": [
    "class Solution:\n",
    "    def isMatch(self, s: str, p: str) -> bool:\n",
    "        match = [[False]*(len(p)+1) for _ in range(len(s)+1)]\n",
    "        match[0][0] = True\n",
    "        \n",
    "        for i in range(1, len(p)+1):\n",
    "            if p[i-1] == '*':\n",
    "                match[0][i] = match[0][i-2]\n",
    "                \n",
    "        for si in range(1,len(s)+1):\n",
    "            for pi in range(1,len(p)+1):\n",
    "                if s[si-1] == p[pi-1] or p[pi-1] == '.':\n",
    "                    match[si][pi] = match[si-1][pi-1]\n",
    "                elif p[pi-1] == '*':\n",
    "                    if p[pi-2] == s[si-1] or p[pi-2] == '.':\n",
    "                        match[si][pi] = match[si][pi-2] or match[si-1][pi]\n",
    "                    else:\n",
    "                        match[si][pi] = match[si][pi-2]\n",
    "                        \n",
    "        return match[-1][-1]"
   ]
  }
 ],
 "metadata": {
  "kernelspec": {
   "display_name": "Python 3",
   "language": "python",
   "name": "python3"
  },
  "language_info": {
   "codemirror_mode": {
    "name": "ipython",
    "version": 3
   },
   "file_extension": ".py",
   "mimetype": "text/x-python",
   "name": "python",
   "nbconvert_exporter": "python",
   "pygments_lexer": "ipython3",
   "version": "3.7.6"
  }
 },
 "nbformat": 4,
 "nbformat_minor": 4
}
