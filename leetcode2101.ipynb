{
 "cells": [
  {
   "cell_type": "markdown",
   "id": "6188d711-34b0-4a36-bd3c-0a3299c9e220",
   "metadata": {},
   "source": [
    "https://www.youtube.com/watch?v=8NPbAvVXKR4&list=PLBtF2Di5in72OS9DPDc6jHTjBqjK7LGbH&index=19"
   ]
  },
  {
   "cell_type": "code",
   "execution_count": 3,
   "id": "f295a154-a2bf-4a88-b78a-0caf988ffdc1",
   "metadata": {},
   "outputs": [],
   "source": [
    "# T: O(n^3). S O(n^2)\n",
    "from typing import List\n",
    "class Solution:\n",
    "    def maximumDetonation(self, bombs: List[List[int]]) -> int:\n",
    "        adj = defaultdict(list)\n",
    "        n = len(bombs)\n",
    "        for i in range(n):\n",
    "            for j in range(i+1, n):\n",
    "                x1, y1, r1 = bombs[i]\n",
    "                x2, y2, r2 = bombs[j]\n",
    "                d = math.sqrt( (x1-x2)**2 + (y1-y2)**2 )\n",
    "                if d <= r1:\n",
    "                    adj[i].append(j)\n",
    "                if d <= r2:\n",
    "                    adj[j].append(i)\n",
    "\n",
    "        def dfs(i, visited):\n",
    "            if i in visited:\n",
    "                return 0\n",
    "            visited.add(i)\n",
    "            for nei in adj[i]:\n",
    "                dfs(nei, visited)\n",
    "            return len(visited)\n",
    "\n",
    "        res = 0\n",
    "        for i in range(n):\n",
    "            res = max(res, dfs(i, set()))\n",
    "        return res"
   ]
  },
  {
   "cell_type": "code",
   "execution_count": null,
   "id": "75c3c17a-ecdc-41f9-ab5f-ca9f32a6d4b0",
   "metadata": {},
   "outputs": [],
   "source": []
  }
 ],
 "metadata": {
  "kernelspec": {
   "display_name": "Python 3 (ipykernel)",
   "language": "python",
   "name": "python3"
  },
  "language_info": {
   "codemirror_mode": {
    "name": "ipython",
    "version": 3
   },
   "file_extension": ".py",
   "mimetype": "text/x-python",
   "name": "python",
   "nbconvert_exporter": "python",
   "pygments_lexer": "ipython3",
   "version": "3.8.5"
  }
 },
 "nbformat": 4,
 "nbformat_minor": 5
}
