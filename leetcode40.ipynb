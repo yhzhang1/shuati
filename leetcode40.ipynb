{
 "cells": [
  {
   "cell_type": "markdown",
   "metadata": {},
   "source": [
    "https://www.youtube.com/watch?v=RSatA4uVBDQ"
   ]
  },
  {
   "cell_type": "code",
   "execution_count": 2,
   "metadata": {},
   "outputs": [],
   "source": [
    "class Solution:\n",
    "    def combinationSum2(self, candidates: List[int], target: int) -> List[List[int]]:\n",
    "        def dfs(target, cur, start):\n",
    "            if target == 0:\n",
    "                ans.append(cur[:])\n",
    "                return\n",
    "            elif target < 0:\n",
    "                return\n",
    "            \n",
    "            for i in range(start, len(candidates)):\n",
    "                if i > start and candidates[i] == candidates[i-1]:  continue\n",
    "                cur.append(candidates[i])\n",
    "                dfs(target - candidates[i], cur, i+1)\n",
    "                cur.pop()\n",
    "                \n",
    "                \n",
    "        ans = []\n",
    "        candidates.sort()\n",
    "        dfs(target, [], 0)\n",
    "        return ans"
   ]
  },
  {
   "cell_type": "code",
   "execution_count": 1,
   "metadata": {},
   "outputs": [],
   "source": [
    "from typing import List\n",
    "class Solution:\n",
    "    def combinationSum2(self, candidates: List[int], target: int) -> List[List[int]]:\n",
    "        def dfs(candidates, target, s, cur, ans):\n",
    "            if target == 0:\n",
    "                ans.append(cur[:])\n",
    "                return\n",
    "                \n",
    "            for i in range(s, len(candidates)):\n",
    "                if candidates[i] > target: return\n",
    "                if i > s and candidates[i] == candidates[i-1]: continue\n",
    "                cur.append(candidates[i])\n",
    "                dfs(candidates, target-candidates[i], i+1, cur, ans)\n",
    "                cur.pop()\n",
    "                \n",
    "        ans = list()\n",
    "        candidates.sort()\n",
    "        dfs(candidates, target, 0, list(), ans)\n",
    "        \n",
    "        return ans"
   ]
  },
  {
   "cell_type": "code",
   "execution_count": null,
   "metadata": {},
   "outputs": [],
   "source": []
  }
 ],
 "metadata": {
  "kernelspec": {
   "display_name": "Python 3",
   "language": "python",
   "name": "python3"
  },
  "language_info": {
   "codemirror_mode": {
    "name": "ipython",
    "version": 3
   },
   "file_extension": ".py",
   "mimetype": "text/x-python",
   "name": "python",
   "nbconvert_exporter": "python",
   "pygments_lexer": "ipython3",
   "version": "3.8.5"
  }
 },
 "nbformat": 4,
 "nbformat_minor": 4
}
