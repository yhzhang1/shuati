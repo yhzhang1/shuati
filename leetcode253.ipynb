{
 "cells": [
  {
   "cell_type": "markdown",
   "id": "bf969f30-159b-41b7-bd40-df0945546e24",
   "metadata": {},
   "source": [
    "https://leetcode.com/problems/meeting-rooms-ii/editorial/"
   ]
  },
  {
   "cell_type": "code",
   "execution_count": 3,
   "id": "97ccc196-be06-46af-8720-eb7d0dfe504c",
   "metadata": {},
   "outputs": [],
   "source": [
    "# T: O(nlogn), S: O(n)\n",
    "from typing import List\n",
    "class Solution:\n",
    "    def minMeetingRooms(self, intervals: List[List[int]]) -> int:\n",
    "        intervals.sort()\n",
    "        heap = []\n",
    "        for interval in intervals:\n",
    "            if heap and interval[0] >= heap[0]:\n",
    "                heappop(heap)\n",
    "            heappush(heap, interval[1])\n",
    "        return len(heap)"
   ]
  }
 ],
 "metadata": {
  "kernelspec": {
   "display_name": "Python 3 (ipykernel)",
   "language": "python",
   "name": "python3"
  },
  "language_info": {
   "codemirror_mode": {
    "name": "ipython",
    "version": 3
   },
   "file_extension": ".py",
   "mimetype": "text/x-python",
   "name": "python",
   "nbconvert_exporter": "python",
   "pygments_lexer": "ipython3",
   "version": "3.8.5"
  }
 },
 "nbformat": 4,
 "nbformat_minor": 5
}
