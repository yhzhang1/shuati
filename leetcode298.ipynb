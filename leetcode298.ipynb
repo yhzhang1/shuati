{
 "cells": [
  {
   "cell_type": "markdown",
   "metadata": {},
   "source": [
    "https://leetcode.com/problems/binary-tree-longest-consecutive-sequence/solution/"
   ]
  },
  {
   "cell_type": "code",
   "execution_count": 4,
   "metadata": {},
   "outputs": [],
   "source": [
    "# T: O(n), S: O(n)\n",
    "\n",
    "# Definition for a binary tree node.\n",
    "# class TreeNode:\n",
    "#     def __init__(self, val=0, left=None, right=None):\n",
    "#         self.val = val\n",
    "#         self.left = left\n",
    "#         self.right = right\n",
    "class Solution:\n",
    "    def longestConsecutive(self, root: Optional[TreeNode]) -> int:\n",
    "        def dfs(root):\n",
    "            nonlocal maxLength\n",
    "            if not root:\n",
    "                return 0\n",
    "\n",
    "            l = dfs(root.left)\n",
    "            r = dfs(root.right)\n",
    "\n",
    "            if root.left and root.left.val != root.val + 1:\n",
    "                l = 0\n",
    "            if root.right and root.right.val != root.val + 1:\n",
    "                r = 0\n",
    "\n",
    "            length = max(l,r) + 1\n",
    "            maxLength = max(length, maxLength)\n",
    "            return length\n",
    "        \n",
    "        maxLength = 0\n",
    "        dfs(root)\n",
    "        return maxLength\n",
    "\n",
    "    "
   ]
  },
  {
   "cell_type": "code",
   "execution_count": 2,
   "metadata": {},
   "outputs": [],
   "source": [
    "# T: O(n), S: O(n)\n",
    "from typing import Optional\n",
    "# Definition for a binary tree node.\n",
    "class TreeNode:\n",
    "    def __init__(self, val=0, left=None, right=None):\n",
    "        self.val = val\n",
    "        self.left = left\n",
    "        self.right = right\n",
    "class Solution:\n",
    "    def longestConsecutive(self, root: Optional[TreeNode]) -> int:\n",
    "        def dfs(root) -> int:\n",
    "            nonlocal maxLength\n",
    "            if not root:\n",
    "                return 0\n",
    "            \n",
    "            l = dfs(root.left) + 1\n",
    "            r = dfs(root.right) + 1\n",
    "            \n",
    "            if root.left and root.val + 1 != root.left.val:\n",
    "                l = 1\n",
    "            if root.right and root.val + 1 != root.right.val:\n",
    "                r = 1\n",
    "                \n",
    "            length = max(l,r)\n",
    "            maxLength = max(length, maxLength)\n",
    "            return length\n",
    "        \n",
    "        maxLength = 0\n",
    "        dfs(root)\n",
    "        return maxLength"
   ]
  },
  {
   "cell_type": "code",
   "execution_count": null,
   "metadata": {},
   "outputs": [],
   "source": []
  }
 ],
 "metadata": {
  "kernelspec": {
   "display_name": "Python 3 (ipykernel)",
   "language": "python",
   "name": "python3"
  },
  "language_info": {
   "codemirror_mode": {
    "name": "ipython",
    "version": 3
   },
   "file_extension": ".py",
   "mimetype": "text/x-python",
   "name": "python",
   "nbconvert_exporter": "python",
   "pygments_lexer": "ipython3",
   "version": "3.8.5"
  }
 },
 "nbformat": 4,
 "nbformat_minor": 4
}
