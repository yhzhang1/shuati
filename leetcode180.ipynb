{
 "cells": [
  {
   "cell_type": "markdown",
   "metadata": {},
   "source": [
    "https://www.youtube.com/watch?v=tQTWnD6fgKo"
   ]
  },
  {
   "cell_type": "raw",
   "metadata": {},
   "source": [
    "# Write your MySQL query statement below\n",
    "SELECT distinct(tb1.Num) AS ConsecutiveNums\n",
    "FROM Logs AS tb1, Logs AS tb2, Logs AS tb3\n",
    "WHERE tb1.Id + 1 = tb2.Id AND tb2.Id + 1 = tb3.Id AND tb1.Num = tb2.Num AND tb2.Num = tb3.Num;"
   ]
  }
 ],
 "metadata": {
  "kernelspec": {
   "display_name": "Python 3",
   "language": "python",
   "name": "python3"
  },
  "language_info": {
   "codemirror_mode": {
    "name": "ipython",
    "version": 3
   },
   "file_extension": ".py",
   "mimetype": "text/x-python",
   "name": "python",
   "nbconvert_exporter": "python",
   "pygments_lexer": "ipython3",
   "version": "3.7.6"
  }
 },
 "nbformat": 4,
 "nbformat_minor": 4
}
