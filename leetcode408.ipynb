{
 "cells": [
  {
   "cell_type": "markdown",
   "metadata": {},
   "source": [
    "https://leetcode.com/problems/valid-word-abbreviation/discuss/89523/Short-and-easy-to-understand-Java-Solution"
   ]
  },
  {
   "cell_type": "code",
   "execution_count": null,
   "metadata": {},
   "outputs": [],
   "source": [
    "# T: O(n2), S: O(1), where n2 is the length of abbr\n",
    "class Solution:\n",
    "    def validWordAbbreviation(self, word: str, abbr: str) -> bool:\n",
    "        i = j = 0\n",
    "        while i < len(word) and j < len(abbr):\n",
    "            if word[i] == abbr[j]:\n",
    "                i += 1\n",
    "                j += 1\n",
    "            elif abbr[j].isdigit():\n",
    "                if abbr[j] == '0':  return False\n",
    "                start = j\n",
    "                while j < len(abbr) and abbr[j].isdigit():\n",
    "                    j += 1\n",
    "                num = int(abbr[start:j])\n",
    "                i += num\n",
    "            else:\n",
    "                return False\n",
    "                \n",
    "        return i == len(word) and j == len(abbr)\n",
    "                "
   ]
  },
  {
   "cell_type": "code",
   "execution_count": 5,
   "metadata": {},
   "outputs": [],
   "source": [
    "class Solution:\n",
    "    def validWordAbbreviation(self, word: str, abbr: str) -> bool:\n",
    "        i = j = 0\n",
    "        while i < len(word) and j < len(abbr):\n",
    "            if word[i] == abbr[j]:\n",
    "                i += 1\n",
    "                j += 1\n",
    "            elif abbr[j].isdigit():\n",
    "                if abbr[j] == '0':  return False\n",
    "                num = 0\n",
    "                while j < len(abbr) and abbr[j].isdigit():\n",
    "                    num = 10*num + ord(abbr[j]) - ord('0')\n",
    "                    j += 1\n",
    "                i += num\n",
    "            else:\n",
    "                return False\n",
    "                \n",
    "        return i == len(word) and j == len(abbr)\n",
    "                "
   ]
  },
  {
   "cell_type": "code",
   "execution_count": null,
   "metadata": {},
   "outputs": [],
   "source": []
  }
 ],
 "metadata": {
  "kernelspec": {
   "display_name": "Python 3",
   "language": "python",
   "name": "python3"
  },
  "language_info": {
   "codemirror_mode": {
    "name": "ipython",
    "version": 3
   },
   "file_extension": ".py",
   "mimetype": "text/x-python",
   "name": "python",
   "nbconvert_exporter": "python",
   "pygments_lexer": "ipython3",
   "version": "3.8.5"
  }
 },
 "nbformat": 4,
 "nbformat_minor": 4
}
