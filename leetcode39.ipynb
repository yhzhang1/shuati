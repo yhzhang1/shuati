{
 "cells": [
  {
   "cell_type": "markdown",
   "metadata": {},
   "source": [
    "https://www.youtube.com/watch?v=zIY2BWdsbFs"
   ]
  },
  {
   "cell_type": "code",
   "execution_count": 2,
   "metadata": {},
   "outputs": [],
   "source": [
    "class Solution:\n",
    "    def combinationSum(self, candidates: List[int], target: int) -> List[List[int]]:\n",
    "        def dfs(target, cur, s):\n",
    "            if target == 0:\n",
    "                ans.append(cur[:])\n",
    "                return \n",
    "            elif target < 0:\n",
    "                return \n",
    "                \n",
    "            for i in range(s, len(candidates)):\n",
    "                cur.append(candidates[i])\n",
    "                dfs(target-candidates[i], cur, i)\n",
    "                cur.pop()\n",
    "                \n",
    "        \n",
    "        ans = []\n",
    "        dfs(target, [], 0)\n",
    "        return ans"
   ]
  },
  {
   "cell_type": "code",
   "execution_count": 3,
   "metadata": {},
   "outputs": [],
   "source": [
    "from typing import List\n",
    "class Solution:\n",
    "    def combinationSum(self, candidates: List[int], target: int) -> List[List[int]]:\n",
    "        def dfs(candidates, target, s, cur, ans):\n",
    "            if target == 0:\n",
    "                ans.append(cur[:])\n",
    "                return\n",
    "        \n",
    "            for i in range(s, len(candidates)):\n",
    "                if candidates[i] > target:\n",
    "                    return\n",
    "                cur.append(candidates[i])\n",
    "                dfs(candidates, target - candidates[i], i, cur, ans)\n",
    "                cur.pop()\n",
    "        \n",
    "        ans = list()\n",
    "        candidates.sort()\n",
    "        dfs(candidates, target, 0, [], ans)\n",
    "        \n",
    "        return ans\n",
    "        "
   ]
  },
  {
   "cell_type": "code",
   "execution_count": null,
   "metadata": {},
   "outputs": [],
   "source": []
  }
 ],
 "metadata": {
  "kernelspec": {
   "display_name": "Python 3",
   "language": "python",
   "name": "python3"
  },
  "language_info": {
   "codemirror_mode": {
    "name": "ipython",
    "version": 3
   },
   "file_extension": ".py",
   "mimetype": "text/x-python",
   "name": "python",
   "nbconvert_exporter": "python",
   "pygments_lexer": "ipython3",
   "version": "3.8.5"
  }
 },
 "nbformat": 4,
 "nbformat_minor": 4
}
