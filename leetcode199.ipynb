{
 "cells": [
  {
   "cell_type": "markdown",
   "metadata": {},
   "source": [
    "https://www.youtube.com/watch?v=nxQzcx_m700"
   ]
  },
  {
   "cell_type": "code",
   "execution_count": 5,
   "metadata": {},
   "outputs": [],
   "source": [
    "# T: O(N), S: O(N)\n",
    "# Definition for a binary tree node.\n",
    "# class TreeNode:\n",
    "#     def __init__(self, val=0, left=None, right=None):\n",
    "#         self.val = val\n",
    "#         self.left = left\n",
    "#         self.right = right\n",
    "from typing import Optional\n",
    "class Solution:\n",
    "    def rightSideView(self, root: Optional[TreeNode]) -> List[int]:\n",
    "        ans = []\n",
    "        if not root:\n",
    "            return ans\n",
    "        q = deque([root])\n",
    "        while q:\n",
    "            for i in range(len(q)):\n",
    "                node = q.pop()\n",
    "                if i == 0:\n",
    "                    ans += [node.val]\n",
    "                if node.right:   q.appendleft(node.right)\n",
    "                if node.left:  q.appendleft(node.left)\n",
    "        return ans\n",
    "                    "
   ]
  },
  {
   "cell_type": "code",
   "execution_count": 6,
   "metadata": {},
   "outputs": [],
   "source": [
    "# T: O(N), S: O(N)\n",
    "from typing import List\n",
    "#Definition for a binary tree node.\n",
    "class TreeNode:\n",
    "    def __init__(self, val=0, left=None, right=None):\n",
    "        self.val = val\n",
    "        self.left = left\n",
    "        self.right = right\n",
    "class Solution:\n",
    "    def rightSideView(self, root: TreeNode) -> List[int]:\n",
    "        ans = list()\n",
    "        queue = deque([root,])\n",
    "        \n",
    "        if not root:\n",
    "            return ans\n",
    "        \n",
    "        while queue:\n",
    "            n = len(queue)\n",
    "            for i in range(n):\n",
    "                node = queue.popleft()\n",
    "                if i == 0:  ans.append(node.val)\n",
    "                if node.right:  queue.append(node.right)\n",
    "                if node.left:   queue.append(node.left)\n",
    "                    \n",
    "        return ans"
   ]
  },
  {
   "cell_type": "code",
   "execution_count": null,
   "metadata": {},
   "outputs": [],
   "source": []
  }
 ],
 "metadata": {
  "kernelspec": {
   "display_name": "Python 3",
   "language": "python",
   "name": "python3"
  },
  "language_info": {
   "codemirror_mode": {
    "name": "ipython",
    "version": 3
   },
   "file_extension": ".py",
   "mimetype": "text/x-python",
   "name": "python",
   "nbconvert_exporter": "python",
   "pygments_lexer": "ipython3",
   "version": "3.8.5"
  }
 },
 "nbformat": 4,
 "nbformat_minor": 4
}
