{
 "cells": [
  {
   "cell_type": "markdown",
   "metadata": {},
   "source": [
    "https://www.youtube.com/watch?v=Xa-yETqFNEQ"
   ]
  },
  {
   "cell_type": "code",
   "execution_count": 6,
   "metadata": {},
   "outputs": [],
   "source": [
    "class Solution:\n",
    "    def solveNQueens(self, n: int) -> List[List[str]]:\n",
    "        def dfs(y):\n",
    "            if y == n:\n",
    "                ans.append(self.board[:])\n",
    "                return\n",
    "\n",
    "            for x in range(n):\n",
    "                if not available(x, y): continue\n",
    "\n",
    "                updateBoard(x, y, True)\n",
    "                dfs(y+1)\n",
    "                updateBoard(x, y, False)            \n",
    "                \n",
    "        def available(x, y):\n",
    "            return not self.cols[x] and not self.diag1[x+y] and not self.diag2[x-y+n-1]\n",
    "        \n",
    "        def updateBoard(x, y, put):\n",
    "            self.cols[x] = put\n",
    "            self.diag1[x+y] = put\n",
    "            self.diag2[x-y+n-1] = put\n",
    "\n",
    "            row = '.'*x + 'Q' + '.'*(n-1-x) if put else '.'*n\n",
    "            self.board[y] = row\n",
    "        \n",
    "        self.board = ['.'*n for _ in range(n)]\n",
    "        self.cols = [False]*n\n",
    "        self.diag1 = [False]*(2*n-1)\n",
    "        self.diag2 = [False]*(2*n-1)\n",
    "        \n",
    "        ans = []\n",
    "        dfs(0)\n",
    "        return ans\n",
    "        "
   ]
  },
  {
   "cell_type": "code",
   "execution_count": 107,
   "metadata": {},
   "outputs": [],
   "source": [
    "class Solution:\n",
    "    def solveNQueens(self, n: int) -> List[List[str]]:\n",
    "        self.board = ['.'*n for _ in range(n)]\n",
    "        self.cols = [False for _ in range(n)]\n",
    "        self.diag1 = [False for _ in range(2*n-1)]\n",
    "        self.diag2 = [False for _ in range(2*n-1)]\n",
    "        \n",
    "\n",
    "        ans = list()\n",
    "        self.dfs(n, 0, ans)\n",
    "        return ans\n",
    "        \n",
    "    def dfs(self, n, y, ans):\n",
    "        if y == n:\n",
    "            ans.append(self.board[:])\n",
    "            return\n",
    "\n",
    "        for x in range(n):\n",
    "            if not self.available(n, x, y):\n",
    "                continue\n",
    "                \n",
    "\n",
    "            self.updateBoard(n, x, y, True)\n",
    "            self.dfs(n, y+1, ans)\n",
    "            self.updateBoard(n, x, y, False)\n",
    "            \n",
    "            \n",
    "    def updateBoard(self, n, x, y, put):\n",
    "        self.cols[x] = put\n",
    "        self.diag1[x+y] = put\n",
    "        self.diag2[x-y+n-1] = put\n",
    "        \n",
    "        if put:\n",
    "            row ='.'*x + 'Q' + '.'*(n-1-x)\n",
    "            self.board[y] = row\n",
    "        else:\n",
    "            self.board[y] = '.'*n\n",
    "                \n",
    "                    \n",
    "        \n",
    "    def available(self, n, x, y):\n",
    "        return not self.cols[x] and not self.diag1[x+y] and not self.diag2[x-y+n-1]\n",
    "                \n",
    "    board = list()\n",
    "    cols = list()\n",
    "    diag1 = list()\n",
    "    diag2 = list()\n",
    "        \n",
    "        "
   ]
  },
  {
   "cell_type": "code",
   "execution_count": 4,
   "metadata": {},
   "outputs": [],
   "source": [
    "from typing import List\n",
    "class Solution:\n",
    "    def solveNQueens(self, n: int) -> List[List[str]]:\n",
    "        def dfs(n, d, cur, ans):\n",
    "            if d == n:\n",
    "                ans.append(cur[:])\n",
    "                return\n",
    "            \n",
    "            for i in range(n):\n",
    "                flag = False\n",
    "                if i in cur:\n",
    "                # same column\n",
    "                    continue\n",
    "                for j in range(len(cur)):\n",
    "                    if abs(j-len(cur)) == abs(cur[j]-i):\n",
    "                    # diagonal\n",
    "                        flag = True\n",
    "                if flag:\n",
    "                    continue\n",
    "                        \n",
    "                cur.append(i)\n",
    "                dfs(n, d+1, cur, ans)\n",
    "                cur.pop()\n",
    "                \n",
    "        ans = list()\n",
    "        dfs(n, 0, list(), ans)\n",
    "        ans_ = [[['.' for _ in range(n)] for _ in range(n)] for _ in range(len(ans))]\n",
    "\n",
    "        for i in range(len(ans)):\n",
    "            for j in range(n):\n",
    "                ans_[i][j][ans[i][j]] = 'Q'\n",
    "                \n",
    "        for i in range(len(ans_)):\n",
    "            for j in range(n):\n",
    "                ans_[i][j] = ''.join(ans_[i][j])\n",
    "                \n",
    "        return ans_"
   ]
  },
  {
   "cell_type": "code",
   "execution_count": 105,
   "metadata": {},
   "outputs": [
    {
     "data": {
      "text/plain": [
       "'..Q.....'"
      ]
     },
     "execution_count": 105,
     "metadata": {},
     "output_type": "execute_result"
    }
   ],
   "source": [
    "'.'*2 + 'Q' + '.'*5"
   ]
  },
  {
   "cell_type": "code",
   "execution_count": 106,
   "metadata": {},
   "outputs": [
    {
     "data": {
      "text/plain": [
       "['.', '.', '.', '.', '.']"
      ]
     },
     "execution_count": 106,
     "metadata": {},
     "output_type": "execute_result"
    }
   ],
   "source": [
    "['.' for _ in range(5)]"
   ]
  },
  {
   "cell_type": "code",
   "execution_count": 2,
   "metadata": {},
   "outputs": [
    {
     "data": {
      "text/plain": [
       "'..........'"
      ]
     },
     "execution_count": 2,
     "metadata": {},
     "output_type": "execute_result"
    }
   ],
   "source": [
    "'.'*10"
   ]
  },
  {
   "cell_type": "code",
   "execution_count": null,
   "metadata": {},
   "outputs": [],
   "source": []
  }
 ],
 "metadata": {
  "kernelspec": {
   "display_name": "Python 3",
   "language": "python",
   "name": "python3"
  },
  "language_info": {
   "codemirror_mode": {
    "name": "ipython",
    "version": 3
   },
   "file_extension": ".py",
   "mimetype": "text/x-python",
   "name": "python",
   "nbconvert_exporter": "python",
   "pygments_lexer": "ipython3",
   "version": "3.8.5"
  }
 },
 "nbformat": 4,
 "nbformat_minor": 4
}
