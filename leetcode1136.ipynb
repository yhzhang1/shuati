{
 "cells": [
  {
   "cell_type": "markdown",
   "id": "937b7491-dfed-43e7-a9ea-b5207a89f5f2",
   "metadata": {},
   "source": [
    "https://www.youtube.com/watch?v=KptcDjF92pE"
   ]
  },
  {
   "cell_type": "code",
   "execution_count": 3,
   "id": "c86e513a-dfd5-4217-a97f-f2bedaa4d753",
   "metadata": {},
   "outputs": [],
   "source": [
    "# T: O(v+e), S: O(v+e)\n",
    "from typing import List\n",
    "class Solution:\n",
    "    def minimumSemesters(self, n: int, relations: List[List[int]]) -> int:\n",
    "        graph = defaultdict(list)\n",
    "        in_degree = defaultdict(int)\n",
    "\n",
    "        for relation in relations:\n",
    "            prereq = relation[0]\n",
    "            course = relation[1]\n",
    "\n",
    "            graph[prereq].append(course)\n",
    "            in_degree[course] += 1\n",
    "\n",
    "        queue = deque([i for i in range(1, n+1) if i not in in_degree])\n",
    "        ans = 0\n",
    "        course_took = 0\n",
    "        while queue:\n",
    "            ans += 1\n",
    "            for i in range(len(queue)):\n",
    "                vertex = queue.popleft()\n",
    "                course_took += 1\n",
    "                for nei in graph[vertex]:\n",
    "                    in_degree[nei] -= 1\n",
    "                    if in_degree[nei] == 0:\n",
    "                        queue.append(nei)\n",
    "\n",
    "        return ans if course_took == n else -1"
   ]
  },
  {
   "cell_type": "code",
   "execution_count": 1,
   "id": "133f8352-35ba-4689-890b-2a1c2e73ec4a",
   "metadata": {},
   "outputs": [],
   "source": [
    "d = {}"
   ]
  },
  {
   "cell_type": "code",
   "execution_count": 4,
   "id": "c1d01919-090a-405e-96ea-4ca6c8f2bacf",
   "metadata": {},
   "outputs": [
    {
     "data": {
      "text/plain": [
       "1"
      ]
     },
     "execution_count": 4,
     "metadata": {},
     "output_type": "execute_result"
    }
   ],
   "source": [
    "d.get('a',0) + 1"
   ]
  },
  {
   "cell_type": "code",
   "execution_count": 12,
   "id": "c381c903-eeba-43ff-b951-6fe29e7bca61",
   "metadata": {},
   "outputs": [
    {
     "data": {
      "text/plain": [
       "{}"
      ]
     },
     "execution_count": 12,
     "metadata": {},
     "output_type": "execute_result"
    }
   ],
   "source": [
    "d.get('b',[]).append(2)\n",
    "d"
   ]
  }
 ],
 "metadata": {
  "kernelspec": {
   "display_name": "Python 3 (ipykernel)",
   "language": "python",
   "name": "python3"
  },
  "language_info": {
   "codemirror_mode": {
    "name": "ipython",
    "version": 3
   },
   "file_extension": ".py",
   "mimetype": "text/x-python",
   "name": "python",
   "nbconvert_exporter": "python",
   "pygments_lexer": "ipython3",
   "version": "3.8.5"
  }
 },
 "nbformat": 4,
 "nbformat_minor": 5
}
