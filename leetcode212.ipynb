{
 "cells": [
  {
   "cell_type": "code",
   "execution_count": 13,
   "metadata": {},
   "outputs": [],
   "source": [
    "from typing import List\n",
    "class Solution:\n",
    "    def findWords(self, board: List[List[str]], words: List[str]) -> List[str]:\n",
    "        def dfs(row, col, parent):\n",
    "            if row < 0 or col < 0 or row >= n_rows or col >= n_cols:\n",
    "                return\n",
    "            if board[row][col] not in parent:\n",
    "                return\n",
    "            letter = board[row][col]\n",
    "            curNode = parent[letter]\n",
    "            \n",
    "            match_word = curNode.pop('#',False)\n",
    "            if match_word:\n",
    "                words_match.append(match_word)\n",
    "                \n",
    "            board[row][col] = '$'\n",
    "            for (rowOffset, colOffset) in [(-1,0),(1,0),(0,1),(0,-1)]:\n",
    "                newRow, newCol = row + rowOffset, col + colOffset\n",
    "                dfs(newRow, newCol, curNode)\n",
    "            board[row][col] = letter\n",
    "                \n",
    "            \n",
    "        words_match = list()\n",
    "        trie = {}\n",
    "        for word in words:\n",
    "            node = trie\n",
    "            for c in word:\n",
    "                if c not in node:\n",
    "                    node[c] = {}\n",
    "                node = node[c]\n",
    "            node['#'] = word\n",
    "            \n",
    "        n_rows = len(board)\n",
    "        n_cols = len(board[0])\n",
    "        \n",
    "        for i in range(n_rows):\n",
    "            for j in range(n_cols):\n",
    "                dfs(i, j, trie)\n",
    "        \n",
    "        return words_match"
   ]
  },
  {
   "cell_type": "code",
   "execution_count": 4,
   "metadata": {},
   "outputs": [],
   "source": [
    "from typing import List\n",
    "class Solution:\n",
    "    def findWords(self, board: List[List[str]], words: List[str]) -> List[str]:\n",
    "        ans = set()\n",
    "        for i in range(len(board)):\n",
    "            for j in range(len(board[0])):\n",
    "                self.dfs(board, words, 0, i, j, '', ans)\n",
    "                \n",
    "        return ans\n",
    "    \n",
    "    def dfs(self, board, words, depth, i, j, cur, ans):\n",
    "        if i < 0 or i >= len(board) or j < 0 or j >= len(board[0]):\n",
    "            return        \n",
    "        \n",
    "        cur += board[i][j]\n",
    "        \n",
    "        matchCurrent = False\n",
    "        for word in words:\n",
    "            if cur == word[:depth+1]:\n",
    "                matchCurrent = True\n",
    "                if cur == word:\n",
    "                    ans.add(cur[:])\n",
    "        if not matchCurrent:\n",
    "            return\n",
    "        \n",
    "        board[i][j] = '#'\n",
    "        self.dfs(board, words, depth+1, i-1, j, cur, ans)\n",
    "        self.dfs(board, words, depth+1, i+1, j, cur, ans)\n",
    "        self.dfs(board, words, depth+1, i, j-1, cur, ans)\n",
    "        self.dfs(board, words, depth+1, i, j+1, cur, ans)\n",
    "        board[i][j] = cur[-1]\n",
    "        \n",
    "\n",
    "        \n",
    "        \n",
    "                \n",
    "        \n",
    "                "
   ]
  },
  {
   "cell_type": "code",
   "execution_count": 2,
   "metadata": {},
   "outputs": [
    {
     "data": {
      "text/plain": [
       "'abc'"
      ]
     },
     "execution_count": 2,
     "metadata": {},
     "output_type": "execute_result"
    }
   ],
   "source": []
  },
  {
   "cell_type": "code",
   "execution_count": 1,
   "metadata": {},
   "outputs": [
    {
     "data": {
      "text/plain": [
       "{}"
      ]
     },
     "execution_count": 1,
     "metadata": {},
     "output_type": "execute_result"
    }
   ],
   "source": [
    "a = {}\n",
    "a.setdefault('a',{})"
   ]
  },
  {
   "cell_type": "code",
   "execution_count": 10,
   "metadata": {},
   "outputs": [
    {
     "data": {
      "text/plain": [
       "{'o': {'a': {'t': {'h': {'$': 'oath'}}}},\n",
       " 'p': {'e': {'a': {'$': 'pea'}}},\n",
       " 'e': {'a': {'t': {'$': 'eat'}}},\n",
       " 'r': {'a': {'i': {'n': {'$': 'rain'}}}}}"
      ]
     },
     "execution_count": 10,
     "metadata": {},
     "output_type": "execute_result"
    }
   ],
   "source": [
    "trie = {}\n",
    "words = [\"oath\",\"pea\",\"eat\",\"rain\"]\n",
    "for word in words:\n",
    "    node = trie\n",
    "    for c in word:\n",
    "        node = node.setdefault(c, {})\n",
    "    node['$'] = word\n",
    "trie"
   ]
  },
  {
   "cell_type": "code",
   "execution_count": 11,
   "metadata": {},
   "outputs": [
    {
     "data": {
      "text/plain": [
       "dict_keys(['o', 'p', 'e', 'r'])"
      ]
     },
     "execution_count": 11,
     "metadata": {},
     "output_type": "execute_result"
    }
   ],
   "source": [
    "trie.keys()"
   ]
  }
 ],
 "metadata": {
  "kernelspec": {
   "display_name": "Python 3",
   "language": "python",
   "name": "python3"
  },
  "language_info": {
   "codemirror_mode": {
    "name": "ipython",
    "version": 3
   },
   "file_extension": ".py",
   "mimetype": "text/x-python",
   "name": "python",
   "nbconvert_exporter": "python",
   "pygments_lexer": "ipython3",
   "version": "3.7.6"
  }
 },
 "nbformat": 4,
 "nbformat_minor": 4
}
