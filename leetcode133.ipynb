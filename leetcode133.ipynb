{
 "cells": [
  {
   "cell_type": "markdown",
   "metadata": {},
   "source": [
    "https://leetcode.com/problems/clone-graph/solution/"
   ]
  },
  {
   "cell_type": "code",
   "execution_count": 2,
   "metadata": {},
   "outputs": [],
   "source": [
    "\"\"\"\n",
    "# Definition for a Node.\n",
    "class Node:\n",
    "    def __init__(self, val = 0, neighbors = None):\n",
    "        self.val = val\n",
    "        self.neighbors = neighbors if neighbors is not None else []\n",
    "\"\"\"\n",
    "\n",
    "class Solution:\n",
    "    def __init__(self):\n",
    "        self.visited = dict()\n",
    "    def cloneGraph(self, node: 'Node') -> 'Node':\n",
    "        if not node:\n",
    "            return node\n",
    "        if node in self.visited:\n",
    "            return self.visited[node]\n",
    "        \n",
    "        cloneNode = Node(node.val)\n",
    "        self.visited[node] = cloneNode\n",
    "        \n",
    "        if node.neighbors:\n",
    "            cloneNode.neighbors = [self.cloneGraph(n) for n in node.neighbors]\n",
    "            \n",
    "        return cloneNode"
   ]
  },
  {
   "cell_type": "code",
   "execution_count": 1,
   "metadata": {},
   "outputs": [],
   "source": [
    "\"\"\"\n",
    "# Definition for a Node.\n",
    "class Node:\n",
    "    def __init__(self, val = 0, neighbors = None):\n",
    "        self.val = val\n",
    "        self.neighbors = neighbors if neighbors is not None else []\n",
    "\"\"\"\n",
    "\n",
    "class Solution:\n",
    "    def cloneGraph(self, node: 'Node') -> 'Node':\n",
    "        def dfs(node):\n",
    "            if not node:\n",
    "                return node\n",
    "            elif node not in visited:\n",
    "                newNode = Node(node.val)\n",
    "                visited[node] = newNode\n",
    "                if node.neighbors:\n",
    "                    newNode.neighbors = list()\n",
    "                    for neighborNode in node.neighbors:\n",
    "                        newNode.neighbors.append(dfs(neighborNode))\n",
    "                return newNode\n",
    "            else:\n",
    "                return visited[node]\n",
    "                \n",
    "        visited = dict()\n",
    "        return dfs(node)\n",
    "        "
   ]
  }
 ],
 "metadata": {
  "kernelspec": {
   "display_name": "Python 3",
   "language": "python",
   "name": "python3"
  },
  "language_info": {
   "codemirror_mode": {
    "name": "ipython",
    "version": 3
   },
   "file_extension": ".py",
   "mimetype": "text/x-python",
   "name": "python",
   "nbconvert_exporter": "python",
   "pygments_lexer": "ipython3",
   "version": "3.7.6"
  }
 },
 "nbformat": 4,
 "nbformat_minor": 4
}
