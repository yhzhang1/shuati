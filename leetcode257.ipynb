{
 "cells": [
  {
   "cell_type": "markdown",
   "metadata": {},
   "source": [
    "https://leetcode.com/problems/binary-tree-paths/solution/"
   ]
  },
  {
   "cell_type": "code",
   "execution_count": 6,
   "metadata": {},
   "outputs": [],
   "source": [
    "from typing import List\n",
    "# Definition for a binary tree node.\n",
    "class TreeNode:\n",
    "    def __init__(self, val=0, left=None, right=None):\n",
    "        self.val = val\n",
    "        self.left = left\n",
    "        self.right = right\n",
    "class Solution:\n",
    "    def binaryTreePaths(self, root: TreeNode) -> List[str]:\n",
    "        def dfs(root, path):\n",
    "            if root:\n",
    "                path += str(root.val)\n",
    "                if not root.left and not root.right:\n",
    "                    paths.append(path)\n",
    "                else:\n",
    "                    path += '->'\n",
    "                    dfs(root.left, path)\n",
    "                    dfs(root.right, path)\n",
    "                    \n",
    "        paths = list()\n",
    "        dfs(root, '')\n",
    "        return paths\n",
    "        "
   ]
  },
  {
   "cell_type": "code",
   "execution_count": 7,
   "metadata": {},
   "outputs": [],
   "source": [
    "from typing import List\n",
    "# Definition for a binary tree node.\n",
    "class TreeNode:\n",
    "    def __init__(self, val=0, left=None, right=None):\n",
    "        self.val = val\n",
    "        self.left = left\n",
    "        self.right = right\n",
    "class Solution:\n",
    "    def binaryTreePaths(self, root: TreeNode) -> List[str]:\n",
    "        def dfs(root, cur, ans):\n",
    "            if not root.left and not root.right:\n",
    "                ans.append('->'.join(cur+[str(root.val)]))\n",
    "                return\n",
    "            \n",
    "            cur.append(str(root.val))\n",
    "            if root.left:\n",
    "                dfs(root.left, cur, ans)\n",
    "            if root.right:\n",
    "                dfs(root.right, cur, ans)\n",
    "            cur.pop()\n",
    "            \n",
    "        if not root:\n",
    "            return []\n",
    "        ans = list()\n",
    "        dfs(root, [], ans)\n",
    "        return ans"
   ]
  }
 ],
 "metadata": {
  "kernelspec": {
   "display_name": "Python 3 (ipykernel)",
   "language": "python",
   "name": "python3"
  },
  "language_info": {
   "codemirror_mode": {
    "name": "ipython",
    "version": 3
   },
   "file_extension": ".py",
   "mimetype": "text/x-python",
   "name": "python",
   "nbconvert_exporter": "python",
   "pygments_lexer": "ipython3",
   "version": "3.8.5"
  }
 },
 "nbformat": 4,
 "nbformat_minor": 4
}
