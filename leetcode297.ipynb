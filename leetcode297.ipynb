{
 "cells": [
  {
   "cell_type": "markdown",
   "metadata": {},
   "source": [
    "https://leetcode.com/problems/serialize-and-deserialize-binary-tree/solution/"
   ]
  },
  {
   "cell_type": "code",
   "execution_count": 1,
   "metadata": {},
   "outputs": [],
   "source": [
    "# T: serialize O(n) deserialize O(n), S: serialize O(n) deserialize O(n)\n",
    "# Definition for a binary tree node.\n",
    "# class TreeNode(object):\n",
    "#     def __init__(self, x):\n",
    "#         self.val = x\n",
    "#         self.left = None\n",
    "#         self.right = None\n",
    "\n",
    "class Codec:\n",
    "\n",
    "    def serialize(self, root):\n",
    "        \"\"\"Encodes a tree to a single string.\n",
    "        \n",
    "        :type root: TreeNode\n",
    "        :rtype: str\n",
    "        \"\"\"\n",
    "        '''\n",
    "        preorder traversal\n",
    "        '''\n",
    "        if not root:\n",
    "            return 'None,'\n",
    "        \n",
    "        return str(root.val) + ',' + self.serialize(root.left) + self.serialize(root.right)\n",
    "\n",
    "    def deserialize(self, data):\n",
    "        \"\"\"Decodes your encoded data to tree.\n",
    "        \n",
    "        :type data: str\n",
    "        :rtype: TreeNode\n",
    "        \"\"\"\n",
    "        def rdeserialize(l):\n",
    "            '''\n",
    "            recover preorder traversal\n",
    "            '''\n",
    "            if l[-1] == 'None':\n",
    "                l.pop()\n",
    "                return\n",
    "            \n",
    "            root = TreeNode(l[-1])\n",
    "            l.pop()\n",
    "            root.left = rdeserialize(l)\n",
    "            root.right = rdeserialize(l)\n",
    "            return root\n",
    "            \n",
    "            \n",
    "        dataList = data.split(',')[::-1]\n",
    "        return rdeserialize(dataList)\n",
    "\n",
    "# Your Codec object will be instantiated and called as such:\n",
    "# ser = Codec()\n",
    "# deser = Codec()\n",
    "# ans = deser.deserialize(ser.serialize(root))"
   ]
  },
  {
   "cell_type": "code",
   "execution_count": 1,
   "metadata": {},
   "outputs": [],
   "source": [
    "s = '1,2,3,None,None,4,None,None,5,None,None,'"
   ]
  },
  {
   "cell_type": "code",
   "execution_count": 2,
   "metadata": {},
   "outputs": [
    {
     "data": {
      "text/plain": [
       "['1', '2', '3', 'None', 'None', '4', 'None', 'None', '5', 'None', 'None', '']"
      ]
     },
     "execution_count": 2,
     "metadata": {},
     "output_type": "execute_result"
    }
   ],
   "source": [
    "s.split(',')"
   ]
  }
 ],
 "metadata": {
  "kernelspec": {
   "display_name": "Python 3",
   "language": "python",
   "name": "python3"
  },
  "language_info": {
   "codemirror_mode": {
    "name": "ipython",
    "version": 3
   },
   "file_extension": ".py",
   "mimetype": "text/x-python",
   "name": "python",
   "nbconvert_exporter": "python",
   "pygments_lexer": "ipython3",
   "version": "3.8.5"
  }
 },
 "nbformat": 4,
 "nbformat_minor": 4
}
