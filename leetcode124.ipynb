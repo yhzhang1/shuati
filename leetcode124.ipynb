{
 "cells": [
  {
   "cell_type": "markdown",
   "metadata": {},
   "source": [
    "https://www.youtube.com/watch?v=9ZNky1wqNUw"
   ]
  },
  {
   "cell_type": "code",
   "execution_count": 1,
   "metadata": {},
   "outputs": [],
   "source": [
    "# T: O(n), S: O(h)\n",
    "from typing import Optional\n",
    "# Definition for a binary tree node.\n",
    "class TreeNode:\n",
    "    def __init__(self, val=0, left=None, right=None):\n",
    "        self.val = val\n",
    "        self.left = left\n",
    "        self.right = right\n",
    "class Solution:\n",
    "    def maxPathSum(self, root: Optional[TreeNode]) -> int:\n",
    "        self.ans = - sys.maxsize\n",
    "        self._maxPathSum(root)\n",
    "        return self.ans\n",
    "    \n",
    "    def _maxPathSum(self, root) -> int:\n",
    "        if not root:    return -sys.maxsize\n",
    "        l = max(0, self._maxPathSum(root.left))\n",
    "        r = max(0, self._maxPathSum(root.right))\n",
    "        self.ans = max(self.ans, root.val + l + r)\n",
    "        return root.val + max(l, r)"
   ]
  },
  {
   "cell_type": "code",
   "execution_count": null,
   "metadata": {},
   "outputs": [],
   "source": []
  }
 ],
 "metadata": {
  "kernelspec": {
   "display_name": "Python 3 (ipykernel)",
   "language": "python",
   "name": "python3"
  },
  "language_info": {
   "codemirror_mode": {
    "name": "ipython",
    "version": 3
   },
   "file_extension": ".py",
   "mimetype": "text/x-python",
   "name": "python",
   "nbconvert_exporter": "python",
   "pygments_lexer": "ipython3",
   "version": "3.8.5"
  }
 },
 "nbformat": 4,
 "nbformat_minor": 4
}
