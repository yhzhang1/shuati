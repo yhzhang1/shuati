{
 "cells": [
  {
   "cell_type": "code",
   "execution_count": 3,
   "metadata": {},
   "outputs": [],
   "source": [
    "class Solution:\n",
    "    def combine(self, n: int, k: int) -> List[List[int]]:\n",
    "        def dfs(d, start, cur, ans):\n",
    "            if d == k:\n",
    "                ans.append(cur[:])\n",
    "                return\n",
    "            \n",
    "            for i in range(start,n+1):\n",
    "                cur.append(i)\n",
    "                dfs(d+1, i+1, cur, ans)\n",
    "                cur.pop()\n",
    "                \n",
    "        ans = []\n",
    "        dfs(0, 1, [], ans)\n",
    "        return ans"
   ]
  },
  {
   "cell_type": "code",
   "execution_count": 1,
   "metadata": {},
   "outputs": [],
   "source": [
    "from typing import List\n",
    "class Solution:\n",
    "    def combine(self, n: int, k: int) -> List[List[int]]:\n",
    "        def dfs(n, k, d, s, cur, ans):\n",
    "            if d == k:\n",
    "                ans.append(cur[:])\n",
    "                return\n",
    "                \n",
    "            for i in range(s,n+1):\n",
    "                cur.append(i)\n",
    "                dfs(n, k, d+1, i+1, cur, ans)\n",
    "                cur.pop()\n",
    "                \n",
    "        ans = list()\n",
    "        dfs(n, k, 0, 1, list(), ans)\n",
    "        \n",
    "        return ans\n",
    "        "
   ]
  },
  {
   "cell_type": "code",
   "execution_count": null,
   "metadata": {},
   "outputs": [],
   "source": []
  }
 ],
 "metadata": {
  "kernelspec": {
   "display_name": "Python 3",
   "language": "python",
   "name": "python3"
  },
  "language_info": {
   "codemirror_mode": {
    "name": "ipython",
    "version": 3
   },
   "file_extension": ".py",
   "mimetype": "text/x-python",
   "name": "python",
   "nbconvert_exporter": "python",
   "pygments_lexer": "ipython3",
   "version": "3.8.5"
  }
 },
 "nbformat": 4,
 "nbformat_minor": 4
}
