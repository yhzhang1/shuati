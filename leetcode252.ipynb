{
 "cells": [
  {
   "cell_type": "markdown",
   "metadata": {},
   "source": [
    "https://leetcode.com/problems/meeting-rooms/solution/\n",
    "\n",
    "https://www.youtube.com/watch?v=KgWzkT9FIYA"
   ]
  },
  {
   "cell_type": "code",
   "execution_count": 1,
   "metadata": {},
   "outputs": [],
   "source": [
    "# T: O(nlogn), S: O(1)\n",
    "from typing import List\n",
    "class Solution:\n",
    "    def canAttendMeetings(self, intervals: List[List[int]]) -> bool:\n",
    "        intervals.sort(key=lambda x: x[0])\n",
    "        for i in range(1, len(intervals)):\n",
    "            if intervals[i][0] < intervals[i-1][1]:\n",
    "                return False\n",
    "            \n",
    "        return True"
   ]
  },
  {
   "cell_type": "code",
   "execution_count": 3,
   "metadata": {},
   "outputs": [],
   "source": [
    "class Solution:\n",
    "    def canAttendMeetings(self, intervals: List[List[int]]) -> bool:\n",
    "        intervals.sort(key=lambda x: x[0])\n",
    "        preEnd = -1\n",
    "        for interval in intervals:\n",
    "            if interval[0] < preEnd:\n",
    "                return False\n",
    "            preEnd = interval[-1]\n",
    "        return True"
   ]
  },
  {
   "cell_type": "code",
   "execution_count": null,
   "metadata": {},
   "outputs": [],
   "source": []
  }
 ],
 "metadata": {
  "kernelspec": {
   "display_name": "Python 3",
   "language": "python",
   "name": "python3"
  },
  "language_info": {
   "codemirror_mode": {
    "name": "ipython",
    "version": 3
   },
   "file_extension": ".py",
   "mimetype": "text/x-python",
   "name": "python",
   "nbconvert_exporter": "python",
   "pygments_lexer": "ipython3",
   "version": "3.8.5"
  }
 },
 "nbformat": 4,
 "nbformat_minor": 4
}
