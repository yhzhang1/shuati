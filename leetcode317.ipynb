{
 "cells": [
  {
   "cell_type": "markdown",
   "metadata": {},
   "source": [
    "https://www.youtube.com/watch?v=F7AM7AGJZYE"
   ]
  },
  {
   "cell_type": "code",
   "execution_count": 8,
   "metadata": {},
   "outputs": [],
   "source": [
    "# can pass\n",
    "# optimal solution\n",
    "# T: O((m^2)(n^2)) S: O(mn)\n",
    "class Solution:\n",
    "    def shortestDistance(self, grid: List[List[int]]) -> int:\n",
    "        def bfs(row, col, canReach, dist) -> bool:\n",
    "            visited = [[False]*ncols for _ in range(nrows)]\n",
    "            queue = deque()\n",
    "            d = 0\n",
    "            queue.append((row,col))\n",
    "            visited[row][col] = True\n",
    "            \n",
    "            while queue:\n",
    "                d += 1\n",
    "                for _ in range(len(queue)):\n",
    "                    cur = queue.pop()\n",
    "                    for k in range(4):\n",
    "                        nextRow = cur[0] + rowDir[k]\n",
    "                        nextCol = cur[1] + colDir[k]\n",
    "                        if not isValid(nextRow, nextCol, visited):  continue\n",
    "                        if grid[nextRow][nextCol] == 0:\n",
    "                            queue.appendleft((nextRow,nextCol))\n",
    "                            canReach[nextRow][nextCol] += 1\n",
    "                            dist[nextRow][nextCol] += d\n",
    "                        visited[nextRow][nextCol] = True\n",
    "                        \n",
    "            for i in range(nrows):\n",
    "                for j in range(ncols):\n",
    "                    if grid[i][j] == 1 and not visited[i][j]:\n",
    "                        return False\n",
    "\n",
    "            return True\n",
    "                        \n",
    "        def isValid(row, col, visited) -> bool:\n",
    "            if row < 0 or row >= nrows or col < 0 or col >= ncols:  return False\n",
    "            elif visited[row][col]: return False\n",
    "            elif grid[row][col] == 2:   return False\n",
    "            \n",
    "            return True\n",
    "                    \n",
    "                    \n",
    "                    \n",
    "        rowDir = [0,0,1,-1]\n",
    "        colDir = [1,-1,0,0]\n",
    "        nrows, ncols = len(grid), len(grid[0])\n",
    "        canReach = [[0]*ncols for _ in range(nrows)]\n",
    "        dist = [[0]*ncols for _ in range(nrows)]\n",
    "        totalBuildings = 0\n",
    "        minDist = sys.maxsize\n",
    "        \n",
    "        for i in range(nrows):\n",
    "            for j in range(ncols):\n",
    "                if grid[i][j] == 1:\n",
    "                    totalBuildings += 1\n",
    "                    if not bfs(i, j, canReach, dist):   return -1\n",
    "                    \n",
    "        for i in range(nrows):\n",
    "            for j in range(ncols):\n",
    "                if canReach[i][j] == totalBuildings:\n",
    "                    minDist = min(dist[i][j], minDist)\n",
    "                    \n",
    "        return -1 if minDist == sys.maxsize else minDist\n",
    "        \n",
    "        "
   ]
  },
  {
   "cell_type": "code",
   "execution_count": 7,
   "metadata": {},
   "outputs": [],
   "source": [
    "# can not pass\n",
    "# T: O((m^2)(n^2)) S: O(mn)\n",
    "from typing import List\n",
    "class Solution:\n",
    "    def shortestDistance(self, grid: List[List[int]]) -> int:\n",
    "        def bfs(row, col, canReach, dist):\n",
    "            visited = [[False]*ncols for _ in range(nrows)]\n",
    "            queue = deque()\n",
    "            d = 0\n",
    "            queue.append((row,col))\n",
    "            visited[row][col] = True\n",
    "            \n",
    "            while queue:\n",
    "                d += 1\n",
    "                for _ in range(len(queue)):\n",
    "                    cur = queue.pop()\n",
    "                    for k in range(4):\n",
    "                        nextRow = cur[0] + rowDir[k]\n",
    "                        nextCol = cur[1] + colDir[k]\n",
    "                        if not isValid(nextRow, nextCol, visited):  continue\n",
    "                        queue.appendleft((nextRow,nextCol))\n",
    "                        visited[nextRow][nextCol] = True\n",
    "                        canReach[nextRow][nextCol] += 1\n",
    "                        dist[nextRow][nextCol] += d\n",
    "                        \n",
    "        def isValid(row, col, visited) -> bool:\n",
    "            if row < 0 or row >= nrows or col < 0 or col >= ncols:  return False\n",
    "            elif visited[row][col]: return False\n",
    "            elif grid[row][col] != 0:   return False\n",
    "            \n",
    "            return True\n",
    "                    \n",
    "                    \n",
    "                    \n",
    "        rowDir = [0,0,1,-1]\n",
    "        colDir = [1,-1,0,0]\n",
    "        nrows, ncols = len(grid), len(grid[0])\n",
    "        canReach = [[0]*ncols for _ in range(nrows)]\n",
    "        dist = [[0]*ncols for _ in range(nrows)]\n",
    "        totalBuildings = 0\n",
    "        minDist = sys.maxsize\n",
    "        \n",
    "        for i in range(nrows):\n",
    "            for j in range(ncols):\n",
    "                if grid[i][j] == 1:\n",
    "                    totalBuildings += 1\n",
    "                    bfs(i, j, canReach, dist)\n",
    "                    \n",
    "        for i in range(nrows):\n",
    "            for j in range(ncols):\n",
    "                if canReach[i][j] == totalBuildings:\n",
    "                    minDist = min(dist[i][j], minDist)\n",
    "                    \n",
    "        return -1 if minDist == sys.maxsize else minDist\n",
    "        \n",
    "        "
   ]
  },
  {
   "cell_type": "code",
   "execution_count": 3,
   "metadata": {},
   "outputs": [
    {
     "data": {
      "text/plain": [
       "-9223372036854775807"
      ]
     },
     "execution_count": 3,
     "metadata": {},
     "output_type": "execute_result"
    }
   ],
   "source": [
    "import sys\n",
    "\n",
    "-sys.maxsize"
   ]
  },
  {
   "cell_type": "code",
   "execution_count": 1,
   "metadata": {},
   "outputs": [
    {
     "data": {
      "text/plain": [
       "[[1, 0, 2, 0, 1], [0, 0, 0, 0, 0], [0, 0, 1, 0, 0]]"
      ]
     },
     "execution_count": 1,
     "metadata": {},
     "output_type": "execute_result"
    }
   ],
   "source": [
    "[[1,0,2,0,1],\n",
    " [0,0,0,0,0],\n",
    " [0,0,1,0,0]]"
   ]
  },
  {
   "cell_type": "code",
   "execution_count": null,
   "metadata": {},
   "outputs": [],
   "source": [
    "\n",
    "[[1, 3, 0, 3, 1], \n",
    " [3, 3, 3, 3, 3], \n",
    " [3, 3, 1, 3, 3]]\n"
   ]
  },
  {
   "cell_type": "code",
   "execution_count": null,
   "metadata": {},
   "outputs": [],
   "source": [
    "[[1, 2, 0, 6, 0], \n",
    " [2, 3, 4, 5, 6], \n",
    " [3, 4, 0, 6, 7]]\n",
    "\n"
   ]
  },
  {
   "cell_type": "code",
   "execution_count": null,
   "metadata": {},
   "outputs": [],
   "source": [
    "\n",
    "[[1, 12, 0, 12, 1], \n",
    " [12, 11, 10, 11, 12], \n",
    " [13, 12, 1, 12, 13]]\n"
   ]
  }
 ],
 "metadata": {
  "kernelspec": {
   "display_name": "Python 3",
   "language": "python",
   "name": "python3"
  },
  "language_info": {
   "codemirror_mode": {
    "name": "ipython",
    "version": 3
   },
   "file_extension": ".py",
   "mimetype": "text/x-python",
   "name": "python",
   "nbconvert_exporter": "python",
   "pygments_lexer": "ipython3",
   "version": "3.8.5"
  }
 },
 "nbformat": 4,
 "nbformat_minor": 4
}
