{
 "cells": [
  {
   "cell_type": "code",
   "execution_count": 5,
   "metadata": {},
   "outputs": [],
   "source": [
    "# Definition for a binary tree node.\n",
    "class TreeNode:\n",
    "    def __init__(self, val=0, left=None, right=None):\n",
    "        self.val = val\n",
    "        self.left = left\n",
    "        self.right = right\n",
    "class Solution:\n",
    "    def sumNumbers(self, root: TreeNode) -> int:\n",
    "        def dfs(root, curNum):\n",
    "            nonlocal ans\n",
    "            if root:\n",
    "                curNum = 10*curNum + root.val\n",
    "                if not root.left and not root.right:\n",
    "                    ans += curNum\n",
    "                dfs(root.left, curNum)\n",
    "                dfs(root.right, curNum)\n",
    "                \n",
    "        ans = 0\n",
    "        dfs(root, 0)\n",
    "        return ans"
   ]
  },
  {
   "cell_type": "code",
   "execution_count": 4,
   "metadata": {},
   "outputs": [],
   "source": [
    "# Definition for a binary tree node.\n",
    "class TreeNode:\n",
    "    def __init__(self, val=0, left=None, right=None):\n",
    "        self.val = val\n",
    "        self.left = left\n",
    "        self.right = right\n",
    "class Solution:\n",
    "    def sumNumbers(self, root: TreeNode) -> int:\n",
    "        ans = list()\n",
    "        self.dfs(root, [], ans)\n",
    "        return sum(ans)\n",
    "        \n",
    "    def dfs(self, root, cur, ans):\n",
    "        if not root:\n",
    "            return root\n",
    "        elif not root.left and not root.right:\n",
    "            num = 0\n",
    "            cur.append(root.val)\n",
    "            for digit in cur:\n",
    "                num = 10*num + digit\n",
    "            ans.append(num)\n",
    "            cur.pop()\n",
    "            return\n",
    "            \n",
    "        cur.append(root.val)\n",
    "        self.dfs(root.left, cur, ans)\n",
    "        self.dfs(root.right, cur, ans)\n",
    "        cur.pop()"
   ]
  }
 ],
 "metadata": {
  "kernelspec": {
   "display_name": "Python 3",
   "language": "python",
   "name": "python3"
  },
  "language_info": {
   "codemirror_mode": {
    "name": "ipython",
    "version": 3
   },
   "file_extension": ".py",
   "mimetype": "text/x-python",
   "name": "python",
   "nbconvert_exporter": "python",
   "pygments_lexer": "ipython3",
   "version": "3.7.6"
  }
 },
 "nbformat": 4,
 "nbformat_minor": 4
}
