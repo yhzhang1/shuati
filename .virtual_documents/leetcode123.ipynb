


from typing import List
class Solution:
    def maxProfit(self, prices: List[int]) -> int:
        if not prices:
            return 0
        n = len(prices)
        leftProfit = [0] * n
        rightProfit = [0] * n
        leftMin = prices[0]
        rightMax = prices[-1]
        
        for l in range(1, n):
            leftMin = min(leftMin, prices[l])
            leftProfit[l] = max(leftProfit[l-1], prices[l]-leftMin) 
            
            r = n-1-l
            rightMax = max(rightMax, prices[r])
            rightProfit[r] = max(rightProfit[r+1], rightMax-prices[r])
            
        maxProfit = 0
        for i in range(n):
            maxProfit = max(maxProfit, leftProfit[i]+rightProfit[i])
            
        return maxProfit
