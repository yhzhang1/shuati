


# T: O(n), S: O(n)
# Definition for a binary tree node.
# class TreeNode:
#     def __init__(self, val=0, left=None, right=None):
#         self.val = val
#         self.left = left
#         self.right = right
class Solution:
    def isBalanced(self, root: Optional[TreeNode]) -> bool:
        def height(root):
            if not root:
                return 0
            left_height = height(root.left)
            if left_height == -1:
                return -1
            right_height = height(root.right)
            if right_height == -1:
                return -1

            return 1 + max(left_height, right_height) if abs(left_height - right_height) < 2 else -1

        return height(root) != -1


# Definition for a binary tree node.
# class TreeNode:
#     def __init__(self, val=0, left=None, right=None):
#         self.val = val
#         self.left = left
#         self.right = right
class Solution:
    def isBalanced(self, root: Optional[TreeNode]) -> bool:
        def balanced_and_height(root) -> (bool, int):
            if not root:
                return True, 0
            left_balanced, left_height = balanced_and_height(root.left)
            if not left_balanced:
                return False, -1
            right_balanced, right_height = balanced_and_height(root.right)
            if not right_balanced:
                return False, -1

            return abs(left_height - right_height) < 2, 1 + max(left_height, right_height)

        return balanced_and_height(root)[0]


# Definition for a binary tree node.
class TreeNode:
    def __init__(self, val=0, left=None, right=None):
        self.val = val
        self.left = left
        self.right = right
from typing import Optional
class Solution:
    def isBalanced(self, root: Optional[TreeNode]) -> bool:
        def height(root):
            nonlocal balanced
            if not root:    return 0
            l_height = height(root.left)
            r_height = height(root.right)
            # print('left height:', l_height)
            # print('right height:', r_height)
            if abs(l_height - r_height) > 1:
                balanced = False
                # print('false')
            # print()
            return max(l_height, r_height) + 1

        balanced = True
        height(root)
        return balanced
