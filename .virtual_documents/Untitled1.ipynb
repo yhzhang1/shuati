


# T: O(mn), S: O(mn)
class Solution:
    def numDistinct(self, s: str, t: str) -> int:
        m, n = len(s), len(t)
        dp = [[0]*(m+1) for _ in range(n+1)]
        for j in range(m+1):
            dp[0][j] = 1
        
        for i in range(1,n+1):
            for j in range(1,m+1):
                if t[i-1] == s[j-1]:
                    dp[i][j] = dp[i-1][j-1] + dp[i][j-1]
                else:
                    dp[i][j] = dp[i][j-1]

        return dp[-1][-1] 





[]*5


[[]*5]*3


[2]*5


[[2]*5]*3


[0 for _ in range(5)]


[0 for _ in range(5)]*3


range(5)


[0]*5
