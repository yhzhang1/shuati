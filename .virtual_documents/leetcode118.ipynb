


# T:O(n^2), S:O(n^2)
from typing import List
class Solution:
    def generate(self, numRows: int) -> List[List[int]]:
        ans = list()
        for i in range(numRows):
            curRow = list()
            for j in range(i+1):
                if j in (0,i):
                    curRow.append(1)
                else:
                    curRow.append(ans[-1][j-1]+ans[-1][j])
            ans.append(curRow)
                    
        return ans


4 in range(0,3)
