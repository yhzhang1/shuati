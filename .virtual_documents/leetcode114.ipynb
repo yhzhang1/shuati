


# T: O(n), S: O(n)
from typing import List
# Definition for a binary tree node.
class TreeNode:
    def __init__(self, val=0, left=None, right=None):
        self.val = val
        self.left = left
        self.right = right
class Solution:
    def flattenTree(self, root: TreeNode) -> TreeNode:
        if not root:
            return None
        elif not root.left and not root.right:
            return root
        
        leftTail = self.flattenTree(root.left)
        rightTail = self.flattenTree(root.right)
        
        if leftTail:
            leftTail.right = root.right
            root.right = root.left
            root.left = None
        
        return rightTail if rightTail else leftTail
    def flatten(self, root: TreeNode) -> None:
        """
        Do not return anything, modify root in-place instead.
        """
        self.flattenTree(root)
        


# Definition for a binary tree node.
# class TreeNode:
#     def __init__(self, val=0, left=None, right=None):
#         self.val = val
#         self.left = left
#         self.right = right
class Solution:
    def flatten(self, root: Optional[TreeNode]) -> None:
        """
        Do not return anything, modify root in-place instead.
        """
        def dfs(root):
            if not root:    return None
            if not root.left and not root.right:    return root

            if root.left and root.right:
                l_tail = dfs(root.left)
                r_tail = dfs(root.right)
                l_tail.right = root.right
                root.right = root.left
                root.left = None
                return r_tail
            elif not root.left:
                r_tail = dfs(root.right)
                return r_tail
            elif not root.right:
                l_tail = dfs(root.left)
                root.right = root.left
                root.left = None
                return l_tail

        dfs(root)
