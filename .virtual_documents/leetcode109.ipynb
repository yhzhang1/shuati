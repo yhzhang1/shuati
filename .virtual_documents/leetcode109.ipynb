# T: O(n), S: O(n)
# Definition for singly-linked list.
class ListNode:
    def __init__(self, val=0, next=None):
        self.val = val
        self.next = next
# Definition for a binary tree node.
class TreeNode:
    def __init__(self, val=0, left=None, right=None):
        self.val = val
        self.left = left
        self.right = right
from typing import Optional
class Solution:
    def sortedListToBST(self, head: Optional[ListNode]) -> Optional[TreeNode]:
        def findSize(root):
            c = 0
            while root:
                c += 1
                root = root.next
            return c
        def inorder(l,r):
            nonlocal head
            if l > r:   return None
            mid = (l+r) // 2
            left = inorder(l, mid-1)
            node = TreeNode(head.val)
            node.left = left
            head = head.next
            right = inorder(mid+1, r)
            node.right = right
            return node

        size = findSize(head)
        return inorder(0, size-1)


# Definition for singly-linked list.
# class ListNode:
#     def __init__(self, val=0, next=None):
#         self.val = val
#         self.next = next
# Definition for a binary tree node.
# class TreeNode:
#     def __init__(self, val=0, left=None, right=None):
#         self.val = val
#         self.left = left
#         self.right = right
class Solution:
    def findSize(self, head):
        ptr = head
        c = 0
        while ptr:
            c += 1
            ptr = ptr.next

        return c
    
    def sortedListToBST(self, head: ListNode) -> TreeNode:
        def convert(l, r):
            nonlocal head
            if l > r:
                return None
            
            mid = (l+r) // 2
            left = convert(l, mid-1)
            node = TreeNode(head.val)
            node.left = left
            
            head = head.next
            
            right = convert(mid+1, r)
            node.right = right
            
            return node
        
        size = self.findSize(head)
        return convert(0, size-1)
        
        


def func1():
    x = 1
    def func2():
        nonlocal x
        x=3
    func2()
    return x
    
func1()


class ListNode:
    def __init__(self, val=0, next=None):
        self.val = val
        self.next = next
# Definition for a binary tree node.
class TreeNode:
    def __init__(self, val=0, left=None, right=None):
        self.val = val
        self.left = left
        self.right = right
        
head = ListNode(-10)
head.next = ListNode(-3)
head.next.next = ListNode(0)
head.next.next.next = ListNode(5)
head.next.next.next.next = ListNode(9)

def listTraverse(head: ListNode):
    ptr = head
    while ptr:
        print(ptr.val)
        ptr = ptr.next
        
listTraverse(head)

def findSize(head: ListNode) -> int:
    ptr = head
    c = 0
    while ptr:
        c += 1
        ptr = ptr.next
        
    return c

findSize(head)
