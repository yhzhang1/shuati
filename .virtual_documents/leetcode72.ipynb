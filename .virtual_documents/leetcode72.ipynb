


# T: O(mn), S: O(mn)
# iterative
class Solution:
    def minDistance(self, word1: str, word2: str) -> int:
        l1, l2 = len(word1), len(word2)
        dp = [[0] * (l2 + 1) for _ in range(l1 + 1)]
        
        for i in range(l1 + 1):
            dp[i][0] = i
            
        for j in range(l2 + 1):
            dp[0][j] = j
            
        for i in range(1, l1 + 1):
            for j in range(1, l2 + 1):
                if word1[i - 1] == word2[j - 1]:
                    dp[i][j] = dp[i - 1][j - 1]
                else:
                    dp[i][j] = min([dp[i - 1][j], # delete last char
                                    dp[i][j - 1], # insert last char
                                    dp[i - 1][j - 1] # replace last char
                                   ]) + 1
                    
        return dp[-1][-1]


# recursive
class Solution:
    def minDistance(self, word1: str, word2: str) -> int:
        l1, l2 = len(word1), len(word2)
        self.dp_ = [[-1] * (l2 + 1) for _ in range(l1 + 1)]
        
        return self.minDistanceHelper(word1, word2, l1, l2)
        
    def minDistanceHelper(self, word1: str, word2: str, l1: int, l2: int) -> int:
        if l1 == 0:
            return l2
        if l2 == 0:
            return l1
        if self.dp_[l1][l2] >= 0:
            return self.dp_[l1][l2]
        
        
        if word1[l1 - 1] == word2[l2 - 1]:
            ans = self.minDistanceHelper(word1, word2, l1 - 1, l2 - 1)
        else:
            ans = min([self.minDistanceHelper(word1, word2, l1 - 1, l2), # delete last char
                        self.minDistanceHelper(word1, word2, l1, l2 - 1), # insert last char
                        self.minDistanceHelper(word1, word2, l1 - 1, l2 - 1) # replace last char
                       ]) + 1
            
        self.dp_[l1][l2] = ans
        return ans
    
    def __init__(self):
        self.dp_ = [[]]


len(a)
