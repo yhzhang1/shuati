


# T:O(n), S:O(1)
class Solution:
    def maxProfit(self, prices: List[int]) -> int:
        profit = 0
        for i in range(1,len(prices)):
            profit += max(prices[i]-prices[i-1], 0)
        return profit


from typing import List
class Solution:
    def maxProfit(self, prices: List[int]) -> int:
        profit = 0
        for i in range(1, len(prices)):
            if prices[i] > prices[i-1]:
                profit += prices[i]-prices[i-1]
        return profit


prices = [7,1,5,3,6,4]


prices[1:]


prices[:-1]


prices[1:] - prices[:-1]
