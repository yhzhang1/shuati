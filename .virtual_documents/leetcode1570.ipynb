


# T： init O(n) dotProduct O(L), S: init O(L) dotProduct O(1), where n is the length of input array, L is number of non-zeros elements
from typing import List
class SparseVector:
    def __init__(self, nums: List[int]):
        self.hashtable = {}
        for i, val in enumerate(nums):
            if val != 0:
                self.hashtable[i] = val

    # Return the dotProduct of two sparse vectors
    def dotProduct(self, vec: 'SparseVector') -> int:
        ans = 0
        for i in self.hashtable:
            if i in vec.hashtable:
                ans += self.hashtable[i] * vec.hashtable[i]
                
        return ans

# Your SparseVector object will be instantiated and called as such:
# v1 = SparseVector(nums1)
# v2 = SparseVector(nums2)
# ans = v1.dotProduct(v2)


d= {'a':1,'b':2,'c':3}

for i,v in d.items():
    print(i, v)


d.items?
