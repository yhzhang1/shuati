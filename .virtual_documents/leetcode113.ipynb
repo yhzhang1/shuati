# T:O(nlogn), S:O(nlogn)
# Definition for a binary tree node.
# class TreeNode:
#     def __init__(self, val=0, left=None, right=None):
#         self.val = val
#         self.left = left
#         self.right = right
class Solution:
    def pathSum(self, root: Optional[TreeNode], targetSum: int) -> List[List[int]]:
        if not root:    return []
        targetSum -= root.val
        if not root.left and not root.right:
            if targetSum == 0:
                return [[root.val]]

        return [[root.val] + path for path in self.pathSum(root.left, targetSum)] + [[root.val] + path for path in self.pathSum(root.right, targetSum)]


from typing import List
#Definition for a binary tree node.
from typing import Optional
class TreeNode:
    def __init__(self, val=0, left=None, right=None):
        self.val = val
        self.left = left
        self.right = right
class Solution:
    def pathSum(self, root: TreeNode, sum: int) -> List[List[int]]:
        def dfs(root: TreeNode, sum: int, cur: List, ans: List[List[int]]) -> None:
            if not root:
                return
            elif sum-root.val == 0 and not root.left and not root.right:
                cur.append(root.val)
                ans.append(cur[:])
                cur.pop()
                return
            
            cur.append(root.val)
            dfs(root.left, sum-root.val, cur, ans)
            dfs(root.right, sum-root.val, cur, ans)
            cur.pop()
            
        ans = list()
        dfs(root, sum, [], ans)
        return ans


# Definition for a binary tree node.
# class TreeNode:
#     def __init__(self, val=0, left=None, right=None):
#         self.val = val
#         self.left = left
#         self.right = right
class Solution:
    def pathSum(self, root: Optional[TreeNode], targetSum: int) -> List[List[int]]:
        if not root:    return []
        targetSum -= root.val
        if not root.left and not root.right:
            if targetSum == 0:
                return [[root.val]]

        l_paths = self.pathSum(root.left, targetSum)
        r_paths = self.pathSum(root.right, targetSum)
        result = [[root.val] + path for path in l_paths] + [[root.val] + path for path in r_paths]

        return result


len([[]])


len([])


[ path for path in [[]] ]


[ [1] + path for path in [[]] if len(path) > 0]


for path in [[]]:
    print(path)
