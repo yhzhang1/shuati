


# T:O(n), S:O(n)
"""
# Definition for a Node.
class Node:
    def __init__(self, val: int = 0, left: 'Node' = None, right: 'Node' = None, next: 'Node' = None):
        self.val = val
        self.left = left
        self.right = right
        self.next = next
"""

class Solution:
    def connect(self, root: 'Node') -> 'Node':
        q = deque()
        if root:
            q.append(root)
        while q:
            size = len(q)
            for i in range(size):
                node = q.popleft()
                if i < size - 1:
                    node.next = q[0]
                if node.left:
                    q.append(node.left)
                if node.right:
                    q.append(node.right)
        return root


"""
# Definition for a Node.
class Node:
    def __init__(self, val: int = 0, left: 'Node' = None, right: 'Node' = None, next: 'Node' = None):
        self.val = val
        self.left = left
        self.right = right
        self.next = next
"""
import collections

class Solution:
    def connect(self, root: 'Node') -> 'Node':
        if not root:
            return root 
        Q = collections.deque([root])
        
        while Q:
            size = len(Q)
            
            for i in range(size):
                node = Q.popleft()
                if i < size-1:
                    node.next = Q[0]
                    
                if node.left:
                    Q.append(node.left)
                if node.right:
                    Q.append(node.right)
                
        return root


q.append(2)
q


q.append(3)
q


q


len(q)


import collections

class Node:
    def __init__(self, val: int = 0, left: 'Node' = None, right: 'Node' = None, next: 'Node' = None):
        self.val = val
        self.left = left
        self.right = right
        self.next = next
        
q = collections.deque([Node(0)])
q


q.append(Node(1))
q


q.append(Node(2))
q


q[1].val
