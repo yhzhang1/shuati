


# T:O(n^2), S:O(n^2)
class Solution:
    def minimumTotal(self, triangle: List[List[int]]) -> int:
        '''
        dp[i][j] = minTotalOf(i,j)
        dp[i][j] = min(dp[i-1][j], dp[i-1][j-1]) + triangle[i-1][j-1]
        '''
        n = len(triangle)
        dp = [[float('inf')] * (n+1) for _ in range(n+1)]

        for i in range(1,n+1):
            for j in range(1,i+1):
                if i == 1 and j == 1:
                    dp[i][j] = triangle[i-1][j-1]
                elif j == 1:
                    dp[i][j] = dp[i-1][j] + triangle[i-1][j-1]
                elif j == i:
                    dp[i][j] = dp[i-1][j-1] + triangle[i-1][j-1]
                else:
                    dp[i][j] = min(dp[i-1][j], dp[i-1][j-1]) + triangle[i-1][j-1]

        return min(dp[-1])


class Solution:
    def minimumTotal(self, triangle: List[List[int]]) -> int:
        n = len(triangle)
        dp = [[float('inf')] * (n+1) for _ in range(n+1)]
        print('dp:')
        for r in dp:
            print(r)
        for i in range(1,n+1):
            for j in range(1,i+1):
                if i == 1 and j == 1:
                    dp[i][j] = triangle[i-1][j-1]
                else:
                    dp[i][j] = min(dp[i-1][j], dp[i-1][j-1]) + triangle[i-1][j-1]
            print('dp:')
            for r in dp:
                print(r)
                    
        return min(dp[-1])


# T:O(n^2), S:O(n)
class Solution:
    def minimumTotal(self, triangle: List[List[int]]) -> int:
        n = len(triangle)
        dp = [[float('inf')] * (n+1) for _ in range(2)]
        # print('dp:')
        # for r in dp:
        #     print(r)
        for i in range(1,n+1):
            for j in range(1,i+1):
                if i == 1 and j == 1:
                    dp[1][j] = triangle[i-1][j-1]
                elif j == 1:
                    dp[1][j] = dp[0][j] + triangle[i-1][j-1]
                elif j == i:
                    dp[1][j] = dp[0][j-1] + triangle[i-1][j-1]
                else:
                    dp[1][j] = min(dp[0][j], dp[0][j-1]) + triangle[i-1][j-1]
            # print('dp:')
            # for r in dp:
            #     print(r)
            dp[0], dp[1] = dp[1], dp[0]

        return min(dp[0])


class Solution:
    def minimumTotal(self, triangle: List[List[int]]) -> int:
        n = len(triangle)
        dp = [[float('inf')] * (n+1) for _ in range(2)]
        # print('dp:')
        # for r in dp:
        #     print(r)
        for i in range(1,n+1):
            for j in range(1,i+1):
                if i == 1 and j == 1:
                    dp[1][j] = triangle[i-1][j-1]
                else:
                    dp[1][j] = min(dp[0][j], dp[0][j-1]) + triangle[i-1][j-1]
            # print('dp:')
            # for r in dp:
            #     print(r)
            dp[0], dp[1] = dp[1], dp[0]

        return min(dp[0])


# T:O(n^2), S:O(1)
class Solution:
    def minimumTotal(self, triangle: List[List[int]]) -> int:
        n = len(triangle)
        # print('triangle:')
        # for r in triangle:
        #     print(r)
        for i in range(n):
            for j in range(i+1):
                if i == 0 and j == 0:
                    continue
                elif j == 0:
                    triangle[i][j] += triangle[i-1][j]
                elif j == i:
                    triangle[i][j] += triangle[i-1][j-1]
                else:
                    triangle[i][j] += min(triangle[i-1][j], triangle[i-1][j-1])
            # print('triangle:')
            # for r in triangle:
            #     print(r)

        return min(triangle[-1])


from typing import List
class Solution:
    def minimumTotal(self, triangle: List[List[int]]) -> int:
        n = len(triangle)
        dpPre = [0] * n
        dpCur = [0] * n
        dpPre[0] = triangle[0][0]
        
        for i in range(1,n):
            for j in range(i+1):
                if j == 0:
                    dpCur[j] = dpPre[j] + triangle[i][j]
                elif j == i:
                    dpCur[j] = dpPre[j-1] + triangle[i][j]
                else:
                    dpCur[j] = min(dpPre[j-1], dpPre[j]) + triangle[i][j]
            dpPre, dpCur = dpCur, dpPre
            
                    
        return min(dpPre)


from typing import List
class Solution:
    def minimumTotal(self, triangle: List[List[int]]) -> int:
        n = len(triangle)
        dp = [[0] * n for _ in range(n)]
        dp[0][0] = triangle[0][0]
        
        for i in range(1,n):
            for j in range(i+1):
                if j == 0:
                    dp[i][j] = dp[i-1][j] + triangle[i][j]
                elif j == i:
                    dp[i][j] = dp[i-1][j-1] + triangle[i][j]
                else:
                    dp[i][j] = min(dp[i-1][j-1], dp[i-1][j]) + triangle[i][j]
                    
        return min(dp[-1])


a[0][1] = 2
a


b = [[0] * 3 for _ in range(5)]
b


b[0][1] = 2
b


max([1,2,3,4])


a = [1,2,3]
b = [3,4,5,6]
a = b
a


a[0] = 10
a


b


float('inf')


dp =  [[1,2,3],[3,2,1]]
dp


dp[0], dp[1] = dp[1], dp[0]
dp



