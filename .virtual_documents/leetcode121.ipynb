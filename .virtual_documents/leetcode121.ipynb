# T：O(n), S:O(1)
from typing import List
class Solution:
    def maxProfit(self, prices: List[int]) -> int:
        max_profit, min_price = 0, float('inf')
        
        for price in prices:
            min_price = min(min_price, price)
            max_profit = max(max_profit, price-min_price)

        return max_profit


# T：O(n), S:O(1)
class Solution:
    def maxProfit(self, prices: List[int]) -> int:
        max_profit = 0
        if not prices:  return max_profit
        min_, max_ = float('inf'), -float('inf')
        for p in prices:
            if p < min_:
                min_ = p
            else:
                max_profit = max(max_profit, p-min_)
        return max_profit


float('-inf')


-float('inf')
