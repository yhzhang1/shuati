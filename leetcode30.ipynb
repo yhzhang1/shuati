{
 "cells": [
  {
   "cell_type": "markdown",
   "metadata": {},
   "source": [
    "https://www.youtube.com/watch?v=L6NLra-rZoU"
   ]
  },
  {
   "cell_type": "code",
   "execution_count": 2,
   "metadata": {},
   "outputs": [],
   "source": [
    "from typing import List\n",
    "class Solution:\n",
    "    def findSubstring(self, s: str, words: List[str]) -> List[int]:\n",
    "        hashmap = {}\n",
    "        ans = list()\n",
    "        for word in words:\n",
    "            if word in hashmap:\n",
    "                hashmap[word] += 1\n",
    "            else:\n",
    "                hashmap[word] = 1\n",
    "                \n",
    "        n = len(words)\n",
    "        m = len(words[0]) if n else 0\n",
    "        \n",
    "        for i in range(len(s)+1-m*n):\n",
    "            copy = hashmap.copy()\n",
    "            k = n\n",
    "            j = i\n",
    "            \n",
    "            while k > 0:\n",
    "                substr = s[j:j+m]\n",
    "                if substr not in copy or copy[substr] < 1:\n",
    "                    break\n",
    "                k -= 1\n",
    "                copy[substr] -= 1\n",
    "                j += m\n",
    "            \n",
    "            if k == 0:\n",
    "                ans.append(i)\n",
    "                \n",
    "        return ans"
   ]
  }
 ],
 "metadata": {
  "kernelspec": {
   "display_name": "Python 3",
   "language": "python",
   "name": "python3"
  },
  "language_info": {
   "codemirror_mode": {
    "name": "ipython",
    "version": 3
   },
   "file_extension": ".py",
   "mimetype": "text/x-python",
   "name": "python",
   "nbconvert_exporter": "python",
   "pygments_lexer": "ipython3",
   "version": "3.8.5"
  }
 },
 "nbformat": 4,
 "nbformat_minor": 4
}
