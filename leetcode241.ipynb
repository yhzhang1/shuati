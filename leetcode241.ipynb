{
 "cells": [
  {
   "cell_type": "markdown",
   "metadata": {},
   "source": [
    "https://www.youtube.com/watch?v=gxYV8eZY0eQ"
   ]
  },
  {
   "cell_type": "code",
   "execution_count": 15,
   "metadata": {},
   "outputs": [],
   "source": [
    "from typing import List\n",
    "class Solution:\n",
    "    def __init__(self):\n",
    "        self.m_ = {}\n",
    "    def diffWaysToCompute(self, input: str) -> List[int]:\n",
    "        ops = {'+': lambda x, y : x + y,\n",
    "               '-': lambda x, y: x - y,\n",
    "               '*': lambda x, y: x * y}\n",
    "        def ways(s):\n",
    "            if s in self.m_:\n",
    "                return self.m_[s]\n",
    "            ans = []\n",
    "            for i in range(len(s)):\n",
    "                if s[i] in '+-*':\n",
    "                    ans += [ops[s[i]](l, r) for l, r in itertools.product(ways(s[:i]), ways(s[i+1:]))]\n",
    "            if not ans: ans.append(int(s))\n",
    "            self.m_[s] = ans\n",
    "            return ans\n",
    "        return ways(input)\n",
    "        "
   ]
  },
  {
   "cell_type": "code",
   "execution_count": 11,
   "metadata": {},
   "outputs": [
    {
     "name": "stdout",
     "output_type": "stream",
     "text": [
      "a 1\n",
      "a 2\n",
      "b 1\n",
      "b 2\n",
      "c 1\n",
      "c 2\n"
     ]
    }
   ],
   "source": [
    "for l,r in itertools.product(['a','b','c'],[1,2]):\n",
    "    print(l, r)"
   ]
  },
  {
   "cell_type": "code",
   "execution_count": 12,
   "metadata": {},
   "outputs": [],
   "source": [
    "f = lambda x, y: x+y"
   ]
  },
  {
   "cell_type": "code",
   "execution_count": 13,
   "metadata": {},
   "outputs": [
    {
     "data": {
      "text/plain": [
       "3"
      ]
     },
     "execution_count": 13,
     "metadata": {},
     "output_type": "execute_result"
    }
   ],
   "source": [
    "f(1,2)"
   ]
  }
 ],
 "metadata": {
  "kernelspec": {
   "display_name": "Python 3",
   "language": "python",
   "name": "python3"
  },
  "language_info": {
   "codemirror_mode": {
    "name": "ipython",
    "version": 3
   },
   "file_extension": ".py",
   "mimetype": "text/x-python",
   "name": "python",
   "nbconvert_exporter": "python",
   "pygments_lexer": "ipython3",
   "version": "3.7.6"
  }
 },
 "nbformat": 4,
 "nbformat_minor": 4
}
