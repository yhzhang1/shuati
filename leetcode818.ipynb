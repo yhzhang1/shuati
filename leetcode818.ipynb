{
 "cells": [
  {
   "cell_type": "markdown",
   "id": "a9539033-5793-45ee-a502-85c5755466f8",
   "metadata": {},
   "source": [
    "https://leetcode.com/problems/race-car/editorial/"
   ]
  },
  {
   "cell_type": "code",
   "execution_count": 4,
   "id": "288706d9-f315-4780-8ecd-5e1bd411e126",
   "metadata": {},
   "outputs": [],
   "source": [
    "# T: O(tlogt), S: O(t)\n",
    "class Solution:\n",
    "    def racecar(self, target: int) -> int:\n",
    "        dp = [float('inf')] * (target+1)\n",
    "        for t in range(1,target+1):\n",
    "            k = math.ceil(math.log(t+1, 2))\n",
    "            if t == 2**k-1:\n",
    "                dp[t] = k\n",
    "                continue\n",
    "\n",
    "            for j in range(k-1):\n",
    "                dp[t] = min(dp[t], dp[t- (2**(k-1) - 2**j)] + k - 1 + j + 2)\n",
    "\n",
    "            if 2**k-1-t < t:\n",
    "                dp[t] = min(dp[t], dp[2**k-1-t] + k + 1)\n",
    "\n",
    "        return dp[-1]"
   ]
  },
  {
   "cell_type": "code",
   "execution_count": 1,
   "id": "f47faf52-948b-4b43-aa13-6c6e8ba72f3d",
   "metadata": {},
   "outputs": [],
   "source": [
    "class Solution:\n",
    "    def racecar(self, target: int) -> int:\n",
    "        # sys.stdout = open(os.devnull, 'w')\n",
    "        # sys.stdout = sys.__stdout__\n",
    "        m = [[0]*2 for _ in range(target+1)]\n",
    "        for t in range(1,target+1):\n",
    "            # print('t:',t)\n",
    "            n = math.ceil(math.log(t+1,2))\n",
    "            # print('n:',n)\n",
    "            if 1 << n == t+1:\n",
    "                # print('1 << n == t+1')\n",
    "                m[t][0] = n\n",
    "                m[t][1] = n+1\n",
    "                # print(f'm_[{t}][0] = {n}')\n",
    "                # print(f'm_[{t}][1] = {n+1}')   \n",
    "                continue\n",
    "            l = (1 << n) - 1 - t\n",
    "            # print('has left part l=',l)\n",
    "            m[t][0] = n + 1 + min(m[l][1], m[l][0]+1)\n",
    "            m[t][1] = n + 1 + min(m[l][0], m[l][1]+1)\n",
    "            # print(f'm_[{t}][0] = {n + 1 + min(m[l][1], m[l][0]+1)}')\n",
    "            # print(f'm_[{t}][1] = {n + 1 + min(m[l][0], m[l][1]+1)}')\n",
    "            for i in range(1,t):\n",
    "                for d in range(2):\n",
    "                    m[t][d] = min(m[t][d], min(\n",
    "                        m[i][0]+2+m[t-i][d], \n",
    "                        m[i][1]+1+m[t-i][d]))\n",
    "        # print('m:',m)\n",
    "        return min(m[-1][0], m[-1][1])"
   ]
  },
  {
   "cell_type": "code",
   "execution_count": 2,
   "id": "8cbf31c2-8aa5-4eb2-9147-94c16021c3a2",
   "metadata": {},
   "outputs": [],
   "source": [
    "class Solution:\n",
    "    def racecar(self, target: int) -> int:\n",
    "        def dfs(pos, speed, depth):\n",
    "            print('pos:',pos,'speed:',speed,'depth:',depth)\n",
    "            if pos == target:\n",
    "                # self.ans = min(self.ans, depth)\n",
    "                # return\n",
    "                print('find target')\n",
    "                return depth\n",
    "\n",
    "            if pos < target:\n",
    "                print('A')\n",
    "                return dfs(pos+speed, speed*2, depth+1)\n",
    "            else:\n",
    "                print('R')\n",
    "                return dfs(pos, -1 if speed > 0 else 1, depth+1)\n",
    "\n",
    "        self.ans = float('inf')\n",
    "        return dfs(0,1,0)\n",
    "        return self.ans"
   ]
  },
  {
   "cell_type": "code",
   "execution_count": 3,
   "id": "06516c80-4283-4e99-8198-76990ce18120",
   "metadata": {},
   "outputs": [
    {
     "name": "stdout",
     "output_type": "stream",
     "text": [
      "pos: 0 speed: 1 depth: 0\n",
      "A\n",
      "pos: 1 speed: 2 depth: 1\n",
      "A\n",
      "pos: 3 speed: 4 depth: 2\n",
      "find target\n"
     ]
    },
    {
     "data": {
      "text/plain": [
       "2"
      ]
     },
     "execution_count": 3,
     "metadata": {},
     "output_type": "execute_result"
    }
   ],
   "source": [
    "Solution().racecar(3)"
   ]
  }
 ],
 "metadata": {
  "kernelspec": {
   "display_name": "Python 3 (ipykernel)",
   "language": "python",
   "name": "python3"
  },
  "language_info": {
   "codemirror_mode": {
    "name": "ipython",
    "version": 3
   },
   "file_extension": ".py",
   "mimetype": "text/x-python",
   "name": "python",
   "nbconvert_exporter": "python",
   "pygments_lexer": "ipython3",
   "version": "3.8.5"
  }
 },
 "nbformat": 4,
 "nbformat_minor": 5
}
