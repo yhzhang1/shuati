{
 "cells": [
  {
   "cell_type": "markdown",
   "metadata": {},
   "source": [
    "https://leetcode.com/problems/interleaving-string/solution/\n",
    "\n",
    "https://www.youtube.com/watch?v=HmAF9xeS_2I"
   ]
  },
  {
   "cell_type": "code",
   "execution_count": 2,
   "metadata": {},
   "outputs": [],
   "source": [
    "class Solution:\n",
    "    def isInterleave(self, s1: str, s2: str, s3: str) -> bool:\n",
    "        n1, n2, n3 = len(s1), len(s2), len(s3)\n",
    "        if n1 + n2 != n3:   return False\n",
    "        dp = [[False] * (n2+1) for _ in range(n1+1)]\n",
    "        \n",
    "        for i in range(n1+1):\n",
    "            for j in range(n2+1):\n",
    "                if i == 0 and j == 0:\n",
    "                    dp[i][j] = True\n",
    "                elif i == 0:\n",
    "                    dp[i][j] = dp[i][j-1] and s2[j-1] == s3[i+j-1]\n",
    "                elif j == 0:\n",
    "                    dp[i][j] = dp[i-1][j] and s1[i-1] == s3[i+j-1]\n",
    "                else:\n",
    "                    dp[i][j] = (dp[i-1][j] and s1[i-1] == s3[i+j-1]) or \\\n",
    "                                (dp[i][j-1] and s2[j-1] == s3[i+j-1])\n",
    "                    \n",
    "                \n",
    "        return dp[-1][-1]\n",
    "        "
   ]
  },
  {
   "cell_type": "code",
   "execution_count": 1,
   "metadata": {},
   "outputs": [],
   "source": [
    "class Solution:\n",
    "    def isInterleave(self, s1: str, s2: str, s3: str) -> bool:\n",
    "        n1, n2, n3 = len(s1), len(s2), len(s3)\n",
    "        if n1 + n2 != n3:    return False\n",
    "        match = [[False] * (n2+1) for _ in range(n1+1)]\n",
    "        match[0][0] = True\n",
    "        \n",
    "        for i in range(n3):\n",
    "            for s1Len in range(min(i+2, n1+1)):\n",
    "                s2Len = i + 1 - s1Len\n",
    "                if s2Len > n2: continue\n",
    "                if (0 < s1Len and s3[i] == s1[s1Len-1] and match[s1Len-1][s2Len]) or \\\n",
    "                    (0 < s2Len and s3[i] == s2[s2Len-1] and match[s1Len][s2Len-1]):\n",
    "                    match[s1Len][s2Len] = True\n",
    "                    \n",
    "        return match[-1][-1]"
   ]
  },
  {
   "cell_type": "code",
   "execution_count": null,
   "metadata": {},
   "outputs": [],
   "source": []
  }
 ],
 "metadata": {
  "kernelspec": {
   "display_name": "Python 3",
   "language": "python",
   "name": "python3"
  },
  "language_info": {
   "codemirror_mode": {
    "name": "ipython",
    "version": 3
   },
   "file_extension": ".py",
   "mimetype": "text/x-python",
   "name": "python",
   "nbconvert_exporter": "python",
   "pygments_lexer": "ipython3",
   "version": "3.8.5"
  }
 },
 "nbformat": 4,
 "nbformat_minor": 4
}
