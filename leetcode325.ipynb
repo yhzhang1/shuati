{
 "cells": [
  {
   "cell_type": "markdown",
   "metadata": {},
   "source": [
    "https://leetcode.com/problems/maximum-size-subarray-sum-equals-k/solution/"
   ]
  },
  {
   "cell_type": "code",
   "execution_count": 1,
   "metadata": {},
   "outputs": [],
   "source": [
    "# T: O(n), S: O(n)\n",
    "from typing import List\n",
    "class Solution:\n",
    "    def maxSubArrayLen(self, nums: List[int], k: int) -> int:\n",
    "        prefixsum = longestSubarray = 0\n",
    "        prefixsumIndices = {0:-1} # a hash map prefixIndices that has keys of prefix sums seen so far and values of\n",
    "                              # the first index that each key was seen\n",
    "        \n",
    "        for i, num in enumerate(nums):\n",
    "            prefixsum += num\n",
    "    \n",
    "            if prefixsum - k in prefixsumIndices:\n",
    "                longestSubarray = max(i-prefixsumIndices[prefixsum-k], longestSubarray)\n",
    "                \n",
    "            if prefixsum not in prefixsumIndices:\n",
    "                prefixsumIndices[prefixsum] = i\n",
    "                \n",
    "        return longestSubarray"
   ]
  },
  {
   "cell_type": "code",
   "execution_count": 2,
   "metadata": {},
   "outputs": [],
   "source": [
    "# T: O(n), S: O(n)\n",
    "from typing import List\n",
    "class Solution:\n",
    "    def maxSubArrayLen(self, nums: List[int], k: int) -> int:\n",
    "        prefixsum = longestSubarray = 0\n",
    "        prefixsumIndices = {} # a hash map prefixIndices that has keys of prefix sums seen so far and values of\n",
    "                              # the first index that each key was seen\n",
    "        \n",
    "        for i, num in enumerate(nums):\n",
    "            prefixsum += num\n",
    "            if prefixsum == k:\n",
    "                longestSubarray = i + 1\n",
    "            \n",
    "            if prefixsum - k in prefixsumIndices:\n",
    "                longestSubarray = max(i-prefixsumIndices[prefixsum-k], longestSubarray)\n",
    "                \n",
    "            if prefixsum not in prefixsumIndices:\n",
    "                prefixsumIndices[prefixsum] = i\n",
    "                \n",
    "        return longestSubarray"
   ]
  },
  {
   "cell_type": "code",
   "execution_count": null,
   "metadata": {},
   "outputs": [],
   "source": []
  }
 ],
 "metadata": {
  "kernelspec": {
   "display_name": "Python 3",
   "language": "python",
   "name": "python3"
  },
  "language_info": {
   "codemirror_mode": {
    "name": "ipython",
    "version": 3
   },
   "file_extension": ".py",
   "mimetype": "text/x-python",
   "name": "python",
   "nbconvert_exporter": "python",
   "pygments_lexer": "ipython3",
   "version": "3.8.5"
  }
 },
 "nbformat": 4,
 "nbformat_minor": 4
}
