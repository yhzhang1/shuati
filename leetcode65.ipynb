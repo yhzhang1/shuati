{
 "cells": [
  {
   "cell_type": "markdown",
   "metadata": {},
   "source": [
    "https://www.youtube.com/watch?v=QXNvEz-GwQ4"
   ]
  },
  {
   "cell_type": "code",
   "execution_count": 1,
   "metadata": {},
   "outputs": [],
   "source": [
    "# T:O(n), S:O(1)\n",
    "class Solution:\n",
    "    def isNumber(self, s: str) -> bool:\n",
    "        i = 0\n",
    "        n = len(s)\n",
    "        isDigits = False\n",
    "        \n",
    "        # check +/-\n",
    "        if s[i] in '+-':\n",
    "            i += 1\n",
    "        \n",
    "        # check digits\n",
    "        while i < n and s[i].isdigit():\n",
    "            isDigits = True\n",
    "            i += 1\n",
    "\n",
    "        # check post . parts \n",
    "        if i < n and s[i] == '.':\n",
    "            i += 1\n",
    "            while i < n and s[i].isdigit():\n",
    "                isDigits = True\n",
    "                i += 1\n",
    "                \n",
    "        # check post e parts\n",
    "        if i < n and s[i] in 'eE' and isDigits:\n",
    "            i += 1\n",
    "            isDigits = False\n",
    "            if i < n and s[i] in '+-':  i += 1\n",
    "            while i < n and s[i].isdigit():\n",
    "                i += 1\n",
    "                isDigits =True\n",
    "                \n",
    "        return isDigits and i == n\n",
    "            \n",
    "                \n",
    "        \n",
    "            "
   ]
  },
  {
   "cell_type": "code",
   "execution_count": 8,
   "metadata": {},
   "outputs": [],
   "source": [
    "class Solution:\n",
    "    def isNumber(self, s: str) -> bool:\n",
    "        i = 0\n",
    "        n = len(s)\n",
    "        \n",
    "        isDigits = False\n",
    "        \n",
    "        # check leading space\n",
    "        while i < n and s[i].isspace():\n",
    "            i += 1\n",
    "            \n",
    "        # check +/-\n",
    "        if i < n and (s[i] == '+' or s[i] == '-'):\n",
    "            i += 1\n",
    "            \n",
    "        # check digits\n",
    "        while i < n and s[i].isdigit():\n",
    "            isDigits = True\n",
    "            i += 1\n",
    "            \n",
    "        # check post . parts\n",
    "        if i < n and s[i] == '.':\n",
    "            i += 1\n",
    "            while i < n and s[i].isdigit():\n",
    "                isDigits = True\n",
    "                i += 1\n",
    "        \n",
    "        # check post e parts\n",
    "        if i < n and s[i] == 'e' and isDigits:\n",
    "            i += 1\n",
    "            isDigits = False\n",
    "            if i < n and (s[i] == '+' or s[i] == '-'):  i += 1    \n",
    "            while i < n and s[i].isdigit():\n",
    "                i += 1\n",
    "                isDigits = True\n",
    "            \n",
    "        # check trailing space\n",
    "        while i < n and s[i].isspace():\n",
    "            i += 1\n",
    "            \n",
    "        \n",
    "        return isDigits and i == n"
   ]
  },
  {
   "cell_type": "code",
   "execution_count": 7,
   "metadata": {},
   "outputs": [
    {
     "data": {
      "text/plain": [
       "True"
      ]
     },
     "execution_count": 7,
     "metadata": {},
     "output_type": "execute_result"
    }
   ],
   "source": [
    "'  '.isspace()"
   ]
  }
 ],
 "metadata": {
  "kernelspec": {
   "display_name": "Python 3",
   "language": "python",
   "name": "python3"
  },
  "language_info": {
   "codemirror_mode": {
    "name": "ipython",
    "version": 3
   },
   "file_extension": ".py",
   "mimetype": "text/x-python",
   "name": "python",
   "nbconvert_exporter": "python",
   "pygments_lexer": "ipython3",
   "version": "3.8.5"
  }
 },
 "nbformat": 4,
 "nbformat_minor": 4
}
