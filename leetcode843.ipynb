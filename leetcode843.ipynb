{
 "cells": [
  {
   "cell_type": "markdown",
   "id": "46e7f33a-ea31-475f-bcb1-3880f18abf11",
   "metadata": {},
   "source": [
    "https://leetcode.com/problems/guess-the-word/solutions/160945/python-o-n-with-maximum-overlap-heuristic/"
   ]
  },
  {
   "cell_type": "code",
   "execution_count": 2,
   "id": "3600a479-56d1-4937-9b1a-cb4ca5aec690",
   "metadata": {},
   "outputs": [],
   "source": [
    "# T: O(n), S: O(1)\n",
    "from typing import List\n",
    "# \"\"\"\n",
    "# This is Master's API interface.\n",
    "# You should not implement it, or speculate about its implementation\n",
    "# \"\"\"\n",
    "# class Master:\n",
    "#     def guess(self, word: str) -> int:\n",
    "\n",
    "class Solution:\n",
    "    def findSecretWord(self, words: List[str], master: 'Master') -> None:\n",
    "        def match(a,b):\n",
    "            return sum([c1 == c2 for c1,c2 in zip(a,b)])\n",
    "        def most_overlap_word():\n",
    "            best_score = 0\n",
    "            for word in words:\n",
    "                score = 0\n",
    "                for i,c in enumerate(word):\n",
    "                    score += count[i][ord(c)-ord('a')]\n",
    "                if score > best_score:\n",
    "                    best_score = score\n",
    "                    best_word = word\n",
    "            return best_word\n",
    "\n",
    "        count = [[0]*26 for _ in range(6)]\n",
    "        for word in words:\n",
    "            for i, c in enumerate(word):\n",
    "                count[i][ord(c)-ord('a')] += 1\n",
    "\n",
    "        while words:\n",
    "            best_word = most_overlap_word()\n",
    "            matches = master.guess(best_word)\n",
    "            if matches == 6:\n",
    "                return\n",
    "            words = [w for w in words if match(w, best_word) == matches]"
   ]
  }
 ],
 "metadata": {
  "kernelspec": {
   "display_name": "Python 3 (ipykernel)",
   "language": "python",
   "name": "python3"
  },
  "language_info": {
   "codemirror_mode": {
    "name": "ipython",
    "version": 3
   },
   "file_extension": ".py",
   "mimetype": "text/x-python",
   "name": "python",
   "nbconvert_exporter": "python",
   "pygments_lexer": "ipython3",
   "version": "3.8.5"
  }
 },
 "nbformat": 4,
 "nbformat_minor": 5
}
