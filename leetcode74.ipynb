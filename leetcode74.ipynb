{
 "cells": [
  {
   "cell_type": "markdown",
   "metadata": {},
   "source": [
    "https://leetcode.com/problems/search-a-2d-matrix/solution/"
   ]
  },
  {
   "cell_type": "code",
   "execution_count": 7,
   "metadata": {},
   "outputs": [],
   "source": [
    "class Solution:\n",
    "    def searchMatrix(self, matrix: List[List[int]], target: int) -> bool:\n",
    "        if not matrix:\n",
    "            return False\n",
    "        \n",
    "        m, n = len(matrix), len(matrix[0])\n",
    "        \n",
    "        l, r = 0, m*n - 1\n",
    "        while l <= r:\n",
    "            pivot_idx = (l + r) // 2\n",
    "            pivot_elem = matrix[pivot_idx // n][pivot_idx % n]\n",
    "            if target < pivot_elem:\n",
    "                r = pivot_idx - 1\n",
    "            elif target > pivot_elem:\n",
    "                l = pivot_idx + 1\n",
    "            else:\n",
    "                return True\n",
    "            \n",
    "        return False"
   ]
  },
  {
   "cell_type": "code",
   "execution_count": 6,
   "metadata": {},
   "outputs": [],
   "source": [
    "from typing import List\n",
    "class Solution:\n",
    "    def searchMatrix(self, matrix: List[List[int]], target: int) -> bool:\n",
    "        if not matrix:  return False\n",
    "        elif not matrix[0]: return False\n",
    "        \n",
    "        r_start = 0\n",
    "        r_end = len(matrix) - 1\n",
    "        target_row = r_start\n",
    "        \n",
    "        while r_start < r_end:\n",
    "            r_mid = (r_start + r_end) // 2\n",
    "            if target < matrix[r_mid][0]:\n",
    "                r_end = r_mid - 1\n",
    "            elif target > matrix[r_mid][-1]:\n",
    "                r_start = r_mid + 1\n",
    "            else:\n",
    "                target_row = r_mid\n",
    "                break\n",
    "                \n",
    "        if r_start == r_end:\n",
    "            target_row = r_start\n",
    "                            \n",
    "        c_start, c_end = 0, len(matrix[0])-1\n",
    "        while c_start < c_end:\n",
    "            c_mid = (c_start + c_end) // 2\n",
    "            print('c_mid: ', c_mid)\n",
    "            if target < matrix[target_row][c_mid]:\n",
    "                c_end = c_mid - 1\n",
    "            elif target > matrix[target_row][c_mid]:\n",
    "                c_start = c_mid + 1\n",
    "            else:\n",
    "                return True\n",
    "            \n",
    "        return matrix[target_row][c_start] == target\n",
    "            \n",
    "                "
   ]
  },
  {
   "cell_type": "code",
   "execution_count": 4,
   "metadata": {},
   "outputs": [
    {
     "data": {
      "text/plain": [
       "1"
      ]
     },
     "execution_count": 4,
     "metadata": {},
     "output_type": "execute_result"
    }
   ],
   "source": [
    "len(a)"
   ]
  }
 ],
 "metadata": {
  "kernelspec": {
   "display_name": "Python 3",
   "language": "python",
   "name": "python3"
  },
  "language_info": {
   "codemirror_mode": {
    "name": "ipython",
    "version": 3
   },
   "file_extension": ".py",
   "mimetype": "text/x-python",
   "name": "python",
   "nbconvert_exporter": "python",
   "pygments_lexer": "ipython3",
   "version": "3.8.5"
  }
 },
 "nbformat": 4,
 "nbformat_minor": 4
}
