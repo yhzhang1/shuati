{
 "cells": [
  {
   "cell_type": "raw",
   "id": "f8997abe-1bf7-4f51-86c2-17b66c9c5f4a",
   "metadata": {},
   "source": [
    "https://leetcode.com/problems/balanced-binary-tree/editorial/"
   ]
  },
  {
   "cell_type": "code",
   "execution_count": 21,
   "id": "e246d991-e7bb-4e8b-9522-c571a8fadcc3",
   "metadata": {},
   "outputs": [],
   "source": [
    "# T: O(n), S: O(n)\n",
    "# Definition for a binary tree node.\n",
    "# class TreeNode:\n",
    "#     def __init__(self, val=0, left=None, right=None):\n",
    "#         self.val = val\n",
    "#         self.left = left\n",
    "#         self.right = right\n",
    "class Solution:\n",
    "    def isBalanced(self, root: Optional[TreeNode]) -> bool:\n",
    "        def height(root):\n",
    "            if not root:\n",
    "                return 0\n",
    "            left_height = height(root.left)\n",
    "            if left_height == -1:\n",
    "                return -1\n",
    "            right_height = height(root.right)\n",
    "            if right_height == -1:\n",
    "                return -1\n",
    "\n",
    "            return 1 + max(left_height, right_height) if abs(left_height - right_height) < 2 else -1\n",
    "\n",
    "        return height(root) != -1"
   ]
  },
  {
   "cell_type": "code",
   "execution_count": 5,
   "id": "e7d79434-db27-4e45-bcee-6fa0bf860576",
   "metadata": {},
   "outputs": [],
   "source": [
    "# Definition for a binary tree node.\n",
    "# class TreeNode:\n",
    "#     def __init__(self, val=0, left=None, right=None):\n",
    "#         self.val = val\n",
    "#         self.left = left\n",
    "#         self.right = right\n",
    "class Solution:\n",
    "    def isBalanced(self, root: Optional[TreeNode]) -> bool:\n",
    "        def balanced_and_height(root) -> (bool, int):\n",
    "            if not root:\n",
    "                return True, 0\n",
    "            left_balanced, left_height = balanced_and_height(root.left)\n",
    "            if not left_balanced:\n",
    "                return False, -1\n",
    "            right_balanced, right_height = balanced_and_height(root.right)\n",
    "            if not right_balanced:\n",
    "                return False, -1\n",
    "\n",
    "            return abs(left_height - right_height) < 2, 1 + max(left_height, right_height)\n",
    "\n",
    "        return balanced_and_height(root)[0]"
   ]
  },
  {
   "cell_type": "code",
   "execution_count": 4,
   "id": "eed4bf89-a544-4064-bd50-62b58e2c1e0c",
   "metadata": {},
   "outputs": [],
   "source": [
    "# Definition for a binary tree node.\n",
    "class TreeNode:\n",
    "    def __init__(self, val=0, left=None, right=None):\n",
    "        self.val = val\n",
    "        self.left = left\n",
    "        self.right = right\n",
    "from typing import Optional\n",
    "class Solution:\n",
    "    def isBalanced(self, root: Optional[TreeNode]) -> bool:\n",
    "        def height(root):\n",
    "            nonlocal balanced\n",
    "            if not root:    return 0\n",
    "            l_height = height(root.left)\n",
    "            r_height = height(root.right)\n",
    "            # print('left height:', l_height)\n",
    "            # print('right height:', r_height)\n",
    "            if abs(l_height - r_height) > 1:\n",
    "                balanced = False\n",
    "                # print('false')\n",
    "            # print()\n",
    "            return max(l_height, r_height) + 1\n",
    "\n",
    "        balanced = True\n",
    "        height(root)\n",
    "        return balanced"
   ]
  }
 ],
 "metadata": {
  "kernelspec": {
   "display_name": "Python 3 (ipykernel)",
   "language": "python",
   "name": "python3"
  },
  "language_info": {
   "codemirror_mode": {
    "name": "ipython",
    "version": 3
   },
   "file_extension": ".py",
   "mimetype": "text/x-python",
   "name": "python",
   "nbconvert_exporter": "python",
   "pygments_lexer": "ipython3",
   "version": "3.11.5"
  }
 },
 "nbformat": 4,
 "nbformat_minor": 5
}
