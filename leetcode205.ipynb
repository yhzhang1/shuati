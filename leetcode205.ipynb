{
 "cells": [
  {
   "cell_type": "markdown",
   "metadata": {},
   "source": [
    "https://www.youtube.com/watch?v=Dgw0uoq_B_4"
   ]
  },
  {
   "cell_type": "code",
   "execution_count": 7,
   "metadata": {},
   "outputs": [],
   "source": [
    "class Solution:\n",
    "    def isIsomorphic(self, s: str, t: str) -> bool:\n",
    "        hashmap = dict()\n",
    "        \n",
    "        for i in range(len(s)):\n",
    "            if s[i] in hashmap:\n",
    "                if hashmap[s[i]] == t[i]:\n",
    "                    continue\n",
    "                else:\n",
    "                    return False\n",
    "            else:\n",
    "                if t[i] not in hashmap.values():\n",
    "                    hashmap[s[i]] = t[i]\n",
    "                else:\n",
    "                    return False\n",
    "                \n",
    "        return True\n",
    "                "
   ]
  },
  {
   "cell_type": "markdown",
   "metadata": {},
   "source": [
    "https://www.youtube.com/watch?v=Niv_Io4k06c"
   ]
  },
  {
   "cell_type": "code",
   "execution_count": 1,
   "metadata": {},
   "outputs": [],
   "source": [
    "class Solution:\n",
    "    def isIsomorphic(self, s: str, t: str) -> bool:\n",
    "        return self.halfIsom(s, t) and self.halfIsom(t, s)\n",
    "        \n",
    "    def halfIsom(self, s, t):\n",
    "        lookup = dict()\n",
    "        \n",
    "        for i in range(len(s)):\n",
    "            if s[i] not in lookup:\n",
    "                lookup[s[i]] = t[i]\n",
    "            elif lookup[s[i]] != t[i]:\n",
    "                return False\n",
    "            \n",
    "        return True"
   ]
  }
 ],
 "metadata": {
  "kernelspec": {
   "display_name": "Python 3",
   "language": "python",
   "name": "python3"
  },
  "language_info": {
   "codemirror_mode": {
    "name": "ipython",
    "version": 3
   },
   "file_extension": ".py",
   "mimetype": "text/x-python",
   "name": "python",
   "nbconvert_exporter": "python",
   "pygments_lexer": "ipython3",
   "version": "3.7.6"
  }
 },
 "nbformat": 4,
 "nbformat_minor": 4
}
