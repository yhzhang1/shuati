{
 "cells": [
  {
   "cell_type": "markdown",
   "metadata": {},
   "source": [
    "https://www.youtube.com/watch?v=lAan667yWQ4"
   ]
  },
  {
   "cell_type": "code",
   "execution_count": 2,
   "metadata": {},
   "outputs": [],
   "source": [
    "# T: O(n), S: O(k)\n",
    "class Solution:\n",
    "    def checkSubarraySum(self, nums: List[int], k: int) -> bool:\n",
    "        prefixSum = 0\n",
    "        remainderMap = {0:-1}\n",
    "        \n",
    "        for i, num in enumerate(nums):\n",
    "            prefixSum += num\n",
    "            remainder = prefixSum % k\n",
    "            if remainder in remainderMap:\n",
    "                if i - remainderMap[remainder] >= 2:\n",
    "                    return True\n",
    "            else:\n",
    "                remainderMap[remainder] = i\n",
    "                \n",
    "        return False"
   ]
  },
  {
   "cell_type": "code",
   "execution_count": 1,
   "metadata": {},
   "outputs": [],
   "source": [
    "from typing import List\n",
    "class Solution:\n",
    "    def checkSubarraySum(self, nums: List[int], k: int) -> bool:\n",
    "        prefixSum = 0\n",
    "        prefixSumDict = {}\n",
    "        \n",
    "        for i, num in enumerate(nums):\n",
    "            prefixSum += num\n",
    "            if prefixSum % k == 0 and i+1 >= 2:\n",
    "                return True\n",
    "            else:\n",
    "                n = 0\n",
    "                while n*k <= prefixSum:\n",
    "                    if prefixSum-n*k in prefixSumDict:\n",
    "                        if i-prefixSumDict[prefixSum-n*k] >= 2:\n",
    "                            return True\n",
    "                    n += 1\n",
    "            if prefixSum not in prefixSumDict:\n",
    "                prefixSumDict[prefixSum] = i\n",
    "                \n",
    "        return False"
   ]
  },
  {
   "cell_type": "code",
   "execution_count": null,
   "metadata": {},
   "outputs": [],
   "source": []
  }
 ],
 "metadata": {
  "kernelspec": {
   "display_name": "Python 3",
   "language": "python",
   "name": "python3"
  },
  "language_info": {
   "codemirror_mode": {
    "name": "ipython",
    "version": 3
   },
   "file_extension": ".py",
   "mimetype": "text/x-python",
   "name": "python",
   "nbconvert_exporter": "python",
   "pygments_lexer": "ipython3",
   "version": "3.8.5"
  }
 },
 "nbformat": 4,
 "nbformat_minor": 4
}
