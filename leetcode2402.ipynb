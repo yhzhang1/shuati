{
 "cells": [
  {
   "cell_type": "markdown",
   "id": "5aa75bb1-37de-401d-bcbd-c09b57fc9539",
   "metadata": {},
   "source": [
    "https://leetcode.com/problems/meeting-rooms-iii/solutions/2527548/python-heap-solution/"
   ]
  },
  {
   "cell_type": "code",
   "execution_count": 3,
   "id": "0a75ea9d-25ef-4817-bd66-264cbbac892d",
   "metadata": {},
   "outputs": [],
   "source": [
    "# T: O(nlogn), S: O(n)\n",
    "from typing import List\n",
    "class Solution:\n",
    "    def mostBooked(self, n: int, meetings: List[List[int]]) -> int:\n",
    "        ready = [r for r in range(n)]\n",
    "        rooms = []\n",
    "        heapify(ready)\n",
    "        res = [0] * n\n",
    "        for s,e in sorted(meetings):\n",
    "            while rooms and rooms[0][0] <= s:\n",
    "                t,r = heappop(rooms)\n",
    "                heappush(ready, r)\n",
    "            if ready:\n",
    "                r = heappop(ready)\n",
    "                heappush(rooms, [e,r])\n",
    "                print(f'add {s,e} to room {r}')\n",
    "            else:\n",
    "                t,r = heappop(rooms)\n",
    "                heappush(rooms, [t+e-s, r])\n",
    "                print(f'add {s,e} to room {r}')\n",
    "            res[r] += 1\n",
    "        return res.index(max(res))\n",
    "            "
   ]
  },
  {
   "cell_type": "code",
   "execution_count": null,
   "id": "8d3775c8-21da-48f4-9504-d2ac93b89a54",
   "metadata": {},
   "outputs": [],
   "source": []
  }
 ],
 "metadata": {
  "kernelspec": {
   "display_name": "Python 3 (ipykernel)",
   "language": "python",
   "name": "python3"
  },
  "language_info": {
   "codemirror_mode": {
    "name": "ipython",
    "version": 3
   },
   "file_extension": ".py",
   "mimetype": "text/x-python",
   "name": "python",
   "nbconvert_exporter": "python",
   "pygments_lexer": "ipython3",
   "version": "3.8.5"
  }
 },
 "nbformat": 4,
 "nbformat_minor": 5
}
