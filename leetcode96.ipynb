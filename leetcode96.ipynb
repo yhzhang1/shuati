{
 "cells": [
  {
   "cell_type": "markdown",
   "metadata": {},
   "source": [
    "https://www.youtube.com/watch?v=HWJEMKWzy-Q\n",
    "\n",
    "https://www.youtube.com/watch?v=-rlQCg_TJac"
   ]
  },
  {
   "cell_type": "code",
   "execution_count": 3,
   "metadata": {},
   "outputs": [],
   "source": [
    "class Solution:\n",
    "    def numTrees(self, n: int) -> int:\n",
    "        dp = [0] * (n+1)\n",
    "        dp[0] = dp[1] = 1\n",
    "        \n",
    "        for i in range(2, n+1):\n",
    "            for j in range(i):\n",
    "                dp[i] += dp[j] * dp[i-1-j]\n",
    "                \n",
    "        return dp[-1]"
   ]
  },
  {
   "cell_type": "code",
   "execution_count": 2,
   "metadata": {},
   "outputs": [],
   "source": [
    "from functools import lru_cache\n",
    "class Solution:\n",
    "    @lru_cache(maxsize=None)\n",
    "    def numTrees(self, n: int) -> int:\n",
    "        if n <= 1:\n",
    "            return 1\n",
    "        \n",
    "        res = 0\n",
    "        for i in range(n):\n",
    "            res += self.numTrees(i) * self.numTrees(n-1-i)\n",
    "            \n",
    "        return res"
   ]
  },
  {
   "cell_type": "code",
   "execution_count": null,
   "metadata": {},
   "outputs": [],
   "source": []
  }
 ],
 "metadata": {
  "kernelspec": {
   "display_name": "Python 3",
   "language": "python",
   "name": "python3"
  },
  "language_info": {
   "codemirror_mode": {
    "name": "ipython",
    "version": 3
   },
   "file_extension": ".py",
   "mimetype": "text/x-python",
   "name": "python",
   "nbconvert_exporter": "python",
   "pygments_lexer": "ipython3",
   "version": "3.8.5"
  }
 },
 "nbformat": 4,
 "nbformat_minor": 4
}
