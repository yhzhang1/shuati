{
 "cells": [
  {
   "cell_type": "markdown",
   "metadata": {},
   "source": [
    "https://www.youtube.com/watch?v=v05R1OIIg08"
   ]
  },
  {
   "cell_type": "code",
   "execution_count": 5,
   "metadata": {},
   "outputs": [],
   "source": [
    "# T: O(4^n) S: O(n)\n",
    "class Solution:\n",
    "    def addOperators(self, num: str, target: int) -> List[str]:\n",
    "        def dfs(expr, pos, len_, prev, curr):\n",
    "            if pos == len(num):\n",
    "                if curr == target:\n",
    "                    ans.append(''.join(expr[:len_]))\n",
    "                \n",
    "            n = 0\n",
    "            start = pos\n",
    "            l = len_\n",
    "            if start != 0:  len_ += 1\n",
    "            while pos < len(num):\n",
    "                n = 10*n + ord(num[pos]) - ord('0')\n",
    "                if num[start] == '0' and pos - start > 0:   break\n",
    "                expr[len_] = num[pos]\n",
    "                len_ += 1\n",
    "                pos += 1\n",
    "                \n",
    "                if start == 0:\n",
    "                    dfs(expr, pos, len_, n, n)\n",
    "                    continue\n",
    "                expr[l] = '+'\n",
    "                dfs(expr, pos, len_, n, curr+n)\n",
    "                expr[l] = '-'\n",
    "                dfs(expr, pos, len_, -n, curr-n)\n",
    "                expr[l] = '*'\n",
    "                dfs(expr, pos, len_, prev*n, curr-prev+prev*n)\n",
    "                \n",
    "        ans = []\n",
    "        expr = ['\\0' for _ in range(2*len(num))]\n",
    "        dfs(expr, 0, 0, 0, 0)\n",
    "        return ans"
   ]
  },
  {
   "cell_type": "code",
   "execution_count": 6,
   "metadata": {},
   "outputs": [],
   "source": [
    "# T: O(4^n) S: O(n^2)\n",
    "class Solution:\n",
    "    def addOperators(self, num: str, target: int) -> List[str]:\n",
    "        def dfs(pos, expr, prev, curr):\n",
    "            '''\n",
    "            pos: 从哪个字符后面开始取, expr: 当前表达式， prev: 上一个节点的值是多少，curr:如果evaluate当前表达式它的值是多少\n",
    "            '''\n",
    "            if pos == len(num):\n",
    "                if curr == target:\n",
    "                    ans.append(expr)\n",
    "                    return\n",
    "                \n",
    "            for l in range(1, len(num)+1-pos):\n",
    "                t = num[pos:pos+l]\n",
    "                if t[0] == '0' and len(t) > 1:  break\n",
    "                n = int(t)\n",
    "                if pos == 0:\n",
    "                    dfs(l, t, n, n)\n",
    "                    continue\n",
    "                dfs(pos+l, expr + '+' + t, n, curr + n)\n",
    "                dfs(pos+l, expr + '-' + t, -n, curr - n)\n",
    "                dfs(pos+l, expr + '*' + t, prev*n, curr-prev+prev*n)\n",
    "                    \n",
    "        ans = []\n",
    "        dfs(0,'',0,0)\n",
    "        return ans"
   ]
  },
  {
   "cell_type": "code",
   "execution_count": 4,
   "metadata": {},
   "outputs": [],
   "source": [
    "# will not pass test cases\n",
    "from typing import List\n",
    "class Solution:\n",
    "    def addOperators(self, num: str, target: int) -> List[str]:\n",
    "        def evaluate(s: str) -> int:\n",
    "            stack = []\n",
    "            prevOperator = '+'\n",
    "            num = 0\n",
    "            \n",
    "            for i,c in enumerate(s):\n",
    "                if c.isdigit():\n",
    "                    num = 10*num + ord(c) - ord('0')\n",
    "                if c in '+-*' or i == len(s) - 1:\n",
    "                    if prevOperator == '+':\n",
    "                        stack.append(num)\n",
    "                    elif prevOperator == '-':\n",
    "                        stack.append(-num)\n",
    "                    else:\n",
    "                        stack.append(stack.pop() * num)\n",
    "                        \n",
    "                    prevOperator = c\n",
    "                    num = 0\n",
    "                    \n",
    "            ans = sum(stack)\n",
    "            print(s, ans)\n",
    "            return ans\n",
    "            \n",
    "            \n",
    "        def dfs(curStr, start):\n",
    "            if start == len(num):\n",
    "                #print(depth, curStr)\n",
    "                if evaluate(curStr) == target:\n",
    "                    ans.append(curStr)\n",
    "                return\n",
    "            \n",
    "            for i in range(start, len(num)):\n",
    "                for o in ' +-*':\n",
    "                    if o == ' ':\n",
    "                        dfs(curStr+num[i], i+1)\n",
    "                    else:\n",
    "                        dfs(curStr+o+num[i], i+1)\n",
    "                  \n",
    "        ans = []\n",
    "        dfs(num[0], 1)\n",
    "        return ans\n"
   ]
  },
  {
   "cell_type": "code",
   "execution_count": 1,
   "metadata": {},
   "outputs": [
    {
     "data": {
      "text/plain": [
       "'abc'"
      ]
     },
     "execution_count": 1,
     "metadata": {},
     "output_type": "execute_result"
    }
   ],
   "source": [
    "s = 'abc'\n",
    "s"
   ]
  },
  {
   "cell_type": "code",
   "execution_count": 2,
   "metadata": {},
   "outputs": [
    {
     "ename": "TypeError",
     "evalue": "'str' object does not support item assignment",
     "output_type": "error",
     "traceback": [
      "\u001b[1;31m---------------------------------------------------------------------------\u001b[0m",
      "\u001b[1;31mTypeError\u001b[0m                                 Traceback (most recent call last)",
      "\u001b[1;32m<ipython-input-2-271f837f41a0>\u001b[0m in \u001b[0;36m<module>\u001b[1;34m\u001b[0m\n\u001b[1;32m----> 1\u001b[1;33m \u001b[0ms\u001b[0m\u001b[1;33m[\u001b[0m\u001b[1;36m1\u001b[0m\u001b[1;33m]\u001b[0m \u001b[1;33m=\u001b[0m \u001b[1;34m'e'\u001b[0m\u001b[1;33m\u001b[0m\u001b[1;33m\u001b[0m\u001b[0m\n\u001b[0m",
      "\u001b[1;31mTypeError\u001b[0m: 'str' object does not support item assignment"
     ]
    }
   ],
   "source": [
    "s[1] = 'e'"
   ]
  },
  {
   "cell_type": "code",
   "execution_count": 2,
   "metadata": {},
   "outputs": [
    {
     "data": {
      "text/plain": [
       "0"
      ]
     },
     "execution_count": 2,
     "metadata": {},
     "output_type": "execute_result"
    }
   ],
   "source": [
    "ord('\\0')"
   ]
  },
  {
   "cell_type": "code",
   "execution_count": null,
   "metadata": {},
   "outputs": [],
   "source": []
  }
 ],
 "metadata": {
  "kernelspec": {
   "display_name": "Python 3",
   "language": "python",
   "name": "python3"
  },
  "language_info": {
   "codemirror_mode": {
    "name": "ipython",
    "version": 3
   },
   "file_extension": ".py",
   "mimetype": "text/x-python",
   "name": "python",
   "nbconvert_exporter": "python",
   "pygments_lexer": "ipython3",
   "version": "3.8.5"
  }
 },
 "nbformat": 4,
 "nbformat_minor": 4
}
