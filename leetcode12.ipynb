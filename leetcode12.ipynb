{
 "cells": [
  {
   "cell_type": "markdown",
   "metadata": {},
   "source": [
    "https://www.youtube.com/watch?v=RzU6tWxpPPg"
   ]
  },
  {
   "cell_type": "code",
   "execution_count": 2,
   "metadata": {},
   "outputs": [],
   "source": [
    "class Solution:\n",
    "    def intToRoman(self, num: int) -> str:\n",
    "        values = [1000,900,500,400,100,90,50,40,10,9,5,4,1]\n",
    "        numerals = ['M','CM','D','CD','C','XC','L','XL','X','IX','V','IV','I']\n",
    "        roman = ''\n",
    "        \n",
    "        for i in range(len(values)):\n",
    "            while num >= values[i]:\n",
    "                roman += numerals[i]\n",
    "                num -= values[i]\n",
    "                \n",
    "        return roman"
   ]
  },
  {
   "cell_type": "code",
   "execution_count": 1,
   "metadata": {},
   "outputs": [],
   "source": [
    "class Solution:\n",
    "    def intToRoman(self, num: int) -> str:\n",
    "        roman = ''\n",
    "        \n",
    "        while num:\n",
    "            if num // 1000 >= 1:\n",
    "                roman += 'M'\n",
    "                num -= 1000\n",
    "            elif num % 1000 >= 900:\n",
    "                roman += 'CM'\n",
    "                num -= 900\n",
    "            elif num // 500 >= 1:\n",
    "                roman += 'D'\n",
    "                num -= 500\n",
    "            elif num % 500 >= 400:\n",
    "                roman += 'CD'\n",
    "                num -= 400\n",
    "            elif num // 100 >= 1:\n",
    "                roman += 'C'\n",
    "                num -= 100\n",
    "            elif num % 100 >= 90:\n",
    "                roman += 'XC'\n",
    "                num -= 90\n",
    "            elif num // 50 >= 1:\n",
    "                roman += 'L'\n",
    "                num -= 50\n",
    "            elif num % 50 >= 40:\n",
    "                roman += 'XL'\n",
    "                num -= 40\n",
    "            elif num // 10 >= 1:\n",
    "                roman += 'X'\n",
    "                num -= 10\n",
    "            elif num % 10 >= 9:\n",
    "                roman += 'IX'\n",
    "                num -= 9\n",
    "            elif num // 5 >= 1:\n",
    "                roman += 'V'\n",
    "                num -= 5\n",
    "            elif num % 5 >= 4:\n",
    "                roman += 'IV'\n",
    "                num -= 4\n",
    "            else:\n",
    "                roman += 'I'\n",
    "                num -= 1\n",
    "                \n",
    "        return roman"
   ]
  },
  {
   "cell_type": "code",
   "execution_count": null,
   "metadata": {},
   "outputs": [],
   "source": []
  }
 ],
 "metadata": {
  "kernelspec": {
   "display_name": "Python 3",
   "language": "python",
   "name": "python3"
  },
  "language_info": {
   "codemirror_mode": {
    "name": "ipython",
    "version": 3
   },
   "file_extension": ".py",
   "mimetype": "text/x-python",
   "name": "python",
   "nbconvert_exporter": "python",
   "pygments_lexer": "ipython3",
   "version": "3.7.6"
  }
 },
 "nbformat": 4,
 "nbformat_minor": 4
}
