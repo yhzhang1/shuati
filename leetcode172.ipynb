{
 "cells": [
  {
   "cell_type": "markdown",
   "metadata": {},
   "source": [
    "https://www.youtube.com/watch?v=T3lhjrX2z9k"
   ]
  },
  {
   "cell_type": "code",
   "execution_count": 7,
   "metadata": {},
   "outputs": [],
   "source": [
    "class Solution:\n",
    "    def trailingZeroes(self, n: int) -> int:\n",
    "        ans = 0\n",
    "        while n:\n",
    "            ans += n // 5\n",
    "            n = n // 5\n",
    "            \n",
    "        return ans"
   ]
  },
  {
   "cell_type": "code",
   "execution_count": 6,
   "metadata": {},
   "outputs": [
    {
     "name": "stdout",
     "output_type": "stream",
     "text": [
      "fact(1)=1\n",
      "fact(2)=2\n",
      "fact(3)=6\n",
      "fact(4)=24\n",
      "fact(5)=120\n",
      "fact(6)=720\n",
      "fact(7)=5040\n",
      "fact(8)=40320\n",
      "fact(9)=362880\n",
      "fact(10)=3628800\n",
      "fact(11)=39916800\n",
      "fact(12)=479001600\n",
      "fact(13)=6227020800\n",
      "fact(14)=87178291200\n",
      "fact(15)=1307674368000\n",
      "fact(16)=20922789888000\n",
      "fact(17)=355687428096000\n",
      "fact(18)=6402373705728000\n",
      "fact(19)=121645100408832000\n",
      "fact(20)=2432902008176640000\n"
     ]
    }
   ],
   "source": [
    "def fact(n):\n",
    "    fact = 1\n",
    "    for i in range(1, n+1):\n",
    "        fact *= i\n",
    "    return fact\n",
    "\n",
    "for i in range(1,21):\n",
    "    print('fact({})={}'.format(i,fact(i)))"
   ]
  }
 ],
 "metadata": {
  "kernelspec": {
   "display_name": "Python 3",
   "language": "python",
   "name": "python3"
  },
  "language_info": {
   "codemirror_mode": {
    "name": "ipython",
    "version": 3
   },
   "file_extension": ".py",
   "mimetype": "text/x-python",
   "name": "python",
   "nbconvert_exporter": "python",
   "pygments_lexer": "ipython3",
   "version": "3.7.6"
  }
 },
 "nbformat": 4,
 "nbformat_minor": 4
}
