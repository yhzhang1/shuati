{
 "cells": [
  {
   "cell_type": "markdown",
   "metadata": {},
   "source": [
    "https://www.youtube.com/watch?v=kmpNpv2inQU"
   ]
  },
  {
   "cell_type": "code",
   "execution_count": 3,
   "metadata": {},
   "outputs": [],
   "source": [
    "class Solution:\n",
    "    def getHint(self, secret: str, guess: str) -> str:\n",
    "        d1 = {}\n",
    "        d2 = {}\n",
    "        bulls = cows = 0\n",
    "        for i in range(len(secret)):\n",
    "            if secret[i] == guess[i]:\n",
    "                bulls += 1\n",
    "            else:\n",
    "                if secret[i] in d1:\n",
    "                    d1[secret[i]] += 1\n",
    "                else:\n",
    "                    d1[secret[i]] = 1\n",
    "                if guess[i] in d2:\n",
    "                    d2[guess[i]] += 1\n",
    "                else:\n",
    "                    d2[guess[i]] = 1\n",
    "                    \n",
    "        for i in d1:\n",
    "            if i in d2:\n",
    "                cows += min(d1[i], d2[i])\n",
    "                \n",
    "        return str(bulls) + 'A' + str(cows) + 'B'"
   ]
  },
  {
   "cell_type": "code",
   "execution_count": 2,
   "metadata": {},
   "outputs": [],
   "source": [
    "class Solution:\n",
    "    def getHint(self, secret: str, guess: str) -> str:\n",
    "        hashmap = {}\n",
    "        bulls = cows = 0\n",
    "\n",
    "        for i in range(len(secret)):\n",
    "            if secret[i] == guess[i]:\n",
    "                bulls += 1\n",
    "            else:\n",
    "                if secret[i] in hashmap:\n",
    "                    hashmap[secret[i]] += 1\n",
    "                else:\n",
    "                    hashmap[secret[i]] = 1\n",
    "                \n",
    "        for i in range(len(guess)):\n",
    "            if secret[i] != guess[i] and guess[i] in hashmap and hashmap[guess[i]] > 0:\n",
    "                cows += 1\n",
    "                hashmap[guess[i]] -= 1\n",
    "        \n",
    "        return '{}A{}B'.format(bulls, cows)"
   ]
  }
 ],
 "metadata": {
  "kernelspec": {
   "display_name": "Python 3",
   "language": "python",
   "name": "python3"
  },
  "language_info": {
   "codemirror_mode": {
    "name": "ipython",
    "version": 3
   },
   "file_extension": ".py",
   "mimetype": "text/x-python",
   "name": "python",
   "nbconvert_exporter": "python",
   "pygments_lexer": "ipython3",
   "version": "3.7.6"
  }
 },
 "nbformat": 4,
 "nbformat_minor": 4
}
