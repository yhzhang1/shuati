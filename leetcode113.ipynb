{
 "cells": [
  {
   "cell_type": "code",
   "execution_count": 3,
   "metadata": {},
   "outputs": [],
   "source": [
    "from typing import List\n",
    "#Definition for a binary tree node.\n",
    "class TreeNode:\n",
    "    def __init__(self, val=0, left=None, right=None):\n",
    "        self.val = val\n",
    "        self.left = left\n",
    "        self.right = right\n",
    "class Solution:\n",
    "    def pathSum(self, root: TreeNode, sum: int) -> List[List[int]]:\n",
    "        def dfs(root: TreeNode, sum: int, cur: List, ans: List[List[int]]) -> None:\n",
    "            if not root:\n",
    "                return\n",
    "            elif sum-root.val == 0 and not root.left and not root.right:\n",
    "                cur.append(root.val)\n",
    "                ans.append(cur[:])\n",
    "                cur.pop()\n",
    "                return\n",
    "            \n",
    "            cur.append(root.val)\n",
    "            dfs(root.left, sum-root.val, cur, ans)\n",
    "            dfs(root.right, sum-root.val, cur, ans)\n",
    "            cur.pop()\n",
    "            \n",
    "        ans = list()\n",
    "        dfs(root, sum, [], ans)\n",
    "        return ans"
   ]
  }
 ],
 "metadata": {
  "kernelspec": {
   "display_name": "Python 3",
   "language": "python",
   "name": "python3"
  },
  "language_info": {
   "codemirror_mode": {
    "name": "ipython",
    "version": 3
   },
   "file_extension": ".py",
   "mimetype": "text/x-python",
   "name": "python",
   "nbconvert_exporter": "python",
   "pygments_lexer": "ipython3",
   "version": "3.7.6"
  }
 },
 "nbformat": 4,
 "nbformat_minor": 4
}
