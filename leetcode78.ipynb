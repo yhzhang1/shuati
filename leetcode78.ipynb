{
 "cells": [
  {
   "cell_type": "markdown",
   "metadata": {},
   "source": [
    "https://www.youtube.com/watch?v=CUzm-buvH_8"
   ]
  },
  {
   "cell_type": "code",
   "execution_count": 2,
   "metadata": {},
   "outputs": [],
   "source": [
    "from typing import List\n",
    "class Solution:\n",
    "    def subsets(self, nums: List[int]) -> List[List[int]]:\n",
    "        def dfs(n, s, cur):\n",
    "            if len(cur) == n:\n",
    "                ans.append(cur.copy())\n",
    "                return\n",
    "            \n",
    "            for i in range(s, len(nums)):\n",
    "                cur.append(nums[i])\n",
    "                dfs(n, i+1, cur)\n",
    "                cur.pop()\n",
    "                \n",
    "        ans = []\n",
    "        for i in range(len(nums)+1):\n",
    "            dfs(i, 0, [])\n",
    "        return ans"
   ]
  },
  {
   "cell_type": "code",
   "execution_count": 3,
   "metadata": {},
   "outputs": [],
   "source": [
    "class Solution:\n",
    "    def subsets(self, nums: List[int]) -> List[List[int]]:\n",
    "        def dfs(n, start, cur, ans):\n",
    "            if len(cur) == n:\n",
    "                ans.append(cur[:])\n",
    "                return\n",
    "            \n",
    "            for i in range(start, len(nums)):\n",
    "                cur.append(nums[i])\n",
    "                dfs(n, i+1, cur, ans)\n",
    "                cur.pop()\n",
    "                \n",
    "        ans = []\n",
    "        for i in range(len(nums)+1):\n",
    "            dfs(i, 0, [], ans)\n",
    "            \n",
    "        return ans"
   ]
  },
  {
   "cell_type": "code",
   "execution_count": null,
   "metadata": {},
   "outputs": [],
   "source": []
  }
 ],
 "metadata": {
  "kernelspec": {
   "display_name": "Python 3",
   "language": "python",
   "name": "python3"
  },
  "language_info": {
   "codemirror_mode": {
    "name": "ipython",
    "version": 3
   },
   "file_extension": ".py",
   "mimetype": "text/x-python",
   "name": "python",
   "nbconvert_exporter": "python",
   "pygments_lexer": "ipython3",
   "version": "3.8.5"
  }
 },
 "nbformat": 4,
 "nbformat_minor": 4
}
