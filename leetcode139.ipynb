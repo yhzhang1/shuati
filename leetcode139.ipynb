{
 "cells": [
  {
   "cell_type": "markdown",
   "metadata": {},
   "source": [
    "https://www.youtube.com/watch?v=ptlwluzeC1I"
   ]
  },
  {
   "cell_type": "code",
   "execution_count": 4,
   "metadata": {},
   "outputs": [],
   "source": [
    "# T: O(n^2), S: O(n^2)\n",
    "class Solution:\n",
    "    def __init__(self):\n",
    "        self.m_ = {}\n",
    "    def wordBreak(self, s: str, wordDict: List[str]) -> bool:\n",
    "        if s in wordDict:\n",
    "            return True\n",
    "        elif s in self.m_:\n",
    "            return self.m_[s]\n",
    "        \n",
    "        for i in range(1, len(s)):\n",
    "            left = s[:i]\n",
    "            right = s[i:]\n",
    "            \n",
    "            if left in wordDict and self.wordBreak(right, wordDict):\n",
    "                self.m_[s] = True\n",
    "                return self.m_[s]\n",
    "            \n",
    "        self.m_[s] = False\n",
    "        return self.m_[s]"
   ]
  },
  {
   "cell_type": "code",
   "execution_count": 3,
   "metadata": {},
   "outputs": [],
   "source": [
    "# T: O(n^2), S: O(n^2)\n",
    "from typing import List\n",
    "class Solution:\n",
    "    def wordBreak(self, s: str, wordDict: List[str]) -> bool:\n",
    "        def canBreak(s, m, wordDict):\n",
    "            if s in m:\n",
    "                return m[s]\n",
    "            if s in wordDict:\n",
    "                m[s] = True\n",
    "                return True\n",
    "            \n",
    "            for i in range(1, len(s)):\n",
    "                r = s[i:]\n",
    "                if r in wordDict and canBreak(s[:i], m, wordDict):\n",
    "                    m[s] = True\n",
    "                    return True\n",
    "                \n",
    "            m[s] = False\n",
    "            return False\n",
    "        \n",
    "        return canBreak(s, {}, set(wordDict))"
   ]
  },
  {
   "cell_type": "code",
   "execution_count": 5,
   "metadata": {},
   "outputs": [],
   "source": [
    "s = \"leetcode\"\n",
    "wordList = [\"leet\",\"code\"]\n",
    "Solution().wordBreak(s,wordList)"
   ]
  },
  {
   "cell_type": "code",
   "execution_count": 1,
   "metadata": {},
   "outputs": [],
   "source": [
    "if '':\n",
    "    print('aaa')"
   ]
  },
  {
   "cell_type": "code",
   "execution_count": null,
   "metadata": {},
   "outputs": [],
   "source": []
  }
 ],
 "metadata": {
  "kernelspec": {
   "display_name": "Python 3",
   "language": "python",
   "name": "python3"
  },
  "language_info": {
   "codemirror_mode": {
    "name": "ipython",
    "version": 3
   },
   "file_extension": ".py",
   "mimetype": "text/x-python",
   "name": "python",
   "nbconvert_exporter": "python",
   "pygments_lexer": "ipython3",
   "version": "3.8.5"
  }
 },
 "nbformat": 4,
 "nbformat_minor": 4
}
