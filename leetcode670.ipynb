{
 "cells": [
  {
   "cell_type": "markdown",
   "metadata": {},
   "source": [
    "https://www.youtube.com/watch?v=6hFyHU7BNlI"
   ]
  },
  {
   "cell_type": "code",
   "execution_count": 5,
   "metadata": {},
   "outputs": [],
   "source": [
    "# T: O(N), S: O(N)\n",
    "class Solution:\n",
    "    def maximumSwap(self, num: int) -> int:\n",
    "        numList = []\n",
    "        numTemp = num\n",
    "        while numTemp:\n",
    "            numList.append(numTemp % 10)\n",
    "            numTemp //= 10\n",
    "        numList = numList[::-1]\n",
    "        \n",
    "        lastIdx = [0]*10\n",
    "        for i, digit in enumerate(numList):\n",
    "            lastIdx[digit] = i\n",
    "            \n",
    "        for i in range(len(numList)):\n",
    "            for d in range(9,numList[i],-1):\n",
    "                if lastIdx[d] > i:\n",
    "                    numList[i], numList[lastIdx[d]] = numList[lastIdx[d]], numList[i]\n",
    "                    ans = 0\n",
    "                    for digit in numList:\n",
    "                        ans = ans*10 + digit\n",
    "                    return ans\n",
    "                \n",
    "        return num"
   ]
  },
  {
   "cell_type": "code",
   "execution_count": 1,
   "metadata": {},
   "outputs": [
    {
     "data": {
      "text/plain": [
       "['a', 'b', 'c']"
      ]
     },
     "execution_count": 1,
     "metadata": {},
     "output_type": "execute_result"
    }
   ],
   "source": [
    "list('abc')"
   ]
  },
  {
   "cell_type": "code",
   "execution_count": 2,
   "metadata": {},
   "outputs": [
    {
     "data": {
      "text/plain": [
       "['abc']"
      ]
     },
     "execution_count": 2,
     "metadata": {},
     "output_type": "execute_result"
    }
   ],
   "source": [
    "['abc']"
   ]
  },
  {
   "cell_type": "code",
   "execution_count": null,
   "metadata": {},
   "outputs": [],
   "source": []
  }
 ],
 "metadata": {
  "kernelspec": {
   "display_name": "Python 3",
   "language": "python",
   "name": "python3"
  },
  "language_info": {
   "codemirror_mode": {
    "name": "ipython",
    "version": 3
   },
   "file_extension": ".py",
   "mimetype": "text/x-python",
   "name": "python",
   "nbconvert_exporter": "python",
   "pygments_lexer": "ipython3",
   "version": "3.8.5"
  }
 },
 "nbformat": 4,
 "nbformat_minor": 4
}
