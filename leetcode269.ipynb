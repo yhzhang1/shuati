{
 "cells": [
  {
   "cell_type": "markdown",
   "metadata": {},
   "source": [
    "https://leetcode.com/problems/alien-dictionary/solution/\n",
    "\n",
    "https://www.youtube.com/watch?v=hWnvHiaXTsw"
   ]
  },
  {
   "cell_type": "code",
   "execution_count": 6,
   "metadata": {},
   "outputs": [],
   "source": [
    "# T: O(C), S: O(U + min(U^2,N)), where C is the total length of all the words, U is the total number of unique letters, N is the total number\n",
    "# of strings\n",
    "class Solution:\n",
    "    def alienOrder(self, words: List[str]) -> str:\n",
    "        graph = defaultdict(set)\n",
    "        indegree = Counter({c:0 for word in words for c in word})\n",
    "        \n",
    "        \n",
    "        for word1, word2 in zip(words, words[1:]):\n",
    "            for key, value in zip(word1, word2):\n",
    "                if key != value:\n",
    "                    if value not in graph[key]:\n",
    "                        graph[key].add(value)\n",
    "                        indegree[value] += 1\n",
    "                    break\n",
    "            else:\n",
    "                if len(word1) > len(word2): return ''\n",
    "                    \n",
    "\n",
    "        sb = ''\n",
    "        queue = deque([c for c in indegree if indegree[c] == 0])\n",
    "        while queue:\n",
    "            c = queue.pop()\n",
    "            sb += c\n",
    "            for nextC in graph[c]:\n",
    "                indegree[nextC] -= 1\n",
    "                if indegree[nextC] == 0:\n",
    "                    queue.appendleft(nextC)\n",
    "                    \n",
    "        return sb if len(sb) == len(indegree) else ''\n",
    "            "
   ]
  },
  {
   "cell_type": "code",
   "execution_count": 5,
   "metadata": {},
   "outputs": [],
   "source": [
    "from typing import List\n",
    "class Solution:\n",
    "    def alienOrder(self, words: List[str]) -> str:\n",
    "        graph = {}\n",
    "        indegree = {}\n",
    "        def buildGraph():\n",
    "            for word in words:\n",
    "                for c in word:\n",
    "                    if c not in graph:\n",
    "                        graph[c] = set()\n",
    "                        \n",
    "            for i in range(1, len(words)):\n",
    "                first = words[i-1]\n",
    "                second = words[i]\n",
    "                if first.startswith(second) and len(first) > len(second):\n",
    "                    graph.clear()\n",
    "                    return\n",
    "                for j in range(min(len(first), len(second))):\n",
    "                    key = first[j]\n",
    "                    value = second[j]\n",
    "                    if key != value:\n",
    "                        if value not in graph[key]:\n",
    "                            graph[key].add(value)\n",
    "                            indegree[value] = indegree.get(value,0) + 1\n",
    "                        break\n",
    "        def bfs():\n",
    "            sb = ''\n",
    "            queue = deque()\n",
    "            for key in graph.keys():\n",
    "                if indegree.get(key, 0) == 0:\n",
    "                    queue.appendleft(key)\n",
    "                    sb += key\n",
    "                    \n",
    "            while queue:\n",
    "                c = queue.pop()\n",
    "                for nextC in graph[c]:\n",
    "                    indegree[nextC] -= 1\n",
    "                    if indegree[nextC] == 0:\n",
    "                        queue.appendleft(nextC)\n",
    "                        sb += nextC\n",
    "                        \n",
    "\n",
    "            return sb if len(graph) == len(sb) else ''\n",
    "        \n",
    "        buildGraph()\n",
    "        return bfs()\n",
    "            \n",
    "            "
   ]
  },
  {
   "cell_type": "code",
   "execution_count": 2,
   "metadata": {},
   "outputs": [
    {
     "data": {
      "text/plain": [
       "True"
      ]
     },
     "execution_count": 2,
     "metadata": {},
     "output_type": "execute_result"
    }
   ],
   "source": [
    "'ab' in 'abc'"
   ]
  },
  {
   "cell_type": "code",
   "execution_count": 3,
   "metadata": {},
   "outputs": [
    {
     "data": {
      "text/plain": [
       "defaultdict(set, {})"
      ]
     },
     "execution_count": 3,
     "metadata": {},
     "output_type": "execute_result"
    }
   ],
   "source": [
    "from collections import defaultdict\n",
    "\n",
    "graph = defaultdict(set)\n",
    "graph"
   ]
  },
  {
   "cell_type": "code",
   "execution_count": 9,
   "metadata": {},
   "outputs": [
    {
     "data": {
      "text/plain": [
       "['wrt', 'wrf', 'er', 'ett', 'rftt']"
      ]
     },
     "execution_count": 9,
     "metadata": {},
     "output_type": "execute_result"
    }
   ],
   "source": [
    "words = [\"wrt\",\"wrf\",\"er\",\"ett\",\"rftt\"]\n",
    "words"
   ]
  },
  {
   "cell_type": "code",
   "execution_count": 13,
   "metadata": {},
   "outputs": [
    {
     "name": "stdout",
     "output_type": "stream",
     "text": [
      "wrt wrf\n",
      "wrf er\n",
      "er ett\n",
      "ett rftt\n"
     ]
    }
   ],
   "source": [
    "for first, second in zip(words, words[1:]):\n",
    "    print(first, second)"
   ]
  },
  {
   "cell_type": "code",
   "execution_count": 5,
   "metadata": {},
   "outputs": [],
   "source": [
    "words = ['abc', 'ab']"
   ]
  },
  {
   "cell_type": "code",
   "execution_count": 8,
   "metadata": {},
   "outputs": [
    {
     "ename": "NameError",
     "evalue": "name 'word' is not defined",
     "output_type": "error",
     "traceback": [
      "\u001b[1;31m---------------------------------------------------------------------------\u001b[0m",
      "\u001b[1;31mNameError\u001b[0m                                 Traceback (most recent call last)",
      "\u001b[1;32m<ipython-input-8-aca4caf016fc>\u001b[0m in \u001b[0;36m<module>\u001b[1;34m\u001b[0m\n\u001b[1;32m----> 1\u001b[1;33m \u001b[1;33m[\u001b[0m\u001b[0mc\u001b[0m \u001b[1;32mfor\u001b[0m \u001b[0mc\u001b[0m \u001b[1;32min\u001b[0m \u001b[0mword\u001b[0m \u001b[1;32mfor\u001b[0m \u001b[0mword\u001b[0m \u001b[1;32min\u001b[0m \u001b[0mwords\u001b[0m\u001b[1;33m]\u001b[0m\u001b[1;33m\u001b[0m\u001b[1;33m\u001b[0m\u001b[0m\n\u001b[0m",
      "\u001b[1;31mNameError\u001b[0m: name 'word' is not defined"
     ]
    }
   ],
   "source": [
    "[c for c in word for word in words]"
   ]
  },
  {
   "cell_type": "code",
   "execution_count": 1,
   "metadata": {},
   "outputs": [
    {
     "name": "stdout",
     "output_type": "stream",
     "text": [
      "0\n",
      "1\n",
      "2\n",
      "3\n",
      "4\n",
      "else\n"
     ]
    }
   ],
   "source": [
    "for i in range(5):\n",
    "    print(i)\n",
    "else:\n",
    "    print('else')"
   ]
  },
  {
   "cell_type": "code",
   "execution_count": 3,
   "metadata": {},
   "outputs": [
    {
     "name": "stdout",
     "output_type": "stream",
     "text": [
      "a d\n",
      "b e\n",
      "c f\n"
     ]
    }
   ],
   "source": [
    "for k,v in zip('abc','def'):\n",
    "    print(k,v)"
   ]
  },
  {
   "cell_type": "code",
   "execution_count": null,
   "metadata": {},
   "outputs": [],
   "source": []
  }
 ],
 "metadata": {
  "kernelspec": {
   "display_name": "Python 3",
   "language": "python",
   "name": "python3"
  },
  "language_info": {
   "codemirror_mode": {
    "name": "ipython",
    "version": 3
   },
   "file_extension": ".py",
   "mimetype": "text/x-python",
   "name": "python",
   "nbconvert_exporter": "python",
   "pygments_lexer": "ipython3",
   "version": "3.8.5"
  }
 },
 "nbformat": 4,
 "nbformat_minor": 4
}
