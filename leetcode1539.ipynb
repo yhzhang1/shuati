{
 "cells": [
  {
   "cell_type": "markdown",
   "metadata": {},
   "source": [
    "https://leetcode.com/problems/kth-missing-positive-number/solution/\n",
    "\n",
    "https://www.youtube.com/watch?v=IxL84RRkARw&t=1800s"
   ]
  },
  {
   "cell_type": "code",
   "execution_count": 1,
   "metadata": {},
   "outputs": [],
   "source": [
    "# T: O(logn), S: O(1)\n",
    "from typing import List\n",
    "class Solution:\n",
    "    def findKthPositive(self, arr: List[int], k: int) -> int:\n",
    "        l, r = 0, len(arr) - 1\n",
    "        while l <= r:\n",
    "            mid = (l + r) // 2\n",
    "            if arr[mid] - mid -1 < k:\n",
    "                l = mid + 1\n",
    "            else:\n",
    "                r = mid - 1\n",
    "                \n",
    "        # l:已经存在的数\n",
    "        return l+k\n",
    "        "
   ]
  },
  {
   "cell_type": "code",
   "execution_count": 9,
   "metadata": {},
   "outputs": [],
   "source": [
    "class Solution:\n",
    "    def findKthPositive(self, arr: List[int], k: int) -> int:\n",
    "        '''\n",
    "        index: previous index numer of existing values\n",
    "        arr[index] - index - 1: current number of missing values\n",
    "        '''\n",
    "        low, high = 0, len(arr)\n",
    "        while low < high:\n",
    "            mid = (low + high) // 2\n",
    "            # arr[mid] - mid - 1: number of missing value\n",
    "            if arr[mid] - mid -1 < k: \n",
    "                low = mid + 1\n",
    "            else:\n",
    "                high = mid\n",
    "                \n",
    "        print(low, high)\n",
    "        return low + k"
   ]
  },
  {
   "cell_type": "code",
   "execution_count": 8,
   "metadata": {},
   "outputs": [],
   "source": [
    "\n",
    "# T: O(logN) S： O(1)\n",
    "class Solution:\n",
    "    def findKthPositive(self, arr: List[int], k: int) -> int:\n",
    "        '''\n",
    "        index: previous index numer of existing values\n",
    "        arr[index] - index - 1: current number of missing values\n",
    "        '''\n",
    "        low, high = 0, len(arr)-1\n",
    "        while low < high:\n",
    "            mid = (low + high) // 2\n",
    "            # arr[mid] - mid - 1: number of missing value\n",
    "            if arr[mid] - mid -1 < k: \n",
    "                low = mid + 1\n",
    "            else:\n",
    "                high = mid\n",
    "                \n",
    "        print(low,high)\n",
    "        print('missing value', arr[low]-low-1)\n",
    "\n",
    "        return low + 1 + k if arr[low] - low - 1 < k else low + k"
   ]
  },
  {
   "cell_type": "code",
   "execution_count": 4,
   "metadata": {},
   "outputs": [],
   "source": [
    "class Solution:\n",
    "    def findKthPositive(self, arr: List[int], k: int) -> int:\n",
    "        l, r = 0, len(arr)-1\n",
    "        while l < r:\n",
    "            mid = (l + r) // 2\n",
    "            if arr[mid] - mid -1 < k:\n",
    "                l = mid + 1\n",
    "            else:\n",
    "                r = mid\n",
    "                \n",
    "        print(l,r)\n",
    "                \n",
    "        #return arr[l] - 1 - ( arr[l] - l - 1 - k )\n",
    "        return l + k"
   ]
  },
  {
   "cell_type": "code",
   "execution_count": 3,
   "metadata": {},
   "outputs": [],
   "source": [
    "# T: O(N), S: O(1)\n",
    "from typing import List\n",
    "class Solution:\n",
    "    def findKthPositive(self, arr: List[int], k: int) -> int:\n",
    "        if k < arr[0]:\n",
    "            return k\n",
    "        \n",
    "        k -= arr[0]-1\n",
    "        \n",
    "        for i in range(1, len(arr)):\n",
    "            missing = arr[i] - arr[i-1] - 1\n",
    "            if k <= missing:\n",
    "                return arr[i-1] + k\n",
    "            k -= missing\n",
    "            \n",
    "        return arr[-1] + k\n",
    "        "
   ]
  },
  {
   "cell_type": "code",
   "execution_count": null,
   "metadata": {},
   "outputs": [],
   "source": []
  }
 ],
 "metadata": {
  "kernelspec": {
   "display_name": "Python 3",
   "language": "python",
   "name": "python3"
  },
  "language_info": {
   "codemirror_mode": {
    "name": "ipython",
    "version": 3
   },
   "file_extension": ".py",
   "mimetype": "text/x-python",
   "name": "python",
   "nbconvert_exporter": "python",
   "pygments_lexer": "ipython3",
   "version": "3.8.5"
  }
 },
 "nbformat": 4,
 "nbformat_minor": 4
}
