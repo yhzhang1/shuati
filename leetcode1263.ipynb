{
 "cells": [
  {
   "cell_type": "markdown",
   "metadata": {},
   "source": [
    "https://www.youtube.com/watch?v=LtJgcasp5J8&t=29s"
   ]
  },
  {
   "cell_type": "code",
   "execution_count": 2,
   "metadata": {},
   "outputs": [],
   "source": [
    "# A*\n",
    "# T: O(m*n*4 * m*n)  = O(m^2*n^2), Space complexity: O(m*n)\n",
    "from queue import PriorityQueue\n",
    "from collections import deque\n",
    "from typing import List\n",
    "class Node:\n",
    "    def __init__(self):\n",
    "        self.bx = None\n",
    "        self.by = None\n",
    "        self.px = None\n",
    "        self.py = None\n",
    "        self.h = None\n",
    "        self.g = None\n",
    "    def key(self):\n",
    "        return (self.by*20 + self.bx) << 16 | (self.py*20 + self.px)\n",
    "    def f(self):\n",
    "        return self.g + self.h\n",
    "    def __lt__(self, other):\n",
    "        return self.f() < other.f()\n",
    "    \n",
    "class Solution:\n",
    "    def minPushBox(self, grid: List[List[str]]) -> int:\n",
    "        def isValid(x, y):\n",
    "            return not (x < 0 or x >= m or y < 0 or y >= n or grid[y][x] == '#')\n",
    "        def hasPath(cur, tx, ty) -> bool:\n",
    "            if cur.px == tx and cur.py == ty:   return True\n",
    "            visited = [False]*(m*n)\n",
    "            q = deque()\n",
    "            q.append((cur.px, cur.py))\n",
    "            visited[cur.py*m + cur.px] = True\n",
    "            \n",
    "            while q:\n",
    "                x, y = q.pop()\n",
    "                for d in dirs:\n",
    "                    nx = x + d[0]\n",
    "                    ny = y + d[-1]\n",
    "                    if not isValid(nx, ny):\n",
    "                        continue\n",
    "                    if nx == cur.bx and ny == cur.by:\n",
    "                        continue\n",
    "                    if nx == tx and ny == ty:\n",
    "                        print('hash path', (cur.px, cur.py), 'to', (tx, ty))\n",
    "                        return True\n",
    "                    if visited[ny*m + nx]:\n",
    "                        continue\n",
    "                    q.appendleft((nx, ny))\n",
    "                    visited[ny*m + nx] = True\n",
    "            print('do not have path', (cur.px, cur.py), ' to', (tx, ty))\n",
    "            return False\n",
    "        \n",
    "        def canPush(cur, dx, dy, nxt):\n",
    "            nxt.bx = cur.bx + dx\n",
    "            nxt.by = cur.by + dy\n",
    "            nxt.px = cur.bx\n",
    "            nxt.py = cur.by\n",
    "\n",
    "            if not isValid(nxt.bx, nxt.by):   return False\n",
    "            return hasPath(cur, cur.bx - dx, cur.by - dy)\n",
    "        \n",
    "        dirs = ((0,1),(0,-1),(1,0),(-1,0))\n",
    "        n, m = len(grid), len(grid[0])\n",
    "        start, end = Node(), Node()\n",
    "        for y in range(n):\n",
    "            for x in range(m):\n",
    "                if grid[y][x] == 'B':\n",
    "                    start.bx = x\n",
    "                    start.by = y\n",
    "                elif grid[y][x] == 'S':\n",
    "                    start.px = x\n",
    "                    start.py = y\n",
    "                elif grid[y][x] == 'T':\n",
    "                    end.bx = x\n",
    "                    end.by = y\n",
    "                    \n",
    "        visited = set()\n",
    "        pq = PriorityQueue()\n",
    "        start.g = 0\n",
    "        start.h = abs(start.bx - end.bx) + abs(start.by - end.by)\n",
    "        pq.put(start)\n",
    "    \n",
    "        while not pq.empty():\n",
    "            cur = pq.get()\n",
    "            print('pq.size', pq.qsize())\n",
    "            print('px py', cur.px, cur.py, '|', 'bx by', cur.bx, cur.by)\n",
    "            for d in dirs:\n",
    "                nxt = Node()\n",
    "                print('d',d)\n",
    "                print('before canpush')\n",
    "                if not canPush(cur, d[0], d[-1], nxt) or nxt.key() in visited:\n",
    "                    print('can not push')\n",
    "                    continue\n",
    "                print('after canpush')\n",
    "                nxt.g = cur.g + 1\n",
    "                nxt.h = abs(nxt.bx - end.bx) + abs(nxt.by - end.by)\n",
    "                if nxt.bx == end.bx and nxt.by == end.by:\n",
    "                    return nxt.g\n",
    "                pq.put(nxt)\n",
    "                visited.add(nxt.key())\n",
    "                \n",
    "        print('finish')\n",
    "            \n",
    "        return -1\n",
    "                "
   ]
  },
  {
   "cell_type": "code",
   "execution_count": 3,
   "metadata": {},
   "outputs": [],
   "source": [
    "# T: O(m*n*4 * m*n)  = O(m^2*n^2), Space complexity: O(m*n)\n",
    "\n",
    "class Node:\n",
    "    def __init__(self):\n",
    "        self.bx = None\n",
    "        self.by = None\n",
    "        self.px = None\n",
    "        self.py = None\n",
    "    def key(self):\n",
    "        return (self.by*20 + self.bx) << 16 | (self.py*20 + self.px)\n",
    "    \n",
    "class Solution:\n",
    "    def minPushBox(self, grid: List[List[str]]) -> int:\n",
    "        def hasPath(cur, tx, ty) -> bool:\n",
    "            visited = [False]*(m*n)\n",
    "            def dfs(x, y) -> bool:\n",
    "                if x < 0 or x >= m or y < 0 or y >= n or grid[y][x] == '#':\n",
    "                    return False\n",
    "                elif x == cur.bx and y == cur.by:\n",
    "                    return False\n",
    "                elif x == tx and y == ty:\n",
    "                    return True\n",
    "                elif visited[y*m + x]:\n",
    "                    return False\n",
    "                else:\n",
    "                    visited[y*m + x] = True\n",
    "                return dfs(x + 1, y) or dfs(x - 1, y) or dfs(x, y + 1) or dfs(x, y - 1)\n",
    "            return dfs(cur.px, cur.py)\n",
    "        \n",
    "        def canPush(cur, dx, dy, nxt):\n",
    "            bx = cur.bx + dx\n",
    "            by = cur.by + dy\n",
    "            if bx < 0 or bx >= m or by < 0 or by >= n or grid[by][bx] == '#':\n",
    "                return False\n",
    "            if not hasPath(cur, cur.bx - dx, cur.by - dy):\n",
    "                return False\n",
    "            nxt.bx = bx\n",
    "            nxt.by = by\n",
    "            nxt.px = cur.bx\n",
    "            nxt.py = cur.by\n",
    "            return True\n",
    "        \n",
    "        n, m = len(grid), len(grid[0])\n",
    "        start, end = Node(), Node()\n",
    "        \n",
    "        for y in range(n):\n",
    "            for x in range(m):\n",
    "                if grid[y][x] == 'B':\n",
    "                    start.bx = x\n",
    "                    start.by = y\n",
    "                elif grid[y][x] == 'S':\n",
    "                    start.px = x\n",
    "                    start.py = y\n",
    "                elif grid[y][x] == 'T':\n",
    "                    end.bx = x\n",
    "                    end.by = y\n",
    "                    \n",
    "        dirs = ((0,1),(0,-1),(1,0),(-1,0))\n",
    "        visited = set()\n",
    "        q = deque()\n",
    "        q.append(start)\n",
    "        visited.add(start.key())\n",
    "        steps = 0\n",
    "    \n",
    "        while q:\n",
    "            for _ in range(len(q)):\n",
    "                cur = q.pop()\n",
    "                for d in dirs:\n",
    "                    nxt = Node()\n",
    "                    if not canPush(cur, d[0], d[-1], nxt) or nxt.key() in visited:\n",
    "                        continue\n",
    "                    if nxt.bx == end.bx and nxt.by == end.by:\n",
    "                        return steps + 1\n",
    "                    q.appendleft(nxt)\n",
    "                    visited.add(nxt.key())\n",
    "            steps += 1\n",
    "            \n",
    "        return -1\n",
    "                "
   ]
  },
  {
   "cell_type": "code",
   "execution_count": 8,
   "metadata": {},
   "outputs": [],
   "source": [
    "f = lambda x:(\n",
    "    x+1\n",
    ")"
   ]
  },
  {
   "cell_type": "code",
   "execution_count": 9,
   "metadata": {},
   "outputs": [
    {
     "data": {
      "text/plain": [
       "<function __main__.<lambda>(x)>"
      ]
     },
     "execution_count": 9,
     "metadata": {},
     "output_type": "execute_result"
    }
   ],
   "source": [
    "f"
   ]
  },
  {
   "cell_type": "code",
   "execution_count": 10,
   "metadata": {},
   "outputs": [
    {
     "data": {
      "text/plain": [
       "3"
      ]
     },
     "execution_count": 10,
     "metadata": {},
     "output_type": "execute_result"
    }
   ],
   "source": [
    "f(2)"
   ]
  },
  {
   "cell_type": "code",
   "execution_count": 2,
   "metadata": {},
   "outputs": [],
   "source": [
    "grid = [[\"#\",\"#\",\"#\",\"#\",\"#\",\"#\"],[\"#\",\"T\",\"#\",\"#\",\"#\",\"#\"],[\"#\",\".\",\".\",\"B\",\".\",\"#\"],[\"#\",\"#\",\"#\",\"#\",\".\",\"#\"],[\"#\",\".\",\".\",\".\",\"S\",\"#\"],[\"#\",\"#\",\"#\",\"#\",\"#\",\"#\"]]"
   ]
  },
  {
   "cell_type": "code",
   "execution_count": 3,
   "metadata": {},
   "outputs": [
    {
     "data": {
      "text/plain": [
       "[['#', '#', '#', '#', '#', '#'],\n",
       " ['#', 'T', '#', '#', '#', '#'],\n",
       " ['#', '.', '.', 'B', '.', '#'],\n",
       " ['#', '#', '#', '#', '.', '#'],\n",
       " ['#', '.', '.', '.', 'S', '#'],\n",
       " ['#', '#', '#', '#', '#', '#']]"
      ]
     },
     "execution_count": 3,
     "metadata": {},
     "output_type": "execute_result"
    }
   ],
   "source": [
    "grid"
   ]
  },
  {
   "cell_type": "code",
   "execution_count": 4,
   "metadata": {},
   "outputs": [
    {
     "name": "stdout",
     "output_type": "stream",
     "text": [
      "a\n",
      "aa\n",
      "pq.size 0\n",
      "px py 4 4 | bx by 3 2\n",
      "before canpush\n",
      "can not push\n",
      "before canpush\n",
      "can not push\n",
      "before canpush\n",
      "can not push\n",
      "before canpush\n",
      "after canpush\n",
      "pq.size 0\n",
      "px py 3 2 | bx by 2 2\n",
      "before canpush\n",
      "can not push\n",
      "before canpush\n",
      "can not push\n",
      "before canpush\n",
      "can not push\n",
      "before canpush\n",
      "after canpush\n",
      "pq.size 0\n",
      "px py 2 2 | bx by 1 2\n",
      "before canpush\n",
      "can not push\n",
      "before canpush\n",
      "can not push\n",
      "before canpush\n",
      "can not push\n",
      "before canpush\n",
      "can not push\n",
      "finish\n"
     ]
    },
    {
     "data": {
      "text/plain": [
       "-1"
      ]
     },
     "execution_count": 4,
     "metadata": {},
     "output_type": "execute_result"
    }
   ],
   "source": [
    "Solution().minPushBox(grid)"
   ]
  },
  {
   "cell_type": "code",
   "execution_count": 1,
   "metadata": {},
   "outputs": [
    {
     "data": {
      "text/plain": [
       "[['#', '#', '#', '#', '#', '#'],\n",
       " ['#', 'T', '#', '#', '#', '#'],\n",
       " ['#', '.', '.', 'B', '.', '#'],\n",
       " ['#', '.', '#', '#', '.', '#'],\n",
       " ['#', '.', '.', '.', 'S', '#'],\n",
       " ['#', '#', '#', '#', '#', '#']]"
      ]
     },
     "execution_count": 1,
     "metadata": {},
     "output_type": "execute_result"
    }
   ],
   "source": [
    "\n",
    "[[\"#\",\"#\",\"#\",\"#\",\"#\",\"#\"],[\"#\",\"T\",\"#\",\"#\",\"#\",\"#\"],[\"#\",\".\",\".\",\"B\",\".\",\"#\"],[\"#\",\".\",\"#\",\"#\",\".\",\"#\"],[\"#\",\".\",\".\",\".\",\"S\",\"#\"],[\"#\",\"#\",\"#\",\"#\",\"#\",\"#\"]]"
   ]
  },
  {
   "cell_type": "code",
   "execution_count": 1,
   "metadata": {},
   "outputs": [
    {
     "data": {
      "text/plain": [
       "[['#', '#', '#', '#', '#', '#'],\n",
       " ['#', 'T', '#', '#', '#', '#'],\n",
       " ['#', '.', '.', 'B', '.', '#'],\n",
       " ['#', '.', '#', '#', '.', '#'],\n",
       " ['#', '.', '.', '.', 'S', '#'],\n",
       " ['#', '#', '#', '#', '#', '#']]"
      ]
     },
     "execution_count": 1,
     "metadata": {},
     "output_type": "execute_result"
    }
   ],
   "source": [
    "\n",
    "[[\"#\",\"#\",\"#\",\"#\",\"#\",\"#\"],[\"#\",\"T\",\"#\",\"#\",\"#\",\"#\"],[\"#\",\".\",\".\",\"B\",\".\",\"#\"],[\"#\",\".\",\"#\",\"#\",\".\",\"#\"],[\"#\",\".\",\".\",\".\",\"S\",\"#\"],[\"#\",\"#\",\"#\",\"#\",\"#\",\"#\"]]"
   ]
  },
  {
   "cell_type": "code",
   "execution_count": 2,
   "metadata": {},
   "outputs": [
    {
     "data": {
      "text/plain": [
       "[['#', '#', '#', '#', '#', '#'],\n",
       " ['#', 'T', '#', '#', '#', '#'],\n",
       " ['#', '.', '.', 'B', '.', '#'],\n",
       " ['#', '#', '#', '#', '.', '#'],\n",
       " ['#', '.', '.', '.', 'S', '#'],\n",
       " ['#', '#', '#', '#', '#', '#']]"
      ]
     },
     "execution_count": 2,
     "metadata": {},
     "output_type": "execute_result"
    }
   ],
   "source": [
    "[[\"#\",\"#\",\"#\",\"#\",\"#\",\"#\"],[\"#\",\"T\",\"#\",\"#\",\"#\",\"#\"],[\"#\",\".\",\".\",\"B\",\".\",\"#\"],[\"#\",\"#\",\"#\",\"#\",\".\",\"#\"],[\"#\",\".\",\".\",\".\",\"S\",\"#\"],[\"#\",\"#\",\"#\",\"#\",\"#\",\"#\"]]"
   ]
  },
  {
   "cell_type": "code",
   "execution_count": null,
   "metadata": {},
   "outputs": [],
   "source": []
  }
 ],
 "metadata": {
  "kernelspec": {
   "display_name": "Python 3",
   "language": "python",
   "name": "python3"
  },
  "language_info": {
   "codemirror_mode": {
    "name": "ipython",
    "version": 3
   },
   "file_extension": ".py",
   "mimetype": "text/x-python",
   "name": "python",
   "nbconvert_exporter": "python",
   "pygments_lexer": "ipython3",
   "version": "3.8.5"
  }
 },
 "nbformat": 4,
 "nbformat_minor": 4
}
