{
 "cells": [
  {
   "cell_type": "markdown",
   "metadata": {},
   "source": [
    "https://www.youtube.com/watch?v=zy8sJ_Wx7y8&t=516s"
   ]
  },
  {
   "cell_type": "code",
   "execution_count": 22,
   "metadata": {},
   "outputs": [],
   "source": [
    "class Solution:\n",
    "    def fractionToDecimal(self, numerator: int, denominator: int) -> str:\n",
    "        negativeFlag = numerator * denominator < 0\n",
    "        \n",
    "        numerator = abs(numerator)\n",
    "        denominator = abs(denominator)\n",
    "        \n",
    "        numList = list()\n",
    "        cnt = 0\n",
    "        loopDict = dict()\n",
    "        loopStr = None\n",
    "        \n",
    "        while True:\n",
    "            numList.append(str(numerator // denominator))\n",
    "            cnt += 1\n",
    "            numerator = 10 * (numerator % denominator)\n",
    "            if numerator == 0:\n",
    "                break\n",
    "            loc = loopDict.get(numerator)\n",
    "            if loc:\n",
    "                loopStr = ''.join(numList[loc:cnt])\n",
    "                break\n",
    "            loopDict[numerator] = cnt\n",
    "                \n",
    "        ans = numList[0]\n",
    "        if len(numList) > 1:\n",
    "            ans += '.'\n",
    "            \n",
    "        if loopStr:\n",
    "            ans += ''.join(numList[1:len(numList)-len(loopStr)]) + '(' + loopStr + ')'\n",
    "        else:\n",
    "            ans += ''.join(numList[1:])\n",
    "        \n",
    "        if negativeFlag:\n",
    "            ans = '-' + ans\n",
    "            \n",
    "        return ans"
   ]
  },
  {
   "cell_type": "code",
   "execution_count": 15,
   "metadata": {},
   "outputs": [
    {
     "data": {
      "text/plain": [
       "'abc'"
      ]
     },
     "execution_count": 15,
     "metadata": {},
     "output_type": "execute_result"
    }
   ],
   "source": [
    "\"\".join(['a','b','c'])"
   ]
  },
  {
   "cell_type": "code",
   "execution_count": 18,
   "metadata": {},
   "outputs": [
    {
     "data": {
      "text/plain": [
       "[2, 3]"
      ]
     },
     "execution_count": 18,
     "metadata": {},
     "output_type": "execute_result"
    }
   ],
   "source": [
    "[1,2,3][1:3]"
   ]
  },
  {
   "cell_type": "code",
   "execution_count": 20,
   "metadata": {},
   "outputs": [
    {
     "data": {
      "text/plain": [
       "'ab'"
      ]
     },
     "execution_count": 20,
     "metadata": {},
     "output_type": "execute_result"
    }
   ],
   "source": [
    "a = 'a'\n",
    "a += 'b'\n",
    "a"
   ]
  },
  {
   "cell_type": "code",
   "execution_count": 21,
   "metadata": {},
   "outputs": [
    {
     "data": {
      "text/plain": [
       "'ba'"
      ]
     },
     "execution_count": 21,
     "metadata": {},
     "output_type": "execute_result"
    }
   ],
   "source": [
    "a = 'a'\n",
    "a = 'b' + a\n",
    "a"
   ]
  }
 ],
 "metadata": {
  "kernelspec": {
   "display_name": "Python 3",
   "language": "python",
   "name": "python3"
  },
  "language_info": {
   "codemirror_mode": {
    "name": "ipython",
    "version": 3
   },
   "file_extension": ".py",
   "mimetype": "text/x-python",
   "name": "python",
   "nbconvert_exporter": "python",
   "pygments_lexer": "ipython3",
   "version": "3.7.6"
  }
 },
 "nbformat": 4,
 "nbformat_minor": 4
}
