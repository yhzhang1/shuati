{
 "cells": [
  {
   "cell_type": "markdown",
   "metadata": {},
   "source": [
    "https://www.youtube.com/watch?v=M6SBePBMznU"
   ]
  },
  {
   "cell_type": "code",
   "execution_count": 2,
   "metadata": {},
   "outputs": [],
   "source": [
    "from typing import List\n",
    "class Solution:\n",
    "    def __init__(self):\n",
    "        self.graph = list()\n",
    "\n",
    "    def canFinish(self, numCourses: int, prerequisites: List[List[int]]) -> bool:\n",
    "        self.graph = [[] for _ in range(numCourses)]\n",
    "        \n",
    "        for p in prerequisites:\n",
    "            self.graph[p[1]].append(p[0])\n",
    "            \n",
    "        v = [0] * numCourses # 0: unknown, 1: visiting,  2：visited\n",
    "            \n",
    "        for i in range(numCourses):\n",
    "            if self.dfs(i, v):  return False\n",
    "            \n",
    "        return True\n",
    "    \n",
    "    def dfs(self, cur, v):\n",
    "        if v[cur] == 1: return True\n",
    "        if v[cur] == 2: return False\n",
    "            \n",
    "        v[cur] = 1\n",
    "        for t in self.graph[cur]:\n",
    "            if self.dfs(t, v):  return True\n",
    "            \n",
    "        v[cur] = 2\n",
    "        \n",
    "        return False"
   ]
  }
 ],
 "metadata": {
  "kernelspec": {
   "display_name": "Python 3",
   "language": "python",
   "name": "python3"
  },
  "language_info": {
   "codemirror_mode": {
    "name": "ipython",
    "version": 3
   },
   "file_extension": ".py",
   "mimetype": "text/x-python",
   "name": "python",
   "nbconvert_exporter": "python",
   "pygments_lexer": "ipython3",
   "version": "3.7.6"
  }
 },
 "nbformat": 4,
 "nbformat_minor": 4
}
