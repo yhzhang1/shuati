{
 "cells": [
  {
   "cell_type": "markdown",
   "metadata": {},
   "source": [
    "https://www.youtube.com/watch?v=1E39PiQAGvE"
   ]
  },
  {
   "cell_type": "code",
   "execution_count": 2,
   "metadata": {},
   "outputs": [],
   "source": [
    "class Solution:\n",
    "    def reachingPoints(self, sx: int, sy: int, tx: int, ty: int) -> bool:\n",
    "        if sx > tx or sy > ty:\n",
    "            return False\n",
    "        if sx == tx:\n",
    "            return (ty-sy) % sx == 0\n",
    "        if sy == ty:\n",
    "            return (tx-sx) % sy == 0\n",
    "        \n",
    "        if tx > ty: \n",
    "            return self.reachingPoints(sx, sy, tx%ty, ty)\n",
    "        elif tx < ty:\n",
    "            return self.reachingPoints(sx, sy, tx, ty%tx)\n",
    "        else:\n",
    "            return False"
   ]
  },
  {
   "cell_type": "code",
   "execution_count": 1,
   "metadata": {},
   "outputs": [],
   "source": [
    "class Solution:\n",
    "    def reachingPoints(self, sx: int, sy: int, tx: int, ty: int) -> bool:\n",
    "        if sx > tx or sy > ty:\n",
    "            return False\n",
    "        if sx == tx:\n",
    "            return (ty-sy) % sx == 0\n",
    "        if sy == ty:\n",
    "            return (tx-sx) % sy == 0\n",
    "        \n",
    "        if tx > ty: \n",
    "            return self.reachingPoints(sx, sy, tx-ty, ty)\n",
    "        elif tx < ty:\n",
    "            return self.reachingPoints(sx, sy, tx, ty-tx)\n",
    "        else:\n",
    "            return False"
   ]
  }
 ],
 "metadata": {
  "kernelspec": {
   "display_name": "Python 3",
   "language": "python",
   "name": "python3"
  },
  "language_info": {
   "codemirror_mode": {
    "name": "ipython",
    "version": 3
   },
   "file_extension": ".py",
   "mimetype": "text/x-python",
   "name": "python",
   "nbconvert_exporter": "python",
   "pygments_lexer": "ipython3",
   "version": "3.8.5"
  }
 },
 "nbformat": 4,
 "nbformat_minor": 4
}
