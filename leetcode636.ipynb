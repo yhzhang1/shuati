{
 "cells": [
  {
   "cell_type": "markdown",
   "metadata": {},
   "source": [
    "https://www.bilibili.com/video/BV1dt411K7BS?from=search&seid=7164797290521415358&spm_id_from=333.337.0.0"
   ]
  },
  {
   "cell_type": "code",
   "execution_count": 2,
   "metadata": {},
   "outputs": [],
   "source": [
    "# T: O(n), S: O(n)\n",
    "from typing import List\n",
    "class Solution:\n",
    "    def exclusiveTime(self, n: int, logs: List[str]) -> List[int]:\n",
    "        def parse(log: str):\n",
    "            l = log.split(':')\n",
    "            fId = int(l[0])\n",
    "            startOrEnd =  l[1]\n",
    "            timestamp = int(l[2])\n",
    "            return fId, startOrEnd, timestamp\n",
    "        \n",
    "        ans = [0 for _ in range(n)]\n",
    "        timeStack = [] # timestamp stack\n",
    "        functionStack = [] # function id stack\n",
    "        \n",
    "        for log in logs:\n",
    "            fId, startOrEnd, t = parse(log)\n",
    "            if startOrEnd == 'start': # 进栈\n",
    "                ans[fId] -= t\n",
    "                timeStack.append(t)\n",
    "                functionStack.append(fId)\n",
    "            else: # 弹栈\n",
    "                ans[fId] += t+1\n",
    "                start = timeStack.pop()\n",
    "                functionStack.pop()\n",
    "                if functionStack:\n",
    "                    ans[functionStack[-1]] -= t-start+1\n",
    "                    \n",
    "        return ans"
   ]
  },
  {
   "cell_type": "code",
   "execution_count": 1,
   "metadata": {},
   "outputs": [
    {
     "data": {
      "text/plain": [
       "['2', 'end', '9']"
      ]
     },
     "execution_count": 1,
     "metadata": {},
     "output_type": "execute_result"
    }
   ],
   "source": [
    "'2:end:9'.split(':')"
   ]
  },
  {
   "cell_type": "code",
   "execution_count": 2,
   "metadata": {},
   "outputs": [],
   "source": [
    "fId, se, t = \"0:start:3\".split(':')"
   ]
  },
  {
   "cell_type": "code",
   "execution_count": 3,
   "metadata": {},
   "outputs": [
    {
     "data": {
      "text/plain": [
       "('0', 'start', '3')"
      ]
     },
     "execution_count": 3,
     "metadata": {},
     "output_type": "execute_result"
    }
   ],
   "source": [
    "fId, se, t"
   ]
  },
  {
   "cell_type": "code",
   "execution_count": null,
   "metadata": {},
   "outputs": [],
   "source": []
  }
 ],
 "metadata": {
  "kernelspec": {
   "display_name": "Python 3",
   "language": "python",
   "name": "python3"
  },
  "language_info": {
   "codemirror_mode": {
    "name": "ipython",
    "version": 3
   },
   "file_extension": ".py",
   "mimetype": "text/x-python",
   "name": "python",
   "nbconvert_exporter": "python",
   "pygments_lexer": "ipython3",
   "version": "3.8.5"
  }
 },
 "nbformat": 4,
 "nbformat_minor": 4
}
