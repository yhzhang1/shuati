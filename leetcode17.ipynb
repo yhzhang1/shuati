{
 "cells": [
  {
   "cell_type": "markdown",
   "metadata": {},
   "source": [
    "# DFS"
   ]
  },
  {
   "cell_type": "markdown",
   "metadata": {},
   "source": [
    "https://www.youtube.com/watch?v=fLy8t33M1qQ"
   ]
  },
  {
   "cell_type": "code",
   "execution_count": null,
   "metadata": {},
   "outputs": [],
   "source": []
  },
  {
   "cell_type": "code",
   "execution_count": 2,
   "metadata": {},
   "outputs": [],
   "source": [
    "from typing import List\n",
    "class Solution:\n",
    "    def letterCombinations(self, digits: str) -> List[str]:\n",
    "        def dfs(d: int, cur: List):\n",
    "            if d == len(digits):\n",
    "                if len(cur) > 0:\n",
    "                    ans.append(''.join(cur))\n",
    "                return\n",
    "                \n",
    "            for c in m[digits[d]]:\n",
    "                cur[d] = c\n",
    "                dfs(d+1, cur)\n",
    "                \n",
    "        m = {'2':'abc','3':'def','4':'ghi','5':'jkl','6':'mno','7':'pqrs','8':'tuv','9':'wxyz'} \n",
    "        ans = []\n",
    "        cur = ['' for _ in range(len(digits))]\n",
    "        dfs(0, cur)\n",
    "        \n",
    "        return ans"
   ]
  },
  {
   "cell_type": "code",
   "execution_count": 35,
   "metadata": {},
   "outputs": [],
   "source": [
    "from typing import List\n",
    "class Solution:\n",
    "    def letterCombinations(self, digits: str) -> List[str]:\n",
    "        def dfs(digits, dictionary, depth, cur, ans):\n",
    "            if depth == len(digits):\n",
    "                if depth > 0:\n",
    "                    ans.append(''.join(cur))\n",
    "                return\n",
    "            for c in dictionary[int(digits[depth])]:\n",
    "                cur[depth] = c\n",
    "                dfs(digits, dictionary, depth+1, cur, ans)\n",
    "                \n",
    "\n",
    "        dictionary = {2:'abc', 3:'def', 4:'ghi', 5:'jkl', 6:'mno', 7:'pqrs', 8:'tuv', 9:'wxyz'}\n",
    "        ans = list()\n",
    "        cur = ['' for _ in range(len(digits))]\n",
    "                      \n",
    "        dfs(digits, dictionary, 0, cur, ans)\n",
    "        return ans"
   ]
  }
 ],
 "metadata": {
  "kernelspec": {
   "display_name": "Python 3",
   "language": "python",
   "name": "python3"
  },
  "language_info": {
   "codemirror_mode": {
    "name": "ipython",
    "version": 3
   },
   "file_extension": ".py",
   "mimetype": "text/x-python",
   "name": "python",
   "nbconvert_exporter": "python",
   "pygments_lexer": "ipython3",
   "version": "3.8.5"
  }
 },
 "nbformat": 4,
 "nbformat_minor": 4
}
