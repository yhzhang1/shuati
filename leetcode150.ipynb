{
 "cells": [
  {
   "cell_type": "code",
   "execution_count": 17,
   "metadata": {},
   "outputs": [],
   "source": [
    "from typing import List\n",
    "class Solution:\n",
    "    def evalRPN(self, tokens: List[str]) -> int:\n",
    "        stack = []\n",
    "        \n",
    "        for token in tokens:\n",
    "            if token not in '+-*/':\n",
    "                stack.append(int(token))\n",
    "                continue\n",
    "            \n",
    "            rightOperand = stack.pop()\n",
    "            leftOperand = stack.pop()\n",
    "            result = 0\n",
    "            if token == '+':\n",
    "                result = leftOperand + rightOperand\n",
    "            elif token == '-':\n",
    "                result = leftOperand - rightOperand\n",
    "            elif token == '*':\n",
    "                result = leftOperand * rightOperand\n",
    "            elif token == '/':\n",
    "                result = int(leftOperand / rightOperand)\n",
    "\n",
    "            stack.append(result)\n",
    "                \n",
    "        return stack.pop()"
   ]
  },
  {
   "cell_type": "code",
   "execution_count": 14,
   "metadata": {},
   "outputs": [
    {
     "data": {
      "text/plain": [
       "-1"
      ]
     },
     "execution_count": 14,
     "metadata": {},
     "output_type": "execute_result"
    }
   ],
   "source": [
    "int(-1.5)"
   ]
  }
 ],
 "metadata": {
  "kernelspec": {
   "display_name": "Python 3",
   "language": "python",
   "name": "python3"
  },
  "language_info": {
   "codemirror_mode": {
    "name": "ipython",
    "version": 3
   },
   "file_extension": ".py",
   "mimetype": "text/x-python",
   "name": "python",
   "nbconvert_exporter": "python",
   "pygments_lexer": "ipython3",
   "version": "3.7.6"
  }
 },
 "nbformat": 4,
 "nbformat_minor": 4
}
