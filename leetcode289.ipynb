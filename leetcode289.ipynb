{
 "cells": [
  {
   "cell_type": "markdown",
   "metadata": {},
   "source": [
    "https://www.youtube.com/watch?v=juGxbF-eadU"
   ]
  },
  {
   "cell_type": "code",
   "execution_count": 11,
   "metadata": {},
   "outputs": [],
   "source": [
    "class Solution:\n",
    "    def gameOfLife(self, board: List[List[int]]) -> None:\n",
    "        \"\"\"\n",
    "        Do not return anything, modify board in-place instead.\n",
    "        \"\"\"\n",
    "        m = len(board)\n",
    "        n = len(board[0]) if m else 0\n",
    "        for i in range(m):\n",
    "            for j in range(n):\n",
    "                lives = 0\n",
    "                for y in range(max(0,i-1), min(m,i+2)):\n",
    "                    for x in range(max(0,j-1), min(n,j+2)):\n",
    "                        lives += board[y][x] & 1\n",
    "                if lives == 3 or lives - board[i][j] == 3:\n",
    "                    board[i][j] |= 0b10\n",
    "                    \n",
    "        for i in range(m):\n",
    "            for j in range(n):\n",
    "                board[i][j] >>= 1"
   ]
  },
  {
   "cell_type": "code",
   "execution_count": 7,
   "metadata": {},
   "outputs": [
    {
     "data": {
      "text/plain": [
       "'0b11'"
      ]
     },
     "execution_count": 7,
     "metadata": {},
     "output_type": "execute_result"
    }
   ],
   "source": [
    "bin(3)"
   ]
  },
  {
   "cell_type": "code",
   "execution_count": 10,
   "metadata": {},
   "outputs": [
    {
     "data": {
      "text/plain": [
       "2"
      ]
     },
     "execution_count": 10,
     "metadata": {},
     "output_type": "execute_result"
    }
   ],
   "source": [
    "0b10"
   ]
  },
  {
   "cell_type": "code",
   "execution_count": 6,
   "metadata": {},
   "outputs": [
    {
     "data": {
      "text/plain": [
       "3"
      ]
     },
     "execution_count": 6,
     "metadata": {},
     "output_type": "execute_result"
    }
   ],
   "source": [
    "1 | 0b10"
   ]
  },
  {
   "cell_type": "code",
   "execution_count": 4,
   "metadata": {},
   "outputs": [],
   "source": [
    "class Solution:\n",
    "    def gameOfLife(self, board: List[List[int]]) -> None:\n",
    "        \"\"\"\n",
    "        Do not return anything, modify board in-place instead.\n",
    "        \"\"\"\n",
    "        def updateState(state, live, dead):\n",
    "            newState = state\n",
    "            if state == 0:\n",
    "                if live == 3:\n",
    "                    newState = 1\n",
    "            else:\n",
    "                if live < 2:\n",
    "                    newState = 0\n",
    "                elif live > 3:\n",
    "                    newState = 0\n",
    "                    \n",
    "            return newState\n",
    "        def getLives(i, j):\n",
    "            live = dead = 0\n",
    "            for neighbor in [(-1,-1),(-1,0),(-1,1),(0,-1),(0,1),(1,-1),(1,0),(1,1)]:\n",
    "                r, c = i+neighbor[0], j+neighbor[1]\n",
    "                if isValid(r, c):\n",
    "                    if board_[r][c] == 0:\n",
    "                        dead += 1\n",
    "                    else:\n",
    "                        live += 1\n",
    "            return live, dead\n",
    "            \n",
    "            \n",
    "        def isValid(i,j):\n",
    "            return 0 <= i < m and 0 <= j < n\n",
    "        \n",
    "        board_ = [row[:] for row in board]\n",
    "        \n",
    "        m = len(board)\n",
    "        n = len(board[0]) if m else 0\n",
    "        \n",
    "        for i in range(m):\n",
    "            for j in range(n):\n",
    "                live, dead = getLives(i,j)\n",
    "                board[i][j] = updateState(board_[i][j], live, dead)\n",
    "                \n",
    "                \n",
    "        \n",
    "                \n",
    "                    "
   ]
  }
 ],
 "metadata": {
  "kernelspec": {
   "display_name": "Python 3 (ipykernel)",
   "language": "python",
   "name": "python3"
  },
  "language_info": {
   "codemirror_mode": {
    "name": "ipython",
    "version": 3
   },
   "file_extension": ".py",
   "mimetype": "text/x-python",
   "name": "python",
   "nbconvert_exporter": "python",
   "pygments_lexer": "ipython3",
   "version": "3.8.5"
  }
 },
 "nbformat": 4,
 "nbformat_minor": 4
}
