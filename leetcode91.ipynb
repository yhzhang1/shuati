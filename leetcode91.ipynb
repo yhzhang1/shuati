{
 "cells": [
  {
   "cell_type": "markdown",
   "metadata": {},
   "source": [
    "https://leetcode.com/problems/decode-ways/solution/"
   ]
  },
  {
   "cell_type": "code",
   "execution_count": 10,
   "metadata": {},
   "outputs": [],
   "source": [
    "class Solution:\n",
    "    def numDecodings(self, s: str) -> int:\n",
    "        dp = [0] * (len(s)+1)\n",
    "        dp[0] = 1\n",
    "        dp[1] = 0 if s[0] == '0' else 1\n",
    "        for i in range(2, len(dp)): \n",
    "            if s[i-1] != '0':\n",
    "                dp[i] += dp[i-1]\n",
    "\n",
    "            two_digits = int(s[i-2:i])\n",
    "            if 10 <= two_digits <= 26:\n",
    "                dp[i] += dp[i-2]\n",
    "                \n",
    "        return dp[-1]\n",
    "        "
   ]
  },
  {
   "cell_type": "code",
   "execution_count": 1,
   "metadata": {},
   "outputs": [
    {
     "ename": "TypeError",
     "evalue": "'<' not supported between instances of 'int' and 'str'",
     "output_type": "error",
     "traceback": [
      "\u001b[1;31m---------------------------------------------------------------------------\u001b[0m",
      "\u001b[1;31mTypeError\u001b[0m                                 Traceback (most recent call last)",
      "\u001b[1;32m<ipython-input-1-36ab3c2fcd13>\u001b[0m in \u001b[0;36m<module>\u001b[1;34m\u001b[0m\n\u001b[1;32m----> 1\u001b[1;33m \u001b[1;36m10\u001b[0m \u001b[1;33m<\u001b[0m \u001b[1;34m'11'\u001b[0m\u001b[1;33m\u001b[0m\u001b[1;33m\u001b[0m\u001b[0m\n\u001b[0m",
      "\u001b[1;31mTypeError\u001b[0m: '<' not supported between instances of 'int' and 'str'"
     ]
    }
   ],
   "source": [
    "10 < '11'"
   ]
  },
  {
   "cell_type": "code",
   "execution_count": 25,
   "metadata": {},
   "outputs": [
    {
     "name": "stdout",
     "output_type": "stream",
     "text": [
      "{'2': 1}\n",
      "{'2': 1}\n",
      "{'2': 1, '6': 1}\n",
      "{'2': 1, '6': 1, '22': 2}\n",
      "{'2': 1, '6': 1, '22': 2, '26': 2}\n",
      "{'2': 1, '6': 1, '22': 2, '26': 2, '226': 3}\n"
     ]
    },
    {
     "data": {
      "text/plain": [
       "3"
      ]
     },
     "execution_count": 25,
     "metadata": {},
     "output_type": "execute_result"
    }
   ],
   "source": [
    "numDecodings('226')"
   ]
  },
  {
   "cell_type": "code",
   "execution_count": 8,
   "metadata": {},
   "outputs": [],
   "source": [
    "s = '226'\n",
    "dp = [0] * (len(s)+1)\n",
    "dp[0] = 1\n",
    "dp[1] = 0 if s[0] == '0' else 1\n",
    "for i in range(2, len(dp)):\n",
    "    if s[i-1] != '0':\n",
    "        dp[i] += dp[i-1]\n",
    "\n",
    "    two_digits = int(s[i-2:i])\n",
    "    if 10 <= two_digits <= 26:\n",
    "        dp[i] += dp[i-2]"
   ]
  },
  {
   "cell_type": "code",
   "execution_count": 9,
   "metadata": {},
   "outputs": [
    {
     "data": {
      "text/plain": [
       "[1, 1, 2, 3]"
      ]
     },
     "execution_count": 9,
     "metadata": {},
     "output_type": "execute_result"
    }
   ],
   "source": [
    "dp"
   ]
  }
 ],
 "metadata": {
  "kernelspec": {
   "display_name": "Python 3",
   "language": "python",
   "name": "python3"
  },
  "language_info": {
   "codemirror_mode": {
    "name": "ipython",
    "version": 3
   },
   "file_extension": ".py",
   "mimetype": "text/x-python",
   "name": "python",
   "nbconvert_exporter": "python",
   "pygments_lexer": "ipython3",
   "version": "3.8.5"
  }
 },
 "nbformat": 4,
 "nbformat_minor": 4
}
