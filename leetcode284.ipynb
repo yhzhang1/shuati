{
 "cells": [
  {
   "cell_type": "markdown",
   "metadata": {},
   "source": [
    "https://leetcode.com/problems/peeking-iterator/solution/"
   ]
  },
  {
   "cell_type": "code",
   "execution_count": 1,
   "metadata": {},
   "outputs": [],
   "source": [
    "# Below is the interface for Iterator, which is already defined for you.\n",
    "#\n",
    "# class Iterator:\n",
    "#     def __init__(self, nums):\n",
    "#         \"\"\"\n",
    "#         Initializes an iterator object to the beginning of a list.\n",
    "#         :type nums: List[int]\n",
    "#         \"\"\"\n",
    "#\n",
    "#     def hasNext(self):\n",
    "#         \"\"\"\n",
    "#         Returns true if the iteration has more elements.\n",
    "#         :rtype: bool\n",
    "#         \"\"\"\n",
    "#\n",
    "#     def next(self):\n",
    "#         \"\"\"\n",
    "#         Returns the next element in the iteration.\n",
    "#         :rtype: int\n",
    "#         \"\"\"\n",
    "\n",
    "class PeekingIterator:\n",
    "    def __init__(self, iterator):\n",
    "        \"\"\"\n",
    "        Initialize your data structure here.\n",
    "        :type iterator: Iterator\n",
    "        \"\"\"\n",
    "        self._next = iterator.next()\n",
    "        self._iterator = iterator\n",
    "        \n",
    "\n",
    "    def peek(self):\n",
    "        \"\"\"\n",
    "        Returns the next element in the iteration without advancing the iterator.\n",
    "        :rtype: int\n",
    "        \"\"\"\n",
    "        return self._next\n",
    "\n",
    "    def next(self):\n",
    "        \"\"\"\n",
    "        :rtype: int\n",
    "        \"\"\"\n",
    "        if self._next is None:\n",
    "            raise StopIteration()\n",
    "        toReturn = self._next\n",
    "        self._next = None\n",
    "        if self._iterator.hasNext():\n",
    "            self._next = self._iterator.next()\n",
    "        return toReturn\n",
    "\n",
    "    def hasNext(self):\n",
    "        \"\"\"\n",
    "        :rtype: bool\n",
    "        \"\"\"\n",
    "        return self._next is not None\n",
    "\n",
    "# Your PeekingIterator object will be instantiated and called as such:\n",
    "# iter = PeekingIterator(Iterator(nums))\n",
    "# while iter.hasNext():\n",
    "#     val = iter.peek()   # Get the next element but not advance the iterator.\n",
    "#     iter.next()         # Should return the same value as [val]."
   ]
  }
 ],
 "metadata": {
  "kernelspec": {
   "display_name": "Python 3",
   "language": "python",
   "name": "python3"
  },
  "language_info": {
   "codemirror_mode": {
    "name": "ipython",
    "version": 3
   },
   "file_extension": ".py",
   "mimetype": "text/x-python",
   "name": "python",
   "nbconvert_exporter": "python",
   "pygments_lexer": "ipython3",
   "version": "3.7.6"
  }
 },
 "nbformat": 4,
 "nbformat_minor": 4
}
