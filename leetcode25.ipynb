{
 "cells": [
  {
   "cell_type": "markdown",
   "metadata": {},
   "source": [
    "https://www.youtube.com/watch?v=pLx1VP-FnuY"
   ]
  },
  {
   "cell_type": "code",
   "execution_count": 3,
   "metadata": {},
   "outputs": [],
   "source": [
    "# Definition for singly-linked list.\n",
    "class ListNode:\n",
    "    def __init__(self, val=0, next=None):\n",
    "        self.val = val\n",
    "        self.next = next\n",
    "class Solution:\n",
    "    def reverseKGroup(self, head: ListNode, k: int) -> ListNode:\n",
    "        def reverse(prev, k) -> ListNode:\n",
    "            last = prev\n",
    "            for i in range(k+1):\n",
    "                last = last.next\n",
    "                if not last and i != k:\n",
    "                    return None\n",
    "            \n",
    "            tail = prev.next\n",
    "            cur = prev.next.next\n",
    "            while cur != last:\n",
    "                next = cur.next\n",
    "                cur.next = prev.next\n",
    "                prev.next = cur\n",
    "                tail.next = next\n",
    "                cur = next\n",
    "            \n",
    "            return tail\n",
    "                \n",
    "        dummy = ListNode()\n",
    "        dummy.next = head\n",
    "        prev = dummy\n",
    "        while prev:\n",
    "            prev = reverse(prev, k)\n",
    "            \n",
    "        return dummy.next"
   ]
  },
  {
   "cell_type": "code",
   "execution_count": 2,
   "metadata": {},
   "outputs": [],
   "source": [
    "# Definition for singly-linked list.\n",
    "class ListNode:\n",
    "    def __init__(self, val=0, next=None):\n",
    "        self.val = val\n",
    "        self.next = next\n",
    "class Solution:\n",
    "    def reverseKGroup(self, head: ListNode, k: int) -> ListNode:\n",
    "        stack = []\n",
    "        dummy = cur = ListNode()\n",
    "        \n",
    "        while head:\n",
    "            for _ in range(k):\n",
    "                if not head:\n",
    "                    return dummy.next\n",
    "                stack.append(head)\n",
    "                head = head.next\n",
    "\n",
    "            while stack:\n",
    "                cur.next = stack.pop()\n",
    "                cur = cur.next\n",
    "            cur.next = head\n",
    "            \n",
    "        return dummy.next\n",
    "        "
   ]
  },
  {
   "cell_type": "code",
   "execution_count": 3,
   "metadata": {},
   "outputs": [],
   "source": [
    "# Definition for singly-linked list.\n",
    "# class ListNode:\n",
    "#     def __init__(self, val=0, next=None):\n",
    "#         self.val = val\n",
    "#         self.next = next\n",
    "class Solution:\n",
    "    def reverseKGroup(self, head: ListNode, k: int) -> ListNode:\n",
    "        def reverse(head: ListNode, k: int) -> ListNode:\n",
    "            if k == 1:\n",
    "                return head\n",
    "            \n",
    "            newHead = reverse(head.next, k-1)\n",
    "            head.next.next = head\n",
    "            head.next = None\n",
    "            return newHead\n",
    "        \n",
    "        if not head:\n",
    "            return head\n",
    "        cur = head\n",
    "        for i in range(k-1):\n",
    "            if cur.next:\n",
    "                cur = cur.next\n",
    "            else:\n",
    "                return head\n",
    "            \n",
    "        nextGroupHead = self.reverseKGroup(cur.next, k)\n",
    "        tail = head\n",
    "        newHead = reverse(head, k)\n",
    "        tail.next = nextGroupHead\n",
    "        \n",
    "        return newHead\n",
    "        \n",
    "        "
   ]
  },
  {
   "cell_type": "code",
   "execution_count": null,
   "metadata": {},
   "outputs": [],
   "source": []
  }
 ],
 "metadata": {
  "kernelspec": {
   "display_name": "Python 3",
   "language": "python",
   "name": "python3"
  },
  "language_info": {
   "codemirror_mode": {
    "name": "ipython",
    "version": 3
   },
   "file_extension": ".py",
   "mimetype": "text/x-python",
   "name": "python",
   "nbconvert_exporter": "python",
   "pygments_lexer": "ipython3",
   "version": "3.8.5"
  }
 },
 "nbformat": 4,
 "nbformat_minor": 4
}
