{
 "cells": [
  {
   "cell_type": "code",
   "execution_count": 2,
   "id": "51beb871-7753-4023-b2ee-b89d998746bd",
   "metadata": {},
   "outputs": [],
   "source": [
    "# T: O(1), S: O(1)\n",
    "class Solution:\n",
    "    def countTime(self, time: str) -> int:\n",
    "        def dfs(time_list, d):\n",
    "            if d == 5:\n",
    "                time_str = ''.join(time_list)\n",
    "                if '00:00' <= time_str <= '23:59':\n",
    "                    # print('ok', time_str)\n",
    "                    self.ans += 1\n",
    "                return\n",
    "            if time_list[d] == '?':\n",
    "                if d == 0:\n",
    "                    n_digits = 3\n",
    "                elif d == 3:\n",
    "                    n_digits = 6\n",
    "                else:\n",
    "                    n_digits = 10\n",
    "                for i in range(n_digits):\n",
    "                    time_list[d] = str(i)\n",
    "                    dfs(time_list, d+1)\n",
    "                time_list[d] = '?'\n",
    "            else:\n",
    "                dfs(time_list, d+1)\n",
    "        \n",
    "        self.ans = 0\n",
    "        dfs([c for c in time], 0)\n",
    "        return self.ans"
   ]
  }
 ],
 "metadata": {
  "kernelspec": {
   "display_name": "Python 3 (ipykernel)",
   "language": "python",
   "name": "python3"
  },
  "language_info": {
   "codemirror_mode": {
    "name": "ipython",
    "version": 3
   },
   "file_extension": ".py",
   "mimetype": "text/x-python",
   "name": "python",
   "nbconvert_exporter": "python",
   "pygments_lexer": "ipython3",
   "version": "3.8.5"
  }
 },
 "nbformat": 4,
 "nbformat_minor": 5
}
