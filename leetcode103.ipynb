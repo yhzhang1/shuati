{
 "cells": [
  {
   "cell_type": "markdown",
   "metadata": {},
   "source": [
    "https://www.youtube.com/watch?v=U77m7wWWhV0&t=490s\n",
    "\n",
    "https://www.youtube.com/watch?v=00sRNHb6VP4"
   ]
  },
  {
   "cell_type": "code",
   "execution_count": 4,
   "metadata": {},
   "outputs": [],
   "source": [
    "# T: O(n), S: O(n)\n",
    "# Definition for a binary tree node.\n",
    "from typing import Optional, List\n",
    "\n",
    "class TreeNode:\n",
    "    def __init__(self, val=0, left=None, right=None):\n",
    "        self.val = val\n",
    "        self.left = left\n",
    "        self.right = right\n",
    "class Solution:\n",
    "    def zigzagLevelOrder(self, root: Optional[TreeNode]) -> List[List[int]]:\n",
    "        ans = []\n",
    "        if not root:    return ans\n",
    "        \n",
    "        queue = deque([root])\n",
    "        left2right = True\n",
    "        while queue:\n",
    "            level = []\n",
    "            if left2right:\n",
    "                for _ in range(len(queue)):\n",
    "                    node = queue.popleft()\n",
    "                    level.append(node.val)\n",
    "                    if node.left:   queue.append(node.left)\n",
    "                    if node.right:  queue.append(node.right)\n",
    "            else:\n",
    "                for _ in range(len(queue)):\n",
    "                    node = queue.pop()\n",
    "                    level.append(node.val)\n",
    "                    if node.right:  queue.appendleft(node.right)\n",
    "                    if node.left:   queue.appendleft(node.left)\n",
    "            ans.append(level)\n",
    "            left2right = not left2right\n",
    "            \n",
    "        return ans\n",
    "                    \n",
    "                    "
   ]
  },
  {
   "cell_type": "code",
   "execution_count": null,
   "metadata": {},
   "outputs": [],
   "source": [
    "from typing import Optional, List\n",
    "# Definition for a binary tree node.\n",
    "class TreeNode:\n",
    "    def __init__(self, val=0, left=None, right=None):\n",
    "        self.val = val\n",
    "        self.left = left\n",
    "        self.right = right\n",
    "class Solution:\n",
    "    def zigzagLevelOrder(self, root: Optional[TreeNode]) -> List[List[int]]:\n",
    "        q, res = [(root, 1)], []\n",
    "        if not root:\n",
    "            return res\n",
    "        \n",
    "        while q:\n",
    "            node, level = q.pop(0)\n",
    "            if node.left:\n",
    "                q.append((node.left, level+1))\n",
    "            if node.right:\n",
    "                q.append((node.right, level+1))\n",
    "            \n",
    "            if level == len(res):\n",
    "                res[level-1].append(node.val)\n",
    "            else:\n",
    "                res.append([node.val])\n",
    "                \n",
    "        for i in range(len(res)):\n",
    "            if i % 2 == 1:\n",
    "                res[i] = res[i][::-1]\n",
    "                \n",
    "        return res"
   ]
  },
  {
   "cell_type": "markdown",
   "metadata": {},
   "source": [
    "https://www.youtube.com/watch?v=KFkjJ7pjWVw&t=68s"
   ]
  },
  {
   "cell_type": "code",
   "execution_count": null,
   "metadata": {},
   "outputs": [],
   "source": [
    "# Definition for a binary tree node.\n",
    "# class TreeNode:\n",
    "#     def __init__(self, val=0, left=None, right=None):\n",
    "#         self.val = val\n",
    "#         self.left = left\n",
    "#         self.right = right\n",
    "class Solution:\n",
    "    def zigzagLevelOrder(self, root: Optional[TreeNode]) -> List[List[int]]:\n",
    "        res = []\n",
    "        if not root:\n",
    "            return res\n",
    "        \n",
    "        queue = deque([root])\n",
    "        left2right = True\n",
    "        while queue:\n",
    "            level = deque()\n",
    "            for i in range(len(queue)):\n",
    "                node = queue.pop()\n",
    "                if left2right:\n",
    "                    level.append(node.val)\n",
    "                else:\n",
    "                    level.appendleft(node.val)\n",
    "                    \n",
    "                if node.left:   queue.appendleft(node.left)\n",
    "                if node.right:  queue.appendleft(node.right)\n",
    "            res.append(level)\n",
    "            left2right = not left2right\n",
    "                \n",
    "        return res\n",
    "            \n",
    "        "
   ]
  },
  {
   "cell_type": "code",
   "execution_count": null,
   "metadata": {},
   "outputs": [],
   "source": [
    "# Definition for a binary tree node.\n",
    "# class TreeNode:\n",
    "#     def __init__(self, val=0, left=None, right=None):\n",
    "#         self.val = val\n",
    "#         self.left = left\n",
    "#         self.right = right\n",
    "class Solution:\n",
    "    def zigzagLevelOrder(self, root: Optional[TreeNode]) -> List[List[int]]:\n",
    "        res = []\n",
    "        if not root:\n",
    "            return res\n",
    "        \n",
    "        queue = deque([root])\n",
    "        left2right = True\n",
    "        while queue:\n",
    "            level = []\n",
    "            for i in range(len(queue)):\n",
    "                node = queue.pop()\n",
    "                level.append(node.val)\n",
    "\n",
    "                if node.left:   queue.appendleft(node.left)\n",
    "                if node.right:  queue.appendleft(node.right)\n",
    "            res.append(level if left2right else level[::-1])\n",
    "            left2right = not left2right\n",
    "                \n",
    "        return res\n",
    "            \n",
    "        "
   ]
  },
  {
   "cell_type": "code",
   "execution_count": null,
   "metadata": {},
   "outputs": [],
   "source": [
    "# Definition for a binary tree node.\n",
    "# class TreeNode:\n",
    "#     def __init__(self, val=0, left=None, right=None):\n",
    "#         self.val = val\n",
    "#         self.left = left\n",
    "#         self.right = right\n",
    "class Solution:\n",
    "    def zigzagLevelOrder(self, root: Optional[TreeNode]) -> List[List[int]]:\n",
    "        res = []\n",
    "        if not root:\n",
    "            return res\n",
    "        \n",
    "        queue = deque([root])\n",
    "        left2right = True\n",
    "        while queue:\n",
    "            level = []\n",
    "            for i in range(len(queue)):\n",
    "                node = queue.pop()\n",
    "                if left2right:\n",
    "                    level.append(node.val)\n",
    "                else:\n",
    "                    level.insert(0, node.val)\n",
    "                    \n",
    "                if node.left:   queue.appendleft(node.left)\n",
    "                if node.right:  queue.appendleft(node.right)\n",
    "            res.append(level)\n",
    "            left2right = not left2right\n",
    "                \n",
    "        return res\n",
    "            \n",
    "        "
   ]
  },
  {
   "cell_type": "code",
   "execution_count": 1,
   "metadata": {},
   "outputs": [
    {
     "data": {
      "text/plain": [
       "range(0, 5)"
      ]
     },
     "execution_count": 1,
     "metadata": {},
     "output_type": "execute_result"
    }
   ],
   "source": [
    "range(5)"
   ]
  },
  {
   "cell_type": "code",
   "execution_count": 3,
   "metadata": {},
   "outputs": [
    {
     "name": "stdout",
     "output_type": "stream",
     "text": [
      "4\n",
      "3\n",
      "2\n",
      "1\n",
      "0\n"
     ]
    }
   ],
   "source": [
    "for i in reversed(range(5)):\n",
    "    print(i)"
   ]
  },
  {
   "cell_type": "code",
   "execution_count": null,
   "metadata": {},
   "outputs": [],
   "source": []
  }
 ],
 "metadata": {
  "kernelspec": {
   "display_name": "Python 3",
   "language": "python",
   "name": "python3"
  },
  "language_info": {
   "codemirror_mode": {
    "name": "ipython",
    "version": 3
   },
   "file_extension": ".py",
   "mimetype": "text/x-python",
   "name": "python",
   "nbconvert_exporter": "python",
   "pygments_lexer": "ipython3",
   "version": "3.8.5"
  }
 },
 "nbformat": 4,
 "nbformat_minor": 4
}
