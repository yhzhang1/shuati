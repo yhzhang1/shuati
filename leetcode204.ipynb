{
 "cells": [
  {
   "cell_type": "markdown",
   "metadata": {},
   "source": [
    "https://www.youtube.com/watch?v=UGeCe5WQNVg"
   ]
  },
  {
   "cell_type": "code",
   "execution_count": 1,
   "metadata": {},
   "outputs": [],
   "source": [
    "class Solution:\n",
    "    def countPrimes(self, n: int) -> int:\n",
    "        if n <= 1:\n",
    "            return 0\n",
    "        \n",
    "        nums = [None]*n\n",
    "        nums[0] = False\n",
    "        nums[1] = False\n",
    "        \n",
    "        for i in range(n):\n",
    "            if nums[i] == None:\n",
    "                nums[i] = True\n",
    "                \n",
    "                for j in range(i+i, n, i):\n",
    "                    nums[j] = False\n",
    "                                        \n",
    "        return sum(nums)"
   ]
  }
 ],
 "metadata": {
  "kernelspec": {
   "display_name": "Python 3",
   "language": "python",
   "name": "python3"
  },
  "language_info": {
   "codemirror_mode": {
    "name": "ipython",
    "version": 3
   },
   "file_extension": ".py",
   "mimetype": "text/x-python",
   "name": "python",
   "nbconvert_exporter": "python",
   "pygments_lexer": "ipython3",
   "version": "3.7.6"
  }
 },
 "nbformat": 4,
 "nbformat_minor": 4
}
