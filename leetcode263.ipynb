{
 "cells": [
  {
   "cell_type": "code",
   "execution_count": 1,
   "metadata": {},
   "outputs": [],
   "source": [
    "class Solution:\n",
    "    def isUgly(self, num: int) -> bool:\n",
    "        if num <= 0:    \n",
    "            return False\n",
    "        while num != 1:\n",
    "            if num % 2 == 0:\n",
    "                num //= 2\n",
    "            elif num % 3 == 0:\n",
    "                num //= 3\n",
    "            elif num % 5 == 0:\n",
    "                num //= 5\n",
    "            else:\n",
    "                return False\n",
    "        return True\n",
    "    "
   ]
  }
 ],
 "metadata": {
  "kernelspec": {
   "display_name": "Python 3",
   "language": "python",
   "name": "python3"
  },
  "language_info": {
   "codemirror_mode": {
    "name": "ipython",
    "version": 3
   },
   "file_extension": ".py",
   "mimetype": "text/x-python",
   "name": "python",
   "nbconvert_exporter": "python",
   "pygments_lexer": "ipython3",
   "version": "3.7.6"
  }
 },
 "nbformat": 4,
 "nbformat_minor": 4
}
