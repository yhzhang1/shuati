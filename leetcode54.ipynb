{
 "cells": [
  {
   "cell_type": "markdown",
   "metadata": {},
   "source": [
    "https://www.youtube.com/watch?v=cedA25UQWcA&t=36s"
   ]
  },
  {
   "cell_type": "code",
   "execution_count": 10,
   "metadata": {},
   "outputs": [],
   "source": [
    "class Solution:\n",
    "    def spiralOrder(self, matrix: List[List[int]]) -> List[int]:\n",
    "        nrow = len(matrix)\n",
    "        ncol = len(matrix[0]) if matrix else 0\n",
    "        if nrow == 0 or ncol == 0:\n",
    "            return []\n",
    "        \n",
    "        ans = matrix[0]\n",
    "        \n",
    "        if nrow > 1:\n",
    "            for i in range(1, nrow):\n",
    "                ans += [matrix[i][ncol-1]]\n",
    "            for j in range(ncol-2, -1, -1):\n",
    "                ans += [matrix[nrow-1][j]]\n",
    "            if ncol > 1:\n",
    "                for i in range(nrow-2, 0, -1):\n",
    "                    ans += [matrix[i][0]]\n",
    "            \n",
    "        M = []\n",
    "        for k in range(1, nrow-1):\n",
    "            M.append(matrix[k][1:-1])\n",
    "            \n",
    "        return ans + self.spiralOrder(M)\n",
    "        "
   ]
  },
  {
   "cell_type": "code",
   "execution_count": 9,
   "metadata": {},
   "outputs": [],
   "source": [
    "from typing import List\n",
    "class Solution:\n",
    "    def spiralOrder(self, matrix: List[List[int]]) -> List[int]:\n",
    "        if not matrix:\n",
    "            return []\n",
    "        \n",
    "        ans = list()\n",
    "        \n",
    "        m = len(matrix)\n",
    "        n = len(matrix[0])\n",
    "\n",
    "        offset = 0\n",
    "        n_iter =  (min(m, n) // 2)\n",
    "        while offset < n_iter:\n",
    "            for j in range(offset, n-1-offset):\n",
    "                ans.append(matrix[0+offset][j])\n",
    "            for i in range(offset, m-1-offset):\n",
    "                ans.append(matrix[i][n-1-offset])\n",
    "            for j in range(n-1-offset, offset, -1):\n",
    "                ans.append(matrix[m-1-offset][j])\n",
    "            for i in range(m-1-offset, offset, -1):\n",
    "                ans.append(matrix[i][0+offset])\n",
    "                \n",
    "            offset+=1\n",
    "            \n",
    "        print(ans)\n",
    "\n",
    "\n",
    "        if m % 2 == 1 and m < n:\n",
    "        # odd row\n",
    "            for j in range(offset, n-offset):\n",
    "                ans.append(matrix[offset][j])\n",
    "        elif n % 2 == 1:\n",
    "            for i in range(offset, m-offset):\n",
    "                ans.append(matrix[i][offset])\n",
    "\n",
    "            \n",
    "        return ans\n",
    "            "
   ]
  },
  {
   "cell_type": "code",
   "execution_count": 1,
   "metadata": {},
   "outputs": [],
   "source": [
    "matrix = [[1,2,3,4],[5,6,7,8],[9,10,11,12]]\n"
   ]
  },
  {
   "cell_type": "code",
   "execution_count": 8,
   "metadata": {},
   "outputs": [
    {
     "data": {
      "text/plain": [
       "[[5, 6, 7, 8]]"
      ]
     },
     "execution_count": 8,
     "metadata": {},
     "output_type": "execute_result"
    }
   ],
   "source": [
    "matrix[1:-1]"
   ]
  },
  {
   "cell_type": "code",
   "execution_count": null,
   "metadata": {},
   "outputs": [],
   "source": []
  }
 ],
 "metadata": {
  "kernelspec": {
   "display_name": "Python 3",
   "language": "python",
   "name": "python3"
  },
  "language_info": {
   "codemirror_mode": {
    "name": "ipython",
    "version": 3
   },
   "file_extension": ".py",
   "mimetype": "text/x-python",
   "name": "python",
   "nbconvert_exporter": "python",
   "pygments_lexer": "ipython3",
   "version": "3.8.5"
  }
 },
 "nbformat": 4,
 "nbformat_minor": 4
}
