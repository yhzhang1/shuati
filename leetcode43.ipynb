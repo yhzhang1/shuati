{
 "cells": [
  {
   "cell_type": "markdown",
   "metadata": {},
   "source": [
    "https://www.youtube.com/watch?v=Z_xGMYUSEJ8"
   ]
  },
  {
   "cell_type": "code",
   "execution_count": 1,
   "metadata": {},
   "outputs": [],
   "source": [
    "class Solution:\n",
    "    def multiply(self, num1: str, num2: str) -> str:\n",
    "        n1, n2 = len(num1), len(num2)\n",
    "        ans = [0] * (n1 + n2)\n",
    "        \n",
    "        for i in range(n1-1, -1, -1):\n",
    "            for j in range(n2-1, -1, -1):\n",
    "                mul = (ord(num1[i]) - ord('0'))  * (ord(num2[j]) - ord('0'))\n",
    "                posLo = i+j+1\n",
    "                posHi = i+j\n",
    "                mul += ans[posLo]\n",
    "                ans[posLo] = mul % 10\n",
    "                ans[posHi] += mul // 10\n",
    "                \n",
    "        strip_ans = ''\n",
    "        for v in ans:\n",
    "            if v != 0 or len(strip_ans) > 0:\n",
    "                strip_ans += str(v)\n",
    "                \n",
    "        return '0' if len(strip_ans) == 0 else strip_ans\n",
    "                \n",
    "                "
   ]
  },
  {
   "cell_type": "code",
   "execution_count": null,
   "metadata": {},
   "outputs": [],
   "source": []
  }
 ],
 "metadata": {
  "kernelspec": {
   "display_name": "Python 3",
   "language": "python",
   "name": "python3"
  },
  "language_info": {
   "codemirror_mode": {
    "name": "ipython",
    "version": 3
   },
   "file_extension": ".py",
   "mimetype": "text/x-python",
   "name": "python",
   "nbconvert_exporter": "python",
   "pygments_lexer": "ipython3",
   "version": "3.8.5"
  }
 },
 "nbformat": 4,
 "nbformat_minor": 4
}
