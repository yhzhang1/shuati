{
 "cells": [
  {
   "cell_type": "markdown",
   "metadata": {},
   "source": [
    "https://leetcode.com/problems/insert-into-a-sorted-circular-linked-list/solution/"
   ]
  },
  {
   "cell_type": "code",
   "execution_count": 1,
   "metadata": {},
   "outputs": [],
   "source": [
    "# T: O(n), S: O(1)\n",
    "\"\"\"\n",
    "# Definition for a Node.\n",
    "class Node:\n",
    "    def __init__(self, val=None, next=None):\n",
    "        self.val = val\n",
    "        self.next = next\n",
    "\"\"\"\n",
    "\n",
    "class Solution:\n",
    "    def insert(self, head: 'Node', insertVal: int) -> 'Node':\n",
    "        if not head:\n",
    "            newNode = Node(insertVal)\n",
    "            newNode.next = newNode\n",
    "            return newNode\n",
    "        \n",
    "        prev, cur = head, head.next\n",
    "        toInsert = False\n",
    "        \n",
    "        while True:\n",
    "            if prev.val <= insertVal <= cur.val:\n",
    "                toInsert = True\n",
    "            elif prev.val > cur.val:\n",
    "                if insertVal >= prev.val or insertVal <= cur.val:\n",
    "                    toInsert = True\n",
    "                    \n",
    "            if toInsert:\n",
    "                prev.next = Node(insertVal, cur)\n",
    "                # mission accomplished\n",
    "                return head\n",
    "            \n",
    "            prev, cur = prev.next, cur.next\n",
    "            \n",
    "            if prev == head:\n",
    "                break\n",
    "                \n",
    "        prev.next = Node(insertVal, cur)\n",
    "        return head\n",
    "            \n",
    "        "
   ]
  },
  {
   "cell_type": "code",
   "execution_count": null,
   "metadata": {},
   "outputs": [],
   "source": []
  }
 ],
 "metadata": {
  "kernelspec": {
   "display_name": "Python 3",
   "language": "python",
   "name": "python3"
  },
  "language_info": {
   "codemirror_mode": {
    "name": "ipython",
    "version": 3
   },
   "file_extension": ".py",
   "mimetype": "text/x-python",
   "name": "python",
   "nbconvert_exporter": "python",
   "pygments_lexer": "ipython3",
   "version": "3.8.5"
  }
 },
 "nbformat": 4,
 "nbformat_minor": 4
}
