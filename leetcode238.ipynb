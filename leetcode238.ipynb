{
 "cells": [
  {
   "cell_type": "markdown",
   "metadata": {},
   "source": [
    "https://leetcode.com/problems/product-of-array-except-self/solution/"
   ]
  },
  {
   "cell_type": "code",
   "execution_count": 4,
   "metadata": {},
   "outputs": [],
   "source": [
    "# T: O(n), S: O(1)\n",
    "class Solution:\n",
    "    def productExceptSelf(self, nums: List[int]) -> List[int]:\n",
    "        ans = [1] * len(nums)\n",
    "        \n",
    "        for i in range(1, len(nums)):\n",
    "            ans[i] = ans[i-1] * nums[i-1]\n",
    "            \n",
    "        postfix = 1\n",
    "        for i in reversed(range(len(nums))):\n",
    "            ans[i] = ans[i] * postfix\n",
    "            postfix *= nums[i]\n",
    "            \n",
    "        return ans\n",
    "            \n",
    "        "
   ]
  },
  {
   "cell_type": "code",
   "execution_count": 1,
   "metadata": {},
   "outputs": [],
   "source": [
    "# T: O(n), S: O(n)\n",
    "from typing import List\n",
    "class Solution:\n",
    "    def productExceptSelf(self, nums: List[int]) -> List[int]:\n",
    "        prefix = [1] * len(nums)\n",
    "        postfix = [1] * len(nums)\n",
    "        ans = [0] * len(nums)\n",
    "        \n",
    "        for i in range(1, len(nums)):\n",
    "            prefix[i] = prefix[i-1] * nums[i-1]\n",
    "            \n",
    "        for i in reversed(range(len(nums) - 1)):\n",
    "            postfix[i] = postfix[i+1] * nums[i+1]\n",
    "            \n",
    "        for i in range(len(nums)):\n",
    "            ans[i] = prefix[i] * postfix[i]\n",
    "            \n",
    "        return ans\n",
    "            \n",
    "        "
   ]
  },
  {
   "cell_type": "code",
   "execution_count": null,
   "metadata": {},
   "outputs": [],
   "source": []
  }
 ],
 "metadata": {
  "kernelspec": {
   "display_name": "Python 3",
   "language": "python",
   "name": "python3"
  },
  "language_info": {
   "codemirror_mode": {
    "name": "ipython",
    "version": 3
   },
   "file_extension": ".py",
   "mimetype": "text/x-python",
   "name": "python",
   "nbconvert_exporter": "python",
   "pygments_lexer": "ipython3",
   "version": "3.8.5"
  }
 },
 "nbformat": 4,
 "nbformat_minor": 4
}
