{
 "cells": [
  {
   "cell_type": "markdown",
   "metadata": {},
   "source": [
    "https://www.youtube.com/watch?v=hm3PPds59-0"
   ]
  },
  {
   "cell_type": "code",
   "execution_count": 3,
   "metadata": {},
   "outputs": [],
   "source": [
    "from typing import List\n",
    "class Solution:\n",
    "    def rob(self, nums: List[int]) -> int:\n",
    "        n = len(nums)\n",
    "        if n == 1:\n",
    "            return nums[0]\n",
    "        return max(self.helper(nums, 0, n-2), self.helper(nums, 1, n-1))\n",
    "        \n",
    "    def helper(self, nums, start, end):\n",
    "        if start == end:\n",
    "            return nums[start]\n",
    "        dp = [0] * (end-start+1)\n",
    "        \n",
    "        dp[0] = nums[start]\n",
    "        dp[1] = max(nums[start], nums[start+1])\n",
    "        \n",
    "        for i in range(2, len(dp)):\n",
    "            dp[i] = max(dp[i-2]+nums[start+i], dp[i-1])\n",
    "                        \n",
    "        return dp[-1]"
   ]
  }
 ],
 "metadata": {
  "kernelspec": {
   "display_name": "Python 3",
   "language": "python",
   "name": "python3"
  },
  "language_info": {
   "codemirror_mode": {
    "name": "ipython",
    "version": 3
   },
   "file_extension": ".py",
   "mimetype": "text/x-python",
   "name": "python",
   "nbconvert_exporter": "python",
   "pygments_lexer": "ipython3",
   "version": "3.7.6"
  }
 },
 "nbformat": 4,
 "nbformat_minor": 4
}
