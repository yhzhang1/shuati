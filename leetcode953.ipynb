{
 "cells": [
  {
   "cell_type": "markdown",
   "metadata": {},
   "source": [
    "https://leetcode.com/problems/verifying-an-alien-dictionary/solution/"
   ]
  },
  {
   "cell_type": "code",
   "execution_count": 3,
   "metadata": {},
   "outputs": [],
   "source": [
    "# T: O(n), S: O(1), where n is the total number of characters in words\n",
    "class Solution:\n",
    "    def isAlienSorted(self, words: List[str], order: str) -> bool:\n",
    "        orderMap = {}\n",
    "        for idx, val in enumerate(order):\n",
    "            orderMap[val] = idx\n",
    "            \n",
    "        for i in range(len(words)-1):\n",
    "            for j in range(len(words[i])):\n",
    "                if j >= len(words[i+1]):\n",
    "                    return False\n",
    "                elif words[i][j] != words[i+1][j]:\n",
    "                    if orderMap[words[i][j]] > orderMap[words[i+1][j]]:\n",
    "                        return False\n",
    "                    break\n",
    "                    \n",
    "        return True\n",
    "                    "
   ]
  },
  {
   "cell_type": "code",
   "execution_count": 4,
   "metadata": {},
   "outputs": [],
   "source": [
    "class Solution:\n",
    "    def isAlienSorted(self, words: List[str], order: str) -> bool:\n",
    "        \n",
    "        for word1, word2 in zip(words, words[1:]):\n",
    "            for c1, c2 in zip(word1, word2):\n",
    "                if c1 != c2:\n",
    "                    if order.index(c1) > order.index(c2):\n",
    "                        return False\n",
    "                    break\n",
    "            else:\n",
    "                if len(word1) > len(word2): return False\n",
    "        return True"
   ]
  },
  {
   "cell_type": "code",
   "execution_count": 2,
   "metadata": {},
   "outputs": [],
   "source": [
    "from typing import List\n",
    "class Solution:\n",
    "    def isAlienSorted(self, words: List[str], order: str) -> bool:\n",
    "        if min(map(len, words)) == 0:\n",
    "            if len(words[0]) == 0:\n",
    "                return True\n",
    "            else:\n",
    "                return False\n",
    "        \n",
    "        for i in range(1, len(words)):\n",
    "            if order.index(words[i-1][0]) > order.index(words[i][0]):\n",
    "                return False\n",
    "            elif order.index(words[i-1][0]) == order.index(words[i][0]):\n",
    "                if not self.isAlienSorted([words[i-1][1:], words[i][1:]], order):\n",
    "                    return False\n",
    "        \n",
    "        return True"
   ]
  },
  {
   "cell_type": "code",
   "execution_count": 2,
   "metadata": {},
   "outputs": [
    {
     "data": {
      "text/plain": [
       "10"
      ]
     },
     "execution_count": 2,
     "metadata": {},
     "output_type": "execute_result"
    }
   ],
   "source": [
    "\"hlabcdefgijkmnopqrstuvwxyz\".index('j')"
   ]
  },
  {
   "cell_type": "code",
   "execution_count": 3,
   "metadata": {},
   "outputs": [],
   "source": [
    "words = [\"hello\",\"leetcode\"]"
   ]
  },
  {
   "cell_type": "code",
   "execution_count": 7,
   "metadata": {},
   "outputs": [
    {
     "data": {
      "text/plain": [
       "5"
      ]
     },
     "execution_count": 7,
     "metadata": {},
     "output_type": "execute_result"
    }
   ],
   "source": [
    "min(map(len, words))"
   ]
  },
  {
   "cell_type": "code",
   "execution_count": null,
   "metadata": {},
   "outputs": [],
   "source": []
  }
 ],
 "metadata": {
  "kernelspec": {
   "display_name": "Python 3",
   "language": "python",
   "name": "python3"
  },
  "language_info": {
   "codemirror_mode": {
    "name": "ipython",
    "version": 3
   },
   "file_extension": ".py",
   "mimetype": "text/x-python",
   "name": "python",
   "nbconvert_exporter": "python",
   "pygments_lexer": "ipython3",
   "version": "3.8.5"
  }
 },
 "nbformat": 4,
 "nbformat_minor": 4
}
