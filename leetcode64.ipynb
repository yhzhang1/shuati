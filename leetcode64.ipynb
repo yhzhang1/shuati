{
 "cells": [
  {
   "cell_type": "markdown",
   "metadata": {},
   "source": [
    "https://www.youtube.com/watch?v=Num2bcAu0Sk"
   ]
  },
  {
   "cell_type": "code",
   "execution_count": 7,
   "metadata": {},
   "outputs": [],
   "source": [
    "class Solution:\n",
    "    def __init__(self):\n",
    "        self.s_ = []\n",
    "    def minPathSum(self, grid: List[List[int]]) -> int:\n",
    "        m = len(grid)\n",
    "        if m == 0:  return 0\n",
    "        n = len(grid[0])\n",
    "        \n",
    "        self.s_ = [[0]*n for _ in range(m)]\n",
    "        \n",
    "        return self.__minPathSum(grid, n-1, m-1)\n",
    "        \n",
    "        \n",
    "    def __minPathSum(self, grid, x, y) -> int:\n",
    "        if x < 0 or y < 0:\n",
    "            return float('inf')\n",
    "        elif x == 0 and y == 0:\n",
    "            return grid[y][x]\n",
    "        elif self.s_[y][x] > 0:\n",
    "            return self.s_[y][x]\n",
    "        \n",
    "        self.s_[y][x] = grid[y][x] + min(self.__minPathSum(grid, x-1, y), self.__minPathSum(grid, x, y-1))\n",
    "        \n",
    "        return self.s_[y][x]"
   ]
  },
  {
   "cell_type": "code",
   "execution_count": 4,
   "metadata": {},
   "outputs": [],
   "source": [
    "class Solution:\n",
    "    def minPathSum(self, grid: List[List[int]]) -> int:\n",
    "        m = len(grid)\n",
    "        if m == 0:  return 0\n",
    "        n = len(grid[0])\n",
    "        \n",
    "        dp = [[0]*n for _ in range(m)]\n",
    "        \n",
    "        for i in range(m):\n",
    "            for j in range(n):\n",
    "                if i == 0 and j == 0:\n",
    "                    dp[i][j] = grid[i][j]\n",
    "                elif i == 0:\n",
    "                    dp[i][j] = grid[i][j] + dp[i][j-1]\n",
    "                elif j == 0:\n",
    "                    dp[i][j] = grid[i][j] + dp[i-1][j]\n",
    "                else:\n",
    "                    dp[i][j] = grid[i][j] + min(dp[i-1][j], dp[i][j-1])\n",
    "                \n",
    "        return dp[-1][-1]"
   ]
  },
  {
   "cell_type": "code",
   "execution_count": 2,
   "metadata": {},
   "outputs": [],
   "source": [
    "from typing import List\n",
    "class Solution:\n",
    "    def minPathSum(self, grid: List[List[int]]) -> int:\n",
    "        m = len(grid)\n",
    "        n = len(grid[0])\n",
    "        \n",
    "        d = [[0] * n for _ in range(m)]\n",
    "        d[0][0] = grid[0][0]\n",
    "        \n",
    "        # initialize 1st row\n",
    "        for j in range(1, n):\n",
    "            d[0][j] = grid[0][j] + d[0][j-1]\n",
    "        # initialize 1st col\n",
    "        for i in range(1, m):\n",
    "            d[i][0] = grid[i][0] + d[i-1][0]\n",
    "            \n",
    "        for i in range(1, m):\n",
    "            for j in range(1, n):\n",
    "                d[i][j] = grid[i][j] + min(d[i-1][j], d[i][j-1])\n",
    "                \n",
    "        return d[-1][-1]"
   ]
  },
  {
   "cell_type": "code",
   "execution_count": 6,
   "metadata": {},
   "outputs": [
    {
     "data": {
      "text/plain": [
       "inf"
      ]
     },
     "execution_count": 6,
     "metadata": {},
     "output_type": "execute_result"
    }
   ],
   "source": [
    "float('inf')"
   ]
  },
  {
   "cell_type": "code",
   "execution_count": 23,
   "metadata": {},
   "outputs": [],
   "source": [
    "class A:\n",
    "    def method1(self):\n",
    "        print('method1')\n",
    "    def _method2(self):\n",
    "        print('method2')\n",
    "    def __method3(self):\n",
    "        print('method3')"
   ]
  },
  {
   "cell_type": "code",
   "execution_count": 24,
   "metadata": {},
   "outputs": [
    {
     "data": {
      "text/plain": [
       "<__main__.A at 0x121cd079fa0>"
      ]
     },
     "execution_count": 24,
     "metadata": {},
     "output_type": "execute_result"
    }
   ],
   "source": [
    "a = A()\n",
    "a"
   ]
  },
  {
   "cell_type": "code",
   "execution_count": 25,
   "metadata": {},
   "outputs": [
    {
     "name": "stdout",
     "output_type": "stream",
     "text": [
      "method1\n"
     ]
    }
   ],
   "source": [
    "a.method1()"
   ]
  },
  {
   "cell_type": "code",
   "execution_count": 26,
   "metadata": {},
   "outputs": [
    {
     "name": "stdout",
     "output_type": "stream",
     "text": [
      "method2\n"
     ]
    }
   ],
   "source": [
    "a._method2()"
   ]
  },
  {
   "cell_type": "code",
   "execution_count": 27,
   "metadata": {},
   "outputs": [
    {
     "ename": "AttributeError",
     "evalue": "'A' object has no attribute '__method3'",
     "output_type": "error",
     "traceback": [
      "\u001b[1;31m---------------------------------------------------------------------------\u001b[0m",
      "\u001b[1;31mAttributeError\u001b[0m                            Traceback (most recent call last)",
      "\u001b[1;32m<ipython-input-27-1e501a5fbd6b>\u001b[0m in \u001b[0;36m<module>\u001b[1;34m\u001b[0m\n\u001b[1;32m----> 1\u001b[1;33m \u001b[0ma\u001b[0m\u001b[1;33m.\u001b[0m\u001b[0m__method3\u001b[0m\u001b[1;33m(\u001b[0m\u001b[1;33m)\u001b[0m\u001b[1;33m\u001b[0m\u001b[1;33m\u001b[0m\u001b[0m\n\u001b[0m",
      "\u001b[1;31mAttributeError\u001b[0m: 'A' object has no attribute '__method3'"
     ]
    }
   ],
   "source": [
    "a.__method3()"
   ]
  },
  {
   "cell_type": "code",
   "execution_count": null,
   "metadata": {},
   "outputs": [],
   "source": []
  }
 ],
 "metadata": {
  "kernelspec": {
   "display_name": "Python 3",
   "language": "python",
   "name": "python3"
  },
  "language_info": {
   "codemirror_mode": {
    "name": "ipython",
    "version": 3
   },
   "file_extension": ".py",
   "mimetype": "text/x-python",
   "name": "python",
   "nbconvert_exporter": "python",
   "pygments_lexer": "ipython3",
   "version": "3.8.5"
  }
 },
 "nbformat": 4,
 "nbformat_minor": 4
}
