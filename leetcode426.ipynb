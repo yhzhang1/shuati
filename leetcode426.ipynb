{
 "cells": [
  {
   "cell_type": "markdown",
   "metadata": {},
   "source": [
    "https://leetcode.com/problems/convert-binary-search-tree-to-sorted-doubly-linked-list/solution/"
   ]
  },
  {
   "cell_type": "code",
   "execution_count": 1,
   "metadata": {},
   "outputs": [],
   "source": [
    "# T: O(n), S: O(n)\n",
    "\"\"\"\n",
    "# Definition for a Node.\n",
    "class Node:\n",
    "    def __init__(self, val, left=None, right=None):\n",
    "        self.val = val\n",
    "        self.left = left\n",
    "        self.right = right\n",
    "\"\"\"\n",
    "\n",
    "class Solution:\n",
    "    def treeToDoublyList(self, root: 'Node') -> 'Node':\n",
    "        def inorder(root):\n",
    "            nonlocal first, last\n",
    "            if root:\n",
    "                inorder(root.left)\n",
    "                if last:\n",
    "                    last.right = root\n",
    "                    root.left = last\n",
    "                else:\n",
    "                    first = root\n",
    "                last = root\n",
    "                inorder(root.right)\n",
    "                \n",
    "        if not root:\n",
    "            return None\n",
    "        first = last = None\n",
    "        inorder(root)\n",
    "        first.left = last\n",
    "        last.right = first\n",
    "        \n",
    "        return first"
   ]
  },
  {
   "cell_type": "code",
   "execution_count": null,
   "metadata": {},
   "outputs": [],
   "source": []
  }
 ],
 "metadata": {
  "kernelspec": {
   "display_name": "Python 3",
   "language": "python",
   "name": "python3"
  },
  "language_info": {
   "codemirror_mode": {
    "name": "ipython",
    "version": 3
   },
   "file_extension": ".py",
   "mimetype": "text/x-python",
   "name": "python",
   "nbconvert_exporter": "python",
   "pygments_lexer": "ipython3",
   "version": "3.8.5"
  }
 },
 "nbformat": 4,
 "nbformat_minor": 4
}
