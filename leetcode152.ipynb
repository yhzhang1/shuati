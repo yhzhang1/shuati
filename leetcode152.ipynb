{
 "cells": [
  {
   "cell_type": "code",
   "execution_count": 3,
   "metadata": {},
   "outputs": [],
   "source": [
    "from typing import List\n",
    "class Solution:\n",
    "    def maxProduct(self, nums: List[int]) -> int:\n",
    "        n = len(nums)\n",
    "        product = curmax = curmin = nums[0]\n",
    "                \n",
    "        for i in range(1,n):\n",
    "            prevmin = curmin\n",
    "            prevmax = curmax\n",
    "            curmax = max(prevmax*nums[i],prevmin*nums[i],nums[i])\n",
    "            curmin = min(prevmax*nums[i],prevmin*nums[i],nums[i])\n",
    "            \n",
    "            product = max(product, curmax)\n",
    "        return product"
   ]
  },
  {
   "cell_type": "code",
   "execution_count": 2,
   "metadata": {},
   "outputs": [],
   "source": [
    "from typing import List\n",
    "class Solution:\n",
    "    def maxProduct(self, nums: List[int]) -> int:\n",
    "        n = len(nums)\n",
    "        dpmax = [0] * n\n",
    "        dpmin = [0] * n\n",
    "        \n",
    "        dpmax[0] = dpmin[0] = nums[0]\n",
    "        for i in range(1,n):\n",
    "            dpmax[i] = max(dpmax[i-1]*nums[i],dpmin[i-1]*nums[i],nums[i])\n",
    "            dpmin[i] = min(dpmax[i-1]*nums[i],dpmin[i-1]*nums[i],nums[i])\n",
    "            \n",
    "        print('dpmax: ', dpmax)\n",
    "        print('dpmin: ', dpmin)\n",
    "        \n",
    "        return max(dpmax)"
   ]
  }
 ],
 "metadata": {
  "kernelspec": {
   "display_name": "Python 3",
   "language": "python",
   "name": "python3"
  },
  "language_info": {
   "codemirror_mode": {
    "name": "ipython",
    "version": 3
   },
   "file_extension": ".py",
   "mimetype": "text/x-python",
   "name": "python",
   "nbconvert_exporter": "python",
   "pygments_lexer": "ipython3",
   "version": "3.7.6"
  }
 },
 "nbformat": 4,
 "nbformat_minor": 4
}
