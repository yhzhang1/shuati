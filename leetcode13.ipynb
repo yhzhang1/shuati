{
 "cells": [
  {
   "cell_type": "markdown",
   "metadata": {},
   "source": [
    "https://www.youtube.com/watch?v=joFpSO_sHnU&t=86s\n",
    "\n",
    "https://www.youtube.com/watch?v=MBfPfAH6jdE"
   ]
  },
  {
   "cell_type": "code",
   "execution_count": 2,
   "metadata": {},
   "outputs": [],
   "source": [
    "class Solution:\n",
    "    def romanToInt(self, s: str) -> int:\n",
    "        m = {'I':1,'V':5,'X':10,'L':50,'C':100,'D':500,'M':1000}\n",
    "        ans = m[s[0]]\n",
    "        \n",
    "        for c, p in zip(s[1:], s[0:-1]):\n",
    "            ans += m[c]\n",
    "            if m[c] > m[p]:\n",
    "                ans -= 2*m[p]\n",
    "                \n",
    "        return ans"
   ]
  },
  {
   "cell_type": "code",
   "execution_count": 3,
   "metadata": {},
   "outputs": [],
   "source": [
    "class Solution:\n",
    "    def romanToInt(self, s: str) -> int:\n",
    "        m = {'I':1,'V':5,'X':10,'L':50,'C':100,'D':500,'M':1000}\n",
    "        total = m[s[-1]]\n",
    "        \n",
    "        for i in reversed(range(len(s)-1)):\n",
    "            if m[s[i]] < m[s[i+1]]:\n",
    "                total -= m[s[i]]\n",
    "            else:\n",
    "                total += m[s[i]]\n",
    "                \n",
    "        return total\n",
    "            "
   ]
  },
  {
   "cell_type": "code",
   "execution_count": 1,
   "metadata": {},
   "outputs": [],
   "source": [
    "class Solution:\n",
    "    def romanToInt(self, s: str) -> int:\n",
    "        m = {'I':1,'V':5,'X':10,'L':50,'C':100,'D':500,'M':1000}\n",
    "        ans = 0\n",
    "        \n",
    "        p = ''\n",
    "        for c in s:\n",
    "            ans += m[c]\n",
    "            if p and m[c] > m[p]:\n",
    "                ans -= 2*m[p]\n",
    "            p = c\n",
    "        \n",
    "        return ans"
   ]
  },
  {
   "cell_type": "code",
   "execution_count": 2,
   "metadata": {},
   "outputs": [],
   "source": [
    "class Solution:\n",
    "    def romanToInt(self, s: str) -> int:\n",
    "        d = {'I':1,'V':5,'X':10,'L':50,'C':100,'D':500,'M':1000}\n",
    "        ans = 0\n",
    "        \n",
    "        for i in range(len(s)):\n",
    "            if i > 0 and d[s[i]] > d[s[i-1]]:\n",
    "                ans += d[s[i]] - 2*d[s[i-1]]\n",
    "            else:\n",
    "                ans += d[s[i]]\n",
    "                 \n",
    "        return ans"
   ]
  },
  {
   "cell_type": "code",
   "execution_count": 1,
   "metadata": {},
   "outputs": [],
   "source": [
    "class Solution:\n",
    "    def romanToInt(self, s: str) -> int:\n",
    "        d = {'I':1,'V':5,'X':10,'L':50,'C':100,'D':500,'M':1000}\n",
    "        ans = 0\n",
    "        \n",
    "        i = 0\n",
    "        while i < len(s)-1:\n",
    "            if d[s[i+1]] > d[s[i]]:\n",
    "                 ans += d[s[i+1]] - d[s[i]]\n",
    "                 i += 2\n",
    "            else:\n",
    "                 ans += d[s[i]]\n",
    "                 i += 1\n",
    "                 \n",
    "        if i == len(s) - 1:\n",
    "            ans += d[s[i]]\n",
    "                 \n",
    "        return ans"
   ]
  },
  {
   "cell_type": "code",
   "execution_count": null,
   "metadata": {},
   "outputs": [],
   "source": []
  }
 ],
 "metadata": {
  "kernelspec": {
   "display_name": "Python 3",
   "language": "python",
   "name": "python3"
  },
  "language_info": {
   "codemirror_mode": {
    "name": "ipython",
    "version": 3
   },
   "file_extension": ".py",
   "mimetype": "text/x-python",
   "name": "python",
   "nbconvert_exporter": "python",
   "pygments_lexer": "ipython3",
   "version": "3.7.6"
  }
 },
 "nbformat": 4,
 "nbformat_minor": 4
}
