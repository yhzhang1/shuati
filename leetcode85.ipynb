{
 "cells": [
  {
   "cell_type": "markdown",
   "metadata": {},
   "source": [
    "https://www.youtube.com/watch?v=2Yk3Avrzauk"
   ]
  },
  {
   "cell_type": "code",
   "execution_count": 2,
   "metadata": {},
   "outputs": [],
   "source": [
    "from typing import List\n",
    "class Solution:\n",
    "    def maximalRectangle(self, matrix: List[List[str]]) -> int:\n",
    "        if not matrix:\n",
    "            return 0\n",
    "\n",
    "        m, n = len(matrix), len(matrix[0])\n",
    "        heights = [0] * n\n",
    "        maxArea = 0\n",
    "        \n",
    "        for i in range(m):\n",
    "            for j in range(n):\n",
    "                if matrix[i][j] == '1':\n",
    "                    heights[j] += 1\n",
    "                else:\n",
    "                    heights[j] = 0\n",
    "                    \n",
    "            area = self.largestRectangleArea(heights)\n",
    "            maxArea = max(maxArea, area)\n",
    "            \n",
    "        return maxArea\n",
    "                \n",
    "    def largestRectangleArea(self, heights: List[int]) -> int:\n",
    "        stack = [-1]\n",
    "        maxArea = 0\n",
    "        \n",
    "        for i in range(len(heights)):\n",
    "            while stack[-1] != -1 and heights[stack[-1]] > heights[i]:\n",
    "                curHeight = heights[stack.pop()]\n",
    "                curWidth = i - stack[-1] - 1\n",
    "                maxArea = max(maxArea, curHeight * curWidth)\n",
    "            stack.append(i)\n",
    "            \n",
    "        while stack[-1] != -1:\n",
    "            curHeight = heights[stack.pop()]\n",
    "            curWidth = len(heights) - stack[-1] - 1\n",
    "            maxArea = max(maxArea, curHeight * curWidth)\n",
    "            \n",
    "        return maxArea"
   ]
  },
  {
   "cell_type": "code",
   "execution_count": null,
   "metadata": {},
   "outputs": [],
   "source": []
  }
 ],
 "metadata": {
  "kernelspec": {
   "display_name": "Python 3",
   "language": "python",
   "name": "python3"
  },
  "language_info": {
   "codemirror_mode": {
    "name": "ipython",
    "version": 3
   },
   "file_extension": ".py",
   "mimetype": "text/x-python",
   "name": "python",
   "nbconvert_exporter": "python",
   "pygments_lexer": "ipython3",
   "version": "3.8.5"
  }
 },
 "nbformat": 4,
 "nbformat_minor": 4
}
