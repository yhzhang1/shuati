{
 "cells": [
  {
   "cell_type": "raw",
   "id": "c95cf1d4-8a25-4bcd-ba1b-597ecc18a087",
   "metadata": {},
   "source": [
    "https://www.youtube.com/watch?v=mPqqXh8XvWY"
   ]
  },
  {
   "cell_type": "code",
   "execution_count": 13,
   "id": "89b77032-203d-4d81-a87f-73ed92591221",
   "metadata": {
    "execution": {
     "iopub.execute_input": "2025-06-15T21:08:36.109415Z",
     "iopub.status.busy": "2025-06-15T21:08:36.107460Z",
     "iopub.status.idle": "2025-06-15T21:08:36.135042Z",
     "shell.execute_reply": "2025-06-15T21:08:36.132089Z",
     "shell.execute_reply.started": "2025-06-15T21:08:36.109415Z"
    }
   },
   "outputs": [],
   "source": [
    "# T: O(mn), S: O(mn)\n",
    "class Solution:\n",
    "    def numDistinct(self, s: str, t: str) -> int:\n",
    "        m, n = len(s), len(t)\n",
    "        dp = [[0]*(m+1) for _ in range(n+1)]\n",
    "        for j in range(m+1):\n",
    "            dp[0][j] = 1\n",
    "        \n",
    "        for i in range(1,n+1):\n",
    "            for j in range(1,m+1):\n",
    "                if t[i-1] == s[j-1]:\n",
    "                    dp[i][j] = dp[i-1][j-1] + dp[i][j-1]\n",
    "                else:\n",
    "                    dp[i][j] = dp[i][j-1]\n",
    "\n",
    "        return dp[-1][-1] \n",
    "\n",
    "\n"
   ]
  },
  {
   "cell_type": "code",
   "execution_count": 1,
   "id": "991c235a-5630-4b9b-b3a4-29cf2e71e12e",
   "metadata": {
    "execution": {
     "iopub.execute_input": "2025-06-15T20:09:56.997765Z",
     "iopub.status.busy": "2025-06-15T20:09:56.996792Z",
     "iopub.status.idle": "2025-06-15T20:09:57.039120Z",
     "shell.execute_reply": "2025-06-15T20:09:57.035192Z",
     "shell.execute_reply.started": "2025-06-15T20:09:56.997765Z"
    }
   },
   "outputs": [
    {
     "data": {
      "text/plain": [
       "[]"
      ]
     },
     "execution_count": 1,
     "metadata": {},
     "output_type": "execute_result"
    }
   ],
   "source": [
    "[]*5"
   ]
  },
  {
   "cell_type": "code",
   "execution_count": 5,
   "id": "6970bdad-506a-43df-bc26-ce87c1aae95a",
   "metadata": {
    "execution": {
     "iopub.execute_input": "2025-06-15T20:11:05.273575Z",
     "iopub.status.busy": "2025-06-15T20:11:05.271619Z",
     "iopub.status.idle": "2025-06-15T20:11:05.292087Z",
     "shell.execute_reply": "2025-06-15T20:11:05.289143Z",
     "shell.execute_reply.started": "2025-06-15T20:11:05.272600Z"
    }
   },
   "outputs": [
    {
     "data": {
      "text/plain": [
       "[[], [], []]"
      ]
     },
     "execution_count": 5,
     "metadata": {},
     "output_type": "execute_result"
    }
   ],
   "source": [
    "[[]*5]*3"
   ]
  },
  {
   "cell_type": "code",
   "execution_count": 3,
   "id": "9eb31d91-caf9-4d3b-980e-261680ae6d2e",
   "metadata": {
    "execution": {
     "iopub.execute_input": "2025-06-15T20:10:12.156951Z",
     "iopub.status.busy": "2025-06-15T20:10:12.156951Z",
     "iopub.status.idle": "2025-06-15T20:10:12.173451Z",
     "shell.execute_reply": "2025-06-15T20:10:12.171471Z",
     "shell.execute_reply.started": "2025-06-15T20:10:12.156951Z"
    }
   },
   "outputs": [
    {
     "data": {
      "text/plain": [
       "[2, 2, 2, 2, 2]"
      ]
     },
     "execution_count": 3,
     "metadata": {},
     "output_type": "execute_result"
    }
   ],
   "source": [
    "[2]*5"
   ]
  },
  {
   "cell_type": "code",
   "execution_count": 4,
   "id": "f5dff912-6199-4efc-8f70-6bff5722708c",
   "metadata": {
    "execution": {
     "iopub.execute_input": "2025-06-15T20:10:47.117022Z",
     "iopub.status.busy": "2025-06-15T20:10:47.116045Z",
     "iopub.status.idle": "2025-06-15T20:10:47.134134Z",
     "shell.execute_reply": "2025-06-15T20:10:47.131183Z",
     "shell.execute_reply.started": "2025-06-15T20:10:47.117022Z"
    }
   },
   "outputs": [
    {
     "data": {
      "text/plain": [
       "[[2, 2, 2, 2, 2], [2, 2, 2, 2, 2], [2, 2, 2, 2, 2]]"
      ]
     },
     "execution_count": 4,
     "metadata": {},
     "output_type": "execute_result"
    }
   ],
   "source": [
    "[[2]*5]*3"
   ]
  },
  {
   "cell_type": "code",
   "execution_count": 6,
   "id": "630cdda4-c000-46db-ba77-9743cdf3204d",
   "metadata": {
    "execution": {
     "iopub.execute_input": "2025-06-15T20:51:07.074411Z",
     "iopub.status.busy": "2025-06-15T20:51:07.072453Z",
     "iopub.status.idle": "2025-06-15T20:51:07.092102Z",
     "shell.execute_reply": "2025-06-15T20:51:07.090122Z",
     "shell.execute_reply.started": "2025-06-15T20:51:07.073434Z"
    }
   },
   "outputs": [
    {
     "data": {
      "text/plain": [
       "[0, 0, 0, 0, 0]"
      ]
     },
     "execution_count": 6,
     "metadata": {},
     "output_type": "execute_result"
    }
   ],
   "source": [
    "[0 for _ in range(5)]"
   ]
  },
  {
   "cell_type": "code",
   "execution_count": 7,
   "id": "78396052-4a90-4dd8-8f87-3fc0cfea545b",
   "metadata": {
    "execution": {
     "iopub.execute_input": "2025-06-15T20:51:17.520683Z",
     "iopub.status.busy": "2025-06-15T20:51:17.519708Z",
     "iopub.status.idle": "2025-06-15T20:51:17.540382Z",
     "shell.execute_reply": "2025-06-15T20:51:17.536459Z",
     "shell.execute_reply.started": "2025-06-15T20:51:17.520683Z"
    }
   },
   "outputs": [
    {
     "data": {
      "text/plain": [
       "[0, 0, 0, 0, 0, 0, 0, 0, 0, 0, 0, 0, 0, 0, 0]"
      ]
     },
     "execution_count": 7,
     "metadata": {},
     "output_type": "execute_result"
    }
   ],
   "source": [
    "[0 for _ in range(5)]*3"
   ]
  },
  {
   "cell_type": "code",
   "execution_count": 8,
   "id": "6499be7e-1c31-47f1-b060-95f94936dd28",
   "metadata": {
    "execution": {
     "iopub.execute_input": "2025-06-15T20:53:25.964865Z",
     "iopub.status.busy": "2025-06-15T20:53:25.962904Z",
     "iopub.status.idle": "2025-06-15T20:53:25.979697Z",
     "shell.execute_reply": "2025-06-15T20:53:25.977712Z",
     "shell.execute_reply.started": "2025-06-15T20:53:25.964865Z"
    }
   },
   "outputs": [
    {
     "data": {
      "text/plain": [
       "range(0, 5)"
      ]
     },
     "execution_count": 8,
     "metadata": {},
     "output_type": "execute_result"
    }
   ],
   "source": [
    "range(5)"
   ]
  },
  {
   "cell_type": "code",
   "execution_count": 12,
   "id": "d1625097-21d5-440c-b030-3999eda88303",
   "metadata": {
    "execution": {
     "iopub.execute_input": "2025-06-15T20:54:15.753157Z",
     "iopub.status.busy": "2025-06-15T20:54:15.752176Z",
     "iopub.status.idle": "2025-06-15T20:54:15.760895Z",
     "shell.execute_reply": "2025-06-15T20:54:15.759906Z",
     "shell.execute_reply.started": "2025-06-15T20:54:15.753157Z"
    }
   },
   "outputs": [
    {
     "data": {
      "text/plain": [
       "[0, 0, 0, 0, 0]"
      ]
     },
     "execution_count": 12,
     "metadata": {},
     "output_type": "execute_result"
    }
   ],
   "source": [
    "[0]*5"
   ]
  }
 ],
 "metadata": {
  "kernelspec": {
   "display_name": "Python 3 (ipykernel)",
   "language": "python",
   "name": "python3"
  },
  "language_info": {
   "codemirror_mode": {
    "name": "ipython",
    "version": 3
   },
   "file_extension": ".py",
   "mimetype": "text/x-python",
   "name": "python",
   "nbconvert_exporter": "python",
   "pygments_lexer": "ipython3",
   "version": "3.11.5"
  }
 },
 "nbformat": 4,
 "nbformat_minor": 5
}
