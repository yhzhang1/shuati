{
 "cells": [
  {
   "cell_type": "markdown",
   "id": "c1fd162c-5ac0-468b-9903-d719191cef89",
   "metadata": {},
   "source": [
    "https://leetcode.com/problems/count-k-subsequences-of-a-string-with-maximum-beauty/solutions/3994553/Python-oror-Diagram-and-full-explanation-O(N)/"
   ]
  },
  {
   "cell_type": "code",
   "execution_count": 2,
   "id": "de727881-dc97-4362-9850-5fe9ce08d808",
   "metadata": {},
   "outputs": [],
   "source": [
    "# T: O(n), S: O(1)\n",
    "class Solution:\n",
    "    def countKSubsequencesWithMaxBeauty(self, s: str, k: int) -> int:\n",
    "        f = Counter(s)\n",
    "        mod = 10**9+7\n",
    "        fc = sorted(f.values(), reverse=True)\n",
    "        if len(fc)<k:\n",
    "            return 0\n",
    "        res = 1\n",
    "        for i in range(k):\n",
    "            res = (res * fc[i])\n",
    "        last = fc[k-1]\n",
    "        a = fc[:k].count(last)\n",
    "        b = fc.count(last)\n",
    "        res = (res * comb(b,a)) % mod\n",
    "        return res"
   ]
  },
  {
   "cell_type": "code",
   "execution_count": 1,
   "id": "3c3784d3-6ad0-4ca7-ab11-c0ac7ebfb10a",
   "metadata": {},
   "outputs": [
    {
     "data": {
      "text/plain": [
       "{'a': 1, 'b': 2, 'c': 3}"
      ]
     },
     "execution_count": 1,
     "metadata": {},
     "output_type": "execute_result"
    }
   ],
   "source": [
    "d = {'a':1,'b':2,'c':3}\n",
    "d"
   ]
  },
  {
   "cell_type": "code",
   "execution_count": 2,
   "id": "f6b38056-3367-4115-8049-ed5951be1129",
   "metadata": {},
   "outputs": [
    {
     "data": {
      "text/plain": [
       "dict_items([('a', 1), ('b', 2), ('c', 3)])"
      ]
     },
     "execution_count": 2,
     "metadata": {},
     "output_type": "execute_result"
    }
   ],
   "source": [
    "d.items()"
   ]
  }
 ],
 "metadata": {
  "kernelspec": {
   "display_name": "Python 3 (ipykernel)",
   "language": "python",
   "name": "python3"
  },
  "language_info": {
   "codemirror_mode": {
    "name": "ipython",
    "version": 3
   },
   "file_extension": ".py",
   "mimetype": "text/x-python",
   "name": "python",
   "nbconvert_exporter": "python",
   "pygments_lexer": "ipython3",
   "version": "3.8.5"
  }
 },
 "nbformat": 4,
 "nbformat_minor": 5
}
