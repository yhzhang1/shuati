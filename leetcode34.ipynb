{
 "cells": [
  {
   "cell_type": "markdown",
   "metadata": {},
   "source": [
    "https://www.youtube.com/watch?v=NlLP8Op_4zw"
   ]
  },
  {
   "cell_type": "code",
   "execution_count": 4,
   "metadata": {},
   "outputs": [],
   "source": [
    "class Solution:\n",
    "    def searchRange(self, nums: List[int], target: int) -> List[int]:\n",
    "        if not nums:    return [-1,-1]\n",
    "        \n",
    "        l, r = 0, len(nums) - 1\n",
    "        \n",
    "        # find start point\n",
    "        while l + 1 < r:\n",
    "            mid = (l+r) // 2\n",
    "            if target <= nums[mid]:\n",
    "                r = mid\n",
    "            else:\n",
    "                l = mid + 1\n",
    "                \n",
    "        if nums[l] == target:\n",
    "            start = l\n",
    "        elif nums[r] == target:\n",
    "            start = r\n",
    "        else:\n",
    "            start = -1\n",
    "        \n",
    "        # find end point\n",
    "        l, r = 0, len(nums) - 1\n",
    "        while l + 1 < r:\n",
    "            mid = (l+r) // 2\n",
    "            if target >= nums[mid]:\n",
    "                l = mid\n",
    "            else:\n",
    "                r = mid - 1\n",
    "                \n",
    "        if nums[r] == target:\n",
    "            end = r\n",
    "        elif nums[l] == target:\n",
    "            end = l\n",
    "        else:\n",
    "            end = -1\n",
    "        \n",
    "        return [start, end]\n",
    "    \n",
    "        "
   ]
  },
  {
   "cell_type": "code",
   "execution_count": 1,
   "metadata": {},
   "outputs": [],
   "source": [
    "from typing import List\n",
    "class Solution:\n",
    "    def searchRange(self, nums: List[int], target: int) -> List[int]:\n",
    "        if len(nums) == 0:\n",
    "            return [-1,-1]\n",
    "        \n",
    "        lo, hi = 0, len(nums)-1\n",
    "        \n",
    "        while lo < hi:\n",
    "            mid = (lo+hi) // 2\n",
    "            if nums[mid] < target:\n",
    "                lo = mid+1\n",
    "            else:\n",
    "            # nums[mid] >= target\n",
    "                hi = mid\n",
    "                \n",
    "        start = hi\n",
    "        if nums[start] != target:\n",
    "            start = -1\n",
    "        \n",
    "\n",
    "        lo, hi = 0, len(nums)-1\n",
    "        \n",
    "        while lo+1 < hi:\n",
    "            mid = (lo+hi) // 2\n",
    "            if nums[mid] <= target:\n",
    "                lo = mid\n",
    "            else:\n",
    "            # nums[mid] > target\n",
    "                hi = mid-1\n",
    "                \n",
    "        end = lo\n",
    "        if nums[hi] == target:\n",
    "            end = hi\n",
    "        \n",
    "        if nums[end] != target:\n",
    "            end = -1\n",
    "        \n",
    "        return [start, end]\n",
    "                \n",
    "                      "
   ]
  },
  {
   "cell_type": "code",
   "execution_count": 22,
   "metadata": {},
   "outputs": [
    {
     "name": "stdout",
     "output_type": "stream",
     "text": [
      "----------------------------------------\n",
      "lo= 0\n",
      "hi= 1\n",
      "mid= 0\n",
      "****************************************\n",
      "lo= 0\n",
      "hi= 0\n",
      "mid= 0\n",
      "nums[start]= 2\n"
     ]
    }
   ],
   "source": [
    "nums = [2,2]\n",
    "target = 2\n",
    "\n",
    "lo, hi = 0, len(nums)-1\n",
    "while lo < hi:\n",
    "    print('-'*40)\n",
    "    mid = (lo+hi) // 2\n",
    "    print('lo=', lo)\n",
    "    print('hi=', hi)\n",
    "    print('mid=', mid)\n",
    "    if nums[mid] < target:\n",
    "        lo = mid + 1\n",
    "    else:\n",
    "        hi = mid\n",
    "        \n",
    "start = hi\n",
    "print('*'*40)\n",
    "print('lo=', lo)\n",
    "print('hi=', hi)\n",
    "print('mid=', mid)\n",
    "print('nums[start]=', nums[start])\n"
   ]
  },
  {
   "cell_type": "code",
   "execution_count": 25,
   "metadata": {},
   "outputs": [
    {
     "name": "stdout",
     "output_type": "stream",
     "text": [
      "****************************************\n",
      "lo= 0\n",
      "hi= 1\n",
      "mid= 0\n",
      "end= 0\n",
      "nums[end]= 2\n"
     ]
    }
   ],
   "source": [
    "lo, hi = 0, len(nums)-1\n",
    "\n",
    "while lo+1 < hi:\n",
    "    print('-'*40)\n",
    "    mid = (lo+hi) // 2\n",
    "    print('lo=', lo)\n",
    "    print('hi=', hi)\n",
    "    print('mid=', mid)\n",
    "    if nums[mid] <= target:\n",
    "        lo = mid\n",
    "    else:\n",
    "    # nums[mid] > target\n",
    "        hi = mid-1\n",
    "\n",
    "end = lo\n",
    "print('*'*40)\n",
    "print('lo=', lo)\n",
    "print('hi=', hi)\n",
    "print('mid=', mid)\n",
    "print('end=', end)\n",
    "print('nums[end]=', nums[end])\n",
    "\n"
   ]
  },
  {
   "cell_type": "code",
   "execution_count": null,
   "metadata": {},
   "outputs": [],
   "source": []
  }
 ],
 "metadata": {
  "kernelspec": {
   "display_name": "Python 3",
   "language": "python",
   "name": "python3"
  },
  "language_info": {
   "codemirror_mode": {
    "name": "ipython",
    "version": 3
   },
   "file_extension": ".py",
   "mimetype": "text/x-python",
   "name": "python",
   "nbconvert_exporter": "python",
   "pygments_lexer": "ipython3",
   "version": "3.8.5"
  }
 },
 "nbformat": 4,
 "nbformat_minor": 4
}
