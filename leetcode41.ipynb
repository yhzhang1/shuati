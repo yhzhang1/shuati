{
 "cells": [
  {
   "cell_type": "markdown",
   "metadata": {},
   "source": [
    "https://www.youtube.com/watch?v=jfb72FfxWKU"
   ]
  },
  {
   "cell_type": "code",
   "execution_count": 2,
   "metadata": {},
   "outputs": [],
   "source": [
    "class Solution:\n",
    "    def firstMissingPositive(self, nums: List[int]) -> int:\n",
    "        for i in range(len(nums)):\n",
    "            while 0 < nums[i] <= len(nums) and nums[nums[i]-1] != nums[i]:\n",
    "                nums[nums[i]-1], nums[i] = nums[i], nums[nums[i]-1]\n",
    "                \n",
    "        for i in range(len(nums)):\n",
    "            if nums[i] != i+1:\n",
    "                return i+1\n",
    "            \n",
    "        return len(nums)+1"
   ]
  },
  {
   "cell_type": "code",
   "execution_count": 1,
   "metadata": {},
   "outputs": [],
   "source": [
    "from typing import List\n",
    "class Solution:\n",
    "    def firstMissingPositive(self, nums: List[int]) -> int:\n",
    "        for i in range(len(nums)):\n",
    "            '''\n",
    "             nums[i]-1: nums[i]该放的index\n",
    "             nums[nums[i]-1]: nums[i]该放位置的值\n",
    "             nums[nums[i]-1] != nums[i] ： nums[i] 没有放到该放的位置\n",
    "            '''\n",
    "            while nums[i] > 0 and nums[i] <= len(nums) and nums[nums[i]-1] != nums[i]:\n",
    "                nums[nums[i]-1], nums[i] = nums[i], nums[nums[i]-1]\n",
    "                \n",
    "        for i in range(len(nums)):\n",
    "            if nums[i] != i+1:\n",
    "                return i+1\n",
    "            \n",
    "        return len(nums) + 1"
   ]
  },
  {
   "cell_type": "markdown",
   "metadata": {},
   "source": [
    "##  test"
   ]
  },
  {
   "cell_type": "code",
   "execution_count": 2,
   "metadata": {},
   "outputs": [],
   "source": [
    "from typing import List\n",
    "class Solution:\n",
    "    def firstMissingPositive(self, nums: List[int]) -> int:\n",
    "        n = len(nums)\n",
    "        for i in range(n):\n",
    "            print('i',i)\n",
    "            if 0 < nums[i] <= n and nums[nums[i]-1] != nums[i]:\n",
    "                # nums[i],nums[nums[i]-1] = nums[nums[i]-1],nums[i]\n",
    "                # nums[nums[i]-1],nums[i] = nums[i], nums[nums[i]-1]\n",
    "                nums[i], nums[nums[i]-1] = nums[nums[i]-1], nums[i]\n",
    "                print(nums)\n",
    "\n",
    "        for i in range(n):\n",
    "            if nums[i] != i+1:\n",
    "                return i+1\n",
    "\n",
    "        return n+1"
   ]
  },
  {
   "cell_type": "code",
   "execution_count": 3,
   "metadata": {},
   "outputs": [
    {
     "name": "stdout",
     "output_type": "stream",
     "text": [
      "i 0\n",
      "[-1, 4, 3, 1]\n",
      "i 1\n",
      "[4, 1, 3, 1]\n",
      "i 2\n",
      "i 3\n",
      "[4, 1, 3, 1]\n"
     ]
    },
    {
     "data": {
      "text/plain": [
       "1"
      ]
     },
     "execution_count": 3,
     "metadata": {},
     "output_type": "execute_result"
    }
   ],
   "source": [
    "nums = [3,4,-1,1]\n",
    "Solution().firstMissingPositive(nums)"
   ]
  },
  {
   "cell_type": "code",
   "execution_count": 4,
   "metadata": {},
   "outputs": [
    {
     "name": "stdout",
     "output_type": "stream",
     "text": [
      "[2, 2, 1, 4, 5]\n"
     ]
    }
   ],
   "source": [
    "arr = [1, 2, 3, 4, 5]\n",
    "arr[0], arr[arr[0]] = arr[arr[0]], arr[0]\n",
    "print(arr)"
   ]
  },
  {
   "cell_type": "code",
   "execution_count": null,
   "metadata": {},
   "outputs": [],
   "source": []
  }
 ],
 "metadata": {
  "kernelspec": {
   "display_name": "Python 3 (ipykernel)",
   "language": "python",
   "name": "python3"
  },
  "language_info": {
   "codemirror_mode": {
    "name": "ipython",
    "version": 3
   },
   "file_extension": ".py",
   "mimetype": "text/x-python",
   "name": "python",
   "nbconvert_exporter": "python",
   "pygments_lexer": "ipython3",
   "version": "3.8.5"
  }
 },
 "nbformat": 4,
 "nbformat_minor": 4
}
