{
 "cells": [
  {
   "cell_type": "code",
   "execution_count": 1,
   "metadata": {},
   "outputs": [],
   "source": [
    "# no better solution found\n",
    "# T: O(n), S: O(1)\n",
    "class Solution:\n",
    "    def minAddToMakeValid(self, s: str) -> int:\n",
    "        l = r = 0\n",
    "        \n",
    "        for c in s:\n",
    "            if c == '(':\n",
    "                l += 1\n",
    "            else:\n",
    "                if l:\n",
    "                    l -= 1\n",
    "                else:\n",
    "                    r += 1\n",
    "                    \n",
    "        return l + r"
   ]
  },
  {
   "cell_type": "code",
   "execution_count": 4,
   "metadata": {},
   "outputs": [],
   "source": [
    "# no better solution found\n",
    "class Solution:\n",
    "    def minAddToMakeValid(self, s: str) -> int:\n",
    "        l = r = m = 0\n",
    "        \n",
    "        for c in s:\n",
    "            if c == '(':\n",
    "                l += 1\n",
    "            elif c == ')':\n",
    "                if l > 0:\n",
    "                    m += 1\n",
    "                    l -= 1\n",
    "                else:\n",
    "                    r += 1\n",
    "                    \n",
    "                    \n",
    "        return l + r"
   ]
  },
  {
   "cell_type": "code",
   "execution_count": 1,
   "metadata": {},
   "outputs": [],
   "source": [
    "class Solution:\n",
    "    def minAddToMakeValid(self, s: str) -> int:\n",
    "        l = r = m = 0\n",
    "        stack = []\n",
    "        \n",
    "        for c in s:\n",
    "            if c == '(':\n",
    "                l += 1\n",
    "                stack.append(c)\n",
    "            elif c == ')':\n",
    "                if stack:\n",
    "                    m += 1\n",
    "                    l -= 1\n",
    "                    stack.pop()\n",
    "                else:\n",
    "                    r += 1\n",
    "                    \n",
    "                    \n",
    "        return l + r"
   ]
  },
  {
   "cell_type": "code",
   "execution_count": 2,
   "metadata": {},
   "outputs": [
    {
     "name": "stdout",
     "output_type": "stream",
     "text": [
      "aa\n"
     ]
    }
   ],
   "source": [
    "if -1:\n",
    "    print('aa')"
   ]
  },
  {
   "cell_type": "code",
   "execution_count": null,
   "metadata": {},
   "outputs": [],
   "source": []
  }
 ],
 "metadata": {
  "kernelspec": {
   "display_name": "Python 3",
   "language": "python",
   "name": "python3"
  },
  "language_info": {
   "codemirror_mode": {
    "name": "ipython",
    "version": 3
   },
   "file_extension": ".py",
   "mimetype": "text/x-python",
   "name": "python",
   "nbconvert_exporter": "python",
   "pygments_lexer": "ipython3",
   "version": "3.8.5"
  }
 },
 "nbformat": 4,
 "nbformat_minor": 4
}
