{
 "cells": [
  {
   "cell_type": "raw",
   "metadata": {},
   "source": [
    "https://leetcode.com/problems/pascals-triangle/editorial/"
   ]
  },
  {
   "cell_type": "code",
   "execution_count": 1,
   "metadata": {
    "execution": {
     "iopub.execute_input": "2025-06-16T19:53:40.343363Z",
     "iopub.status.busy": "2025-06-16T19:53:40.342425Z",
     "iopub.status.idle": "2025-06-16T19:53:40.384923Z",
     "shell.execute_reply": "2025-06-16T19:53:40.381974Z",
     "shell.execute_reply.started": "2025-06-16T19:53:40.343363Z"
    }
   },
   "outputs": [],
   "source": [
    "# T:O(n^2), S:O(n^2)\n",
    "from typing import List\n",
    "class Solution:\n",
    "    def generate(self, numRows: int) -> List[List[int]]:\n",
    "        ans = list()\n",
    "        for i in range(numRows):\n",
    "            curRow = list()\n",
    "            for j in range(i+1):\n",
    "                if j in (0,i):\n",
    "                    curRow.append(1)\n",
    "                else:\n",
    "                    curRow.append(ans[-1][j-1]+ans[-1][j])\n",
    "            ans.append(curRow)\n",
    "                    \n",
    "        return ans"
   ]
  },
  {
   "cell_type": "code",
   "execution_count": 6,
   "metadata": {},
   "outputs": [
    {
     "data": {
      "text/plain": [
       "False"
      ]
     },
     "execution_count": 6,
     "metadata": {},
     "output_type": "execute_result"
    }
   ],
   "source": [
    "4 in range(0,3)"
   ]
  }
 ],
 "metadata": {
  "kernelspec": {
   "display_name": "Python 3 (ipykernel)",
   "language": "python",
   "name": "python3"
  },
  "language_info": {
   "codemirror_mode": {
    "name": "ipython",
    "version": 3
   },
   "file_extension": ".py",
   "mimetype": "text/x-python",
   "name": "python",
   "nbconvert_exporter": "python",
   "pygments_lexer": "ipython3",
   "version": "3.11.5"
  }
 },
 "nbformat": 4,
 "nbformat_minor": 4
}
