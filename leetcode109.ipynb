{
 "cells": [
  {
   "cell_type": "code",
   "execution_count": 14,
   "metadata": {},
   "outputs": [],
   "source": [
    "# Definition for singly-linked list.\n",
    "# class ListNode:\n",
    "#     def __init__(self, val=0, next=None):\n",
    "#         self.val = val\n",
    "#         self.next = next\n",
    "# Definition for a binary tree node.\n",
    "# class TreeNode:\n",
    "#     def __init__(self, val=0, left=None, right=None):\n",
    "#         self.val = val\n",
    "#         self.left = left\n",
    "#         self.right = right\n",
    "class Solution:\n",
    "    def findSize(self, head):\n",
    "        ptr = head\n",
    "        c = 0\n",
    "        while ptr:\n",
    "            c += 1\n",
    "            ptr = ptr.next\n",
    "\n",
    "        return c\n",
    "    \n",
    "    def sortedListToBST(self, head: ListNode) -> TreeNode:\n",
    "        def convert(l, r):\n",
    "            nonlocal head\n",
    "            if l > r:\n",
    "                return None\n",
    "            \n",
    "            mid = (l+r) // 2\n",
    "            left = convert(l, mid-1)\n",
    "            node = TreeNode(head.val)\n",
    "            node.left = left\n",
    "            \n",
    "            head = head.next\n",
    "            \n",
    "            right = convert(mid+1, r)\n",
    "            node.right = right\n",
    "            \n",
    "            return node\n",
    "        \n",
    "        size = self.findSize(head)\n",
    "        return convert(0, size-1)\n",
    "        \n",
    "        "
   ]
  },
  {
   "cell_type": "code",
   "execution_count": 5,
   "metadata": {},
   "outputs": [
    {
     "data": {
      "text/plain": [
       "3"
      ]
     },
     "execution_count": 5,
     "metadata": {},
     "output_type": "execute_result"
    }
   ],
   "source": [
    "def func1():\n",
    "    x = 1\n",
    "    def func2():\n",
    "        nonlocal x\n",
    "        x=3\n",
    "    func2()\n",
    "    return x\n",
    "    \n",
    "func1()"
   ]
  },
  {
   "cell_type": "code",
   "execution_count": 13,
   "metadata": {},
   "outputs": [
    {
     "name": "stdout",
     "output_type": "stream",
     "text": [
      "-10\n",
      "-3\n",
      "0\n",
      "5\n",
      "9\n"
     ]
    },
    {
     "data": {
      "text/plain": [
       "5"
      ]
     },
     "execution_count": 13,
     "metadata": {},
     "output_type": "execute_result"
    }
   ],
   "source": [
    "class ListNode:\n",
    "    def __init__(self, val=0, next=None):\n",
    "        self.val = val\n",
    "        self.next = next\n",
    "# Definition for a binary tree node.\n",
    "class TreeNode:\n",
    "    def __init__(self, val=0, left=None, right=None):\n",
    "        self.val = val\n",
    "        self.left = left\n",
    "        self.right = right\n",
    "        \n",
    "head = ListNode(-10)\n",
    "head.next = ListNode(-3)\n",
    "head.next.next = ListNode(0)\n",
    "head.next.next.next = ListNode(5)\n",
    "head.next.next.next.next = ListNode(9)\n",
    "\n",
    "def listTraverse(head: ListNode):\n",
    "    ptr = head\n",
    "    while ptr:\n",
    "        print(ptr.val)\n",
    "        ptr = ptr.next\n",
    "        \n",
    "listTraverse(head)\n",
    "\n",
    "def findSize(head: ListNode) -> int:\n",
    "    ptr = head\n",
    "    c = 0\n",
    "    while ptr:\n",
    "        c += 1\n",
    "        ptr = ptr.next\n",
    "        \n",
    "    return c\n",
    "\n",
    "findSize(head)"
   ]
  }
 ],
 "metadata": {
  "kernelspec": {
   "display_name": "Python 3",
   "language": "python",
   "name": "python3"
  },
  "language_info": {
   "codemirror_mode": {
    "name": "ipython",
    "version": 3
   },
   "file_extension": ".py",
   "mimetype": "text/x-python",
   "name": "python",
   "nbconvert_exporter": "python",
   "pygments_lexer": "ipython3",
   "version": "3.7.6"
  }
 },
 "nbformat": 4,
 "nbformat_minor": 4
}
