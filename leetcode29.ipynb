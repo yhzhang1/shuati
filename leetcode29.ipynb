{
 "cells": [
  {
   "cell_type": "markdown",
   "metadata": {},
   "source": [
    "https://www.youtube.com/watch?v=uD1Cw1JbD8E"
   ]
  },
  {
   "cell_type": "code",
   "execution_count": 4,
   "metadata": {},
   "outputs": [],
   "source": [
    "# T: O(logn), S: O(1)\n",
    "class Solution:\n",
    "    def divide(self, dividend: int, divisor: int) -> int:\n",
    "        INT_MAX = 2**31 - 1\n",
    "        INT_MIN = -2**31\n",
    "        \n",
    "        if dividend == INT_MIN:\n",
    "            if divisor == 1:    return INT_MIN\n",
    "            elif divisor == -1: return INT_MAX\n",
    "            \n",
    "        res = 0\n",
    "        sign = 1\n",
    "\n",
    "        if dividend < 0:\n",
    "            dividend = -dividend\n",
    "            sign = -sign\n",
    "        if divisor < 0:\n",
    "            divisor = -divisor\n",
    "            sign = -sign\n",
    "            \n",
    "        while dividend >= divisor:\n",
    "            shift = 0\n",
    "            while dividend >= divisor << shift:\n",
    "                shift += 1\n",
    "            res += 1 << (shift-1)\n",
    "            dividend -= divisor << (shift-1)\n",
    "            \n",
    "        return res if sign > 0 else -res"
   ]
  },
  {
   "cell_type": "code",
   "execution_count": 10,
   "metadata": {},
   "outputs": [],
   "source": [
    "class Solution:\n",
    "    def divide(self, dividend: int, divisor: int) -> int:\n",
    "        INT_MAX = 2**31 - 1\n",
    "        INT_MIN = -2**31\n",
    "        \n",
    "        \n",
    "        if dividend == INT_MIN and divisor == -1:\n",
    "            return INT_MAX\n",
    "        \n",
    "        ans = 0\n",
    "        sign = 1\n",
    "        if (dividend > 0 and divisor < 0) or (dividend < 0 and divisor > 0):\n",
    "            sign = -1\n",
    "        \n",
    "        divd = abs(dividend)\n",
    "        divs = abs(divisor)\n",
    "        \n",
    "        while divd >= divs:\n",
    "            shift = 0\n",
    "            while divd >= divs << shift:\n",
    "                shift += 1\n",
    "                \n",
    "            ans += 1 << (shift-1)\n",
    "            divd -= (divs << (shift-1))\n",
    "            \n",
    "        return ans if sign > 0 else -ans"
   ]
  },
  {
   "cell_type": "code",
   "execution_count": 2,
   "metadata": {},
   "outputs": [
    {
     "data": {
      "text/plain": [
       "9223372036854775807"
      ]
     },
     "execution_count": 2,
     "metadata": {},
     "output_type": "execute_result"
    }
   ],
   "source": [
    "import sys\n",
    "\n",
    "sys.maxsize"
   ]
  },
  {
   "cell_type": "code",
   "execution_count": 3,
   "metadata": {},
   "outputs": [
    {
     "data": {
      "text/plain": [
       "2147483647"
      ]
     },
     "execution_count": 3,
     "metadata": {},
     "output_type": "execute_result"
    }
   ],
   "source": [
    "2**31 -1"
   ]
  },
  {
   "cell_type": "code",
   "execution_count": null,
   "metadata": {},
   "outputs": [],
   "source": []
  }
 ],
 "metadata": {
  "kernelspec": {
   "display_name": "Python 3",
   "language": "python",
   "name": "python3"
  },
  "language_info": {
   "codemirror_mode": {
    "name": "ipython",
    "version": 3
   },
   "file_extension": ".py",
   "mimetype": "text/x-python",
   "name": "python",
   "nbconvert_exporter": "python",
   "pygments_lexer": "ipython3",
   "version": "3.8.5"
  }
 },
 "nbformat": 4,
 "nbformat_minor": 4
}
