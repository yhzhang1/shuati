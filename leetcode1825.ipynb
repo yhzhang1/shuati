{
 "cells": [
  {
   "cell_type": "markdown",
   "id": "1cde158f-4e8b-4e24-8a2f-7f503b759c54",
   "metadata": {},
   "source": [
    "https://www.youtube.com/watch?v=z32DPe1tuXM"
   ]
  },
  {
   "cell_type": "code",
   "execution_count": 3,
   "id": "5ca4a297-a3a1-4c73-a12b-53ac2b79630f",
   "metadata": {},
   "outputs": [],
   "source": [
    "from sortedcontainers import SortedList\n",
    "class MKAverage:\n",
    "\n",
    "    def __init__(self, m: int, k: int):\n",
    "\t# T: O(1), S: O(1)\n",
    "        self.m = m\n",
    "        self.k = k\n",
    "        self.nums = deque()\n",
    "        self.sorted = SortedList()\n",
    "        self.total = 0\n",
    "        self.topKSmall = 0\n",
    "        self.topKBig = 0\n",
    "\n",
    "    def addElement(self, num: int) -> None:\n",
    "\t#: T: O(logm), S: O(m)\n",
    "        self.nums.append(num)\n",
    "        self.total += num\n",
    "        if len(self.sorted) < self.k:\n",
    "            self.topKSmall += num\n",
    "        elif num < self.sorted[self.k-1]:\n",
    "            self.topKSmall += num\n",
    "            self.topKSmall -= self.sorted[self.k-1]\n",
    "        if len(self.sorted) < self.k:\n",
    "            self.topKBig += num\n",
    "        elif num > self.sorted[-self.k]:\n",
    "            self.topKBig += num\n",
    "            self.topKBig -= self.sorted[-self.k]\n",
    "        self.sorted.add(num)\n",
    "        \n",
    "        if len(self.nums) > self.m:\n",
    "            numToRemove = self.nums.popleft()\n",
    "            self.total -= numToRemove\n",
    "            if numToRemove <= self.sorted[self.k-1]:\n",
    "                self.topKSmall -= numToRemove\n",
    "                self.topKSmall += self.sorted[self.k]\n",
    "            if numToRemove >= self.sorted[-self.k]:\n",
    "                self.topKBig -= numToRemove\n",
    "                self.topKBig += self.sorted[-self.k-1]\n",
    "            self.sorted.remove(numToRemove)\n",
    "\n",
    "\n",
    "    def calculateMKAverage(self) -> int:\n",
    "\t# T: O(1), S: O(1)\n",
    "        if len(self.nums) < self.m:\n",
    "            return -1\n",
    "        return (self.total - self.topKSmall - self.topKBig) // (self.m - 2*self.k)\n",
    "\n",
    "\n",
    "# Your MKAverage object will be instantiated and called as such:\n",
    "# obj = MKAverage(m, k)\n",
    "# obj.addElement(num)\n",
    "# param_2 = obj.calculateMKAverage()"
   ]
  },
  {
   "cell_type": "code",
   "execution_count": null,
   "id": "d041ac0d-3152-4165-9055-7dda73812fd1",
   "metadata": {},
   "outputs": [],
   "source": []
  }
 ],
 "metadata": {
  "kernelspec": {
   "display_name": "Python 3 (ipykernel)",
   "language": "python",
   "name": "python3"
  },
  "language_info": {
   "codemirror_mode": {
    "name": "ipython",
    "version": 3
   },
   "file_extension": ".py",
   "mimetype": "text/x-python",
   "name": "python",
   "nbconvert_exporter": "python",
   "pygments_lexer": "ipython3",
   "version": "3.8.5"
  }
 },
 "nbformat": 4,
 "nbformat_minor": 5
}
