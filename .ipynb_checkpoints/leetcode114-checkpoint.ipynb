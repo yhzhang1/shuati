{
 "cells": [
  {
   "cell_type": "raw",
   "metadata": {},
   "source": [
    "https://leetcode.com/problems/flatten-binary-tree-to-linked-list/editorial/"
   ]
  },
  {
   "cell_type": "code",
   "execution_count": 1,
   "metadata": {
    "execution": {
     "iopub.execute_input": "2025-06-15T19:05:49.436962Z",
     "iopub.status.busy": "2025-06-15T19:05:49.435015Z",
     "iopub.status.idle": "2025-06-15T19:05:49.477438Z",
     "shell.execute_reply": "2025-06-15T19:05:49.475450Z",
     "shell.execute_reply.started": "2025-06-15T19:05:49.436962Z"
    }
   },
   "outputs": [],
   "source": [
    "# T: O(n), S: O(n)\n",
    "from typing import List\n",
    "# Definition for a binary tree node.\n",
    "class TreeNode:\n",
    "    def __init__(self, val=0, left=None, right=None):\n",
    "        self.val = val\n",
    "        self.left = left\n",
    "        self.right = right\n",
    "class Solution:\n",
    "    def flattenTree(self, root: TreeNode) -> TreeNode:\n",
    "        if not root:\n",
    "            return None\n",
    "        elif not root.left and not root.right:\n",
    "            return root\n",
    "        \n",
    "        leftTail = self.flattenTree(root.left)\n",
    "        rightTail = self.flattenTree(root.right)\n",
    "        \n",
    "        if leftTail:\n",
    "            leftTail.right = root.right\n",
    "            root.right = root.left\n",
    "            root.left = None\n",
    "        \n",
    "        return rightTail if rightTail else leftTail\n",
    "    def flatten(self, root: TreeNode) -> None:\n",
    "        \"\"\"\n",
    "        Do not return anything, modify root in-place instead.\n",
    "        \"\"\"\n",
    "        self.flattenTree(root)\n",
    "        "
   ]
  },
  {
   "cell_type": "code",
   "execution_count": null,
   "metadata": {},
   "outputs": [],
   "source": [
    "# Definition for a binary tree node.\n",
    "# class TreeNode:\n",
    "#     def __init__(self, val=0, left=None, right=None):\n",
    "#         self.val = val\n",
    "#         self.left = left\n",
    "#         self.right = right\n",
    "class Solution:\n",
    "    def flatten(self, root: Optional[TreeNode]) -> None:\n",
    "        \"\"\"\n",
    "        Do not return anything, modify root in-place instead.\n",
    "        \"\"\"\n",
    "        def dfs(root):\n",
    "            if not root:    return None\n",
    "            if not root.left and not root.right:    return root\n",
    "\n",
    "            if root.left and root.right:\n",
    "                l_tail = dfs(root.left)\n",
    "                r_tail = dfs(root.right)\n",
    "                l_tail.right = root.right\n",
    "                root.right = root.left\n",
    "                root.left = None\n",
    "                return r_tail\n",
    "            elif not root.left:\n",
    "                r_tail = dfs(root.right)\n",
    "                return r_tail\n",
    "            elif not root.right:\n",
    "                l_tail = dfs(root.left)\n",
    "                root.right = root.left\n",
    "                root.left = None\n",
    "                return l_tail\n",
    "\n",
    "        dfs(root)"
   ]
  }
 ],
 "metadata": {
  "kernelspec": {
   "display_name": "Python 3 (ipykernel)",
   "language": "python",
   "name": "python3"
  },
  "language_info": {
   "codemirror_mode": {
    "name": "ipython",
    "version": 3
   },
   "file_extension": ".py",
   "mimetype": "text/x-python",
   "name": "python",
   "nbconvert_exporter": "python",
   "pygments_lexer": "ipython3",
   "version": "3.11.5"
  }
 },
 "nbformat": 4,
 "nbformat_minor": 4
}
