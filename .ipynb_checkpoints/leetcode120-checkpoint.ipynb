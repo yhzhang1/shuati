{
 "cells": [
  {
   "cell_type": "markdown",
   "metadata": {},
   "source": [
    "https://www.youtube.com/watch?v=ITV2CglqkWU"
   ]
  },
  {
   "cell_type": "code",
   "execution_count": 14,
   "metadata": {
    "execution": {
     "iopub.execute_input": "2025-06-25T18:40:52.466850Z",
     "iopub.status.busy": "2025-06-25T18:40:52.465875Z",
     "iopub.status.idle": "2025-06-25T18:40:52.482689Z",
     "shell.execute_reply": "2025-06-25T18:40:52.480675Z",
     "shell.execute_reply.started": "2025-06-25T18:40:52.466850Z"
    }
   },
   "outputs": [],
   "source": [
    "# T:O(n^2), S:O(n^2)\n",
    "class Solution:\n",
    "    def minimumTotal(self, triangle: List[List[int]]) -> int:\n",
    "        '''\n",
    "        dp[i][j] = minTotalOf(i,j)\n",
    "        dp[i][j] = min(dp[i-1][j], dp[i-1][j-1]) + triangle[i-1][j-1]\n",
    "        '''\n",
    "        n = len(triangle)\n",
    "        dp = [[float('inf')] * (n+1) for _ in range(n+1)]\n",
    "\n",
    "        for i in range(1,n+1):\n",
    "            for j in range(1,i+1):\n",
    "                if i == 1 and j == 1:\n",
    "                    dp[i][j] = triangle[i-1][j-1]\n",
    "                elif j == 1:\n",
    "                    dp[i][j] = dp[i-1][j] + triangle[i-1][j-1]\n",
    "                elif j == i:\n",
    "                    dp[i][j] = dp[i-1][j-1] + triangle[i-1][j-1]\n",
    "                else:\n",
    "                    dp[i][j] = min(dp[i-1][j], dp[i-1][j-1]) + triangle[i-1][j-1]\n",
    "\n",
    "        return min(dp[-1])"
   ]
  },
  {
   "cell_type": "code",
   "execution_count": 3,
   "metadata": {
    "execution": {
     "iopub.execute_input": "2025-06-25T15:07:43.400544Z",
     "iopub.status.busy": "2025-06-25T15:07:43.399504Z",
     "iopub.status.idle": "2025-06-25T15:07:43.419007Z",
     "shell.execute_reply": "2025-06-25T15:07:43.417028Z",
     "shell.execute_reply.started": "2025-06-25T15:07:43.400544Z"
    }
   },
   "outputs": [],
   "source": [
    "class Solution:\n",
    "    def minimumTotal(self, triangle: List[List[int]]) -> int:\n",
    "        n = len(triangle)\n",
    "        dp = [[float('inf')] * (n+1) for _ in range(n+1)]\n",
    "        print('dp:')\n",
    "        for r in dp:\n",
    "            print(r)\n",
    "        for i in range(1,n+1):\n",
    "            for j in range(1,i+1):\n",
    "                if i == 1 and j == 1:\n",
    "                    dp[i][j] = triangle[i-1][j-1]\n",
    "                else:\n",
    "                    dp[i][j] = min(dp[i-1][j], dp[i-1][j-1]) + triangle[i-1][j-1]\n",
    "            print('dp:')\n",
    "            for r in dp:\n",
    "                print(r)\n",
    "                    \n",
    "        return min(dp[-1])"
   ]
  },
  {
   "cell_type": "code",
   "execution_count": 10,
   "metadata": {
    "execution": {
     "iopub.execute_input": "2025-06-25T15:24:29.252378Z",
     "iopub.status.busy": "2025-06-25T15:24:29.251411Z",
     "iopub.status.idle": "2025-06-25T15:24:29.260526Z",
     "shell.execute_reply": "2025-06-25T15:24:29.259537Z",
     "shell.execute_reply.started": "2025-06-25T15:24:29.252378Z"
    }
   },
   "outputs": [],
   "source": [
    "# T:O(n^2), S:O(n)\n",
    "class Solution:\n",
    "    def minimumTotal(self, triangle: List[List[int]]) -> int:\n",
    "        n = len(triangle)\n",
    "        dp = [[float('inf')] * (n+1) for _ in range(2)]\n",
    "        # print('dp:')\n",
    "        # for r in dp:\n",
    "        #     print(r)\n",
    "        for i in range(1,n+1):\n",
    "            for j in range(1,i+1):\n",
    "                if i == 1 and j == 1:\n",
    "                    dp[1][j] = triangle[i-1][j-1]\n",
    "                elif j == 1:\n",
    "                    dp[1][j] = dp[0][j] + triangle[i-1][j-1]\n",
    "                elif j == i:\n",
    "                    dp[1][j] = dp[0][j-1] + triangle[i-1][j-1]\n",
    "                else:\n",
    "                    dp[1][j] = min(dp[0][j], dp[0][j-1]) + triangle[i-1][j-1]\n",
    "            # print('dp:')\n",
    "            # for r in dp:\n",
    "            #     print(r)\n",
    "            dp[0], dp[1] = dp[1], dp[0]\n",
    "\n",
    "        return min(dp[0])"
   ]
  },
  {
   "cell_type": "code",
   "execution_count": 11,
   "metadata": {
    "execution": {
     "iopub.execute_input": "2025-06-25T15:27:05.637269Z",
     "iopub.status.busy": "2025-06-25T15:27:05.636293Z",
     "iopub.status.idle": "2025-06-25T15:27:05.648519Z",
     "shell.execute_reply": "2025-06-25T15:27:05.647534Z",
     "shell.execute_reply.started": "2025-06-25T15:27:05.637269Z"
    }
   },
   "outputs": [],
   "source": [
    "class Solution:\n",
    "    def minimumTotal(self, triangle: List[List[int]]) -> int:\n",
    "        n = len(triangle)\n",
    "        dp = [[float('inf')] * (n+1) for _ in range(2)]\n",
    "        # print('dp:')\n",
    "        # for r in dp:\n",
    "        #     print(r)\n",
    "        for i in range(1,n+1):\n",
    "            for j in range(1,i+1):\n",
    "                if i == 1 and j == 1:\n",
    "                    dp[1][j] = triangle[i-1][j-1]\n",
    "                else:\n",
    "                    dp[1][j] = min(dp[0][j], dp[0][j-1]) + triangle[i-1][j-1]\n",
    "            # print('dp:')\n",
    "            # for r in dp:\n",
    "            #     print(r)\n",
    "            dp[0], dp[1] = dp[1], dp[0]\n",
    "\n",
    "        return min(dp[0])"
   ]
  },
  {
   "cell_type": "code",
   "execution_count": 12,
   "metadata": {
    "execution": {
     "iopub.execute_input": "2025-06-25T18:35:35.410056Z",
     "iopub.status.busy": "2025-06-25T18:35:35.409083Z",
     "iopub.status.idle": "2025-06-25T18:35:35.424709Z",
     "shell.execute_reply": "2025-06-25T18:35:35.421763Z",
     "shell.execute_reply.started": "2025-06-25T18:35:35.410056Z"
    }
   },
   "outputs": [],
   "source": [
    "# T:O(n^2), S:O(1)\n",
    "class Solution:\n",
    "    def minimumTotal(self, triangle: List[List[int]]) -> int:\n",
    "        n = len(triangle)\n",
    "        # print('triangle:')\n",
    "        # for r in triangle:\n",
    "        #     print(r)\n",
    "        for i in range(n):\n",
    "            for j in range(i+1):\n",
    "                if i == 0 and j == 0:\n",
    "                    continue\n",
    "                elif j == 0:\n",
    "                    triangle[i][j] += triangle[i-1][j]\n",
    "                elif j == i:\n",
    "                    triangle[i][j] += triangle[i-1][j-1]\n",
    "                else:\n",
    "                    triangle[i][j] += min(triangle[i-1][j], triangle[i-1][j-1])\n",
    "            # print('triangle:')\n",
    "            # for r in triangle:\n",
    "            #     print(r)\n",
    "\n",
    "        return min(triangle[-1])"
   ]
  },
  {
   "cell_type": "code",
   "execution_count": 1,
   "metadata": {
    "execution": {
     "iopub.execute_input": "2025-06-25T15:05:31.537920Z",
     "iopub.status.busy": "2025-06-25T15:05:31.536943Z",
     "iopub.status.idle": "2025-06-25T15:05:31.571123Z",
     "shell.execute_reply": "2025-06-25T15:05:31.568177Z",
     "shell.execute_reply.started": "2025-06-25T15:05:31.537920Z"
    }
   },
   "outputs": [],
   "source": [
    "from typing import List\n",
    "class Solution:\n",
    "    def minimumTotal(self, triangle: List[List[int]]) -> int:\n",
    "        n = len(triangle)\n",
    "        dpPre = [0] * n\n",
    "        dpCur = [0] * n\n",
    "        dpPre[0] = triangle[0][0]\n",
    "        \n",
    "        for i in range(1,n):\n",
    "            for j in range(i+1):\n",
    "                if j == 0:\n",
    "                    dpCur[j] = dpPre[j] + triangle[i][j]\n",
    "                elif j == i:\n",
    "                    dpCur[j] = dpPre[j-1] + triangle[i][j]\n",
    "                else:\n",
    "                    dpCur[j] = min(dpPre[j-1], dpPre[j]) + triangle[i][j]\n",
    "            dpPre, dpCur = dpCur, dpPre\n",
    "            \n",
    "                    \n",
    "        return min(dpPre)"
   ]
  },
  {
   "cell_type": "code",
   "execution_count": 12,
   "metadata": {},
   "outputs": [],
   "source": [
    "from typing import List\n",
    "class Solution:\n",
    "    def minimumTotal(self, triangle: List[List[int]]) -> int:\n",
    "        n = len(triangle)\n",
    "        dp = [[0] * n for _ in range(n)]\n",
    "        dp[0][0] = triangle[0][0]\n",
    "        \n",
    "        for i in range(1,n):\n",
    "            for j in range(i+1):\n",
    "                if j == 0:\n",
    "                    dp[i][j] = dp[i-1][j] + triangle[i][j]\n",
    "                elif j == i:\n",
    "                    dp[i][j] = dp[i-1][j-1] + triangle[i][j]\n",
    "                else:\n",
    "                    dp[i][j] = min(dp[i-1][j-1], dp[i-1][j]) + triangle[i][j]\n",
    "                    \n",
    "        return min(dp[-1])"
   ]
  },
  {
   "cell_type": "code",
   "execution_count": 6,
   "metadata": {},
   "outputs": [
    {
     "data": {
      "text/plain": [
       "[[0, 2, 0], [0, 2, 0], [0, 2, 0], [0, 2, 0], [0, 2, 0]]"
      ]
     },
     "execution_count": 6,
     "metadata": {},
     "output_type": "execute_result"
    }
   ],
   "source": [
    "a[0][1] = 2\n",
    "a"
   ]
  },
  {
   "cell_type": "code",
   "execution_count": 8,
   "metadata": {},
   "outputs": [
    {
     "data": {
      "text/plain": [
       "[[0, 0, 0], [0, 0, 0], [0, 0, 0], [0, 0, 0], [0, 0, 0]]"
      ]
     },
     "execution_count": 8,
     "metadata": {},
     "output_type": "execute_result"
    }
   ],
   "source": [
    "b = [[0] * 3 for _ in range(5)]\n",
    "b"
   ]
  },
  {
   "cell_type": "code",
   "execution_count": 9,
   "metadata": {},
   "outputs": [
    {
     "data": {
      "text/plain": [
       "[[0, 2, 0], [0, 0, 0], [0, 0, 0], [0, 0, 0], [0, 0, 0]]"
      ]
     },
     "execution_count": 9,
     "metadata": {},
     "output_type": "execute_result"
    }
   ],
   "source": [
    "b[0][1] = 2\n",
    "b"
   ]
  },
  {
   "cell_type": "code",
   "execution_count": 10,
   "metadata": {},
   "outputs": [
    {
     "data": {
      "text/plain": [
       "4"
      ]
     },
     "execution_count": 10,
     "metadata": {},
     "output_type": "execute_result"
    }
   ],
   "source": [
    "max([1,2,3,4])"
   ]
  },
  {
   "cell_type": "code",
   "execution_count": 13,
   "metadata": {},
   "outputs": [
    {
     "data": {
      "text/plain": [
       "[3, 4, 5, 6]"
      ]
     },
     "execution_count": 13,
     "metadata": {},
     "output_type": "execute_result"
    }
   ],
   "source": [
    "a = [1,2,3]\n",
    "b = [3,4,5,6]\n",
    "a = b\n",
    "a"
   ]
  },
  {
   "cell_type": "code",
   "execution_count": 14,
   "metadata": {},
   "outputs": [
    {
     "data": {
      "text/plain": [
       "[10, 4, 5, 6]"
      ]
     },
     "execution_count": 14,
     "metadata": {},
     "output_type": "execute_result"
    }
   ],
   "source": [
    "a[0] = 10\n",
    "a"
   ]
  },
  {
   "cell_type": "code",
   "execution_count": 15,
   "metadata": {},
   "outputs": [
    {
     "data": {
      "text/plain": [
       "[10, 4, 5, 6]"
      ]
     },
     "execution_count": 15,
     "metadata": {},
     "output_type": "execute_result"
    }
   ],
   "source": [
    "b"
   ]
  },
  {
   "cell_type": "code",
   "execution_count": 1,
   "metadata": {
    "execution": {
     "iopub.execute_input": "2025-06-24T20:21:24.151102Z",
     "iopub.status.busy": "2025-06-24T20:21:24.150125Z",
     "iopub.status.idle": "2025-06-24T20:21:24.192037Z",
     "shell.execute_reply": "2025-06-24T20:21:24.190065Z",
     "shell.execute_reply.started": "2025-06-24T20:21:24.151102Z"
    }
   },
   "outputs": [
    {
     "data": {
      "text/plain": [
       "inf"
      ]
     },
     "execution_count": 1,
     "metadata": {},
     "output_type": "execute_result"
    }
   ],
   "source": [
    "float('inf')"
   ]
  },
  {
   "cell_type": "code",
   "execution_count": 8,
   "metadata": {
    "execution": {
     "iopub.execute_input": "2025-06-25T15:20:51.619944Z",
     "iopub.status.busy": "2025-06-25T15:20:51.618979Z",
     "iopub.status.idle": "2025-06-25T15:20:51.628171Z",
     "shell.execute_reply": "2025-06-25T15:20:51.627186Z",
     "shell.execute_reply.started": "2025-06-25T15:20:51.619944Z"
    }
   },
   "outputs": [
    {
     "data": {
      "text/plain": [
       "[[1, 2, 3], [3, 2, 1]]"
      ]
     },
     "execution_count": 8,
     "metadata": {},
     "output_type": "execute_result"
    }
   ],
   "source": [
    "dp =  [[1,2,3],[3,2,1]]\n",
    "dp"
   ]
  },
  {
   "cell_type": "code",
   "execution_count": 9,
   "metadata": {
    "execution": {
     "iopub.execute_input": "2025-06-25T15:20:57.203415Z",
     "iopub.status.busy": "2025-06-25T15:20:57.202437Z",
     "iopub.status.idle": "2025-06-25T15:20:57.210497Z",
     "shell.execute_reply": "2025-06-25T15:20:57.210497Z",
     "shell.execute_reply.started": "2025-06-25T15:20:57.203415Z"
    }
   },
   "outputs": [
    {
     "data": {
      "text/plain": [
       "[[3, 2, 1], [1, 2, 3]]"
      ]
     },
     "execution_count": 9,
     "metadata": {},
     "output_type": "execute_result"
    }
   ],
   "source": [
    "dp[0], dp[1] = dp[1], dp[0]\n",
    "dp"
   ]
  },
  {
   "cell_type": "code",
   "execution_count": null,
   "metadata": {},
   "outputs": [],
   "source": []
  }
 ],
 "metadata": {
  "kernelspec": {
   "display_name": "Python 3 (ipykernel)",
   "language": "python",
   "name": "python3"
  },
  "language_info": {
   "codemirror_mode": {
    "name": "ipython",
    "version": 3
   },
   "file_extension": ".py",
   "mimetype": "text/x-python",
   "name": "python",
   "nbconvert_exporter": "python",
   "pygments_lexer": "ipython3",
   "version": "3.11.5"
  }
 },
 "nbformat": 4,
 "nbformat_minor": 4
}
