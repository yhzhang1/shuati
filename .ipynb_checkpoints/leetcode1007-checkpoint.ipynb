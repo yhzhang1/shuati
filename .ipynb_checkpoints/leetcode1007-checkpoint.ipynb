{
 "cells": [
  {
   "cell_type": "markdown",
   "id": "d894e47b-0fec-40f2-829f-974b830593f5",
   "metadata": {},
   "source": [
    "https://leetcode.com/problems/minimum-domino-rotations-for-equal-row/editorial/"
   ]
  },
  {
   "cell_type": "code",
   "execution_count": 5,
   "id": "dc04db1c-7e1c-4442-9d76-6df562b0f2b5",
   "metadata": {},
   "outputs": [],
   "source": [
    "# T: O(n), S: O(1)\n",
    "from typing import List\n",
    "class Solution:\n",
    "    def minDominoRotations(self, tops: List[int], bottoms: List[int]) -> int:\n",
    "        def check(x):\n",
    "            rotations_a = rotations_b = 0\n",
    "            for i in range(n):\n",
    "                if x != tops[i] and x!= bottoms[i]:\n",
    "                    return -1\n",
    "                elif x != tops[i]:\n",
    "                    rotations_a += 1\n",
    "                elif x != bottoms[i]:\n",
    "                    rotations_b += 1\n",
    "            \n",
    "            return min(rotations_a, rotations_b)\n",
    "\n",
    "        n = len(tops)\n",
    "        rotations = check(tops[0])\n",
    "        if rotations != -1 or tops[0] == bottoms[0]:\n",
    "            return rotations\n",
    "        else:\n",
    "            return check(bottoms[0])"
   ]
  },
  {
   "cell_type": "code",
   "execution_count": 7,
   "id": "d118e8a3-3d5e-491a-b0db-46a6a6e2f8b9",
   "metadata": {},
   "outputs": [],
   "source": [
    "# T: O(n), S: O(1)\n",
    "class Solution:\n",
    "    def minDominoRotations(self, tops: List[int], bottoms: List[int]) -> int:\n",
    "        n = len(tops)\n",
    "\n",
    "        in_every_pos = {i: True for i in range(1,7)}\n",
    "        for i in range(n):\n",
    "            for v in range(1,7):\n",
    "                if not (tops[i] == v or bottoms[i] == v):\n",
    "                    in_every_pos[v] = False\n",
    "        print('in_every_pos:', in_every_pos)\n",
    "        print('sum(in_every_pos.values():',sum(in_every_pos.values()))\n",
    "        if not sum(in_every_pos.values()):\n",
    "            print('not value exist')\n",
    "            return -1\n",
    "\n",
    "        cnt_top = Counter(tops)\n",
    "        cnt_bot = Counter(bottoms)\n",
    "\n",
    "        print('cnt_top:', cnt_top)\n",
    "        print('cnt_bot:', cnt_bot)\n",
    "        for freq in range(n,-1,-1):\n",
    "            for v in range(1,7):\n",
    "                if not in_every_pos[v]:\n",
    "                    continue\n",
    "                print('freq:',freq,'v:',v)\n",
    "                if cnt_top[v] == freq or cnt_bot[v] == freq:\n",
    "                    return n-freq\n",
    "\n",
    "        return -1"
   ]
  },
  {
   "cell_type": "code",
   "execution_count": 1,
   "id": "9e423a93-a5c2-4747-8326-b57304888c0b",
   "metadata": {},
   "outputs": [
    {
     "data": {
      "text/plain": [
       "{1: True, 2: True, 3: True, 4: True, 5: True, 6: True}"
      ]
     },
     "execution_count": 1,
     "metadata": {},
     "output_type": "execute_result"
    }
   ],
   "source": [
    "d = {i:True for i in range(1,7)}\n",
    "d"
   ]
  }
 ],
 "metadata": {
  "kernelspec": {
   "display_name": "Python 3 (ipykernel)",
   "language": "python",
   "name": "python3"
  },
  "language_info": {
   "codemirror_mode": {
    "name": "ipython",
    "version": 3
   },
   "file_extension": ".py",
   "mimetype": "text/x-python",
   "name": "python",
   "nbconvert_exporter": "python",
   "pygments_lexer": "ipython3",
   "version": "3.8.5"
  }
 },
 "nbformat": 4,
 "nbformat_minor": 5
}
