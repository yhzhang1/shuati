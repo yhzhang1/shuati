{
 "cells": [
  {
   "cell_type": "markdown",
   "id": "1f14ec4e-e34e-414d-8745-1562aa02fb99",
   "metadata": {},
   "source": [
    "https://leetcode.com/problems/maximum-strictly-increasing-cells-in-a-matrix/"
   ]
  },
  {
   "cell_type": "code",
   "execution_count": 3,
   "id": "92e2720b-d99d-45a7-8969-4ea4343d740f",
   "metadata": {},
   "outputs": [],
   "source": [
    "# T: O(mnlog(mn)) S: O(mn)\n",
    "class Solution:\n",
    "    def maxIncreasingCells(self, mat: List[List[int]]) -> int:\n",
    "        m = len(mat)\n",
    "        n = len(mat[0]) if mat else 0\n",
    "\n",
    "        val2coord = defaultdict(list)\n",
    "        for r in range(m):\n",
    "            for c in range(n):\n",
    "                val2coord[mat[r][c]] += [(r, c)]\n",
    "\n",
    "        prev_r = defaultdict(int)\n",
    "        prev_c = defaultdict(int)\n",
    "        ans = 0\n",
    "        for val in sorted(val2coord):\n",
    "            next_r = defaultdict(int)\n",
    "            next_c = defaultdict(int)\n",
    "            for r,c in val2coord[val]:\n",
    "                next_r[r] = max(prev_r[r]+1, prev_c[c]+1, next_r[r])\n",
    "                next_c[c] = max(prev_r[r]+1, prev_c[c]+1, next_c[c])\n",
    "                ans = max(next_r[r], next_c[c], ans)\n",
    "            prev_r.update(next_r)\n",
    "            prev_c.update(next_c)\n",
    "        return ans"
   ]
  },
  {
   "cell_type": "code",
   "execution_count": 2,
   "id": "ff587e3f-2eb6-4943-aa1d-663ea946072a",
   "metadata": {},
   "outputs": [],
   "source": [
    "# T: O(mnlog(mn)) S: O(mn)\n",
    "from typing import List\n",
    "class Solution:\n",
    "    def maxIncreasingCells(self, mat: List[List[int]]) -> int:\n",
    "        m = len(mat)\n",
    "        n = len(mat[0]) if mat else 0\n",
    "\n",
    "        val2coord = defaultdict(list)\n",
    "        for r in range(m):\n",
    "            for c in range(n):\n",
    "                val2coord[mat[r][c]] += [(r, c)]\n",
    "\n",
    "        prev_r = defaultdict(int)\n",
    "        prev_c = defaultdict(int)\n",
    "        ans = 0\n",
    "        for val in sorted(val2coord, reverse=True):\n",
    "            next_r = defaultdict(int)\n",
    "            next_c = defaultdict(int)\n",
    "            for r,c in val2coord[val]:\n",
    "                next_r[r] = max(prev_r[r]+1, prev_c[c]+1, next_r[r])\n",
    "                next_c[c] = max(prev_r[r]+1, prev_c[c]+1, next_c[c])\n",
    "                ans = max(next_r[r], next_c[c], ans)\n",
    "            prev_r.update(next_r)\n",
    "            prev_c.update(next_c)\n",
    "        return ans"
   ]
  },
  {
   "cell_type": "code",
   "execution_count": null,
   "id": "545b229f-455a-4200-9c0d-b4c833101fd5",
   "metadata": {},
   "outputs": [],
   "source": []
  }
 ],
 "metadata": {
  "kernelspec": {
   "display_name": "Python 3 (ipykernel)",
   "language": "python",
   "name": "python3"
  },
  "language_info": {
   "codemirror_mode": {
    "name": "ipython",
    "version": 3
   },
   "file_extension": ".py",
   "mimetype": "text/x-python",
   "name": "python",
   "nbconvert_exporter": "python",
   "pygments_lexer": "ipython3",
   "version": "3.8.5"
  }
 },
 "nbformat": 4,
 "nbformat_minor": 5
}
