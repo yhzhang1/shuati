{
 "cells": [
  {
   "cell_type": "markdown",
   "metadata": {},
   "source": [
    "https://leetcode.com/problems/valid-sudoku/solution/"
   ]
  },
  {
   "cell_type": "code",
   "execution_count": 2,
   "metadata": {},
   "outputs": [],
   "source": [
    "# T:O(n1n2), S:O(max(n1,n2))\n",
    "from typing import List\n",
    "class Solution:\n",
    "    def isValidSudoku(self, board: List[List[str]]) -> bool:\n",
    "        rows = [{} for _ in range(9)]\n",
    "        cols = [{} for _ in range(9)]\n",
    "        boxes = [{} for _ in range(9)]\n",
    "        \n",
    "        for r in range(9):\n",
    "            for c in range(9):\n",
    "                if board[r][c] == '.':\n",
    "                    continue\n",
    "                num = board[r][c]\n",
    "                boxIdx = 3*(r//3) + c//3\n",
    "                rows[r][num] = rows[r].get(num, 0) + 1\n",
    "                cols[c][num] = cols[c].get(num, 0) + 1\n",
    "                boxes[boxIdx][num] = boxes[boxIdx].get(num, 0) + 1\n",
    "                \n",
    "                if rows[r][num] > 1 or cols[c][num] > 1 or boxes[boxIdx][num] > 1:\n",
    "                    return False\n",
    "                \n",
    "        return True"
   ]
  },
  {
   "cell_type": "code",
   "execution_count": 1,
   "metadata": {},
   "outputs": [
    {
     "data": {
      "text/plain": [
       "[['5', '3', '.', '.', '7', '.', '.', '.', '.'],\n",
       " ['6', '.', '.', '1', '9', '5', '.', '.', '.'],\n",
       " ['.', '9', '8', '.', '.', '.', '.', '6', '.'],\n",
       " ['8', '.', '.', '.', '6', '.', '.', '.', '3'],\n",
       " ['4', '.', '.', '8', '.', '3', '.', '.', '1'],\n",
       " ['7', '.', '.', '.', '2', '.', '.', '.', '6'],\n",
       " ['.', '6', '.', '.', '.', '.', '2', '8', '.'],\n",
       " ['.', '.', '.', '4', '1', '9', '.', '.', '5'],\n",
       " ['.', '.', '.', '.', '8', '.', '.', '7', '9']]"
      ]
     },
     "execution_count": 1,
     "metadata": {},
     "output_type": "execute_result"
    }
   ],
   "source": [
    "case1 = [\n",
    "    ['5','3','.', '.','7','.', '.','.','.'],\n",
    "    ['6','.','.', '1','9','5', '.','.','.'],\n",
    "    ['.','9','8', '.','.','.', '.','6','.'],\n",
    "    ['8','.','.', '.','6','.', '.','.','3'],\n",
    "    ['4','.','.', '8','.','3', '.','.','1'],\n",
    "    ['7','.','.', '.','2','.', '.','.','6'],\n",
    "    ['.','6','.', '.','.','.', '2','8','.'],\n",
    "    ['.','.','.', '4','1','9', '.','.','5'],\n",
    "    ['.','.','.', '.','8','.', '.','7','9']\n",
    "]\n",
    "case1"
   ]
  },
  {
   "cell_type": "code",
   "execution_count": 8,
   "metadata": {},
   "outputs": [],
   "source": [
    "class Solution:\n",
    "    def isValidSudoku(self, board):\n",
    "        '''\n",
    "        :type board: List[List[str]]\n",
    "        :rtype: bool\n",
    "        '''\n",
    "        rows = [{} for i in range(9)]\n",
    "        columns = [{} for i in range(9)]\n",
    "        boxes = [{} for i in range(9)]\n",
    "        \n",
    "        for i in range(9):\n",
    "            for j in range(9):\n",
    "                num = board[i][j]\n",
    "                if num != '.':\n",
    "                    num = int(num)\n",
    "                    box_index = (i // 3) * 3 + j // 3\n",
    "                    rows[i][num] = rows[i].get(num, 0) + 1\n",
    "                    print('i: {}, j: {}'.format(i, j))\n",
    "                    print('box_index: {}'.format(box_index))\n",
    "                    columns[j][num] = columns[j].get(num, 0) + 1\n",
    "                    boxes[box_index][num] = boxes[box_index].get(num, 0) + 1\n",
    "                    if rows[i][num] > 1 or columns[j][num] > 1 or boxes[box_index][num] > 1:\n",
    "                        return False\n",
    "                    \n",
    "        return True\n",
    "    "
   ]
  },
  {
   "cell_type": "code",
   "execution_count": 8,
   "metadata": {},
   "outputs": [
    {
     "name": "stdout",
     "output_type": "stream",
     "text": [
      "i: 0, j: 0\n",
      "box_index: 0\n",
      "i: 0, j: 1\n",
      "box_index: 0\n",
      "i: 0, j: 4\n",
      "box_index: 1\n",
      "i: 1, j: 0\n",
      "box_index: 0\n",
      "i: 1, j: 3\n",
      "box_index: 1\n",
      "i: 1, j: 4\n",
      "box_index: 1\n",
      "i: 1, j: 5\n",
      "box_index: 1\n",
      "i: 2, j: 1\n",
      "box_index: 0\n",
      "i: 2, j: 2\n",
      "box_index: 0\n",
      "i: 2, j: 7\n",
      "box_index: 2\n",
      "i: 3, j: 0\n",
      "box_index: 3\n",
      "i: 3, j: 4\n",
      "box_index: 4\n",
      "i: 3, j: 8\n",
      "box_index: 5\n",
      "i: 4, j: 0\n",
      "box_index: 3\n",
      "i: 4, j: 3\n",
      "box_index: 4\n",
      "i: 4, j: 5\n",
      "box_index: 4\n",
      "i: 4, j: 8\n",
      "box_index: 5\n",
      "i: 5, j: 0\n",
      "box_index: 3\n",
      "i: 5, j: 4\n",
      "box_index: 4\n",
      "i: 5, j: 8\n",
      "box_index: 5\n",
      "i: 6, j: 1\n",
      "box_index: 6\n",
      "i: 6, j: 6\n",
      "box_index: 8\n",
      "i: 6, j: 7\n",
      "box_index: 8\n",
      "i: 7, j: 3\n",
      "box_index: 7\n",
      "i: 7, j: 4\n",
      "box_index: 7\n",
      "i: 7, j: 5\n",
      "box_index: 7\n",
      "i: 7, j: 8\n",
      "box_index: 8\n",
      "i: 8, j: 4\n",
      "box_index: 7\n",
      "i: 8, j: 7\n",
      "box_index: 8\n",
      "i: 8, j: 8\n",
      "box_index: 8\n"
     ]
    },
    {
     "data": {
      "text/plain": [
       "True"
      ]
     },
     "execution_count": 8,
     "metadata": {},
     "output_type": "execute_result"
    }
   ],
   "source": [
    "Solution().isValidSudoku(case1)"
   ]
  },
  {
   "cell_type": "code",
   "execution_count": 9,
   "metadata": {},
   "outputs": [],
   "source": [
    "from typing import List\n",
    "class Solution:\n",
    "    def isValidSudoku(self, board: List[List[str]]) -> bool:\n",
    "        n = len(board)\n",
    "        rows = [set() for _ in range(n)]\n",
    "        cols = [set() for _ in range(n)]\n",
    "        boxes = [set() for _ in range(n)]\n",
    "        \n",
    "        for r in range(n):\n",
    "            for c in range(n):\n",
    "                if board[r][c] == '.':\n",
    "                    continue\n",
    "                if board[r][c] in rows[r]:\n",
    "                    print('{} in row {}'.format(board[r][c], r))\n",
    "                    return False\n",
    "                else:\n",
    "                    rows[r].add(board[r][c])\n",
    "                    \n",
    "                if board[r][c] in cols[c]:\n",
    "                    print('col')\n",
    "                    return False\n",
    "                else:\n",
    "                    cols[c].add(board[r][c])\n",
    "                    \n",
    "                boxIdx = 3 * (r // 3) + c // 3\n",
    "                print('r {} c {} box {}'.format(r,c, boxIdx))\n",
    "\n",
    "                if board[r][c] in boxes[boxIdx]:\n",
    "                    print('box')\n",
    "                    return False\n",
    "                else:\n",
    "                    boxes[boxIdx].add(board[r][c])\n",
    "                    \n",
    "        print('rows:', rows)\n",
    "        print('cols:', cols)\n",
    "        print('boxes:', boxes)\n",
    "                    \n",
    "        return True"
   ]
  },
  {
   "cell_type": "code",
   "execution_count": 5,
   "metadata": {},
   "outputs": [],
   "source": [
    "s.add(1)"
   ]
  },
  {
   "cell_type": "code",
   "execution_count": 6,
   "metadata": {},
   "outputs": [
    {
     "data": {
      "text/plain": [
       "{1}"
      ]
     },
     "execution_count": 6,
     "metadata": {},
     "output_type": "execute_result"
    }
   ],
   "source": [
    "s"
   ]
  },
  {
   "cell_type": "code",
   "execution_count": null,
   "metadata": {},
   "outputs": [],
   "source": []
  }
 ],
 "metadata": {
  "kernelspec": {
   "display_name": "Python 3 (ipykernel)",
   "language": "python",
   "name": "python3"
  },
  "language_info": {
   "codemirror_mode": {
    "name": "ipython",
    "version": 3
   },
   "file_extension": ".py",
   "mimetype": "text/x-python",
   "name": "python",
   "nbconvert_exporter": "python",
   "pygments_lexer": "ipython3",
   "version": "3.8.5"
  }
 },
 "nbformat": 4,
 "nbformat_minor": 4
}
