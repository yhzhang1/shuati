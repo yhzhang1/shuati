{
 "cells": [
  {
   "cell_type": "markdown",
   "metadata": {},
   "source": [
    "https://www.youtube.com/watch?v=JqOIRBC0_9c"
   ]
  },
  {
   "cell_type": "code",
   "execution_count": 3,
   "metadata": {},
   "outputs": [],
   "source": [
    "# T: O(2^n), S: O(2^n)\n",
    "class Solution:\n",
    "    def wordBreak(self, s: str, wordDict: List[str]) -> List[str]:\n",
    "        words = set(wordDict)\n",
    "        mem = {}\n",
    "        def wordBreak(s) -> List[str]:\n",
    "            if s in mem:    return mem[s]\n",
    "            ans = []\n",
    "            if s in words:\n",
    "                ans.append(s)\n",
    "                \n",
    "            for i in range(1, len(s)):\n",
    "                right = s[i:]\n",
    "                if right not in words:  continue\n",
    "                ans += [sentence + ' ' + right for sentence in wordBreak(s[:i])]\n",
    "                \n",
    "            mem[s] = ans\n",
    "            return mem[s]\n",
    "        \n",
    "        return wordBreak(s)"
   ]
  },
  {
   "cell_type": "code",
   "execution_count": 6,
   "metadata": {},
   "outputs": [],
   "source": [
    "class Solution:\n",
    "    def wordBreak(self, s: str, wordDict: List[str]) -> List[str]:\n",
    "        def dfs(s):\n",
    "            if s in m_:\n",
    "                return m_[s]\n",
    "            \n",
    "            ans = [] \n",
    "            if s in wordDict_:\n",
    "                ans.append(s)\n",
    "                \n",
    "\n",
    "            for i in range(1, len(s)+1):\n",
    "                if s[:i] in wordDict_:\n",
    "                    for sentence in dfs(s[i:]):\n",
    "                        ans.append(s[:i] + ' ' + sentence)\n",
    "                        \n",
    "            m_[s] = ans\n",
    "            return ans\n",
    "\n",
    "    \n",
    "        wordDict_ = set(wordDict)\n",
    "        m_ = {}\n",
    "        return dfs(s)"
   ]
  },
  {
   "cell_type": "code",
   "execution_count": 2,
   "metadata": {},
   "outputs": [],
   "source": [
    "from typing import List\n",
    "class Solution:\n",
    "    def wordBreak(self, s: str, wordDict: List[str]) -> List[str]:\n",
    "        def dfs(cur, s):\n",
    "            if len(s) == 0:\n",
    "                ans.append(' '.join(cur))\n",
    "                return\n",
    "                \n",
    "            for i in range(1, len(s)+1):\n",
    "                if s[:i] in wordDict_:\n",
    "                    cur.append(s[:i])\n",
    "                    dfs(cur, s[i:])\n",
    "                    cur.pop()\n",
    "    \n",
    "        wordDict_ = set(wordDict)\n",
    "        ans = []\n",
    "        dfs([], s)\n",
    "        return ans"
   ]
  },
  {
   "cell_type": "code",
   "execution_count": null,
   "metadata": {},
   "outputs": [],
   "source": []
  }
 ],
 "metadata": {
  "kernelspec": {
   "display_name": "Python 3",
   "language": "python",
   "name": "python3"
  },
  "language_info": {
   "codemirror_mode": {
    "name": "ipython",
    "version": 3
   },
   "file_extension": ".py",
   "mimetype": "text/x-python",
   "name": "python",
   "nbconvert_exporter": "python",
   "pygments_lexer": "ipython3",
   "version": "3.8.5"
  }
 },
 "nbformat": 4,
 "nbformat_minor": 4
}
