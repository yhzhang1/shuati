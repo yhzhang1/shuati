{
 "cells": [
  {
   "cell_type": "code",
   "execution_count": 3,
   "id": "20ad0884-2aa0-4527-8280-8530f78c9aa4",
   "metadata": {},
   "outputs": [],
   "source": [
    "# T: O(mn), S: O(mn)\n",
    "from typing import List\n",
    "class Solution:\n",
    "    def countPyramids(self, grid: List[List[int]]) -> int:\n",
    "        def dfs(i, j, dr):\n",
    "            if (i,j,dr) in dp:\n",
    "                return dp[(i,j,dr)]\n",
    "            if grid[i][j] and 0 <= i+dr < m and j-1 >= 0 and j+1 < n and grid[i+dr][j]:\n",
    "                dp[(i,j,dr)] = min(dfs(i+dr,j-1,dr), dfs(i+dr,j+1,dr)) + 1\n",
    "            else:\n",
    "                dp[(i,j,dr)] = grid[i][j]\n",
    "            return dp[(i,j,dr)] \n",
    "\n",
    "\n",
    "        m = len(grid)\n",
    "        n = len(grid[0]) if grid else 0\n",
    "        dp = {}\n",
    "        ans = 0\n",
    "        for i in range(m):\n",
    "            for j in range(n):\n",
    "                ans += max(0, dfs(i,j,1) - 1)\n",
    "                ans += max(0, dfs(i,j,-1) -1)\n",
    "        return ans"
   ]
  }
 ],
 "metadata": {
  "kernelspec": {
   "display_name": "Python 3 (ipykernel)",
   "language": "python",
   "name": "python3"
  },
  "language_info": {
   "codemirror_mode": {
    "name": "ipython",
    "version": 3
   },
   "file_extension": ".py",
   "mimetype": "text/x-python",
   "name": "python",
   "nbconvert_exporter": "python",
   "pygments_lexer": "ipython3",
   "version": "3.8.5"
  }
 },
 "nbformat": 4,
 "nbformat_minor": 5
}
