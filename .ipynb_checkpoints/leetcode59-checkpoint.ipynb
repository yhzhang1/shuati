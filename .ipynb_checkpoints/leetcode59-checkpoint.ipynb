{
 "cells": [
  {
   "cell_type": "code",
   "execution_count": 4,
   "metadata": {},
   "outputs": [],
   "source": [
    "# T: O(n^2), S: O(n^2)\n",
    "class Solution:\n",
    "    def generateMatrix(self, n: int) -> List[List[int]]:\n",
    "        matrix = [[0]*n for _ in range(n)]\n",
    "        v=1\n",
    "        for offset in range(n//2):\n",
    "            for j in range(offset,n-1-offset):\n",
    "                matrix[offset][j] = v\n",
    "                v+=1\n",
    "            \n",
    "            for i in range(offset,n-1-offset):\n",
    "                matrix[i][n-1-offset] = v\n",
    "                v+=1\n",
    "\n",
    "            for j in range(n-1-offset,offset,-1):\n",
    "                matrix[n-1-offset][j] = v\n",
    "                v+=1\n",
    "\n",
    "            for i in range(n-1-offset,offset,-1):\n",
    "                matrix[i][offset] = v\n",
    "                v+=1\n",
    "\n",
    "        if n%2 == 1:\n",
    "            matrix[n//2][n//2] = v\n",
    "\n",
    "        return matrix"
   ]
  },
  {
   "cell_type": "code",
   "execution_count": 2,
   "metadata": {},
   "outputs": [],
   "source": [
    "from typing import List\n",
    "class Solution:\n",
    "    def generateMatrix(self, n: int) -> List[List[int]]:\n",
    "        m = [[0 for _ in range(n)] for _ in range(n)]\n",
    "        v = 1\n",
    "        offset = 0\n",
    "        while offset < n // 2:\n",
    "            for j in range(offset, n-1-offset):\n",
    "                m[0+offset][j] = v\n",
    "                v += 1\n",
    "\n",
    "            for i in range(offset, n-1-offset):\n",
    "                m[i][n-1-offset] = v\n",
    "                v += 1\n",
    "\n",
    "            for j in range(n-1-offset, 0+offset, -1):\n",
    "                m[n-1-offset][j] = v\n",
    "                v += 1\n",
    "\n",
    "            for i in range(n-1-offset, 0+offset, -1):\n",
    "                m[i][0+offset] = v\n",
    "                v += 1\n",
    "                \n",
    "            offset += 1\n",
    "            \n",
    "        if n % 2 == 1:\n",
    "            m[offset][offset] = v\n",
    "            \n",
    "        return m\n",
    "            \n",
    "            "
   ]
  },
  {
   "cell_type": "code",
   "execution_count": 3,
   "metadata": {},
   "outputs": [],
   "source": [
    "class Solution:\n",
    "    def generateMatrix(self, n: int) -> List[List[int]]:\n",
    "        m = [[0 for _ in range(n)] for _ in range(n)]\n",
    "        v = 1\n",
    "        \n",
    "        rowBegin = 0\n",
    "        colBegin = 0\n",
    "        rowEnd = n-1\n",
    "        colEnd = n-1\n",
    "        \n",
    "        while rowBegin <= rowEnd and colBegin <= colEnd:\n",
    "            for j in range(colBegin, colEnd):\n",
    "                m[rowBegin][j] = v\n",
    "                v += 1\n",
    "                \n",
    "            for i in range(rowBegin, rowEnd):\n",
    "                m[i][colEnd] = v\n",
    "                v += 1\n",
    "                \n",
    "            for j in range(colEnd, colBegin, -1):\n",
    "                m[rowEnd][j] = v\n",
    "                v += 1\n",
    "                \n",
    "            for i in range(rowEnd, rowBegin, -1):\n",
    "                m[i][colBegin] = v\n",
    "                v += 1\n",
    "                \n",
    "            if rowBegin == rowEnd and colBegin == colEnd:\n",
    "                m[rowBegin][colBegin] = v\n",
    "                \n",
    "            rowBegin += 1\n",
    "            colBegin += 1\n",
    "            rowEnd -= 1\n",
    "            colEnd -= 1\n",
    "             \n",
    "        return m\n",
    "\n",
    "            \n",
    "            "
   ]
  },
  {
   "cell_type": "code",
   "execution_count": 1,
   "metadata": {},
   "outputs": [
    {
     "data": {
      "text/plain": [
       "range(5, 1)"
      ]
     },
     "execution_count": 1,
     "metadata": {},
     "output_type": "execute_result"
    }
   ],
   "source": [
    "range(5,1)"
   ]
  },
  {
   "cell_type": "code",
   "execution_count": 3,
   "metadata": {},
   "outputs": [
    {
     "name": "stdout",
     "output_type": "stream",
     "text": [
      "5\n",
      "4\n",
      "3\n",
      "2\n"
     ]
    }
   ],
   "source": [
    "for i in range(5,1,-1):\n",
    "    print(i)"
   ]
  },
  {
   "cell_type": "code",
   "execution_count": null,
   "metadata": {},
   "outputs": [],
   "source": []
  }
 ],
 "metadata": {
  "kernelspec": {
   "display_name": "Python 3 (ipykernel)",
   "language": "python",
   "name": "python3"
  },
  "language_info": {
   "codemirror_mode": {
    "name": "ipython",
    "version": 3
   },
   "file_extension": ".py",
   "mimetype": "text/x-python",
   "name": "python",
   "nbconvert_exporter": "python",
   "pygments_lexer": "ipython3",
   "version": "3.8.5"
  }
 },
 "nbformat": 4,
 "nbformat_minor": 4
}
