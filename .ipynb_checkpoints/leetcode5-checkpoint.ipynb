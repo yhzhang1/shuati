{
 "cells": [
  {
   "cell_type": "markdown",
   "metadata": {},
   "source": [
    "https://www.youtube.com/watch?v=g3R-pjUNa3k"
   ]
  },
  {
   "cell_type": "code",
   "execution_count": 5,
   "metadata": {},
   "outputs": [],
   "source": [
    "# T: O(n^2) S: O(1)\n",
    "class Solution:\n",
    "    def longestPalindrome(self, s: str) -> str:\n",
    "        def getLen(l,r):\n",
    "            while 0 <= l and r < n and s[l] == s[r]:\n",
    "                l -= 1\n",
    "                r += 1\n",
    "            return r-l-1\n",
    "\n",
    "        n = len(s)\n",
    "        length = 0\n",
    "        for i in range(n):\n",
    "            cur = max(getLen(i,i),getLen(i,i+1))\n",
    "            if cur <= length:\n",
    "                continue    \n",
    "            length = cur\n",
    "            start = i - (cur-1) // 2\n",
    "\n",
    "        return s[start:start+length]"
   ]
  },
  {
   "cell_type": "code",
   "execution_count": 1,
   "metadata": {},
   "outputs": [],
   "source": [
    "class Solution:\n",
    "    def longestPalindrome(self, s: str) -> str:\n",
    "        n = len(s)\n",
    "        def getLen(l,r):\n",
    "            while 0 <= l and r < n and s[l] == s[r]:\n",
    "                l -= 1\n",
    "                r += 1\n",
    "                \n",
    "            return r-l-1\n",
    "        length = 0\n",
    "        \n",
    "        mid = n // 2\n",
    "        for i in range(n):\n",
    "            mid += i*(-1)**i\n",
    "            cur = max(getLen(mid,mid),\n",
    "                     getLen(mid,mid+1))\n",
    "            if cur > length:\n",
    "                length = cur\n",
    "                start = mid - (cur-1)//2\n",
    "                if length == n:\n",
    "                    break\n",
    "                                    \n",
    "        return s[start:start+length]"
   ]
  },
  {
   "cell_type": "code",
   "execution_count": 5,
   "metadata": {},
   "outputs": [],
   "source": [
    "class Solution:\n",
    "    def longestPalindrome(self, s: str) -> str:\n",
    "        longestpalindrome = ''\n",
    "        n = len(s)\n",
    "        \n",
    "        for i in range(n):\n",
    "            \n",
    "            palindrome = self.longestPal(s,i,i)\n",
    "            \n",
    "            if len(palindrome) > len(longestpalindrome):\n",
    "                longestpalindrome = palindrome\n",
    "                \n",
    "            palindrome = self.longestPal(s,i,i+1)\n",
    "            \n",
    "            if len(palindrome) > len(longestpalindrome):\n",
    "                longestpalindrome = palindrome\n",
    "                \n",
    "        return longestpalindrome\n",
    "        \n",
    "        \n",
    "    def longestPal(self, s, l, r):\n",
    "        while 0 <= l and r < len(s) and s[l] == s[r]:\n",
    "            l -= 1\n",
    "            r += 1\n",
    "        return s[l+1:r]"
   ]
  },
  {
   "cell_type": "code",
   "execution_count": null,
   "metadata": {},
   "outputs": [],
   "source": []
  },
  {
   "cell_type": "code",
   "execution_count": 4,
   "metadata": {},
   "outputs": [],
   "source": [
    "class Solution:\n",
    "    def longestPalindrome(self, s: str) -> str:\n",
    "        n = len(s)\n",
    "        dp = [ [False]*n for _ in range(n)]\n",
    "        start = 0\n",
    "        length = 0\n",
    "        \n",
    "        for i in range(n):\n",
    "            dp[i][i] = True\n",
    "            start = i\n",
    "            length = 1\n",
    "            \n",
    "        for r in range(n):\n",
    "            for l in range(r-1,-1,-1):\n",
    "                if s[l] == s[r]:\n",
    "                    if r-l==1 or dp[l+1][r-1]:\n",
    "                        dp[l][r] = True\n",
    "                        if r-l+1 > length:\n",
    "                            start = l\n",
    "                            length = r+1-l\n",
    "                      \n",
    "        \n",
    "                        \n",
    "        return s[start:start+length]"
   ]
  },
  {
   "cell_type": "code",
   "execution_count": 3,
   "metadata": {},
   "outputs": [
    {
     "data": {
      "text/plain": [
       "\u001b[1;31mInit signature:\u001b[0m \u001b[0mrange\u001b[0m\u001b[1;33m(\u001b[0m\u001b[0mself\u001b[0m\u001b[1;33m,\u001b[0m \u001b[1;33m/\u001b[0m\u001b[1;33m,\u001b[0m \u001b[1;33m*\u001b[0m\u001b[0margs\u001b[0m\u001b[1;33m,\u001b[0m \u001b[1;33m**\u001b[0m\u001b[0mkwargs\u001b[0m\u001b[1;33m)\u001b[0m\u001b[1;33m\u001b[0m\u001b[1;33m\u001b[0m\u001b[0m\n",
       "\u001b[1;31mDocstring:\u001b[0m     \n",
       "range(stop) -> range object\n",
       "range(start, stop[, step]) -> range object\n",
       "\n",
       "Return an object that produces a sequence of integers from start (inclusive)\n",
       "to stop (exclusive) by step.  range(i, j) produces i, i+1, i+2, ..., j-1.\n",
       "start defaults to 0, and stop is omitted!  range(4) produces 0, 1, 2, 3.\n",
       "These are exactly the valid indices for a list of 4 elements.\n",
       "When step is given, it specifies the increment (or decrement).\n",
       "\u001b[1;31mType:\u001b[0m           type\n",
       "\u001b[1;31mSubclasses:\u001b[0m     \n"
      ]
     },
     "metadata": {},
     "output_type": "display_data"
    }
   ],
   "source": [
    "range?"
   ]
  },
  {
   "cell_type": "code",
   "execution_count": 1,
   "metadata": {},
   "outputs": [
    {
     "data": {
      "text/plain": [
       "'abc'"
      ]
     },
     "execution_count": 1,
     "metadata": {},
     "output_type": "execute_result"
    }
   ],
   "source": [
    "s='abc'\n",
    "s"
   ]
  },
  {
   "cell_type": "code",
   "execution_count": 2,
   "metadata": {},
   "outputs": [
    {
     "data": {
      "text/plain": [
       "'a'"
      ]
     },
     "execution_count": 2,
     "metadata": {},
     "output_type": "execute_result"
    }
   ],
   "source": [
    "s[:1]"
   ]
  },
  {
   "cell_type": "code",
   "execution_count": 4,
   "metadata": {},
   "outputs": [
    {
     "data": {
      "text/plain": [
       "'bc'"
      ]
     },
     "execution_count": 4,
     "metadata": {},
     "output_type": "execute_result"
    }
   ],
   "source": [
    "s[1:]"
   ]
  },
  {
   "cell_type": "code",
   "execution_count": null,
   "metadata": {},
   "outputs": [],
   "source": []
  }
 ],
 "metadata": {
  "kernelspec": {
   "display_name": "Python 3 (ipykernel)",
   "language": "python",
   "name": "python3"
  },
  "language_info": {
   "codemirror_mode": {
    "name": "ipython",
    "version": 3
   },
   "file_extension": ".py",
   "mimetype": "text/x-python",
   "name": "python",
   "nbconvert_exporter": "python",
   "pygments_lexer": "ipython3",
   "version": "3.8.5"
  }
 },
 "nbformat": 4,
 "nbformat_minor": 4
}
