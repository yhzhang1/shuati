{
 "cells": [
  {
   "cell_type": "code",
   "execution_count": 7,
   "metadata": {
    "editable": true,
    "execution": {
     "iopub.execute_input": "2025-06-14T00:01:51.433013Z",
     "iopub.status.busy": "2025-06-14T00:01:51.432029Z",
     "iopub.status.idle": "2025-06-14T00:01:51.443307Z",
     "shell.execute_reply": "2025-06-14T00:01:51.442317Z",
     "shell.execute_reply.started": "2025-06-14T00:01:51.433013Z"
    },
    "slideshow": {
     "slide_type": ""
    },
    "tags": []
   },
   "outputs": [],
   "source": [
    "# T:O(nlogn), S:O(nlogn)\n",
    "# Definition for a binary tree node.\n",
    "# class TreeNode:\n",
    "#     def __init__(self, val=0, left=None, right=None):\n",
    "#         self.val = val\n",
    "#         self.left = left\n",
    "#         self.right = right\n",
    "class Solution:\n",
    "    def pathSum(self, root: Optional[TreeNode], targetSum: int) -> List[List[int]]:\n",
    "        if not root:    return []\n",
    "        targetSum -= root.val\n",
    "        if not root.left and not root.right:\n",
    "            if targetSum == 0:\n",
    "                return [[root.val]]\n",
    "\n",
    "        return [[root.val] + path for path in self.pathSum(root.left, targetSum)] + [[root.val] + path for path in self.pathSum(root.right, targetSum)]"
   ]
  },
  {
   "cell_type": "code",
   "execution_count": 5,
   "metadata": {
    "execution": {
     "iopub.execute_input": "2025-06-14T00:01:47.755146Z",
     "iopub.status.busy": "2025-06-14T00:01:47.755146Z",
     "iopub.status.idle": "2025-06-14T00:01:47.770906Z",
     "shell.execute_reply": "2025-06-14T00:01:47.769914Z",
     "shell.execute_reply.started": "2025-06-14T00:01:47.755146Z"
    }
   },
   "outputs": [],
   "source": [
    "from typing import List\n",
    "#Definition for a binary tree node.\n",
    "from typing import Optional\n",
    "class TreeNode:\n",
    "    def __init__(self, val=0, left=None, right=None):\n",
    "        self.val = val\n",
    "        self.left = left\n",
    "        self.right = right\n",
    "class Solution:\n",
    "    def pathSum(self, root: TreeNode, sum: int) -> List[List[int]]:\n",
    "        def dfs(root: TreeNode, sum: int, cur: List, ans: List[List[int]]) -> None:\n",
    "            if not root:\n",
    "                return\n",
    "            elif sum-root.val == 0 and not root.left and not root.right:\n",
    "                cur.append(root.val)\n",
    "                ans.append(cur[:])\n",
    "                cur.pop()\n",
    "                return\n",
    "            \n",
    "            cur.append(root.val)\n",
    "            dfs(root.left, sum-root.val, cur, ans)\n",
    "            dfs(root.right, sum-root.val, cur, ans)\n",
    "            cur.pop()\n",
    "            \n",
    "        ans = list()\n",
    "        dfs(root, sum, [], ans)\n",
    "        return ans"
   ]
  },
  {
   "cell_type": "code",
   "execution_count": 6,
   "metadata": {
    "execution": {
     "iopub.execute_input": "2025-06-14T00:01:47.927153Z",
     "iopub.status.busy": "2025-06-14T00:01:47.927153Z",
     "iopub.status.idle": "2025-06-14T00:01:47.938317Z",
     "shell.execute_reply": "2025-06-14T00:01:47.937320Z",
     "shell.execute_reply.started": "2025-06-14T00:01:47.927153Z"
    }
   },
   "outputs": [],
   "source": [
    "# Definition for a binary tree node.\n",
    "# class TreeNode:\n",
    "#     def __init__(self, val=0, left=None, right=None):\n",
    "#         self.val = val\n",
    "#         self.left = left\n",
    "#         self.right = right\n",
    "class Solution:\n",
    "    def pathSum(self, root: Optional[TreeNode], targetSum: int) -> List[List[int]]:\n",
    "        if not root:    return []\n",
    "        targetSum -= root.val\n",
    "        if not root.left and not root.right:\n",
    "            if targetSum == 0:\n",
    "                return [[root.val]]\n",
    "\n",
    "        l_paths = self.pathSum(root.left, targetSum)\n",
    "        r_paths = self.pathSum(root.right, targetSum)\n",
    "        result = [[root.val] + path for path in l_paths] + [[root.val] + path for path in r_paths]\n",
    "\n",
    "        return result"
   ]
  },
  {
   "cell_type": "code",
   "execution_count": 1,
   "metadata": {},
   "outputs": [
    {
     "data": {
      "text/plain": [
       "1"
      ]
     },
     "execution_count": 1,
     "metadata": {},
     "output_type": "execute_result"
    }
   ],
   "source": [
    "len([[]])"
   ]
  },
  {
   "cell_type": "code",
   "execution_count": 2,
   "metadata": {},
   "outputs": [
    {
     "data": {
      "text/plain": [
       "0"
      ]
     },
     "execution_count": 2,
     "metadata": {},
     "output_type": "execute_result"
    }
   ],
   "source": [
    "len([])"
   ]
  },
  {
   "cell_type": "code",
   "execution_count": 5,
   "metadata": {},
   "outputs": [
    {
     "data": {
      "text/plain": [
       "[[]]"
      ]
     },
     "execution_count": 5,
     "metadata": {},
     "output_type": "execute_result"
    }
   ],
   "source": [
    "[ path for path in [[]] ]"
   ]
  },
  {
   "cell_type": "code",
   "execution_count": 10,
   "metadata": {},
   "outputs": [
    {
     "data": {
      "text/plain": [
       "[]"
      ]
     },
     "execution_count": 10,
     "metadata": {},
     "output_type": "execute_result"
    }
   ],
   "source": [
    "[ [1] + path for path in [[]] if len(path) > 0]"
   ]
  },
  {
   "cell_type": "code",
   "execution_count": 7,
   "metadata": {},
   "outputs": [
    {
     "name": "stdout",
     "output_type": "stream",
     "text": [
      "[]\n"
     ]
    }
   ],
   "source": [
    "for path in [[]]:\n",
    "    print(path)"
   ]
  }
 ],
 "metadata": {
  "kernelspec": {
   "display_name": "Python 3 (ipykernel)",
   "language": "python",
   "name": "python3"
  },
  "language_info": {
   "codemirror_mode": {
    "name": "ipython",
    "version": 3
   },
   "file_extension": ".py",
   "mimetype": "text/x-python",
   "name": "python",
   "nbconvert_exporter": "python",
   "pygments_lexer": "ipython3",
   "version": "3.11.5"
  },
  "lineWrap": true
 },
 "nbformat": 4,
 "nbformat_minor": 4
}
