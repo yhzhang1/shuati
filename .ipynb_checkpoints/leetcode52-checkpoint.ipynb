{
 "cells": [
  {
   "cell_type": "markdown",
   "metadata": {},
   "source": [
    "https://leetcode.com/problems/n-queens-ii/solution/\n",
    "    \n",
    "https://www.youtube.com/watch?v=Xa-yETqFNEQ&t=339s"
   ]
  },
  {
   "cell_type": "code",
   "execution_count": 2,
   "metadata": {},
   "outputs": [],
   "source": [
    "# T: O(n^n), S: O(n)\n",
    "class Solution:\n",
    "    def totalNQueens(self, n: int) -> int:\n",
    "        def dfs(y):\n",
    "            if y == n:\n",
    "                return 1\n",
    "\n",
    "            ans = 0\n",
    "            for x in range(n):\n",
    "                if not available(x,y):  continue\n",
    "                update_board(x,y,True)\n",
    "                ans += dfs(y+1)\n",
    "                update_board(x,y,False)\n",
    "\n",
    "            return ans\n",
    "        def available(x,y):\n",
    "            return not self.cols[x] and not self.diag1[x+y] and not self.diag2[x-y+n-1]\n",
    "        def update_board(x,y,put):\n",
    "            self.cols[x] = put\n",
    "            self.diag1[x+y] = put\n",
    "            self.diag2[x-y+n-1] = put\n",
    "            \n",
    "        self.cols = [False]*n\n",
    "        self.diag1 = [False]*(2*n-1)\n",
    "        self.diag2 = [False]*(2*n-1)\n",
    "        return dfs(0)"
   ]
  },
  {
   "cell_type": "code",
   "execution_count": 4,
   "metadata": {},
   "outputs": [],
   "source": [
    "class Solution:\n",
    "    def totalNQueens(self, n: int) -> int:\n",
    "        self.col = [False]*n\n",
    "        self.diag1 = [False]*(2*n-1)\n",
    "        self.diag2 = [False]*(2*n-1)\n",
    "        \n",
    "        ans = self.dfs(n, 0)\n",
    "        return ans\n",
    "         \n",
    "    def dfs(self, n, y) -> int:\n",
    "        if y == n:\n",
    "            return 1\n",
    "        \n",
    "        ans = 0\n",
    "        for x in range(n):\n",
    "            if not self.available(n, x, y): continue\n",
    "            \n",
    "            self.updateBoard(n, x, y, True)\n",
    "            ans += self.dfs(n, y+1)\n",
    "            self.updateBoard(n, x, y, False)\n",
    "            \n",
    "        return ans\n",
    "                \n",
    "            \n",
    "            \n",
    "    def available(self, n, x, y):\n",
    "        return not self.col[x] and not self.diag1[x+y] and not self.diag2[x-y+n-1]\n",
    "    \n",
    "    def updateBoard(self, n, x, y, put):\n",
    "        self.col[x] = put\n",
    "        self.diag1[x+y] = put\n",
    "        self.diag2[x-y+n-1] = put\n",
    "    "
   ]
  },
  {
   "cell_type": "code",
   "execution_count": 3,
   "metadata": {},
   "outputs": [],
   "source": [
    "class Solution:\n",
    "    def totalNQueens(self, n: int) -> int:\n",
    "        self.col = [False for _ in range(n)]\n",
    "        self.diag1 = [False for _ in range(2*n-1)]\n",
    "        self.diag2 = [False for _ in range(2*n-1)]\n",
    "        \n",
    "        ans = self.dfs(n, 0)\n",
    "        return ans\n",
    "        \n",
    "    def dfs(self, n, y) -> int:\n",
    "        if y == n:\n",
    "            return 1\n",
    "            \n",
    "        ans = 0\n",
    "        for x in range(n):\n",
    "            if not self.available(n, x, y):\n",
    "                continue\n",
    "            \n",
    "            self.updateBoard(n, x, y, True)\n",
    "            ans += self.dfs(n, y+1)\n",
    "            self.updateBoard(n, x, y, False)\n",
    "            \n",
    "        return ans\n",
    "            \n",
    "    def available(self, n, x, y):\n",
    "        return not self.col[x] and not self.diag1[x+y] and not self.diag2[x-y+n-1]\n",
    "    \n",
    "    def updateBoard(self, n, x, y, put):\n",
    "        self.col[x] = put\n",
    "        self.diag1[x+y] = put\n",
    "        self.diag2[x-y+n-1] = put\n",
    "        \n",
    "        \n",
    "            \n",
    "    col = list()\n",
    "    diag1 = list()\n",
    "    diag2 = list()\n",
    "            \n",
    "    "
   ]
  },
  {
   "cell_type": "code",
   "execution_count": 1,
   "metadata": {},
   "outputs": [
    {
     "data": {
      "text/plain": [
       "[1, 1, 1, 1, 1]"
      ]
     },
     "execution_count": 1,
     "metadata": {},
     "output_type": "execute_result"
    }
   ],
   "source": [
    "[1]*5"
   ]
  },
  {
   "cell_type": "code",
   "execution_count": null,
   "metadata": {},
   "outputs": [],
   "source": []
  }
 ],
 "metadata": {
  "kernelspec": {
   "display_name": "Python 3 (ipykernel)",
   "language": "python",
   "name": "python3"
  },
  "language_info": {
   "codemirror_mode": {
    "name": "ipython",
    "version": 3
   },
   "file_extension": ".py",
   "mimetype": "text/x-python",
   "name": "python",
   "nbconvert_exporter": "python",
   "pygments_lexer": "ipython3",
   "version": "3.8.5"
  }
 },
 "nbformat": 4,
 "nbformat_minor": 4
}
