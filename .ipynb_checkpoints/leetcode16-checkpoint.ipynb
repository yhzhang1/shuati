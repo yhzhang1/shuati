{
 "cells": [
  {
   "cell_type": "code",
   "execution_count": 3,
   "metadata": {},
   "outputs": [],
   "source": [
    "# T:O(n^2), S:O(1)\n",
    "from typing import List\n",
    "\n",
    "class Solution:\n",
    "    def threeSumClosest(self, nums: List[int], target: int) -> int:\n",
    "        sum_ = 0\n",
    "        minDiff = float('inf')\n",
    "        nums.sort()\n",
    "        n = len(nums)\n",
    "        \n",
    "        for i in range(n):\n",
    "            j = i + 1\n",
    "            k = n - 1\n",
    "            while j < k:\n",
    "                curSum = nums[i] + nums[j] + nums[k]\n",
    "                curDiff = abs(curSum-target)\n",
    "                if curDiff < minDiff:\n",
    "                    minDiff = curDiff\n",
    "                    sum_ = curSum\n",
    "                if curSum < target:\n",
    "                    j += 1\n",
    "                elif curSum > target:\n",
    "                    k -= 1\n",
    "                else:\n",
    "                    return target\n",
    "                \n",
    "        return sum_\n",
    "                "
   ]
  },
  {
   "cell_type": "code",
   "execution_count": 19,
   "metadata": {},
   "outputs": [],
   "source": [
    "from typing import List\n",
    "\n",
    "class Solution:\n",
    "    def threeSumClosest(self, nums: List[int], target: int) -> int:\n",
    "        diff = float('inf')\n",
    "        nums.sort()\n",
    "        for i in range(len(nums)):\n",
    "            lo, hi = i+1, len(nums)-1\n",
    "            while lo < hi:\n",
    "                sum = nums[i] + nums[lo] + nums[hi]\n",
    "                if abs(target - sum) < abs(diff):\n",
    "                    diff = target - sum\n",
    "\n",
    "                if sum < target:\n",
    "                    lo += 1\n",
    "                else:\n",
    "                    hi -= 1\n",
    "            if diff == 0 or nums[i] > target:\n",
    "                break\n",
    "                \n",
    "        return target - diff\n",
    "                \n",
    "            "
   ]
  },
  {
   "cell_type": "code",
   "execution_count": 1,
   "metadata": {},
   "outputs": [
    {
     "data": {
      "text/plain": [
       "inf"
      ]
     },
     "execution_count": 1,
     "metadata": {},
     "output_type": "execute_result"
    }
   ],
   "source": [
    "float('inf')"
   ]
  },
  {
   "cell_type": "code",
   "execution_count": 2,
   "metadata": {},
   "outputs": [
    {
     "ename": "NameError",
     "evalue": "name 'inf' is not defined",
     "output_type": "error",
     "traceback": [
      "\u001b[1;31m---------------------------------------------------------------------------\u001b[0m",
      "\u001b[1;31mNameError\u001b[0m                                 Traceback (most recent call last)",
      "\u001b[1;32m~\\AppData\\Local\\Temp/ipykernel_11896/534417068.py\u001b[0m in \u001b[0;36m<module>\u001b[1;34m\u001b[0m\n\u001b[1;32m----> 1\u001b[1;33m \u001b[0minf\u001b[0m\u001b[1;33m\u001b[0m\u001b[1;33m\u001b[0m\u001b[0m\n\u001b[0m",
      "\u001b[1;31mNameError\u001b[0m: name 'inf' is not defined"
     ]
    }
   ],
   "source": [
    "inf"
   ]
  },
  {
   "cell_type": "code",
   "execution_count": null,
   "metadata": {},
   "outputs": [],
   "source": []
  }
 ],
 "metadata": {
  "kernelspec": {
   "display_name": "Python 3 (ipykernel)",
   "language": "python",
   "name": "python3"
  },
  "language_info": {
   "codemirror_mode": {
    "name": "ipython",
    "version": 3
   },
   "file_extension": ".py",
   "mimetype": "text/x-python",
   "name": "python",
   "nbconvert_exporter": "python",
   "pygments_lexer": "ipython3",
   "version": "3.8.5"
  }
 },
 "nbformat": 4,
 "nbformat_minor": 4
}
