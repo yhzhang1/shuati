{
 "cells": [
  {
   "cell_type": "markdown",
   "metadata": {},
   "source": [
    "https://www.youtube.com/watch?v=cGQez9SiScw&t=10s"
   ]
  },
  {
   "cell_type": "code",
   "execution_count": 2,
   "metadata": {},
   "outputs": [],
   "source": [
    "# T: O(mn), S: O(mn)\n",
    "class Solution:\n",
    "    def longestCommonPrefix(self, strs: List[str]) -> str:        \n",
    "        prefix = ''\n",
    "        i = 0\n",
    "        \n",
    "        while True:\n",
    "            try:\n",
    "                set_ = set(s[i] for s in strs)\n",
    "                if len(set_) == 1:\n",
    "                    prefix += set_.pop()\n",
    "                    i += 1\n",
    "                    print(i)\n",
    "                else:\n",
    "                    break\n",
    "            except Exception as e:\n",
    "                break\n",
    "\n",
    "        return prefix"
   ]
  },
  {
   "cell_type": "code",
   "execution_count": 1,
   "metadata": {},
   "outputs": [],
   "source": [
    "# T: O(mn), S: O(mn)\n",
    "from typing import List\n",
    "class Solution:\n",
    "    def longestCommonPrefix(self, strs: List[str]) -> str:\n",
    "        prefix = ''\n",
    "        if not strs:\n",
    "            return prefix\n",
    "        min_n = min([len(s) for s in strs])\n",
    "        \n",
    "        for i in range(min_n):\n",
    "            c = strs[0][i]\n",
    "            for s in strs:\n",
    "                if s[i] != c:\n",
    "                    return prefix\n",
    "            prefix += c\n",
    "            \n",
    "        return prefix"
   ]
  },
  {
   "cell_type": "code",
   "execution_count": null,
   "metadata": {},
   "outputs": [],
   "source": []
  }
 ],
 "metadata": {
  "kernelspec": {
   "display_name": "Python 3 (ipykernel)",
   "language": "python",
   "name": "python3"
  },
  "language_info": {
   "codemirror_mode": {
    "name": "ipython",
    "version": 3
   },
   "file_extension": ".py",
   "mimetype": "text/x-python",
   "name": "python",
   "nbconvert_exporter": "python",
   "pygments_lexer": "ipython3",
   "version": "3.8.5"
  }
 },
 "nbformat": 4,
 "nbformat_minor": 4
}
