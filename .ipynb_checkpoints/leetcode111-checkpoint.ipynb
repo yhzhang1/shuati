{
 "cells": [
  {
   "cell_type": "raw",
   "id": "b1ec3c8f-5a2b-4211-98f7-a5297601552c",
   "metadata": {},
   "source": [
    "https://leetcode.com/problems/minimum-depth-of-binary-tree/"
   ]
  },
  {
   "cell_type": "code",
   "execution_count": 7,
   "id": "adcf43e4-8a2e-47b4-98ff-762366918f3a",
   "metadata": {},
   "outputs": [],
   "source": [
    "# T: O(n), S: O(n)\n",
    "# Definition for a binary tree node.\n",
    "# class TreeNode:\n",
    "#     def __init__(self, val=0, left=None, right=None):\n",
    "#         self.val = val\n",
    "#         self.left = left\n",
    "#         self.right = right\n",
    "class Solution:\n",
    "    def minDepth(self, root: Optional[TreeNode]) -> int:\n",
    "        if not root:    return 0\n",
    "\n",
    "        if not root.left:\n",
    "            return 1 + self.minDepth(root.right)\n",
    "        elif not root.right:\n",
    "            return 1 + self.minDepth(root.left)\n",
    "        else:\n",
    "            return 1 + min(self.minDepth(root.right), self.minDepth(root.left))\n",
    "\n",
    "\n",
    "\n"
   ]
  },
  {
   "cell_type": "code",
   "execution_count": 6,
   "id": "61c58dc2-3ba6-47a1-8424-c7548504f572",
   "metadata": {},
   "outputs": [],
   "source": [
    "# Definition for a binary tree node.\n",
    "# class TreeNode:\n",
    "#     def __init__(self, val=0, left=None, right=None):\n",
    "#         self.val = val\n",
    "#         self.left = left\n",
    "#         self.right = right\n",
    "class Solution:\n",
    "    def minDepth(self, root: Optional[TreeNode]) -> int:\n",
    "        if not root:    return 0\n",
    "        left_min = self.minDepth(root.left)\n",
    "        right_min = self.minDepth(root.right)\n",
    "\n",
    "        if left_min == 0:\n",
    "            return 1 + right_min\n",
    "        elif right_min == 0:\n",
    "            return 1 + left_min\n",
    "        else:\n",
    "            return 1 + min(left_min, right_min)\n",
    "\n"
   ]
  },
  {
   "cell_type": "code",
   "execution_count": null,
   "id": "b3c92bfc-945a-4197-bf21-74507c926c46",
   "metadata": {},
   "outputs": [],
   "source": []
  }
 ],
 "metadata": {
  "kernelspec": {
   "display_name": "Python 3 (ipykernel)",
   "language": "python",
   "name": "python3"
  },
  "language_info": {
   "codemirror_mode": {
    "name": "ipython",
    "version": 3
   },
   "file_extension": ".py",
   "mimetype": "text/x-python",
   "name": "python",
   "nbconvert_exporter": "python",
   "pygments_lexer": "ipython3",
   "version": "3.11.5"
  }
 },
 "nbformat": 4,
 "nbformat_minor": 5
}
