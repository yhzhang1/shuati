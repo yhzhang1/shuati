{
 "cells": [
  {
   "cell_type": "code",
   "execution_count": 2,
   "metadata": {},
   "outputs": [],
   "source": [
    "# T:0(n), S:O(1)\n",
    "class Solution:\n",
    "    def myAtoi(self, s: str) -> int:\n",
    "        INT_MIN,INT_MAX=-2**31,2**31-1\n",
    "        n=len(s)\n",
    "        integer = 0\n",
    "        sign=1\n",
    "\n",
    "        i=0\n",
    "        while i < n and s[i] == ' ':\n",
    "            i += 1\n",
    "\n",
    "        if i < n and s[i] in '+-':\n",
    "            sign = -sign if s[i] == '-' else sign\n",
    "            i += 1\n",
    "\n",
    "        while i < n and s[i].isdigit():\n",
    "            integer = 10*integer + int(s[i])\n",
    "            i += 1\n",
    "\n",
    "        integer*=sign\n",
    "        if integer < INT_MIN:    return INT_MIN\n",
    "        elif integer > INT_MAX:     return INT_MAX\n",
    "        \n",
    "        return integer\n",
    "        \n",
    "        "
   ]
  },
  {
   "cell_type": "code",
   "execution_count": 3,
   "metadata": {},
   "outputs": [],
   "source": [
    "class Solution:\n",
    "    def myAtoi(self, s: str) -> int:\n",
    "        INT_MIN, INT_MAX = -2**31, 2**31-1\n",
    "        res = 0\n",
    "        sign = 1\n",
    "        \n",
    "        n = len(s)\n",
    "        \n",
    "        i = 0\n",
    "        \n",
    "        while i < n and s[i] == ' ':\n",
    "            i += 1\n",
    "            \n",
    "        if i < n and s[i] == '-':\n",
    "            sign = -1\n",
    "            i += 1\n",
    "        elif i < n and s[i] == '+':\n",
    "            i += 1\n",
    "            \n",
    "        while i < n and s[i].isdigit():\n",
    "            res = 10*res + int(s[i])\n",
    "            i += 1\n",
    "            \n",
    "        res *= sign\n",
    "        \n",
    "        if res < INT_MIN:\n",
    "            res = INT_MIN\n",
    "        elif res > INT_MAX:\n",
    "            res = INT_MAX\n",
    "        \n",
    "        return res"
   ]
  },
  {
   "cell_type": "code",
   "execution_count": 25,
   "metadata": {},
   "outputs": [],
   "source": [
    "class Solution:\n",
    "    def myAtoi(self, str: str) -> int:\n",
    "        INT_MAX = 2**31 - 1\n",
    "        INT_MIN = -2**31\n",
    "        res = 0\n",
    "        sign = 1\n",
    "        i = 0\n",
    "        if len(str) == 0:\n",
    "            return 0\n",
    "        while i < len(str) and str[i].isspace():\n",
    "            i+=1\n",
    "        if i < len(str) and str[i] == '-':\n",
    "            sign = -1\n",
    "        if i < len(str) and (str[i] == '+' or str[i] == '-'):\n",
    "            i+=1\n",
    "        while i < len(str) and str[i].isdigit():\n",
    "            if res > INT_MAX/10 or (res == INT_MAX//10 and int(str[i]) > 7):\n",
    "                return INT_MAX if sign > 0 else INT_MIN\n",
    "            res = res*10 + int(str[i])\n",
    "            i+=1\n",
    "            \n",
    "        return sign*res\n",
    "        "
   ]
  },
  {
   "cell_type": "code",
   "execution_count": 2,
   "metadata": {},
   "outputs": [
    {
     "data": {
      "text/plain": [
       "True"
      ]
     },
     "execution_count": 2,
     "metadata": {},
     "output_type": "execute_result"
    }
   ],
   "source": [
    "'1'.isdigit()"
   ]
  },
  {
   "cell_type": "code",
   "execution_count": null,
   "metadata": {},
   "outputs": [],
   "source": []
  }
 ],
 "metadata": {
  "kernelspec": {
   "display_name": "Python 3 (ipykernel)",
   "language": "python",
   "name": "python3"
  },
  "language_info": {
   "codemirror_mode": {
    "name": "ipython",
    "version": 3
   },
   "file_extension": ".py",
   "mimetype": "text/x-python",
   "name": "python",
   "nbconvert_exporter": "python",
   "pygments_lexer": "ipython3",
   "version": "3.8.5"
  }
 },
 "nbformat": 4,
 "nbformat_minor": 4
}
