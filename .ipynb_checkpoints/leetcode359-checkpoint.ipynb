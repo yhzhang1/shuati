{
 "cells": [
  {
   "cell_type": "markdown",
   "id": "d8042b8b-da64-43ae-93b5-d2095ae292ac",
   "metadata": {},
   "source": [
    "https://www.youtube.com/watch?v=pSy2RSHYFLk"
   ]
  },
  {
   "cell_type": "code",
   "execution_count": 2,
   "id": "9fcc4e29-cd9d-47d1-ab18-c2865a0b6ee7",
   "metadata": {},
   "outputs": [],
   "source": [
    "# T: O(1), S: O(1)\n",
    "class Logger:\n",
    "\n",
    "    def __init__(self):\n",
    "        self.hashtable = {}\n",
    "        \n",
    "\n",
    "    def shouldPrintMessage(self, timestamp: int, message: str) -> bool:\n",
    "        if message in self.hashtable:\n",
    "            if self.hashtable[message]+10 <= timestamp:\n",
    "                self.hashtable[message] = timestamp\n",
    "                return True\n",
    "            else:\n",
    "                return False\n",
    "        else:\n",
    "            self.hashtable[message] = timestamp\n",
    "            return True\n",
    "\n",
    "\n",
    "# Your Logger object will be instantiated and called as such:\n",
    "# obj = Logger()\n",
    "# param_1 = obj.shouldPrintMessage(timestamp,message)"
   ]
  },
  {
   "cell_type": "code",
   "execution_count": null,
   "id": "c7fad2e2-b883-4a1f-ae95-3ede9e05c020",
   "metadata": {},
   "outputs": [],
   "source": []
  }
 ],
 "metadata": {
  "kernelspec": {
   "display_name": "Python 3 (ipykernel)",
   "language": "python",
   "name": "python3"
  },
  "language_info": {
   "codemirror_mode": {
    "name": "ipython",
    "version": 3
   },
   "file_extension": ".py",
   "mimetype": "text/x-python",
   "name": "python",
   "nbconvert_exporter": "python",
   "pygments_lexer": "ipython3",
   "version": "3.8.5"
  }
 },
 "nbformat": 4,
 "nbformat_minor": 5
}
