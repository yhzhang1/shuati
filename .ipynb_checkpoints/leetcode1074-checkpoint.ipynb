{
 "cells": [
  {
   "cell_type": "code",
   "execution_count": null,
   "id": "ac9f70ad-ecec-4b56-ba93-ef2ef51df5a5",
   "metadata": {},
   "outputs": [],
   "source": [
    "# T: ((m^2)n), S: O(mn)\n",
    "from typing import List\n",
    "class Solution:\n",
    "    def numSubmatrixSumTarget(self, matrix: List[List[int]], target: int) -> int:\n",
    "        # print('input:')\n",
    "        # for r in matrix:\n",
    "        #     print(r)\n",
    "        m = len(matrix)\n",
    "        n = len(matrix[0]) if matrix else 0\n",
    "        ps = [[0]*(n+1) for _ in range(m+1)]\n",
    "\n",
    "        for i in range(1,m+1):\n",
    "            for j in range(1,n+1):\n",
    "                ps[i][j] = ps[i-1][j] + ps[i][j-1] - ps[i-1][j-1] + matrix[i-1][j-1]\n",
    "\n",
    "        # print('ps')\n",
    "        # for r in ps:\n",
    "        #     print(r)\n",
    "        cnt = 0\n",
    "        for y1 in range(1,m+1):\n",
    "            for y2 in range(y1,m+1):\n",
    "                hashtable = defaultdict(int)\n",
    "                hashtable[0] = 1\n",
    "                for x in range(1,n+1):\n",
    "                    curr_sum = ps[y2][x] - ps[y1-1][x]\n",
    "                    cnt += hashtable[curr_sum-target]\n",
    "                    hashtable[curr_sum] += 1\n",
    "        return cnt"
   ]
  },
  {
   "cell_type": "code",
   "execution_count": null,
   "id": "48b5f8cd-3fb3-484c-b576-cf5f20dfc5d2",
   "metadata": {},
   "outputs": [],
   "source": []
  },
  {
   "cell_type": "code",
   "execution_count": 1,
   "id": "4a95c192-dbf0-4ca2-a17d-5c7c4198c309",
   "metadata": {},
   "outputs": [
    {
     "data": {
      "text/plain": [
       "0"
      ]
     },
     "execution_count": 1,
     "metadata": {},
     "output_type": "execute_result"
    }
   ],
   "source": [
    "int()"
   ]
  }
 ],
 "metadata": {
  "kernelspec": {
   "display_name": "Python 3 (ipykernel)",
   "language": "python",
   "name": "python3"
  },
  "language_info": {
   "codemirror_mode": {
    "name": "ipython",
    "version": 3
   },
   "file_extension": ".py",
   "mimetype": "text/x-python",
   "name": "python",
   "nbconvert_exporter": "python",
   "pygments_lexer": "ipython3",
   "version": "3.8.5"
  }
 },
 "nbformat": 4,
 "nbformat_minor": 5
}
