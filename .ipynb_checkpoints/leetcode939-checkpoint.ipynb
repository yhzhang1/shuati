{
 "cells": [
  {
   "cell_type": "markdown",
   "id": "f09ce3b8-a486-4dff-ac4f-960b1ca9f0a3",
   "metadata": {},
   "source": [
    "https://leetcode.com/problems/minimum-area-rectangle/editorial/"
   ]
  },
  {
   "cell_type": "code",
   "execution_count": 11,
   "id": "b8ea0638-9c94-4223-9211-2d1c6c34bb79",
   "metadata": {},
   "outputs": [],
   "source": [
    "# T: O(n^2), S: O(n)\n",
    "class Solution:\n",
    "    def minAreaRect(self, points: List[List[int]]) -> int:\n",
    "        m = set(map(tuple, points))\n",
    "        ans = float('inf')\n",
    "        for j, p2 in enumerate(points):\n",
    "            for i in range(j):\n",
    "                p1 = points[i]\n",
    "                if p1[0] != p2[0] and p1[1] != p2[1] \\\n",
    "                    and (p1[0], p2[1]) in m and (p2[0], p1[1]) in m:\n",
    "                    ans = min(ans, abs((p2[0]-p1[0])*(p2[1]-p1[1])))\n",
    "        return ans if ans < float('inf') else 0"
   ]
  },
  {
   "cell_type": "code",
   "execution_count": 4,
   "id": "695e7d32-84ce-498d-be6d-03ba79486c43",
   "metadata": {},
   "outputs": [],
   "source": [
    "# T: O(n^2), S: O(n)\n",
    "from typing import List\n",
    "class Solution:\n",
    "    def minAreaRect(self, points: List[List[int]]) -> int:\n",
    "        columns = {}\n",
    "        for x, y in points:\n",
    "            if x not in columns:\n",
    "                columns[x] = []\n",
    "            columns[x].append(y)\n",
    "\n",
    "        ans = float('inf')\n",
    "        lastx = {}\n",
    "        for x in sorted(columns):\n",
    "            column = columns[x]\n",
    "            column.sort()\n",
    "            for j, y2 in enumerate(column):\n",
    "                for i in range(j):\n",
    "                    y1 = column[i]\n",
    "                    if (y1,y2) in lastx:\n",
    "                        ans = min(ans, (x-lastx[y1,y2])*(y2-y1))\n",
    "                    lastx[y1,y2] = x\n",
    "        return ans if ans < float('inf') else 0"
   ]
  },
  {
   "cell_type": "code",
   "execution_count": 1,
   "id": "2fe3321f-d845-41c7-a025-8bc447866c7e",
   "metadata": {},
   "outputs": [],
   "source": [
    "d = {}"
   ]
  },
  {
   "cell_type": "code",
   "execution_count": 2,
   "id": "bcbeb1f5-052d-4b0f-b691-a5d442019652",
   "metadata": {},
   "outputs": [
    {
     "data": {
      "text/plain": [
       "{(1, 2): 'a'}"
      ]
     },
     "execution_count": 2,
     "metadata": {},
     "output_type": "execute_result"
    }
   ],
   "source": [
    "d[1,2]='a'\n",
    "d"
   ]
  },
  {
   "cell_type": "code",
   "execution_count": 5,
   "id": "59beef10-1790-44d3-b48b-677753291f1c",
   "metadata": {},
   "outputs": [
    {
     "data": {
      "text/plain": [
       "[[1, 1], [1, 3], [3, 1], [3, 3], [2, 2]]"
      ]
     },
     "execution_count": 5,
     "metadata": {},
     "output_type": "execute_result"
    }
   ],
   "source": [
    "points = [[1,1],[1,3],[3,1],[3,3],[2,2]]\n",
    "points"
   ]
  },
  {
   "cell_type": "code",
   "execution_count": 7,
   "id": "c8bfff76-9425-4749-a304-96c77d432ddd",
   "metadata": {},
   "outputs": [
    {
     "data": {
      "text/plain": [
       "([1, 1], [1, 3], [3, 1], [3, 3], [2, 2])"
      ]
     },
     "execution_count": 7,
     "metadata": {},
     "output_type": "execute_result"
    }
   ],
   "source": [
    "tuple(points)"
   ]
  },
  {
   "cell_type": "code",
   "execution_count": 9,
   "id": "e1c8f1e8-5a7b-477d-8a88-a536809996d8",
   "metadata": {},
   "outputs": [
    {
     "data": {
      "text/plain": [
       "<map at 0x1be01fbe970>"
      ]
     },
     "execution_count": 9,
     "metadata": {},
     "output_type": "execute_result"
    }
   ],
   "source": [
    "map(tuple, points)"
   ]
  },
  {
   "cell_type": "code",
   "execution_count": 8,
   "id": "00142189-4208-4ab7-98d2-e4a5a608c46a",
   "metadata": {},
   "outputs": [
    {
     "ename": "TypeError",
     "evalue": "unhashable type: 'list'",
     "output_type": "error",
     "traceback": [
      "\u001b[1;31m---------------------------------------------------------------------------\u001b[0m",
      "\u001b[1;31mTypeError\u001b[0m                                 Traceback (most recent call last)",
      "\u001b[1;32m~\\AppData\\Local\\Temp/ipykernel_22128/4215482760.py\u001b[0m in \u001b[0;36m<module>\u001b[1;34m\u001b[0m\n\u001b[1;32m----> 1\u001b[1;33m \u001b[0mset\u001b[0m\u001b[1;33m(\u001b[0m\u001b[0mtuple\u001b[0m\u001b[1;33m(\u001b[0m\u001b[0mpoints\u001b[0m\u001b[1;33m)\u001b[0m\u001b[1;33m)\u001b[0m\u001b[1;33m\u001b[0m\u001b[1;33m\u001b[0m\u001b[0m\n\u001b[0m",
      "\u001b[1;31mTypeError\u001b[0m: unhashable type: 'list'"
     ]
    }
   ],
   "source": [
    "set(tuple(points))"
   ]
  }
 ],
 "metadata": {
  "kernelspec": {
   "display_name": "Python 3 (ipykernel)",
   "language": "python",
   "name": "python3"
  },
  "language_info": {
   "codemirror_mode": {
    "name": "ipython",
    "version": 3
   },
   "file_extension": ".py",
   "mimetype": "text/x-python",
   "name": "python",
   "nbconvert_exporter": "python",
   "pygments_lexer": "ipython3",
   "version": "3.8.5"
  }
 },
 "nbformat": 4,
 "nbformat_minor": 5
}
