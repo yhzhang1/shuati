{
 "cells": [
  {
   "cell_type": "code",
   "execution_count": 6,
   "id": "93c320f4-bc2b-4d20-bd13-fc9ca2d6d4ff",
   "metadata": {},
   "outputs": [],
   "source": [
    "# T: O(n), S: O(n)\n",
    "from typing import Optional, List\n",
    "# Definition for a binary tree node.\n",
    "class TreeNode:\n",
    "    def __init__(self, val=0, left=None, right=None):\n",
    "        self.val = val\n",
    "        self.left = left\n",
    "        self.right = right\n",
    "class Solution:\n",
    "    def findLeaves(self, root: Optional[TreeNode]) -> List[List[int]]:\n",
    "        def dfs(root):\n",
    "            if not root:    return 0\n",
    "\n",
    "            leftLevel = dfs(root.left) + 1\n",
    "            rightLevel = dfs(root.right) + 1\n",
    "            level = max(leftLevel, rightLevel)\n",
    "            if level not in group:  \n",
    "                group[level] = []\n",
    "            group[level].append(root.val)\n",
    "            return level\n",
    "\n",
    "        group = {}\n",
    "        dfs(root)\n",
    "        return group.values()\n"
   ]
  }
 ],
 "metadata": {
  "kernelspec": {
   "display_name": "Python 3 (ipykernel)",
   "language": "python",
   "name": "python3"
  },
  "language_info": {
   "codemirror_mode": {
    "name": "ipython",
    "version": 3
   },
   "file_extension": ".py",
   "mimetype": "text/x-python",
   "name": "python",
   "nbconvert_exporter": "python",
   "pygments_lexer": "ipython3",
   "version": "3.8.5"
  }
 },
 "nbformat": 4,
 "nbformat_minor": 5
}
