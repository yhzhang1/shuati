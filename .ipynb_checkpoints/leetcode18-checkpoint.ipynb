{
 "cells": [
  {
   "cell_type": "markdown",
   "metadata": {},
   "source": [
    "https://www.youtube.com/watch?v=oACoT4c_Tig"
   ]
  },
  {
   "cell_type": "code",
   "execution_count": 2,
   "metadata": {},
   "outputs": [],
   "source": [
    "# T:O(n^3), S:O(n)\n",
    "from typing import List\n",
    "\n",
    "class Solution:\n",
    "    def fourSum(self, nums: List[int], target: int) -> List[List[int]]:\n",
    "        ans=set()\n",
    "        nums.sort()\n",
    "        n = len(nums)\n",
    "        \n",
    "        for i in range(n):\n",
    "            for j in range(i+1,n):\n",
    "                l=j+1\n",
    "                r=n-1\n",
    "                while l<r:\n",
    "                    cursum=nums[i]+nums[j]+nums[l]+nums[r]\n",
    "                    if cursum == target:\n",
    "                        ans.add(tuple([nums[i],nums[j],nums[l],nums[r]]))\n",
    "                        l += 1\n",
    "                        r -= 1\n",
    "                    elif cursum < target:\n",
    "                        l += 1\n",
    "                    else:\n",
    "                        r -= 1\n",
    "\n",
    "        return ans"
   ]
  },
  {
   "cell_type": "code",
   "execution_count": 4,
   "metadata": {},
   "outputs": [],
   "source": [
    "from typing import List\n",
    "class Solution:\n",
    "    def fourSum(self, nums: List[int], target: int) -> List[List[int]]:\n",
    "        ans = []\n",
    "        nums.sort()\n",
    "        n = len(nums)\n",
    "        for i in range(n):\n",
    "            if i and nums[i] == nums[i-1]:  continue\n",
    "            triplelets = self.threeSum(nums, target-nums[i],i+1,n)\n",
    "            if triplelets:\n",
    "                ans += [[nums[i]]+tri for tri in triplelets]\n",
    "                \n",
    "        return ans\n",
    "        \n",
    "    def threeSum(self, nums, target, start, stop):\n",
    "        ans = []\n",
    "        for i in range(start, stop):\n",
    "            if i > start and nums[i] == nums[i-1]:  continue\n",
    "            j = i + 1\n",
    "            k = stop - 1\n",
    "            while j < k:\n",
    "                if nums[i] + nums[j] + nums[k] < target:\n",
    "                    j += 1\n",
    "                elif nums[i] + nums[j] + nums[k] > target:\n",
    "                    k -= 1\n",
    "                else:\n",
    "                    ans.append([nums[i],nums[j],nums[k]])\n",
    "                    while j < k and nums[j] == nums[j+1]:   j += 1\n",
    "                    while j < k and nums[k] == nums[k-1]:   k -= 1\n",
    "                    j += 1\n",
    "                    k -= 1\n",
    "\n",
    "        return ans\n",
    "        \n",
    "        "
   ]
  },
  {
   "cell_type": "code",
   "execution_count": null,
   "metadata": {},
   "outputs": [],
   "source": []
  }
 ],
 "metadata": {
  "kernelspec": {
   "display_name": "Python 3 (ipykernel)",
   "language": "python",
   "name": "python3"
  },
  "language_info": {
   "codemirror_mode": {
    "name": "ipython",
    "version": 3
   },
   "file_extension": ".py",
   "mimetype": "text/x-python",
   "name": "python",
   "nbconvert_exporter": "python",
   "pygments_lexer": "ipython3",
   "version": "3.8.5"
  }
 },
 "nbformat": 4,
 "nbformat_minor": 4
}
