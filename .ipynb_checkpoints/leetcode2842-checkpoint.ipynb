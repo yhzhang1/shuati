{
 "cells": [
  {
   "cell_type": "markdown",
   "id": "c1fd162c-5ac0-468b-9903-d719191cef89",
   "metadata": {},
   "source": [
    "https://leetcode.com/problems/count-k-subsequences-of-a-string-with-maximum-beauty/solutions/3994553/Python-oror-Diagram-and-full-explanation-O(N)/"
   ]
  },
  {
   "cell_type": "code",
   "execution_count": 2,
   "id": "de727881-dc97-4362-9850-5fe9ce08d808",
   "metadata": {},
   "outputs": [],
   "source": [
    "# T: O(n), S: O(1)\n",
    "class Solution:\n",
    "    def countKSubsequencesWithMaxBeauty(self, s: str, k: int) -> int:\n",
    "        f = Counter(s)\n",
    "        mod = 10**9+7\n",
    "        fc = sorted(f.values(), reverse=True)\n",
    "        if len(fc)<k:\n",
    "            return 0\n",
    "        res = 1\n",
    "        for i in range(k):\n",
    "            res = (res * fc[i])\n",
    "        last = fc[k-1]\n",
    "        a = fc[:k].count(last)\n",
    "        b = fc.count(last)\n",
    "        res = (res * comb(b,a)) % mod\n",
    "        return res"
   ]
  },
  {
   "cell_type": "code",
   "execution_count": null,
   "id": "3c3784d3-6ad0-4ca7-ab11-c0ac7ebfb10a",
   "metadata": {},
   "outputs": [],
   "source": []
  }
 ],
 "metadata": {
  "kernelspec": {
   "display_name": "Python 3 (ipykernel)",
   "language": "python",
   "name": "python3"
  },
  "language_info": {
   "codemirror_mode": {
    "name": "ipython",
    "version": 3
   },
   "file_extension": ".py",
   "mimetype": "text/x-python",
   "name": "python",
   "nbconvert_exporter": "python",
   "pygments_lexer": "ipython3",
   "version": "3.8.5"
  }
 },
 "nbformat": 4,
 "nbformat_minor": 5
}
