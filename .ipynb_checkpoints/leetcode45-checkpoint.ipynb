{
 "cells": [
  {
   "cell_type": "code",
   "execution_count": 3,
   "metadata": {},
   "outputs": [],
   "source": [
    "# T:O(n), S:O(1)\n",
    "class Solution:\n",
    "    def jump(self, nums: List[int]) -> int:\n",
    "        curMax = 0\n",
    "        maxPos = 0\n",
    "        jumps = 0\n",
    "        \n",
    "        for i in range(len(nums)):\n",
    "            if i > curMax:\n",
    "                jumps += 1\n",
    "                curMax = maxPos\n",
    "            maxPos = max(maxPos, nums[i]+i)\n",
    "            \n",
    "        return jumps"
   ]
  },
  {
   "cell_type": "code",
   "execution_count": 2,
   "metadata": {},
   "outputs": [],
   "source": [
    "from typing import List\n",
    "class Solution:\n",
    "    def jump(self, nums: List[int]) -> int:\n",
    "        n = len(nums)\n",
    "        if n < 2:\n",
    "            return 0\n",
    "        \n",
    "        max_pos = nums[0]\n",
    "        max_steps = nums[0]\n",
    "        \n",
    "        jumps = 1\n",
    "        \n",
    "        for i in range(1, n):\n",
    "            if i > max_steps:\n",
    "                jumps += 1\n",
    "                max_steps = max_pos\n",
    "            max_pos = max(nums[i]+i, max_pos)\n",
    "            \n",
    "        return jumps"
   ]
  },
  {
   "cell_type": "code",
   "execution_count": 3,
   "metadata": {},
   "outputs": [],
   "source": [
    "class Solution:\n",
    "    def jump(self, nums: List[int]) -> int:\n",
    "        n = len(nums)\n",
    "        \n",
    "        max_pos = 0\n",
    "        max_steps = 0\n",
    "        jumps = 0\n",
    "        \n",
    "        for i in range(n):\n",
    "            if i > max_steps:\n",
    "                jumps += 1\n",
    "                max_steps = max_pos\n",
    "            max_pos = max(nums[i]+i, max_pos)\n",
    "            \n",
    "        return jumps"
   ]
  },
  {
   "cell_type": "code",
   "execution_count": null,
   "metadata": {},
   "outputs": [],
   "source": []
  }
 ],
 "metadata": {
  "kernelspec": {
   "display_name": "Python 3 (ipykernel)",
   "language": "python",
   "name": "python3"
  },
  "language_info": {
   "codemirror_mode": {
    "name": "ipython",
    "version": 3
   },
   "file_extension": ".py",
   "mimetype": "text/x-python",
   "name": "python",
   "nbconvert_exporter": "python",
   "pygments_lexer": "ipython3",
   "version": "3.8.5"
  }
 },
 "nbformat": 4,
 "nbformat_minor": 4
}
