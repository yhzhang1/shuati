{
 "cells": [
  {
   "cell_type": "markdown",
   "id": "cef226bf-43ad-4929-9cf7-1f56879dcfdb",
   "metadata": {},
   "source": [
    "https://leetcode.com/problems/escape-a-large-maze/solutions/282849/python-bfs-and-dfs-the-whole-problem-is-broken/"
   ]
  },
  {
   "cell_type": "code",
   "execution_count": 3,
   "id": "13ee99aa-c0cf-48bf-8cb5-cf005cc05818",
   "metadata": {},
   "outputs": [],
   "source": [
    "# T: O(B^2), S: O(B^2), where B is number of blocks\n",
    "from typing import List\n",
    "class Solution:\n",
    "    def isEscapePossible(self, blocked: List[List[int]], source: List[int], target: List[int]) -> bool:\n",
    "        def dfs(x,y,target,visited):\n",
    "            if x < 0 or y < 0 or x >= 10**6 or y >= 10**6 or (x,y) in blocked or (x,y) in visited:\n",
    "                return False\n",
    "            visited.add((x,y))\n",
    "            if len(visited) > 20000 or [x,y] == target:\n",
    "                return True\n",
    "\n",
    "            target_d = (target[0]-x, target[1]-y)\n",
    "            dirs = [(-1,0),(1,0),(0,-1),(0,1)]\n",
    "            dirs.sort(key=lambda coord:   coord[0]*target_d[0] + coord[1]*target_d[1], reverse=True)\n",
    "\n",
    "            for d in dirs:\n",
    "                if dfs(x+d[0],y+d[1],target,visited):\n",
    "                    return True\n",
    "\n",
    "            return False\n",
    "\n",
    "        if not blocked:\n",
    "            return True\n",
    "        blocked = set(map(tuple,blocked))\n",
    "        return dfs(source[0], source[1], target, set()) and dfs(target[0], target[1], source, set())\n"
   ]
  },
  {
   "cell_type": "code",
   "execution_count": null,
   "id": "e6727b57-97f2-44d7-83a9-533be67c7574",
   "metadata": {},
   "outputs": [],
   "source": []
  }
 ],
 "metadata": {
  "kernelspec": {
   "display_name": "Python 3 (ipykernel)",
   "language": "python",
   "name": "python3"
  },
  "language_info": {
   "codemirror_mode": {
    "name": "ipython",
    "version": 3
   },
   "file_extension": ".py",
   "mimetype": "text/x-python",
   "name": "python",
   "nbconvert_exporter": "python",
   "pygments_lexer": "ipython3",
   "version": "3.8.5"
  }
 },
 "nbformat": 4,
 "nbformat_minor": 5
}
