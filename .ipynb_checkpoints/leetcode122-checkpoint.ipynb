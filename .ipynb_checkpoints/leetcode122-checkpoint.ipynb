{
 "cells": [
  {
   "cell_type": "markdown",
   "metadata": {},
   "source": [
    "https://leetcode.com/problems/best-time-to-buy-and-sell-stock-ii/editorial/"
   ]
  },
  {
   "cell_type": "code",
   "execution_count": 7,
   "metadata": {
    "execution": {
     "iopub.execute_input": "2025-06-28T19:54:42.654243Z",
     "iopub.status.busy": "2025-06-28T19:54:42.654243Z",
     "iopub.status.idle": "2025-06-28T19:54:42.663487Z",
     "shell.execute_reply": "2025-06-28T19:54:42.662498Z",
     "shell.execute_reply.started": "2025-06-28T19:54:42.654243Z"
    }
   },
   "outputs": [],
   "source": [
    "# T:O(n), S:O(1)\n",
    "class Solution:\n",
    "    def maxProfit(self, prices: List[int]) -> int:\n",
    "        profit = 0\n",
    "        for i in range(1,len(prices)):\n",
    "            profit += max(prices[i]-prices[i-1], 0)\n",
    "        return profit"
   ]
  },
  {
   "cell_type": "code",
   "execution_count": 5,
   "metadata": {
    "execution": {
     "iopub.execute_input": "2025-06-28T19:53:42.000379Z",
     "iopub.status.busy": "2025-06-28T19:53:42.000379Z",
     "iopub.status.idle": "2025-06-28T19:53:42.012387Z",
     "shell.execute_reply": "2025-06-28T19:53:42.010377Z",
     "shell.execute_reply.started": "2025-06-28T19:53:42.000379Z"
    }
   },
   "outputs": [],
   "source": [
    "from typing import List\n",
    "class Solution:\n",
    "    def maxProfit(self, prices: List[int]) -> int:\n",
    "        profit = 0\n",
    "        for i in range(1, len(prices)):\n",
    "            if prices[i] > prices[i-1]:\n",
    "                profit += prices[i]-prices[i-1]\n",
    "        return profit"
   ]
  },
  {
   "cell_type": "code",
   "execution_count": 1,
   "metadata": {
    "execution": {
     "iopub.execute_input": "2025-06-28T19:49:33.452617Z",
     "iopub.status.busy": "2025-06-28T19:49:33.451650Z",
     "iopub.status.idle": "2025-06-28T19:49:33.471483Z",
     "shell.execute_reply": "2025-06-28T19:49:33.470476Z",
     "shell.execute_reply.started": "2025-06-28T19:49:33.452617Z"
    }
   },
   "outputs": [],
   "source": [
    "prices = [7,1,5,3,6,4]"
   ]
  },
  {
   "cell_type": "code",
   "execution_count": 2,
   "metadata": {
    "execution": {
     "iopub.execute_input": "2025-06-28T19:49:38.284375Z",
     "iopub.status.busy": "2025-06-28T19:49:38.283397Z",
     "iopub.status.idle": "2025-06-28T19:49:38.312886Z",
     "shell.execute_reply": "2025-06-28T19:49:38.309941Z",
     "shell.execute_reply.started": "2025-06-28T19:49:38.284375Z"
    }
   },
   "outputs": [
    {
     "data": {
      "text/plain": [
       "[1, 5, 3, 6, 4]"
      ]
     },
     "execution_count": 2,
     "metadata": {},
     "output_type": "execute_result"
    }
   ],
   "source": [
    "prices[1:]"
   ]
  },
  {
   "cell_type": "code",
   "execution_count": 3,
   "metadata": {
    "execution": {
     "iopub.execute_input": "2025-06-28T19:49:49.184576Z",
     "iopub.status.busy": "2025-06-28T19:49:49.183604Z",
     "iopub.status.idle": "2025-06-28T19:49:49.192562Z",
     "shell.execute_reply": "2025-06-28T19:49:49.192562Z",
     "shell.execute_reply.started": "2025-06-28T19:49:49.184576Z"
    }
   },
   "outputs": [
    {
     "data": {
      "text/plain": [
       "[7, 1, 5, 3, 6]"
      ]
     },
     "execution_count": 3,
     "metadata": {},
     "output_type": "execute_result"
    }
   ],
   "source": [
    "prices[:-1]"
   ]
  },
  {
   "cell_type": "code",
   "execution_count": 4,
   "metadata": {
    "execution": {
     "iopub.execute_input": "2025-06-28T19:50:09.786027Z",
     "iopub.status.busy": "2025-06-28T19:50:09.785053Z",
     "iopub.status.idle": "2025-06-28T19:50:11.136466Z",
     "shell.execute_reply": "2025-06-28T19:50:11.135473Z",
     "shell.execute_reply.started": "2025-06-28T19:50:09.786027Z"
    }
   },
   "outputs": [
    {
     "ename": "TypeError",
     "evalue": "unsupported operand type(s) for -: 'list' and 'list'",
     "output_type": "error",
     "traceback": [
      "\u001b[1;31m---------------------------------------------------------------------------\u001b[0m",
      "\u001b[1;31mTypeError\u001b[0m                                 Traceback (most recent call last)",
      "Cell \u001b[1;32mIn[4], line 1\u001b[0m\n\u001b[1;32m----> 1\u001b[0m prices[\u001b[38;5;241m1\u001b[39m:] \u001b[38;5;241m-\u001b[39m prices[:\u001b[38;5;241m-\u001b[39m\u001b[38;5;241m1\u001b[39m]\n",
      "\u001b[1;31mTypeError\u001b[0m: unsupported operand type(s) for -: 'list' and 'list'"
     ]
    }
   ],
   "source": [
    "prices[1:] - prices[:-1]"
   ]
  }
 ],
 "metadata": {
  "kernelspec": {
   "display_name": "Python 3 (ipykernel)",
   "language": "python",
   "name": "python3"
  },
  "language_info": {
   "codemirror_mode": {
    "name": "ipython",
    "version": 3
   },
   "file_extension": ".py",
   "mimetype": "text/x-python",
   "name": "python",
   "nbconvert_exporter": "python",
   "pygments_lexer": "ipython3",
   "version": "3.11.5"
  }
 },
 "nbformat": 4,
 "nbformat_minor": 4
}
