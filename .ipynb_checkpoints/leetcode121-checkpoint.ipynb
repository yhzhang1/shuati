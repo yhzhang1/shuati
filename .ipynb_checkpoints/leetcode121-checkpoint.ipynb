{
 "cells": [
  {
   "cell_type": "code",
   "execution_count": 5,
   "metadata": {
    "execution": {
     "iopub.execute_input": "2025-06-28T18:10:36.216093Z",
     "iopub.status.busy": "2025-06-28T18:10:36.216093Z",
     "iopub.status.idle": "2025-06-28T18:10:36.228767Z",
     "shell.execute_reply": "2025-06-28T18:10:36.226795Z",
     "shell.execute_reply.started": "2025-06-28T18:10:36.216093Z"
    }
   },
   "outputs": [],
   "source": [
    "# T：O(n), S:O(1)\n",
    "from typing import List\n",
    "class Solution:\n",
    "    def maxProfit(self, prices: List[int]) -> int:\n",
    "        max_profit, min_price = 0, float('inf')\n",
    "        \n",
    "        for price in prices:\n",
    "            min_price = min(min_price, price)\n",
    "            max_profit = max(max_profit, price-min_price)\n",
    "\n",
    "        return max_profit"
   ]
  },
  {
   "cell_type": "code",
   "execution_count": 6,
   "metadata": {
    "execution": {
     "iopub.execute_input": "2025-06-28T18:10:36.360430Z",
     "iopub.status.busy": "2025-06-28T18:10:36.359453Z",
     "iopub.status.idle": "2025-06-28T18:10:36.375407Z",
     "shell.execute_reply": "2025-06-28T18:10:36.373438Z",
     "shell.execute_reply.started": "2025-06-28T18:10:36.359453Z"
    }
   },
   "outputs": [],
   "source": [
    "# T：O(n), S:O(1)\n",
    "class Solution:\n",
    "    def maxProfit(self, prices: List[int]) -> int:\n",
    "        max_profit = 0\n",
    "        if not prices:  return max_profit\n",
    "        min_, max_ = float('inf'), -float('inf')\n",
    "        for p in prices:\n",
    "            if p < min_:\n",
    "                min_ = p\n",
    "            else:\n",
    "                max_profit = max(max_profit, p-min_)\n",
    "        return max_profit"
   ]
  },
  {
   "cell_type": "code",
   "execution_count": 1,
   "metadata": {
    "execution": {
     "iopub.execute_input": "2025-06-28T17:46:51.024222Z",
     "iopub.status.busy": "2025-06-28T17:46:51.023243Z",
     "iopub.status.idle": "2025-06-28T17:46:51.063378Z",
     "shell.execute_reply": "2025-06-28T17:46:51.061409Z",
     "shell.execute_reply.started": "2025-06-28T17:46:51.024222Z"
    }
   },
   "outputs": [
    {
     "data": {
      "text/plain": [
       "-inf"
      ]
     },
     "execution_count": 1,
     "metadata": {},
     "output_type": "execute_result"
    }
   ],
   "source": [
    "float('-inf')"
   ]
  },
  {
   "cell_type": "code",
   "execution_count": 2,
   "metadata": {
    "execution": {
     "iopub.execute_input": "2025-06-28T17:46:58.927386Z",
     "iopub.status.busy": "2025-06-28T17:46:58.926418Z",
     "iopub.status.idle": "2025-06-28T17:46:58.944322Z",
     "shell.execute_reply": "2025-06-28T17:46:58.941374Z",
     "shell.execute_reply.started": "2025-06-28T17:46:58.927386Z"
    }
   },
   "outputs": [
    {
     "data": {
      "text/plain": [
       "-inf"
      ]
     },
     "execution_count": 2,
     "metadata": {},
     "output_type": "execute_result"
    }
   ],
   "source": [
    "-float('inf')"
   ]
  }
 ],
 "metadata": {
  "kernelspec": {
   "display_name": "Python 3 (ipykernel)",
   "language": "python",
   "name": "python3"
  },
  "language_info": {
   "codemirror_mode": {
    "name": "ipython",
    "version": 3
   },
   "file_extension": ".py",
   "mimetype": "text/x-python",
   "name": "python",
   "nbconvert_exporter": "python",
   "pygments_lexer": "ipython3",
   "version": "3.11.5"
  }
 },
 "nbformat": 4,
 "nbformat_minor": 4
}
