{
 "cells": [
  {
   "cell_type": "markdown",
   "metadata": {},
   "source": [
    "https://www.youtube.com/watch?v=Q4i_rqON2-E"
   ]
  },
  {
   "cell_type": "code",
   "execution_count": 1,
   "metadata": {},
   "outputs": [],
   "source": [
    "# T: O(mn), S: O(mn)\n",
    "# iterative\n",
    "class Solution:\n",
    "    def minDistance(self, word1: str, word2: str) -> int:\n",
    "        l1, l2 = len(word1), len(word2)\n",
    "        dp = [[0] * (l2 + 1) for _ in range(l1 + 1)]\n",
    "        \n",
    "        for i in range(l1 + 1):\n",
    "            dp[i][0] = i\n",
    "            \n",
    "        for j in range(l2 + 1):\n",
    "            dp[0][j] = j\n",
    "            \n",
    "        for i in range(1, l1 + 1):\n",
    "            for j in range(1, l2 + 1):\n",
    "                if word1[i - 1] == word2[j - 1]:\n",
    "                    dp[i][j] = dp[i - 1][j - 1]\n",
    "                else:\n",
    "                    dp[i][j] = min([dp[i - 1][j], # delete last char\n",
    "                                    dp[i][j - 1], # insert last char\n",
    "                                    dp[i - 1][j - 1] # replace last char\n",
    "                                   ]) + 1\n",
    "                    \n",
    "        return dp[-1][-1]"
   ]
  },
  {
   "cell_type": "code",
   "execution_count": 7,
   "metadata": {},
   "outputs": [],
   "source": [
    "# recursive\n",
    "class Solution:\n",
    "    def minDistance(self, word1: str, word2: str) -> int:\n",
    "        l1, l2 = len(word1), len(word2)\n",
    "        self.dp_ = [[-1] * (l2 + 1) for _ in range(l1 + 1)]\n",
    "        \n",
    "        return self.minDistanceHelper(word1, word2, l1, l2)\n",
    "        \n",
    "    def minDistanceHelper(self, word1: str, word2: str, l1: int, l2: int) -> int:\n",
    "        if l1 == 0:\n",
    "            return l2\n",
    "        if l2 == 0:\n",
    "            return l1\n",
    "        if self.dp_[l1][l2] >= 0:\n",
    "            return self.dp_[l1][l2]\n",
    "        \n",
    "        \n",
    "        if word1[l1 - 1] == word2[l2 - 1]:\n",
    "            ans = self.minDistanceHelper(word1, word2, l1 - 1, l2 - 1)\n",
    "        else:\n",
    "            ans = min([self.minDistanceHelper(word1, word2, l1 - 1, l2), # delete last char\n",
    "                        self.minDistanceHelper(word1, word2, l1, l2 - 1), # insert last char\n",
    "                        self.minDistanceHelper(word1, word2, l1 - 1, l2 - 1) # replace last char\n",
    "                       ]) + 1\n",
    "            \n",
    "        self.dp_[l1][l2] = ans\n",
    "        return ans\n",
    "    \n",
    "    def __init__(self):\n",
    "        self.dp_ = [[]]"
   ]
  },
  {
   "cell_type": "code",
   "execution_count": 4,
   "metadata": {},
   "outputs": [
    {
     "data": {
      "text/plain": [
       "1"
      ]
     },
     "execution_count": 4,
     "metadata": {},
     "output_type": "execute_result"
    }
   ],
   "source": [
    "len(a)"
   ]
  }
 ],
 "metadata": {
  "kernelspec": {
   "display_name": "Python 3 (ipykernel)",
   "language": "python",
   "name": "python3"
  },
  "language_info": {
   "codemirror_mode": {
    "name": "ipython",
    "version": 3
   },
   "file_extension": ".py",
   "mimetype": "text/x-python",
   "name": "python",
   "nbconvert_exporter": "python",
   "pygments_lexer": "ipython3",
   "version": "3.11.5"
  }
 },
 "nbformat": 4,
 "nbformat_minor": 4
}
