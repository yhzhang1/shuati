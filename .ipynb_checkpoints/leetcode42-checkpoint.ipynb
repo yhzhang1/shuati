{
 "cells": [
  {
   "cell_type": "markdown",
   "metadata": {},
   "source": [
    "https://www.youtube.com/watch?v=StH5vntauyQ"
   ]
  },
  {
   "cell_type": "code",
   "execution_count": 1,
   "metadata": {},
   "outputs": [],
   "source": [
    "# T:O(n), S:O(n)\n",
    "from typing import List\n",
    "class Solution:\n",
    "    def trap(self, height: List[int]) -> int:\n",
    "        n = len(height)\n",
    "        l = [0] * n\n",
    "        r = [0] * n\n",
    "        ans = 0\n",
    "        \n",
    "        for i in range(n):\n",
    "            l[i] = height[i] if i == 0 else max(l[i-1], height[i])\n",
    "            \n",
    "        for i in range(n-1, -1, -1):\n",
    "            r[i] = height[i] if i == n-1 else max(r[i+1], height[i])\n",
    "            \n",
    "        for i in range(n):\n",
    "            ans += min(l[i], r[i]) - height[i]\n",
    "            \n",
    "        return ans"
   ]
  },
  {
   "cell_type": "code",
   "execution_count": null,
   "metadata": {},
   "outputs": [],
   "source": []
  }
 ],
 "metadata": {
  "kernelspec": {
   "display_name": "Python 3 (ipykernel)",
   "language": "python",
   "name": "python3"
  },
  "language_info": {
   "codemirror_mode": {
    "name": "ipython",
    "version": 3
   },
   "file_extension": ".py",
   "mimetype": "text/x-python",
   "name": "python",
   "nbconvert_exporter": "python",
   "pygments_lexer": "ipython3",
   "version": "3.8.5"
  }
 },
 "nbformat": 4,
 "nbformat_minor": 4
}
