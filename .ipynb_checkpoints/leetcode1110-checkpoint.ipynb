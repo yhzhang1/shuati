{
 "cells": [
  {
   "cell_type": "markdown",
   "id": "9fc95ee1-386f-4f3e-bd8c-f2d9c4518ba7",
   "metadata": {},
   "source": [
    "https://www.youtube.com/watch?v=SEW3Vofoj_k"
   ]
  },
  {
   "cell_type": "code",
   "execution_count": 7,
   "id": "a8b57b26-780f-482d-8e9c-f3111302de10",
   "metadata": {},
   "outputs": [],
   "source": [
    "# T: O(n), S: O(n)\n",
    "from typing import List\n",
    "# Definition for a binary tree node.\n",
    "class TreeNode:\n",
    "    def __init__(self, val=0, left=None, right=None):\n",
    "        self.val = val\n",
    "        self.left = left\n",
    "        self.right = right\n",
    "class Solution:\n",
    "    def delNodes(self, root: Optional[TreeNode], to_delete: List[int]) -> List[TreeNode]:\n",
    "        def dfs(root):\n",
    "            if not root:    return None\n",
    "            root.left = dfs(root.left)\n",
    "            root.right = dfs(root.right)\n",
    "            if root.val in to_delete:\n",
    "                if root.left:   forest.append(root.left)\n",
    "                if root.right:  forest.append(root.right)\n",
    "                return None\n",
    "            return root\n",
    "\n",
    "        to_delete = set(to_delete)\n",
    "        forest = []\n",
    "        new_root = dfs(root)\n",
    "        if new_root:\n",
    "            forest.append(new_root)\n",
    "        return forest\n",
    "        "
   ]
  },
  {
   "cell_type": "code",
   "execution_count": null,
   "id": "9cb4d086-537e-4224-9dd8-7151c16b95a3",
   "metadata": {},
   "outputs": [],
   "source": []
  }
 ],
 "metadata": {
  "kernelspec": {
   "display_name": "Python 3 (ipykernel)",
   "language": "python",
   "name": "python3"
  },
  "language_info": {
   "codemirror_mode": {
    "name": "ipython",
    "version": 3
   },
   "file_extension": ".py",
   "mimetype": "text/x-python",
   "name": "python",
   "nbconvert_exporter": "python",
   "pygments_lexer": "ipython3",
   "version": "3.8.5"
  }
 },
 "nbformat": 4,
 "nbformat_minor": 5
}
