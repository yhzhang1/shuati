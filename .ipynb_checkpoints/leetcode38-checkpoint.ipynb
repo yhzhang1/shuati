{
 "cells": [
  {
   "cell_type": "markdown",
   "metadata": {},
   "source": [
    "https://www.youtube.com/watch?v=zOOKD2OBIUY"
   ]
  },
  {
   "cell_type": "code",
   "execution_count": 1,
   "metadata": {},
   "outputs": [],
   "source": [
    "class Solution:\n",
    "    def countAndSay(self, n: int) -> str:\n",
    "        if n == 1:\n",
    "            return '1'\n",
    "        \n",
    "        prev = self.countAndSay(n-1)\n",
    "\n",
    "        res = ''\n",
    "        cnt = 0\n",
    "        for i in range(len(prev)):\n",
    "            cnt += 1\n",
    "            if i == len(prev)-1 or prev[i] != prev[i+1]:\n",
    "                res += str(cnt) + prev[i]\n",
    "                cnt = 0\n",
    "\n",
    "        return res"
   ]
  },
  {
   "cell_type": "code",
   "execution_count": 4,
   "metadata": {},
   "outputs": [],
   "source": [
    "class Solution:\n",
    "    def countAndSay(self, n: int) -> str:\n",
    "        ans = '1'\n",
    "        \n",
    "        for i in range(n-1):\n",
    "            ans = self.getNext(ans)\n",
    "            \n",
    "        return ans\n",
    "    \n",
    "    def getNext(self, s: int) -> str:\n",
    "        count = 1\n",
    "        ans = ''\n",
    "        \n",
    "        for i in range(len(s)):\n",
    "            if i < len(s)-1 and s[i] == s[i+1]:\n",
    "                count += 1\n",
    "            else:\n",
    "                ans += str(count) + s[i]\n",
    "                count = 1\n",
    "                \n",
    "        return ans"
   ]
  },
  {
   "cell_type": "code",
   "execution_count": 3,
   "metadata": {},
   "outputs": [],
   "source": [
    "class Solution:\n",
    "    def countAndSay(self, n: int) -> str:\n",
    "        if n == 1:\n",
    "            return '1'\n",
    "        \n",
    "        prev = self.countAndSay(n-1)\n",
    "        ans = ''\n",
    "        count = 1\n",
    "        value = ''\n",
    "\n",
    "        for i in range(len(prev)):\n",
    "            if i < len(prev)-1 and prev[i] == prev[i+1]:\n",
    "                count += 1\n",
    "            else:\n",
    "                value = prev[i]\n",
    "                ans += str(count) + value\n",
    "                count = 1\n",
    "                \n",
    "        return ans\n",
    "            \n",
    "            "
   ]
  }
 ],
 "metadata": {
  "kernelspec": {
   "display_name": "Python 3 (ipykernel)",
   "language": "python",
   "name": "python3"
  },
  "language_info": {
   "codemirror_mode": {
    "name": "ipython",
    "version": 3
   },
   "file_extension": ".py",
   "mimetype": "text/x-python",
   "name": "python",
   "nbconvert_exporter": "python",
   "pygments_lexer": "ipython3",
   "version": "3.8.5"
  }
 },
 "nbformat": 4,
 "nbformat_minor": 4
}
