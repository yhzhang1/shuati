{
 "cells": [
  {
   "cell_type": "markdown",
   "id": "98ea91a7-ee1d-405c-8d1d-036e3b9656ef",
   "metadata": {},
   "source": [
    "https://leetcode.com/problems/water-and-jug-problem/solutions/83709/breadth-first-search-with-explanation/\n",
    "\n",
    "https://leetcode.com/problems/water-and-jug-problem/solutions/83715/math-solution-java-solution/\n",
    "\n",
    "https://leetcode.com/problems/water-and-jug-problem/\n",
    "\n",
    "https://www.youtube.com/watch?v=0BgaoIN1VUQ&t=249s"
   ]
  },
  {
   "cell_type": "code",
   "execution_count": null,
   "id": "484f3c97-c966-4927-9d37-4dc49cf5d1eb",
   "metadata": {},
   "outputs": [],
   "source": [
    "# T: O(cap1*cap2), S: O(cap1*cap2)\n",
    "class Solution:\n",
    "    def canMeasureWater(self, jug1Capacity: int, jug2Capacity: int, targetCapacity: int) -> bool:\n",
    "        def dfs(state):\n",
    "            if state in visited:\n",
    "                return False\n",
    "            visited.add(state)\n",
    "            a, b = state\n",
    "            if a+b == targetCapacity:\n",
    "                return True\n",
    "            \n",
    "            if dfs((jug1Capacity,b)):\n",
    "            # fill jug1\n",
    "                return True\n",
    "            elif dfs((a,jug2Capacity)):\n",
    "            # fill jug2\n",
    "                return True\n",
    "            elif dfs((0,b)):\n",
    "            # empty jug1\n",
    "                return True\n",
    "            elif dfs((a,0)):\n",
    "            # empty jug2\n",
    "                return True\n",
    "            elif dfs((0,a+b) if a+b < jug2Capacity else (a+b-jug2Capacity, jug2Capacity)):\n",
    "            # pour jug1 to jug2\n",
    "                return True\n",
    "            elif dfs((a+b,0) if a+b < jug1Capacity else (jug1Capacity, a+b-jug1Capacity)):\n",
    "            # pour jug2 to jug1\n",
    "                return True\n",
    "\n",
    "            return False\n",
    "\n",
    "        visited = set()\n",
    "        return dfs((0,0))"
   ]
  },
  {
   "cell_type": "code",
   "execution_count": 3,
   "id": "e81a9aad-67c4-4007-b2e2-1fb3b9f9e0ef",
   "metadata": {
    "tags": []
   },
   "outputs": [],
   "source": [
    "# T: O(cap1*cap2), S: O(cap1*cap2)\n",
    "class Solution:\n",
    "    def canMeasureWater(self, jug1Capacity: int, jug2Capacity: int, targetCapacity: int) -> bool:\n",
    "        if jug1Capacity + jug2Capacity < targetCapacity:\n",
    "            return False\n",
    "        queue = [(0,0)]\n",
    "        visited = set((0,0))\n",
    "        while queue:\n",
    "            a,b = queue.pop()\n",
    "            if a + b == targetCapacity:\n",
    "                return True\n",
    "            states = set()\n",
    "            states.add((jug1Capacity,b)) # fill jug1\n",
    "            states.add((a, jug2Capacity)) # fill jug2\n",
    "            states.add((0, b)) # empty jug1\n",
    "            states.add((a, 0)) # empty jug2\n",
    "            states.add((0,a+b) if a+b < jug2Capacity else (a+b-jug2Capacity, jug2Capacity)) # pour jug1 to jug2\n",
    "            states.add((a+b,0) if a+b < jug1Capacity else (jug1Capacity, a+b-jug1Capacity)) # pour jug2 to jug1\n",
    "\n",
    "            for state in states:\n",
    "                if state in visited:\n",
    "                    continue\n",
    "                queue.append(state)\n",
    "                visited.add(state)\n",
    "        return False         \n",
    "            "
   ]
  },
  {
   "cell_type": "code",
   "execution_count": 2,
   "id": "efd8fd14-6905-4746-8407-2a7aee4f9734",
   "metadata": {},
   "outputs": [],
   "source": [
    "# T: O(log(min(a,b))), S: O(log(min(a,b)))\n",
    "class Solution:\n",
    "    def canMeasureWater(self, jug1Capacity: int, jug2Capacity: int, targetCapacity: int) -> bool:\n",
    "        if jug1Capacity + jug2Capacity < targetCapacity:\n",
    "            return False\n",
    "\n",
    "        return targetCapacity%self.gcd(jug1Capacity, jug2Capacity) == 0\n",
    "\n",
    "    def gcd(self, a, b):\n",
    "        if a == 0:\n",
    "            return b\n",
    "        \n",
    "        return self.gcd(b%a, a)\n",
    "\n",
    "    def gcd(self, a, b):\n",
    "        if a == 0:\n",
    "            return b\n",
    "        elif b == 0:\n",
    "            return a\n",
    "        smaller = min(a,b)\n",
    "        bigger = max(a,b)\n",
    "        \n",
    "        return self.gcd(smaller, bigger%smaller)"
   ]
  },
  {
   "cell_type": "code",
   "execution_count": 4,
   "id": "758960b4-37a6-4737-aabc-7ecc622d4398",
   "metadata": {},
   "outputs": [],
   "source": [
    "# T: O(cap1*cap2), S: O(cap1+cap2)\n",
    "class Solution:\n",
    "    def canMeasureWater(self, jug1Capacity: int, jug2Capacity: int, targetCapacity: int) -> bool:\n",
    "        def dfs(tot):\n",
    "            if tot == targetCapacity:\n",
    "                return True\n",
    "            elif tot in seen or not 0 <= tot <= jug1Capacity+jug2Capacity:\n",
    "                return False\n",
    "\n",
    "            seen.add(tot)\n",
    "            return dfs(tot+jug1Capacity) or dfs(tot-jug1Capacity) or dfs(tot+jug2Capacity) or dfs(tot-jug2Capacity)\n",
    "        \n",
    "        seen = set()\n",
    "        return dfs(0)"
   ]
  },
  {
   "cell_type": "code",
   "execution_count": 50,
   "id": "7af1fad0-5ba5-4612-a574-1cc8c5760273",
   "metadata": {},
   "outputs": [],
   "source": [
    "def gcd1(a,b):\n",
    "\tprint('a:',a,'b:',b)\n",
    "\tif a == 0:\n",
    "\t\treturn b\n",
    "\telif b == 0:\n",
    "\t\treturn a\n",
    "\t'''if a < b:\n",
    "\t\ta%b = a\n",
    "\t\tgcd(b,a)\n",
    "\t\t\n",
    "\t\ta%b = b%a = r\n",
    "\t\tgcd(a,r)  \n",
    "\t\t\n",
    "\t\ta%b = a%r = r1\n",
    "\t\tgcd(r, r1)\n",
    "\t\t...\n",
    "\t\t\n",
    "\t\tif a > b:\n",
    "\t\ta%b = r\n",
    "\t\tgcd(b, r)\n",
    "\t\t\n",
    "\t\ta%b = b%r =r1\n",
    "\t\tgcd(r, r1)\n",
    "\t\n",
    "\t'''\n",
    "\t\t\n",
    "\treturn gcd1(b, a%b)"
   ]
  },
  {
   "cell_type": "code",
   "execution_count": 61,
   "id": "d13c882a-63ac-441f-a2cd-5b7bb0b8e114",
   "metadata": {},
   "outputs": [],
   "source": [
    "def gcd(a,b):\n",
    "\tprint('a:',a,'b:',b)\n",
    "\tif a == 0:\n",
    "\t\treturn b\n",
    "\telif b == 0:\n",
    "\t\treturn a\n",
    "\t\t\n",
    "\treturn gcd(b%a,a)"
   ]
  },
  {
   "cell_type": "code",
   "execution_count": 62,
   "id": "47f04482-208d-449c-a9ab-d14025230726",
   "metadata": {},
   "outputs": [
    {
     "name": "stdout",
     "output_type": "stream",
     "text": [
      "a: 252 b: 105\n",
      "a: 105 b: 252\n",
      "a: 42 b: 105\n",
      "a: 21 b: 42\n",
      "a: 0 b: 21\n"
     ]
    },
    {
     "data": {
      "text/plain": [
       "21"
      ]
     },
     "execution_count": 62,
     "metadata": {},
     "output_type": "execute_result"
    }
   ],
   "source": [
    "gcd(252, 105)"
   ]
  },
  {
   "cell_type": "code",
   "execution_count": 63,
   "id": "99aefe33-1806-49f7-8ca7-e4378e45cbeb",
   "metadata": {},
   "outputs": [
    {
     "name": "stdout",
     "output_type": "stream",
     "text": [
      "a: 105 b: 252\n",
      "a: 42 b: 105\n",
      "a: 21 b: 42\n",
      "a: 0 b: 21\n"
     ]
    },
    {
     "data": {
      "text/plain": [
       "21"
      ]
     },
     "execution_count": 63,
     "metadata": {},
     "output_type": "execute_result"
    }
   ],
   "source": [
    "gcd(105, 252)"
   ]
  },
  {
   "cell_type": "code",
   "execution_count": 55,
   "id": "e82ace99-10aa-4fb4-b9e7-5676dabb0b42",
   "metadata": {},
   "outputs": [],
   "source": [
    "def gcd(a,b):\n",
    "\tprint('a:',a,'b:',b)\n",
    "\tif a == 0:\n",
    "\t\treturn b\n",
    "\telif b == 0:\n",
    "\t\treturn a\n",
    "\t\t\n",
    "\treturn gcd(b%a,b)"
   ]
  },
  {
   "cell_type": "code",
   "execution_count": 56,
   "id": "3e189949-68d6-4df5-90e6-4815a6615461",
   "metadata": {},
   "outputs": [
    {
     "name": "stdout",
     "output_type": "stream",
     "text": [
      "a: 252 b: 105\n",
      "a: 105 b: 105\n",
      "a: 0 b: 105\n"
     ]
    },
    {
     "data": {
      "text/plain": [
       "105"
      ]
     },
     "execution_count": 56,
     "metadata": {},
     "output_type": "execute_result"
    }
   ],
   "source": [
    "gcd(252, 105)"
   ]
  },
  {
   "cell_type": "code",
   "execution_count": 57,
   "id": "0c9382ee-98bf-4216-adb3-eede4734e7e4",
   "metadata": {},
   "outputs": [
    {
     "name": "stdout",
     "output_type": "stream",
     "text": [
      "a: 105 b: 252\n",
      "a: 42 b: 252\n",
      "a: 0 b: 252\n"
     ]
    },
    {
     "data": {
      "text/plain": [
       "252"
      ]
     },
     "execution_count": 57,
     "metadata": {},
     "output_type": "execute_result"
    }
   ],
   "source": [
    "gcd(105, 252)"
   ]
  },
  {
   "cell_type": "code",
   "execution_count": 58,
   "id": "e4438c48-8bbd-4741-9e30-c4834027af2f",
   "metadata": {},
   "outputs": [],
   "source": []
  },
  {
   "cell_type": "code",
   "execution_count": 59,
   "id": "8af9b4ad-d43a-4dee-abd8-31f64c25f5bf",
   "metadata": {},
   "outputs": [
    {
     "name": "stdout",
     "output_type": "stream",
     "text": [
      "a: 252 b: 105\n",
      "a: 105 b: 252\n",
      "a: 42 b: 105\n",
      "a: 21 b: 42\n",
      "a: 0 b: 21\n"
     ]
    },
    {
     "data": {
      "text/plain": [
       "21"
      ]
     },
     "execution_count": 59,
     "metadata": {},
     "output_type": "execute_result"
    }
   ],
   "source": []
  },
  {
   "cell_type": "code",
   "execution_count": 60,
   "id": "7d5dea32-a827-4f33-852c-d9576bc33c9d",
   "metadata": {},
   "outputs": [
    {
     "name": "stdout",
     "output_type": "stream",
     "text": [
      "a: 105 b: 252\n",
      "a: 42 b: 105\n",
      "a: 21 b: 42\n",
      "a: 0 b: 21\n"
     ]
    },
    {
     "data": {
      "text/plain": [
       "21"
      ]
     },
     "execution_count": 60,
     "metadata": {},
     "output_type": "execute_result"
    }
   ],
   "source": []
  },
  {
   "cell_type": "code",
   "execution_count": 30,
   "id": "d9301e0e-b687-47fa-ba90-25492f6a26de",
   "metadata": {},
   "outputs": [],
   "source": [
    "def gcd11(a,b):\n",
    "\tprint('a:',a,'b:',b)\n",
    "\tif a == 0:\n",
    "\t\treturn b\n",
    "\telif b == 0:\n",
    "\t\treturn a\n",
    "\t'''if a < b:\n",
    "\t\t\ta%b = a\n",
    "\t\t\tgcd(a,b)\n",
    "\t\t\tgcd(a,b)\n",
    "\t\t\t...\n",
    "\t\t\tgcd(a,b)\n",
    "\t\tif a > b:\n",
    "\t\t\ta%b = r\n",
    "\t\t\tr < b\n",
    "\t\t\tgcd(r, b)\n",
    "\t\t\t\n",
    "\t\t\tr%b = r\n",
    "\t\t\tgcd(r, b)\n",
    "\t\t\t...\n",
    "\t\t\tgcd(r, b)\n",
    "\t'''\n",
    "\treturn gcd11(a%b, b)"
   ]
  },
  {
   "cell_type": "code",
   "execution_count": null,
   "id": "453ef667-6a4c-4809-b388-68c5ff1aa428",
   "metadata": {},
   "outputs": [],
   "source": [
    "def gcd12(a,b):\n",
    "\tprint('a:',a,'b:',b)\n",
    "\tif a == 0:\n",
    "\t\treturn b\n",
    "\telif b == 0:\n",
    "\t\treturn a\n",
    "\n",
    "\treturn gcd12(a%b, b)"
   ]
  },
  {
   "cell_type": "code",
   "execution_count": 46,
   "id": "3ce08467-9db2-4f78-9499-c2da86431ec2",
   "metadata": {},
   "outputs": [],
   "source": [
    "def gcd2(a,b):\n",
    "\tprint('a:',a,'b:',b)\n",
    "\tif a == 0:\n",
    "\t\treturn b\n",
    "\telif b == 0:\n",
    "\t\treturn a\n",
    "\t'''if a < b:\n",
    "\t\t\ta%b = a\n",
    "\t\t\tgcd(a,a)    x\n",
    "\t\t\t\n",
    "\t\t\ta%b = a%a = 0\n",
    "\t\t\tgcd(0,a) = a\n",
    "\t\tif a > b:\n",
    "\t\t\ta%b = r\n",
    "\t\t\tgcd(r, a)    x\n",
    "\t\t\t\n",
    "\t\t\ta%b = r%a = r\n",
    "\t\t\tgcd(r,r)\n",
    "\t\t\t\n",
    "\t\t\ta%b = r%r = 0\n",
    "\t\t\tgcd(0, r) = r\n",
    "\t'''\n",
    "\treturn gcd2(a%b,a)"
   ]
  },
  {
   "cell_type": "code",
   "execution_count": 25,
   "id": "77e8dbab-4078-46b2-b3a6-899d5b57338e",
   "metadata": {},
   "outputs": [
    {
     "name": "stdout",
     "output_type": "stream",
     "text": [
      "a: 252 b: 105\n",
      "a: 105 b: 42\n",
      "a: 42 b: 21\n",
      "a: 21 b: 0\n"
     ]
    },
    {
     "data": {
      "text/plain": [
       "21"
      ]
     },
     "execution_count": 25,
     "metadata": {},
     "output_type": "execute_result"
    }
   ],
   "source": [
    "gcd1(252, 105)"
   ]
  },
  {
   "cell_type": "code",
   "execution_count": 26,
   "id": "2e481555-8016-4441-9074-e59cf2a51ecb",
   "metadata": {},
   "outputs": [
    {
     "name": "stdout",
     "output_type": "stream",
     "text": [
      "a: 105 b: 252\n",
      "a: 252 b: 105\n",
      "a: 105 b: 42\n",
      "a: 42 b: 21\n",
      "a: 21 b: 0\n"
     ]
    },
    {
     "data": {
      "text/plain": [
       "21"
      ]
     },
     "execution_count": 26,
     "metadata": {},
     "output_type": "execute_result"
    }
   ],
   "source": [
    "gcd1(105, 252)"
   ]
  },
  {
   "cell_type": "code",
   "execution_count": null,
   "id": "6e11c0ac-933e-4a6f-8921-5729de53a266",
   "metadata": {},
   "outputs": [],
   "source": [
    "gcd11(252, 105)"
   ]
  },
  {
   "cell_type": "code",
   "execution_count": null,
   "id": "1b9d4fd4-a192-4575-97d5-c7b7229b6c91",
   "metadata": {},
   "outputs": [],
   "source": [
    "gcd11(105, 252)"
   ]
  },
  {
   "cell_type": "code",
   "execution_count": 44,
   "id": "739c3641-d2e4-4204-82c7-4b09049fd9e3",
   "metadata": {},
   "outputs": [
    {
     "name": "stdout",
     "output_type": "stream",
     "text": [
      "a: 252 b: 105\n",
      "a: 42 b: 252\n",
      "a: 42 b: 42\n",
      "a: 0 b: 42\n"
     ]
    },
    {
     "data": {
      "text/plain": [
       "42"
      ]
     },
     "execution_count": 44,
     "metadata": {},
     "output_type": "execute_result"
    }
   ],
   "source": [
    "gcd2(252, 105)"
   ]
  },
  {
   "cell_type": "code",
   "execution_count": 28,
   "id": "94fb88b4-e9be-4acc-bb18-882793429887",
   "metadata": {},
   "outputs": [
    {
     "name": "stdout",
     "output_type": "stream",
     "text": [
      "a: 105 b: 252\n",
      "a: 105 b: 105\n",
      "a: 0 b: 105\n"
     ]
    },
    {
     "data": {
      "text/plain": [
       "105"
      ]
     },
     "execution_count": 28,
     "metadata": {},
     "output_type": "execute_result"
    }
   ],
   "source": [
    "gcd2(105, 252)"
   ]
  },
  {
   "cell_type": "code",
   "execution_count": 19,
   "id": "d405d042-7dc1-4c7c-aeee-d91ab58e17fb",
   "metadata": {},
   "outputs": [],
   "source": [
    "def gcd3(a, b):\n",
    "\twhile b != 0:\n",
    "\t\tprint('a:',a,'b:',b)\n",
    "\t\tt = a % b\n",
    "\t\ta = b\n",
    "\t\tb = t\n",
    "\treturn a"
   ]
  },
  {
   "cell_type": "code",
   "execution_count": 20,
   "id": "8832ef76-d439-479d-a5a0-5b780b891bbc",
   "metadata": {},
   "outputs": [
    {
     "name": "stdout",
     "output_type": "stream",
     "text": [
      "a: 252 b: 105\n",
      "a: 105 b: 42\n",
      "a: 42 b: 21\n"
     ]
    },
    {
     "data": {
      "text/plain": [
       "21"
      ]
     },
     "execution_count": 20,
     "metadata": {},
     "output_type": "execute_result"
    }
   ],
   "source": [
    "gcd3(252, 105)"
   ]
  },
  {
   "cell_type": "code",
   "execution_count": 21,
   "id": "1eefb195-0965-46c7-826c-eee4e023e3c1",
   "metadata": {},
   "outputs": [
    {
     "name": "stdout",
     "output_type": "stream",
     "text": [
      "a: 105 b: 252\n",
      "a: 252 b: 105\n",
      "a: 105 b: 42\n",
      "a: 42 b: 21\n"
     ]
    },
    {
     "data": {
      "text/plain": [
       "21"
      ]
     },
     "execution_count": 21,
     "metadata": {},
     "output_type": "execute_result"
    }
   ],
   "source": [
    "gcd3(105, 252)"
   ]
  },
  {
   "cell_type": "code",
   "execution_count": 47,
   "id": "68566dd5-e6ef-4b8b-b343-970857143f62",
   "metadata": {},
   "outputs": [],
   "source": [
    "def gcd4(a,b):\n",
    "\tprint('a:',a,'b:',b)\n",
    "\tif a == 0:\n",
    "\t\treturn b\n",
    "\telif b == 0:\n",
    "\t\treturn a\n",
    "\t\n",
    "\tsmaller = min(a,b)\n",
    "\tbigger = max(a,b)\n",
    "\t\t\n",
    "\treturn gcd4(smaller, bigger%smaller)"
   ]
  },
  {
   "cell_type": "code",
   "execution_count": 48,
   "id": "e931de49-454f-4188-b20a-35bf3c438cd0",
   "metadata": {},
   "outputs": [
    {
     "name": "stdout",
     "output_type": "stream",
     "text": [
      "a: 252 b: 105\n",
      "a: 105 b: 42\n",
      "a: 42 b: 21\n",
      "a: 21 b: 0\n"
     ]
    },
    {
     "data": {
      "text/plain": [
       "21"
      ]
     },
     "execution_count": 48,
     "metadata": {},
     "output_type": "execute_result"
    }
   ],
   "source": [
    "gcd4(252, 105)"
   ]
  },
  {
   "cell_type": "code",
   "execution_count": 49,
   "id": "10c0733a-f97f-4c4e-b323-c9e9ec63b918",
   "metadata": {},
   "outputs": [
    {
     "name": "stdout",
     "output_type": "stream",
     "text": [
      "a: 105 b: 252\n",
      "a: 105 b: 42\n",
      "a: 42 b: 21\n",
      "a: 21 b: 0\n"
     ]
    },
    {
     "data": {
      "text/plain": [
       "21"
      ]
     },
     "execution_count": 49,
     "metadata": {},
     "output_type": "execute_result"
    }
   ],
   "source": [
    "gcd4(105, 252)"
   ]
  },
  {
   "cell_type": "code",
   "execution_count": null,
   "id": "6d6dd3b1-a24a-406d-a759-bab1cebfa0e8",
   "metadata": {},
   "outputs": [],
   "source": []
  }
 ],
 "metadata": {
  "kernelspec": {
   "display_name": "Python 3 (ipykernel)",
   "language": "python",
   "name": "python3"
  },
  "language_info": {
   "codemirror_mode": {
    "name": "ipython",
    "version": 3
   },
   "file_extension": ".py",
   "mimetype": "text/x-python",
   "name": "python",
   "nbconvert_exporter": "python",
   "pygments_lexer": "ipython3",
   "version": "3.8.5"
  }
 },
 "nbformat": 4,
 "nbformat_minor": 5
}
