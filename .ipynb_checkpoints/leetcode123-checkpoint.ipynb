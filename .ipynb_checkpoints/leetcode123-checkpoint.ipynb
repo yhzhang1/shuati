{
 "cells": [
  {
   "cell_type": "markdown",
   "metadata": {},
   "source": [
    "https://leetcode.com/problems/best-time-to-buy-and-sell-stock-iii/solution/"
   ]
  },
  {
   "cell_type": "code",
   "execution_count": 2,
   "metadata": {},
   "outputs": [],
   "source": [
    "from typing import List\n",
    "class Solution:\n",
    "    def maxProfit(self, prices: List[int]) -> int:\n",
    "        if not prices:\n",
    "            return 0\n",
    "        n = len(prices)\n",
    "        leftProfit = [0] * n\n",
    "        rightProfit = [0] * n\n",
    "        leftMin = prices[0]\n",
    "        rightMax = prices[-1]\n",
    "        \n",
    "        for l in range(1, n):\n",
    "            leftMin = min(leftMin, prices[l])\n",
    "            leftProfit[l] = max(leftProfit[l-1], prices[l]-leftMin) \n",
    "            \n",
    "            r = n-1-l\n",
    "            rightMax = max(rightMax, prices[r])\n",
    "            rightProfit[r] = max(rightProfit[r+1], rightMax-prices[r])\n",
    "            \n",
    "        maxProfit = 0\n",
    "        for i in range(n):\n",
    "            maxProfit = max(maxProfit, leftProfit[i]+rightProfit[i])\n",
    "            \n",
    "        return maxProfit"
   ]
  }
 ],
 "metadata": {
  "kernelspec": {
   "display_name": "Python 3",
   "language": "python",
   "name": "python3"
  },
  "language_info": {
   "codemirror_mode": {
    "name": "ipython",
    "version": 3
   },
   "file_extension": ".py",
   "mimetype": "text/x-python",
   "name": "python",
   "nbconvert_exporter": "python",
   "pygments_lexer": "ipython3",
   "version": "3.7.6"
  }
 },
 "nbformat": 4,
 "nbformat_minor": 4
}
