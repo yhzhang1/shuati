{
 "cells": [
  {
   "cell_type": "markdown",
   "metadata": {},
   "source": [
    "https://leetcode.com/problems/search-in-rotated-sorted-array/solution/\n",
    "\n"
   ]
  },
  {
   "cell_type": "code",
   "execution_count": 3,
   "metadata": {},
   "outputs": [],
   "source": [
    "# T:O(log(n)), S: O(1)\n",
    "class Solution:\n",
    "    def search(self, nums: List[int], target: int) -> int:\n",
    "        l, r = 0, len(nums)-1\n",
    "        \n",
    "        while l < r:\n",
    "            mid = (l + r) // 2\n",
    "            if nums[l] <= nums[mid]:\n",
    "                if nums[l] <= target <= nums[mid]:\n",
    "                    r = mid\n",
    "                else:\n",
    "                    l = mid + 1\n",
    "            else:\n",
    "                if nums[mid] <= target <= nums[r]:\n",
    "                    l = mid\n",
    "                else:\n",
    "                    r = mid - 1\n",
    "                    \n",
    "        return l if nums[l] == target else -1"
   ]
  },
  {
   "cell_type": "code",
   "execution_count": 4,
   "metadata": {},
   "outputs": [],
   "source": [
    "# T:O(log(n)), S: O(1)\n",
    "from typing import List\n",
    "class Solution:\n",
    "    def search(self, nums: List[int], target: int) -> int:\n",
    "        n=len(nums)\n",
    "        l,r=0,n-1\n",
    "        while r-l > 1:\n",
    "            mid = (l+r) // 2\n",
    "            if nums[l] < nums[mid]:\n",
    "                if nums[l] <= target <= nums[mid]:\n",
    "                    r = mid\n",
    "                else:\n",
    "                    l = mid + 1\n",
    "            else:\n",
    "                if nums[mid] <= target <= nums[r]:\n",
    "                    l = mid\n",
    "                else:\n",
    "                    r = mid - 1\n",
    "\n",
    "        if nums[l] == target:\n",
    "            return l\n",
    "        elif nums[r] == target:\n",
    "            return r\n",
    "        else:\n",
    "            return -1\n"
   ]
  },
  {
   "cell_type": "code",
   "execution_count": 4,
   "metadata": {},
   "outputs": [],
   "source": [
    "class Solution:\n",
    "    def search(self, nums: List[int], target: int) -> int:\n",
    "        l, r = 0, len(nums)-1\n",
    "        \n",
    "        while l <= r:\n",
    "            mid = (l+r) // 2\n",
    "            if target == nums[mid]:\n",
    "                return mid\n",
    "            elif nums[l] <= nums[mid]:          # 0-mid is increasing\n",
    "                if nums[l] <= target and target < nums[mid]:\n",
    "                    r = mid - 1\n",
    "                else:\n",
    "                    l = mid + 1\n",
    "            else:            # mid- n-1 is increasing\n",
    "                if nums[mid] < target and target <= nums[r]:\n",
    "                    l = mid + 1\n",
    "                else:\n",
    "                    r = mid - 1\n",
    "                    \n",
    "        return -1"
   ]
  },
  {
   "cell_type": "code",
   "execution_count": 2,
   "metadata": {},
   "outputs": [],
   "source": [
    "from typing import List\n",
    "class Solution:\n",
    "    def search(self, nums: List[int], target: int) -> int:\n",
    "        l, r = 0, len(nums)-1\n",
    "        \n",
    "        while l <= r:\n",
    "            mid = (l+r) // 2\n",
    "            if target == nums[mid]:\n",
    "                return mid\n",
    "            elif target >= nums[0]:\n",
    "                if nums[mid] >= nums[0] and target > nums[mid]:\n",
    "                    l = mid + 1\n",
    "                else:\n",
    "                    r = mid - 1\n",
    "            else:\n",
    "                if nums[mid] >= nums[0] or target > nums[mid]:\n",
    "                    l = mid + 1\n",
    "                else:\n",
    "                    r = mid - 1\n",
    "                    \n",
    "        return -1"
   ]
  },
  {
   "cell_type": "code",
   "execution_count": 5,
   "metadata": {},
   "outputs": [],
   "source": [
    "case1 = [4,5,6,7,0,1,2]\n",
    "target = 0"
   ]
  },
  {
   "cell_type": "code",
   "execution_count": 11,
   "metadata": {},
   "outputs": [],
   "source": [
    "from typing import List\n",
    "\n",
    "class Solution:\n",
    "    def search(self, nums: List[int], target: int) -> int:\n",
    "        lo = 0\n",
    "        hi = len(nums) - 1\n",
    "        \n",
    "        while lo < hi: # lo, hi 相邻\n",
    "            mid = (lo + hi) // 2\n",
    "            # 0-mid 不包含旋转\n",
    "            if nums[lo] <= nums[mid]:\n",
    "                if nums[lo] <= target <= nums[mid]:\n",
    "                    hi = mid\n",
    "                else:\n",
    "                    lo = mid + 1\n",
    "            # 0-mid 包含旋转\n",
    "            else:\n",
    "                if target <= nums[mid]:\n",
    "                    hi = mid\n",
    "                elif target >= nums[lo]:\n",
    "                    hi = mid\n",
    "                else:\n",
    "                    lo = mid + 1\n",
    "                    \n",
    "        return lo if lo == hi and nums[lo] == target else -1\n",
    "                \n",
    "                "
   ]
  },
  {
   "cell_type": "code",
   "execution_count": 12,
   "metadata": {},
   "outputs": [
    {
     "data": {
      "text/plain": [
       "4"
      ]
     },
     "execution_count": 12,
     "metadata": {},
     "output_type": "execute_result"
    }
   ],
   "source": [
    "Solution().search(case1, target)"
   ]
  }
 ],
 "metadata": {
  "kernelspec": {
   "display_name": "Python 3 (ipykernel)",
   "language": "python",
   "name": "python3"
  },
  "language_info": {
   "codemirror_mode": {
    "name": "ipython",
    "version": 3
   },
   "file_extension": ".py",
   "mimetype": "text/x-python",
   "name": "python",
   "nbconvert_exporter": "python",
   "pygments_lexer": "ipython3",
   "version": "3.8.5"
  }
 },
 "nbformat": 4,
 "nbformat_minor": 4
}
