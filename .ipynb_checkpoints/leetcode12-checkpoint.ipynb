{
 "cells": [
  {
   "cell_type": "markdown",
   "metadata": {},
   "source": [
    "https://www.youtube.com/watch?v=RzU6tWxpPPg"
   ]
  },
  {
   "cell_type": "code",
   "execution_count": 9,
   "metadata": {},
   "outputs": [],
   "source": [
    "# T: O(n), S: O(n)\n",
    "class Solution:\n",
    "    def intToRoman(self, num: int) -> str:\n",
    "        num2ch = {1000:'M',900:'CM',500:'D',400:'CD',100:'C',90:'XC',50:'L',40:'XL',10:'X',9:'IX',5:'V',4:'IV',1:'I'}\n",
    "        roman = ''\n",
    "\n",
    "        for i in num2ch:\n",
    "            while num >= i:\n",
    "                roman += num2ch[i]\n",
    "                num -= i\n",
    "        return roman"
   ]
  },
  {
   "cell_type": "code",
   "execution_count": 2,
   "metadata": {},
   "outputs": [],
   "source": [
    "class Solution:\n",
    "    def intToRoman(self, num: int) -> str:\n",
    "        values = [1000,900,500,400,100,90,50,40,10,9,5,4,1]\n",
    "        numerals = ['M','CM','D','CD','C','XC','L','XL','X','IX','V','IV','I']\n",
    "        roman = ''\n",
    "        \n",
    "        for i in range(len(values)):\n",
    "            while num >= values[i]:\n",
    "                roman += numerals[i]\n",
    "                num -= values[i]\n",
    "                \n",
    "        return roman"
   ]
  },
  {
   "cell_type": "code",
   "execution_count": 1,
   "metadata": {},
   "outputs": [],
   "source": [
    "class Solution:\n",
    "    def intToRoman(self, num: int) -> str:\n",
    "        roman = ''\n",
    "        \n",
    "        while num:\n",
    "            if num // 1000 >= 1:\n",
    "                roman += 'M'\n",
    "                num -= 1000\n",
    "            elif num % 1000 >= 900:\n",
    "                roman += 'CM'\n",
    "                num -= 900\n",
    "            elif num // 500 >= 1:\n",
    "                roman += 'D'\n",
    "                num -= 500\n",
    "            elif num % 500 >= 400:\n",
    "                roman += 'CD'\n",
    "                num -= 400\n",
    "            elif num // 100 >= 1:\n",
    "                roman += 'C'\n",
    "                num -= 100\n",
    "            elif num % 100 >= 90:\n",
    "                roman += 'XC'\n",
    "                num -= 90\n",
    "            elif num // 50 >= 1:\n",
    "                roman += 'L'\n",
    "                num -= 50\n",
    "            elif num % 50 >= 40:\n",
    "                roman += 'XL'\n",
    "                num -= 40\n",
    "            elif num // 10 >= 1:\n",
    "                roman += 'X'\n",
    "                num -= 10\n",
    "            elif num % 10 >= 9:\n",
    "                roman += 'IX'\n",
    "                num -= 9\n",
    "            elif num // 5 >= 1:\n",
    "                roman += 'V'\n",
    "                num -= 5\n",
    "            elif num % 5 >= 4:\n",
    "                roman += 'IV'\n",
    "                num -= 4\n",
    "            else:\n",
    "                roman += 'I'\n",
    "                num -= 1\n",
    "                \n",
    "        return roman"
   ]
  },
  {
   "cell_type": "code",
   "execution_count": 1,
   "metadata": {},
   "outputs": [
    {
     "data": {
      "text/plain": [
       "{1000: 'M', 500: 'D', 100: 'C', 50: 'L', 10: 'X', 5: 'V', 1: 'I'}"
      ]
     },
     "execution_count": 1,
     "metadata": {},
     "output_type": "execute_result"
    }
   ],
   "source": [
    "num2Ro = {1000:'M',500:'D',100:'C',50:'L',10:'X',5:'V',1:'I'}\n",
    "num2Ro"
   ]
  },
  {
   "cell_type": "code",
   "execution_count": 4,
   "metadata": {},
   "outputs": [
    {
     "name": "stdout",
     "output_type": "stream",
     "text": [
      "1000\n",
      "500\n",
      "100\n",
      "50\n",
      "10\n",
      "5\n",
      "1\n"
     ]
    }
   ],
   "source": [
    "for i in num2Ro:\n",
    "\tprint(i)"
   ]
  },
  {
   "cell_type": "code",
   "execution_count": 5,
   "metadata": {},
   "outputs": [
    {
     "data": {
      "text/plain": [
       "{1000: 'M',\n",
       " 900: 'CM',\n",
       " 500: 'D',\n",
       " 400: 'CD',\n",
       " 100: 'C',\n",
       " 90: 'XC',\n",
       " 50: 'L',\n",
       " 40: 'XL',\n",
       " 10: 'X',\n",
       " 9: 'IX',\n",
       " 5: 'V',\n",
       " 4: 'IV',\n",
       " 1: 'I'}"
      ]
     },
     "execution_count": 5,
     "metadata": {},
     "output_type": "execute_result"
    }
   ],
   "source": [
    "num2char = {1000:'M',900:'CM',500:'D',400:'CD',100:'C',90:'XC',50:'L',40:'XL',10:'X',9:'IX',5:'V',4:'IV',1:'I'}\n",
    "num2char"
   ]
  },
  {
   "cell_type": "code",
   "execution_count": 7,
   "metadata": {},
   "outputs": [
    {
     "name": "stdout",
     "output_type": "stream",
     "text": [
      "1000\n",
      "900\n",
      "500\n",
      "400\n",
      "100\n",
      "90\n",
      "50\n",
      "40\n",
      "10\n",
      "9\n",
      "5\n",
      "4\n",
      "1\n"
     ]
    }
   ],
   "source": [
    "for i in num2char:\n",
    "\tprint(i)"
   ]
  },
  {
   "cell_type": "code",
   "execution_count": null,
   "metadata": {},
   "outputs": [],
   "source": []
  }
 ],
 "metadata": {
  "kernelspec": {
   "display_name": "Python 3 (ipykernel)",
   "language": "python",
   "name": "python3"
  },
  "language_info": {
   "codemirror_mode": {
    "name": "ipython",
    "version": 3
   },
   "file_extension": ".py",
   "mimetype": "text/x-python",
   "name": "python",
   "nbconvert_exporter": "python",
   "pygments_lexer": "ipython3",
   "version": "3.8.5"
  }
 },
 "nbformat": 4,
 "nbformat_minor": 4
}
