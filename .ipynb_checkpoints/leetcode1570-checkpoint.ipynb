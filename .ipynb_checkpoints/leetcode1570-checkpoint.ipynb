{
 "cells": [
  {
   "cell_type": "markdown",
   "metadata": {},
   "source": [
    "https://leetcode.com/problems/dot-product-of-two-sparse-vectors/solution/"
   ]
  },
  {
   "cell_type": "code",
   "execution_count": 2,
   "metadata": {},
   "outputs": [],
   "source": [
    "# T： init O(n) dotProduct O(L), S: init O(L) dotProduct O(1), where n is the length of input array, L is number of non-zeros elements\n",
    "from typing import List\n",
    "class SparseVector:\n",
    "    def __init__(self, nums: List[int]):\n",
    "        self.hashtable = {}\n",
    "        for i, val in enumerate(nums):\n",
    "            if val != 0:\n",
    "                self.hashtable[i] = val\n",
    "\n",
    "    # Return the dotProduct of two sparse vectors\n",
    "    def dotProduct(self, vec: 'SparseVector') -> int:\n",
    "        ans = 0\n",
    "        for i in self.hashtable:\n",
    "            if i in vec.hashtable:\n",
    "                ans += self.hashtable[i] * vec.hashtable[i]\n",
    "                \n",
    "        return ans\n",
    "\n",
    "# Your SparseVector object will be instantiated and called as such:\n",
    "# v1 = SparseVector(nums1)\n",
    "# v2 = SparseVector(nums2)\n",
    "# ans = v1.dotProduct(v2)"
   ]
  },
  {
   "cell_type": "code",
   "execution_count": 5,
   "metadata": {},
   "outputs": [
    {
     "name": "stdout",
     "output_type": "stream",
     "text": [
      "a 1\n",
      "b 2\n",
      "c 3\n"
     ]
    }
   ],
   "source": [
    "d= {'a':1,'b':2,'c':3}\n",
    "\n",
    "for i,v in d.items():\n",
    "    print(i, v)"
   ]
  },
  {
   "cell_type": "code",
   "execution_count": 7,
   "metadata": {},
   "outputs": [
    {
     "data": {
      "text/plain": [
       "\u001b[1;31mDocstring:\u001b[0m D.items() -> a set-like object providing a view on D's items\n",
       "\u001b[1;31mType:\u001b[0m      builtin_function_or_method\n"
      ]
     },
     "metadata": {},
     "output_type": "display_data"
    }
   ],
   "source": [
    "d.items?"
   ]
  }
 ],
 "metadata": {
  "kernelspec": {
   "display_name": "Python 3",
   "language": "python",
   "name": "python3"
  },
  "language_info": {
   "codemirror_mode": {
    "name": "ipython",
    "version": 3
   },
   "file_extension": ".py",
   "mimetype": "text/x-python",
   "name": "python",
   "nbconvert_exporter": "python",
   "pygments_lexer": "ipython3",
   "version": "3.8.5"
  }
 },
 "nbformat": 4,
 "nbformat_minor": 4
}
