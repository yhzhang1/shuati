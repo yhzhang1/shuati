{
 "cells": [
  {
   "cell_type": "code",
   "execution_count": 4,
   "metadata": {},
   "outputs": [],
   "source": [
    "# T: O(log(x)), S: O(1)\n",
    "class Solution:\n",
    "    def reverse(self, x: int) -> int:\n",
    "        INT_MIN,INT_MAX=-2**31,2**31-1\n",
    "        sign=1 if x > 0 else -1\n",
    "        rev=0\n",
    "        x=abs(x)\n",
    "        while x:\n",
    "            rev = rev*10 + x%10\n",
    "            x //= 10\n",
    "            if rev < INT_MIN or rev > INT_MAX:  return 0\n",
    "\n",
    "        return sign*rev"
   ]
  },
  {
   "cell_type": "code",
   "execution_count": 2,
   "metadata": {},
   "outputs": [],
   "source": [
    "class Solution:\n",
    "    def reverse(self, x: int) -> int:\n",
    "        ans = 0\n",
    "        negative = x < 0\n",
    "        x = abs(x)\n",
    "        while x:\n",
    "            digit = x % 10\n",
    "            ans = 10*ans + digit\n",
    "            x //= 10\n",
    "            \n",
    "        ans = -ans if negative else ans\n",
    "\n",
    "        return ans if (-2**31 <= ans <= 2**31-1) else 0"
   ]
  },
  {
   "cell_type": "code",
   "execution_count": 3,
   "metadata": {},
   "outputs": [],
   "source": [
    "while 0:\n",
    "\tprint('a')"
   ]
  },
  {
   "cell_type": "code",
   "execution_count": null,
   "metadata": {},
   "outputs": [],
   "source": []
  }
 ],
 "metadata": {
  "kernelspec": {
   "display_name": "Python 3 (ipykernel)",
   "language": "python",
   "name": "python3"
  },
  "language_info": {
   "codemirror_mode": {
    "name": "ipython",
    "version": 3
   },
   "file_extension": ".py",
   "mimetype": "text/x-python",
   "name": "python",
   "nbconvert_exporter": "python",
   "pygments_lexer": "ipython3",
   "version": "3.8.5"
  }
 },
 "nbformat": 4,
 "nbformat_minor": 4
}
