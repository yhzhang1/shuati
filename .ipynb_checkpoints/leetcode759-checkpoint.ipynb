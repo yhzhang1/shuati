{
 "cells": [
  {
   "cell_type": "markdown",
   "id": "f7a2da10-e77c-41ae-825d-0fa46e33c49c",
   "metadata": {},
   "source": [
    "https://leetcode.com/problems/employee-free-time/solutions/1086138/simple-python-7-liner-n-log-k-beats-98-with-explanation/"
   ]
  },
  {
   "cell_type": "code",
   "execution_count": null,
   "id": "331bc398-ddc8-4ce3-8075-d8b3f0c24c28",
   "metadata": {},
   "outputs": [],
   "source": [
    "# T: O(nlogk), S: O(k), where n is number of intervals, k is number of employees\n",
    "\"\"\"\n",
    "# Definition for an Interval.\n",
    "class Interval:\n",
    "    def __init__(self, start: int = None, end: int = None):\n",
    "        self.start = start\n",
    "        self.end = end\n",
    "\"\"\"\n",
    "\n",
    "class Solution:\n",
    "    def employeeFreeTime(self, schedule: '[[Interval]]') -> '[Interval]':\n",
    "        heap = []\n",
    "        for i, employee in enumerate(schedule):\n",
    "            heapq.heappush(heap, (employee[0].start, i, 0))\n",
    "        ans = []\n",
    "        _, i, j = heap[0]\n",
    "        prevEnd = schedule[i][j].end\n",
    "        while heap:\n",
    "            _, i, j = heapq.heappop(heap)\n",
    "            if j+1 < len(schedule[i]):\n",
    "                heapq.heappush(heap, (schedule[i][j+1].start, i, j+1))\n",
    "            event = schedule[i][j]\n",
    "            if event.start > prevEnd:\n",
    "                ans.append(Interval(prevEnd, event.start))\n",
    "            prevEnd = max(prevEnd, event.end)\n",
    "        return ans"
   ]
  }
 ],
 "metadata": {
  "kernelspec": {
   "display_name": "Python 3 (ipykernel)",
   "language": "python",
   "name": "python3"
  },
  "language_info": {
   "codemirror_mode": {
    "name": "ipython",
    "version": 3
   },
   "file_extension": ".py",
   "mimetype": "text/x-python",
   "name": "python",
   "nbconvert_exporter": "python",
   "pygments_lexer": "ipython3",
   "version": "3.8.5"
  }
 },
 "nbformat": 4,
 "nbformat_minor": 5
}
