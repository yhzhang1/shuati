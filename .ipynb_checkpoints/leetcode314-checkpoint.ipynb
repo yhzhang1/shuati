{
 "cells": [
  {
   "cell_type": "markdown",
   "metadata": {},
   "source": [
    "https://leetcode.com/problems/binary-tree-vertical-order-traversal/solution/"
   ]
  },
  {
   "cell_type": "code",
   "execution_count": null,
   "metadata": {},
   "outputs": [],
   "source": [
    "# T: O(N), S: O(N)\n",
    "# Definition for a binary tree node.\n",
    "# class TreeNode:\n",
    "#     def __init__(self, val=0, left=None, right=None):\n",
    "#         self.val = val\n",
    "#         self.left = left\n",
    "#         self.right = right\n",
    "class Solution:\n",
    "    def verticalOrder(self, root: Optional[TreeNode]) -> List[List[int]]:\n",
    "        if not root:\n",
    "            return []\n",
    "        hashtable = defaultdict(list)\n",
    "        minCol = maxCol = 0\n",
    "        q = deque([(root, 0)])\n",
    "        \n",
    "        while q:\n",
    "            node, col = q.pop()\n",
    "            if node:\n",
    "                hashtable[col].append(node.val)\n",
    "                minCol = min(minCol, col)\n",
    "                maxCol = max(maxCol, col)\n",
    "                q.appendleft((node.left, col-1))\n",
    "                q.appendleft((node.right, col+1))\n",
    "                \n",
    "        return [hashtable[x] for x in range(minCol, maxCol+1)]"
   ]
  },
  {
   "cell_type": "code",
   "execution_count": null,
   "metadata": {},
   "outputs": [],
   "source": [
    "# T: O(NlogN), S: O(N)\n",
    "# Definition for a binary tree node.\n",
    "# class TreeNode:\n",
    "#     def __init__(self, val=0, left=None, right=None):\n",
    "#         self.val = val\n",
    "#         self.left = left\n",
    "#         self.right = right\n",
    "class Solution:\n",
    "    def verticalOrder(self, root: Optional[TreeNode]) -> List[List[int]]:\n",
    "        hashtable = defaultdict(list)\n",
    "        q = deque([(root, 0)])\n",
    "        \n",
    "        while q:\n",
    "            node, col = q.pop()\n",
    "            if node:\n",
    "                hashtable[col].append(node.val)\n",
    "                q.appendleft((node.left, col-1))\n",
    "                q.appendleft((node.right, col+1))\n",
    "                \n",
    "        return [hashtable[key] for key in sorted(hashtable.keys())]"
   ]
  },
  {
   "cell_type": "code",
   "execution_count": null,
   "metadata": {},
   "outputs": [],
   "source": [
    "# Definition for a binary tree node.\n",
    "# class TreeNode:\n",
    "#     def __init__(self, val=0, left=None, right=None):\n",
    "#         self.val = val\n",
    "#         self.left = left\n",
    "#         self.right = right\n",
    "class Solution:\n",
    "    def verticalOrder(self, root: Optional[TreeNode]) -> List[List[int]]:\n",
    "        if not root:    return []\n",
    "        q = deque([(root, 0)])\n",
    "        hashtable = {}\n",
    "        \n",
    "        while q:\n",
    "            node, col = q.pop()\n",
    "            if col in hashtable:\n",
    "                hashtable[col].append(node.val)\n",
    "            else:\n",
    "                hashtable[col] = [node.val]\n",
    "            if node.left:\n",
    "                q.appendleft((node.left, col-1))\n",
    "            if node.right:\n",
    "                q.appendleft((node.right, col+1))\n",
    "            \n",
    "        ans = []\n",
    "        for key in sorted(hashtable.keys()):\n",
    "            ans.append(hashtable[key])\n",
    "        return ans\n",
    "                "
   ]
  },
  {
   "cell_type": "code",
   "execution_count": null,
   "metadata": {},
   "outputs": [],
   "source": [
    "from typing import Optional, List\n",
    "# Definition for a binary tree node.\n",
    "class TreeNode:\n",
    "    def __init__(self, val=0, left=None, right=None):\n",
    "        self.val = val\n",
    "        self.left = left\n",
    "        self.right = right\n",
    "class Solution:\n",
    "    def verticalOrder(self, root: Optional[TreeNode]) -> List[List[int]]:\n",
    "        if not root:    return []\n",
    "        queue = deque([(root, 0)])\n",
    "        hashtable = {}\n",
    "        \n",
    "        while queue:\n",
    "            for _ in range(len(queue)):\n",
    "                node, col = queue.pop()\n",
    "                if col in hashtable:\n",
    "                    hashtable[col].append(node.val)\n",
    "                else:\n",
    "                    hashtable[col] = [node.val]\n",
    "                if node.left:\n",
    "                    queue.appendleft((node.left, col-1))\n",
    "                if node.right:\n",
    "                    queue.appendleft((node.right, col+1))\n",
    "            \n",
    "        ans = []\n",
    "        for key in sorted(hashtable.keys()):\n",
    "            ans.append(hashtable[key])\n",
    "        return ans\n",
    "                "
   ]
  },
  {
   "cell_type": "code",
   "execution_count": null,
   "metadata": {},
   "outputs": [],
   "source": []
  }
 ],
 "metadata": {
  "kernelspec": {
   "display_name": "Python 3",
   "language": "python",
   "name": "python3"
  },
  "language_info": {
   "codemirror_mode": {
    "name": "ipython",
    "version": 3
   },
   "file_extension": ".py",
   "mimetype": "text/x-python",
   "name": "python",
   "nbconvert_exporter": "python",
   "pygments_lexer": "ipython3",
   "version": "3.8.5"
  }
 },
 "nbformat": 4,
 "nbformat_minor": 4
}
