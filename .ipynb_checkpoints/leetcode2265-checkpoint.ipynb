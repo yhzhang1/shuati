{
 "cells": [
  {
   "cell_type": "markdown",
   "id": "3cae6837-e80d-492e-96bb-00f3bf7686c9",
   "metadata": {},
   "source": [
    "https://leetcode.com/problems/count-nodes-equal-to-average-of-subtree/editorial/"
   ]
  },
  {
   "cell_type": "code",
   "execution_count": 6,
   "id": "287eca2c-ff29-4c23-ba16-54c6357b3ba4",
   "metadata": {},
   "outputs": [],
   "source": [
    "# T: O(n), S: O(n)\n",
    "# Definition for a binary tree node.\n",
    "class TreeNode:\n",
    "    def __init__(self, val=0, left=None, right=None):\n",
    "        self.val = val\n",
    "        self.left = left\n",
    "        self.right = right\n",
    "from typing import Optional\n",
    "class Solution:\n",
    "    def averageOfSubtree(self, root: Optional[TreeNode]) -> int:\n",
    "        def dfs(root):\n",
    "            if not root:\n",
    "                return (0,0)\n",
    "\n",
    "            left = dfs(root.left)\n",
    "            right = dfs(root.right)\n",
    "            sum_ = left[0] + root.val + right[0]\n",
    "            n = left[1] + 1 + right[1]\n",
    "            if root.val == sum_ // n:\n",
    "                self.ans += 1\n",
    "            return sum_,n\n",
    "\n",
    "        self.ans = 0\n",
    "        dfs(root)\n",
    "        return self.ans\n",
    "            "
   ]
  }
 ],
 "metadata": {
  "kernelspec": {
   "display_name": "Python 3 (ipykernel)",
   "language": "python",
   "name": "python3"
  },
  "language_info": {
   "codemirror_mode": {
    "name": "ipython",
    "version": 3
   },
   "file_extension": ".py",
   "mimetype": "text/x-python",
   "name": "python",
   "nbconvert_exporter": "python",
   "pygments_lexer": "ipython3",
   "version": "3.8.5"
  }
 },
 "nbformat": 4,
 "nbformat_minor": 5
}
