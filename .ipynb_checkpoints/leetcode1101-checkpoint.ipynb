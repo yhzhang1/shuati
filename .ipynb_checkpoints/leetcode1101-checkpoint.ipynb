{
 "cells": [
  {
   "cell_type": "markdown",
   "id": "52bcfcbc-4b95-4a11-bd5d-bc87da5912f1",
   "metadata": {},
   "source": [
    "https://www.youtube.com/watch?v=WR8kZL4rjnQ"
   ]
  },
  {
   "cell_type": "code",
   "execution_count": 3,
   "id": "3f063f5f-2738-4346-bfdb-09ce812328d7",
   "metadata": {},
   "outputs": [],
   "source": [
    "# T: O(mlogm + m*n), S: O(m)\n",
    "from typing import List\n",
    "class Solution:\n",
    "    def earliestAcq(self, logs: List[List[int]], n: int) -> int:\n",
    "        logs = sorted(logs)\n",
    "        graph = collections.defaultdict(set)\n",
    "        for log in logs:\n",
    "            t, p1, p2 = log\n",
    "            graph[p1].add(p2)\n",
    "            graph[p2].add(p1)\n",
    "            graph[p1] = graph[p1].union(graph[p2])\n",
    "            for p3 in graph[p1]:\n",
    "                graph[p3] = graph[p1]\n",
    "\n",
    "            if len(graph[p1]) == n:\n",
    "                return t\n",
    "        return -1"
   ]
  },
  {
   "cell_type": "code",
   "execution_count": null,
   "id": "d5b26182-a980-4f3a-91ed-7fa426acea22",
   "metadata": {},
   "outputs": [],
   "source": []
  }
 ],
 "metadata": {
  "kernelspec": {
   "display_name": "Python 3 (ipykernel)",
   "language": "python",
   "name": "python3"
  },
  "language_info": {
   "codemirror_mode": {
    "name": "ipython",
    "version": 3
   },
   "file_extension": ".py",
   "mimetype": "text/x-python",
   "name": "python",
   "nbconvert_exporter": "python",
   "pygments_lexer": "ipython3",
   "version": "3.8.5"
  }
 },
 "nbformat": 4,
 "nbformat_minor": 5
}
