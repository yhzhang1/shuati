{
 "cells": [
  {
   "cell_type": "code",
   "execution_count": 3,
   "metadata": {},
   "outputs": [],
   "source": [
    "# T:O(nlogn + n!), S:O(n*n!)\n",
    "from typing import List\n",
    "class Solution:\n",
    "    def permuteUnique(self, nums: List[int]) -> List[List[int]]:\n",
    "        def dfs(nums):\n",
    "            if len(nums) == 1:  return [nums]\n",
    "\n",
    "            ans = []\n",
    "            for i in range(len(nums)):\n",
    "                if i > 0 and nums[i] == nums[i-1]:  continue\n",
    "                for per in dfs(nums[:i] + nums[i+1:]):\n",
    "                    ans.append([nums[i]]+per)\n",
    "\n",
    "            return ans\n",
    "\n",
    "        nums.sort()\n",
    "        return dfs(nums)"
   ]
  },
  {
   "cell_type": "code",
   "execution_count": 2,
   "metadata": {},
   "outputs": [],
   "source": [
    "class Solution:\n",
    "    def permuteUnique(self, nums: List[int]) -> List[List[int]]:\n",
    "        if len(nums) == 1:\n",
    "            return [nums]\n",
    "        \n",
    "        ans = []\n",
    "        nums.sort()\n",
    "        for i, num in enumerate(nums):\n",
    "            if i > 0 and nums[i] == nums[i-1]:  continue\n",
    "            rest = nums[:i] + nums[i+1:]\n",
    "            for per in self.permuteUnique(rest):\n",
    "                ans.append([num]+per)\n",
    "                \n",
    "        return ans"
   ]
  },
  {
   "cell_type": "code",
   "execution_count": 3,
   "metadata": {},
   "outputs": [],
   "source": [
    "from typing import List\n",
    "class Solution:\n",
    "    def permuteUnique(self, nums: List[int]) -> List[List[int]]:\n",
    "        if len(nums) == 1:\n",
    "            return [nums]\n",
    "        \n",
    "        ans = list()\n",
    "        visited = set()\n",
    "        \n",
    "        for i, v in enumerate(nums):\n",
    "            if v not in visited:\n",
    "                visited.add(v)\n",
    "                for per in self.permuteUnique(nums[:i]+nums[i+1:]):\n",
    "                    ans.append([v] + per)\n",
    "            \n",
    "            \n",
    "        return ans"
   ]
  },
  {
   "cell_type": "code",
   "execution_count": null,
   "metadata": {},
   "outputs": [],
   "source": []
  }
 ],
 "metadata": {
  "kernelspec": {
   "display_name": "Python 3 (ipykernel)",
   "language": "python",
   "name": "python3"
  },
  "language_info": {
   "codemirror_mode": {
    "name": "ipython",
    "version": 3
   },
   "file_extension": ".py",
   "mimetype": "text/x-python",
   "name": "python",
   "nbconvert_exporter": "python",
   "pygments_lexer": "ipython3",
   "version": "3.8.5"
  }
 },
 "nbformat": 4,
 "nbformat_minor": 4
}
