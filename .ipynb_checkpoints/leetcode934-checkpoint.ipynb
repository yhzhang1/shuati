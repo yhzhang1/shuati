{
 "cells": [
  {
   "cell_type": "markdown",
   "id": "496091a7-f34e-4e2f-baa7-5cc7218ef5ee",
   "metadata": {},
   "source": [
    "https://www.youtube.com/watch?v=JU-g1mNUaSE"
   ]
  },
  {
   "cell_type": "code",
   "execution_count": 2,
   "id": "f5ac9aaa-5fdf-4245-8a5b-9aaf6d6ba99c",
   "metadata": {},
   "outputs": [],
   "source": [
    "# T: O(mn), S: O(mn)\n",
    "from typing import List\n",
    "class Solution:\n",
    "    def shortestBridge(self, grid: List[List[int]]) -> int:\n",
    "        def dfs(x,y):\n",
    "            if not 0 <= y < m or not 0 <= x < n or grid[y][x] != 1:\n",
    "                return\n",
    "\n",
    "            grid[y][x] = 2\n",
    "            queue.append((x,y))\n",
    "            dfs(x-1,y)\n",
    "            dfs(x+1,y)\n",
    "            dfs(x,y-1)\n",
    "            dfs(x,y+1) \n",
    "            \n",
    "        m = len(grid)\n",
    "        n = len(grid[0]) if grid else 0\n",
    "        queue = deque()\n",
    "        found = False\n",
    "        for i in range(m):\n",
    "            for j in range(n):\n",
    "                if grid[i][j] and not found:\n",
    "                    dfs(j,i)\n",
    "                    found = True\n",
    "        \n",
    "        steps = 0\n",
    "        dirs = [0,1,0,-1,0]\n",
    "        while queue:\n",
    "            for _ in range(len(queue)):\n",
    "                x,y = queue.popleft()\n",
    "                for k in range(4):\n",
    "                    tx = x + dirs[k]\n",
    "                    ty = y + dirs[k+1]\n",
    "                    if not 0 <= ty < m or not 0 <= tx < n or grid[ty][tx] == 2:\n",
    "                        continue\n",
    "                    elif grid[ty][tx] == 1:\n",
    "                        return steps\n",
    "                    grid[ty][tx] = 2\n",
    "                    queue.append((tx,ty))\n",
    "            steps += 1\n",
    "        return -1\n",
    "\n",
    "        "
   ]
  }
 ],
 "metadata": {
  "kernelspec": {
   "display_name": "Python 3 (ipykernel)",
   "language": "python",
   "name": "python3"
  },
  "language_info": {
   "codemirror_mode": {
    "name": "ipython",
    "version": 3
   },
   "file_extension": ".py",
   "mimetype": "text/x-python",
   "name": "python",
   "nbconvert_exporter": "python",
   "pygments_lexer": "ipython3",
   "version": "3.8.5"
  }
 },
 "nbformat": 4,
 "nbformat_minor": 5
}
