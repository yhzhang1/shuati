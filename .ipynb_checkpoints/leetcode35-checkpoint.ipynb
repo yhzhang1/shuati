{
 "cells": [
  {
   "cell_type": "markdown",
   "metadata": {},
   "source": [
    "# Binary Search O(logn)"
   ]
  },
  {
   "cell_type": "markdown",
   "metadata": {},
   "source": [
    "# best approach"
   ]
  },
  {
   "cell_type": "code",
   "execution_count": 1,
   "metadata": {},
   "outputs": [],
   "source": [
    "# T:O(logn), S:O(1)\n",
    "from typing import List\n",
    "class Solution:\n",
    "    def searchInsert(self, nums: List[int], target: int) -> int:\n",
    "        l, r = 0, len(nums)-1\n",
    "        while l <= r:\n",
    "            mid = (l + r) // 2\n",
    "            if nums[mid] == target :\n",
    "                return mid\n",
    "            elif nums[mid] < target:\n",
    "                l = mid+1\n",
    "            else:\n",
    "                r = mid-1\n",
    "                \n",
    "        return l"
   ]
  },
  {
   "cell_type": "code",
   "execution_count": 3,
   "metadata": {},
   "outputs": [],
   "source": [
    "from typing import List\n",
    "class Solution:\n",
    "    def searchInsert(self, nums: List[int], target: int) -> int:\n",
    "        if target > nums[-1]:\n",
    "            return len(nums)\n",
    "        \n",
    "        lo, hi = 0, len(nums) - 1\n",
    "        \n",
    "        while lo+1 < hi:\n",
    "\n",
    "            mid = (lo+hi) // 2\n",
    "\n",
    "            if nums[mid] < target:\n",
    "                lo = mid\n",
    "            else:\n",
    "                hi = mid\n",
    "                \n",
    "\n",
    "        \n",
    "        \n",
    "        if target < nums[lo]:\n",
    "            idx = lo\n",
    "        elif target > nums[hi]:\n",
    "            idx = hi+1\n",
    "        else:\n",
    "            if target == nums[lo]:\n",
    "                idx = lo\n",
    "            else:\n",
    "                idx = hi\n",
    "                \n",
    "        return idx\n",
    "            \n",
    "\n",
    "            \n"
   ]
  }
 ],
 "metadata": {
  "kernelspec": {
   "display_name": "Python 3 (ipykernel)",
   "language": "python",
   "name": "python3"
  },
  "language_info": {
   "codemirror_mode": {
    "name": "ipython",
    "version": 3
   },
   "file_extension": ".py",
   "mimetype": "text/x-python",
   "name": "python",
   "nbconvert_exporter": "python",
   "pygments_lexer": "ipython3",
   "version": "3.8.5"
  }
 },
 "nbformat": 4,
 "nbformat_minor": 4
}
