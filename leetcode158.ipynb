{
 "cells": [
  {
   "cell_type": "markdown",
   "metadata": {},
   "source": [
    "https://www.youtube.com/watch?v=w3ke3MQTEJ8&t=110s"
   ]
  },
  {
   "cell_type": "code",
   "execution_count": 1,
   "metadata": {},
   "outputs": [],
   "source": [
    "# T: O(n), S: O(1)\n",
    "from typing import List\n",
    "# The read4 API is already defined for you.\n",
    "# def read4(buf4: List[str]) -> int:\n",
    "\n",
    "class Solution:\n",
    "    def __init__(self):\n",
    "        self.pointer = 0 # pointing to next to read char in tmp\n",
    "        self.len = 0\n",
    "        self.tmp = [''] * 4\n",
    "    def read(self, buf: List[str], n: int) -> int:\n",
    "        index = 0\n",
    "        while index < n:\n",
    "            if self.pointer == 0:\n",
    "                self.len = read4(self.tmp)\n",
    "            if self.len == 0:\n",
    "                break\n",
    "            while index < n and self.pointer < self.len:\n",
    "                buf[index] = self.tmp[self.pointer]\n",
    "                index += 1\n",
    "                self.pointer += 1\n",
    "            if self.pointer >= self.len:\n",
    "                self.pointer = 0\n",
    "                \n",
    "        return index"
   ]
  },
  {
   "cell_type": "code",
   "execution_count": 1,
   "metadata": {},
   "outputs": [
    {
     "data": {
      "text/plain": [
       "[' ', ' ', ' ', ' ']"
      ]
     },
     "execution_count": 1,
     "metadata": {},
     "output_type": "execute_result"
    }
   ],
   "source": [
    "[' '] *4"
   ]
  },
  {
   "cell_type": "code",
   "execution_count": 3,
   "metadata": {},
   "outputs": [
    {
     "data": {
      "text/plain": [
       "[' ', ' ', ' ', ' ']"
      ]
     },
     "execution_count": 3,
     "metadata": {},
     "output_type": "execute_result"
    }
   ],
   "source": [
    "[' ' for _ in range(4)]"
   ]
  },
  {
   "cell_type": "code",
   "execution_count": null,
   "metadata": {},
   "outputs": [],
   "source": []
  }
 ],
 "metadata": {
  "kernelspec": {
   "display_name": "Python 3",
   "language": "python",
   "name": "python3"
  },
  "language_info": {
   "codemirror_mode": {
    "name": "ipython",
    "version": 3
   },
   "file_extension": ".py",
   "mimetype": "text/x-python",
   "name": "python",
   "nbconvert_exporter": "python",
   "pygments_lexer": "ipython3",
   "version": "3.8.5"
  }
 },
 "nbformat": 4,
 "nbformat_minor": 4
}
