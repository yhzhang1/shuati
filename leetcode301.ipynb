{
 "cells": [
  {
   "cell_type": "markdown",
   "metadata": {},
   "source": [
    "https://www.bilibili.com/video/BV1Ct411F7am?from=search&seid=8384852795744314722&spm_id_from=333.337.0.0"
   ]
  },
  {
   "cell_type": "code",
   "execution_count": 3,
   "metadata": {},
   "outputs": [],
   "source": [
    "# T: O(2^N), S: O(N)\n",
    "from typing import List\n",
    "class Solution:\n",
    "    def removeInvalidParentheses(self, s: str) -> List[str]:\n",
    "        def dfs(idx, l, r, dl, dr, cur):\n",
    "            '''\n",
    "            l： 保留的左括号数量\n",
    "            r： 保留的右括号数量\n",
    "            dl: 可以删除的左括号数量\n",
    "            dr：可以删除的右括号数量\n",
    "            '''\n",
    "            nonlocal ans\n",
    "            if idx == n:\n",
    "                ans.add(cur)\n",
    "                return\n",
    "            \n",
    "            if s[idx] == '(':\n",
    "                if dl:  dfs(idx+1, l, r, dl-1, dr, cur) # 删除左括号\n",
    "                if l < m:   dfs(idx+1, l+1, r, dl, dr, cur+'(') # 保留左括号\n",
    "            elif s[idx] == ')':\n",
    "                if dr:  dfs(idx+1, l, r, dl, dr-1, cur) # 删除右括号\n",
    "                if l > r:   dfs(idx+1, l, r+1, dl, dr, cur+')') # 保留右括号\n",
    "            else:\n",
    "                # 是字母\n",
    "                dfs(idx+1, l, r, dl, dr, cur+s[idx])\n",
    "                \n",
    "        ans = set()\n",
    "        n = len(s)\n",
    "        m = 0\n",
    "        dl = dr = 0 # 可以删的左括号和右括号数量\n",
    "        for c in s:\n",
    "            if c == '(':\n",
    "                dl += 1\n",
    "            elif c == ')':\n",
    "                if dl:  \n",
    "                    dl -= 1\n",
    "                    m += 1\n",
    "                else:   dr += 1\n",
    "        dfs(0, 0, 0, dl, dr, '')\n",
    "        ansList = []\n",
    "        for an in ans:\n",
    "            ansList += [an]\n",
    "        return ansList"
   ]
  },
  {
   "cell_type": "code",
   "execution_count": null,
   "metadata": {},
   "outputs": [],
   "source": []
  }
 ],
 "metadata": {
  "kernelspec": {
   "display_name": "Python 3",
   "language": "python",
   "name": "python3"
  },
  "language_info": {
   "codemirror_mode": {
    "name": "ipython",
    "version": 3
   },
   "file_extension": ".py",
   "mimetype": "text/x-python",
   "name": "python",
   "nbconvert_exporter": "python",
   "pygments_lexer": "ipython3",
   "version": "3.8.5"
  }
 },
 "nbformat": 4,
 "nbformat_minor": 4
}
