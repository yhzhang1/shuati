{
 "cells": [
  {
   "cell_type": "code",
   "execution_count": 4,
   "metadata": {},
   "outputs": [],
   "source": [
    "# Definition for singly-linked list.\n",
    "class ListNode:\n",
    "    def __init__(self, val=0, next=None):\n",
    "        self.val = val\n",
    "        self.next = next\n",
    "class Solution:\n",
    "    def reorderList(self, head: ListNode) -> None:\n",
    "        \"\"\"\n",
    "        Do not return anything, modify head in-place instead.\n",
    "        \"\"\"\n",
    "        def reorder(head, curr) -> ListNode:\n",
    "            if not curr:\n",
    "                return head\n",
    "            head = reorder(head, curr.next)\n",
    "            \n",
    "            if not head:\n",
    "                return None\n",
    "            newHead = None\n",
    "            # odd list length or even list length\n",
    "            if head == curr or head.next == curr:\n",
    "                curr.next = None\n",
    "            else:\n",
    "                newHead = head.next\n",
    "                head.next = curr\n",
    "                curr.next = newHead\n",
    "            \n",
    "            return newHead\n",
    "        if not head:\n",
    "            return\n",
    "        reorder(head, head.next)"
   ]
  }
 ],
 "metadata": {
  "kernelspec": {
   "display_name": "Python 3",
   "language": "python",
   "name": "python3"
  },
  "language_info": {
   "codemirror_mode": {
    "name": "ipython",
    "version": 3
   },
   "file_extension": ".py",
   "mimetype": "text/x-python",
   "name": "python",
   "nbconvert_exporter": "python",
   "pygments_lexer": "ipython3",
   "version": "3.7.6"
  }
 },
 "nbformat": 4,
 "nbformat_minor": 4
}
