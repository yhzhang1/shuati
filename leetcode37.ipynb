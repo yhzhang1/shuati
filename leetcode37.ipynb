{
 "cells": [
  {
   "cell_type": "markdown",
   "id": "b6394030-052b-4833-943a-7acdea55fa70",
   "metadata": {},
   "source": [
    "https://www.youtube.com/watch?v=ucugbKwjtRs"
   ]
  },
  {
   "cell_type": "code",
   "execution_count": 4,
   "id": "5b07e635-1bf9-4383-ae02-3b79adf138f8",
   "metadata": {},
   "outputs": [],
   "source": [
    "# T: O(9^n), S: O(n^(0.5) + n)\n",
    "from typing import List\n",
    "class Solution:\n",
    "    def __init__(self):\n",
    "        self.rows_ = [[False]*10 for _ in range(9)]\n",
    "        self.cols_ = [[False]*10 for _ in range(9)]\n",
    "        self.boxes_ = [[False]*10 for _ in range(9)]\n",
    "        \n",
    "    def solveSudoku(self, board: List[List[str]]) -> None:\n",
    "        \"\"\"\n",
    "        Do not return anything, modify board in-place instead.\n",
    "        \"\"\"\n",
    "        for i in range(9):\n",
    "            for j in range(9):\n",
    "                c = board[i][j]\n",
    "                if c != '.':\n",
    "                    n = ord(c) - ord('0')\n",
    "                    bx = j // 3\n",
    "                    by = i // 3\n",
    "                    self.rows_[i][n] = True\n",
    "                    self.cols_[j][n] = True\n",
    "                    self.boxes_[3*by+bx][n] = True\n",
    "                    \n",
    "        self.fill(board, 0, 0)\n",
    "    \n",
    "    def fill(self, board, x, y) -> bool:\n",
    "        if y == 9:\n",
    "            return True\n",
    "        \n",
    "        nx = (x + 1) % 9\n",
    "        ny = y + 1 if nx == 0 else y\n",
    "        \n",
    "        if board[y][x] != '.':\n",
    "            return self.fill(board, nx, ny)\n",
    "            \n",
    "        bx = x // 3\n",
    "        by = y // 3\n",
    "        boxIdx = 3*by + bx\n",
    "        for i in range(1,10):\n",
    "            if not self.rows_[y][i] and not self.cols_[x][i] and not self.boxes_[boxIdx][i]:\n",
    "                self.rows_[y][i] = True\n",
    "                self.cols_[x][i] = True\n",
    "                self.boxes_[boxIdx][i] = True\n",
    "                board[y][x] = str(i)\n",
    "                if self.fill(board, nx, ny):\n",
    "                    return True\n",
    "                self.rows_[y][i] = False\n",
    "                self.cols_[x][i] = False\n",
    "                self.boxes_[boxIdx][i] = False\n",
    "                board[y][x] = '.'\n",
    "                \n",
    "        return False\n",
    "        "
   ]
  },
  {
   "cell_type": "code",
   "execution_count": 1,
   "id": "9f916dbe-0396-4841-a464-2b6f8118d4d4",
   "metadata": {},
   "outputs": [
    {
     "data": {
      "text/plain": [
       "[{}, {}, {}, {}, {}, {}, {}, {}, {}]"
      ]
     },
     "execution_count": 1,
     "metadata": {},
     "output_type": "execute_result"
    }
   ],
   "source": [
    " [{} for _ in range(9)]"
   ]
  }
 ],
 "metadata": {
  "kernelspec": {
   "display_name": "Python 3 (ipykernel)",
   "language": "python",
   "name": "python3"
  },
  "language_info": {
   "codemirror_mode": {
    "name": "ipython",
    "version": 3
   },
   "file_extension": ".py",
   "mimetype": "text/x-python",
   "name": "python",
   "nbconvert_exporter": "python",
   "pygments_lexer": "ipython3",
   "version": "3.8.5"
  }
 },
 "nbformat": 4,
 "nbformat_minor": 5
}
