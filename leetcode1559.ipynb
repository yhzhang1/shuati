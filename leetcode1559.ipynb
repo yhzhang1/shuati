{
 "cells": [
  {
   "cell_type": "markdown",
   "metadata": {},
   "source": [
    "https://leetcode.com/problems/detect-cycles-in-2d-grid/discuss/824523/Java-Backtracking-(Explanation)\n",
    "\n",
    "https://leetcode.com/problems/detect-cycles-in-2d-grid/discuss/806236/Python-Simple-DFS\n",
    "\n",
    "https://leetcode.com/problems/detect-cycles-in-2d-grid/discuss/805677/DFS-or-Simple-Explanation"
   ]
  },
  {
   "cell_type": "code",
   "execution_count": 5,
   "metadata": {},
   "outputs": [],
   "source": [
    "# T: O(mn) S: O(mn)\n",
    "from typing import List\n",
    "class Solution:\n",
    "    def containsCycle(self, grid: List[List[str]]) -> bool:\n",
    "        def dfs(x, y, target) -> bool:\n",
    "            if x < 0 or x >= ncols or y < 0 or y >= nrows or grid[y][x] != target:  return False\n",
    "            if visited[y][x]:   return True\n",
    "            \n",
    "            visited[y][x] = True\n",
    "            grid[y][x] = '#'\n",
    "            found = dfs(x-1, y, target) or dfs(x+1, y, target) or dfs(x, y-1, target) or dfs(x, y+1, target)\n",
    "            grid[y][x] = target\n",
    "            return found\n",
    "        \n",
    "        nrows, ncols = len(grid), len(grid[0])\n",
    "        visited = [[False]*ncols for _ in range(nrows)]\n",
    "        \n",
    "        for y in range(nrows):\n",
    "            for x in range(ncols):\n",
    "                if not visited[y][x] and dfs(x, y, grid[y][x]):\n",
    "                    return True\n",
    "                \n",
    "        return False"
   ]
  },
  {
   "cell_type": "code",
   "execution_count": 4,
   "metadata": {},
   "outputs": [],
   "source": [
    "# T: O(mn) S: O(mn)\n",
    "class Solution:\n",
    "    def containsCycle(self, grid: List[List[str]]) -> bool:\n",
    "        def dfs(node, parent):\n",
    "            x, y = node\n",
    "            if visited[y][x]:   return True\n",
    "            visited[y][x] = True\n",
    "            childs = [(nx,ny) for nx,ny in ((x+1,y),(x-1,y),(x,y+1),(x,y-1))\n",
    "                        if 0 <= nx < n and 0 <= ny < m and grid[ny][nx] == grid[y][x]\n",
    "                        and (nx,ny) != parent]\n",
    "            for c in childs:\n",
    "                if dfs(c, node):    return True\n",
    "                \n",
    "            return False\n",
    "        \n",
    "        m, n = len(grid), len(grid[0])\n",
    "        visited = [[False]*n for _ in range(m)]\n",
    "        for y in range(m):\n",
    "            for x in range(n):\n",
    "                if visited[y][x]:    continue\n",
    "                if dfs((x,y), None):    return True\n",
    "                \n",
    "        return False\n",
    "                "
   ]
  },
  {
   "cell_type": "code",
   "execution_count": 5,
   "metadata": {},
   "outputs": [],
   "source": [
    "class Solution:\n",
    "    def containsCycle(self, grid: List[List[str]]) -> bool:\n",
    "        def dfs(node, parent):\n",
    "            x, y = node\n",
    "            if visited[y][x]:   return True\n",
    "            visited[y][x] = True\n",
    "            childs = [(nx,ny) for nx,ny in ((x+1,y),(x-1,y),(x,y+1),(x,y-1))\n",
    "                        if 0 <= nx < n and 0 <= ny < m and grid[ny][nx] == grid[y][x]\n",
    "                        and (nx,ny) != parent]\n",
    "            found = False\n",
    "            for c in childs:\n",
    "                found |= dfs(c, node)\n",
    "                \n",
    "            return found\n",
    "        \n",
    "        m, n = len(grid), len(grid[0])\n",
    "        visited = [[False]*n for _ in range(m)]\n",
    "        hasCycle = False\n",
    "        for y in range(m):\n",
    "            for x in range(n):\n",
    "                if visited[y][x]:    continue\n",
    "                hasCycle |= dfs((x,y), None)\n",
    "                \n",
    "        return hasCycle\n",
    "                "
   ]
  },
  {
   "cell_type": "code",
   "execution_count": 2,
   "metadata": {},
   "outputs": [],
   "source": [
    "from typing import List\n",
    "class Solution:\n",
    "    def containsCycle(self, grid: List[List[str]]) -> bool:\n",
    "        def dfs(node, parent):\n",
    "            if node in visited:\n",
    "                return True\n",
    "            visited.add(node)\n",
    "            x, y = node\n",
    "            childs = [(nx,ny) for nx,ny in ((x+1,y),(x-1,y),(x,y+1),(x,y-1))\n",
    "                        if 0 <= nx < n and 0 <= ny < m and grid[ny][nx] == grid[y][x]\n",
    "                        and (nx,ny) != parent]\n",
    "            for c in childs:\n",
    "                if dfs(c, node):    return True\n",
    "                \n",
    "            return False\n",
    "        \n",
    "        m, n = len(grid), len(grid[0])\n",
    "        visited = set()\n",
    "        for y in range(m):\n",
    "            for x in range(n):\n",
    "                if (x,y) in visited:    continue\n",
    "                if dfs((x,y), None):    return True\n",
    "                \n",
    "        return False\n",
    "                "
   ]
  },
  {
   "cell_type": "code",
   "execution_count": 1,
   "metadata": {},
   "outputs": [
    {
     "data": {
      "text/plain": [
       "[['a', 'b', 'b'], ['b', 'z', 'b'], ['b', 'b', 'a']]"
      ]
     },
     "execution_count": 1,
     "metadata": {},
     "output_type": "execute_result"
    }
   ],
   "source": [
    "[[\"a\",\"b\",\"b\"],[\"b\",\"z\",\"b\"],[\"b\",\"b\",\"a\"]]"
   ]
  },
  {
   "cell_type": "code",
   "execution_count": null,
   "metadata": {},
   "outputs": [],
   "source": []
  }
 ],
 "metadata": {
  "kernelspec": {
   "display_name": "Python 3",
   "language": "python",
   "name": "python3"
  },
  "language_info": {
   "codemirror_mode": {
    "name": "ipython",
    "version": 3
   },
   "file_extension": ".py",
   "mimetype": "text/x-python",
   "name": "python",
   "nbconvert_exporter": "python",
   "pygments_lexer": "ipython3",
   "version": "3.8.5"
  }
 },
 "nbformat": 4,
 "nbformat_minor": 4
}
