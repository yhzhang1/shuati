{
 "cells": [
  {
   "cell_type": "code",
   "execution_count": 3,
   "metadata": {},
   "outputs": [],
   "source": [
    "from typing import List\n",
    "class Solution:\n",
    "    def partition(self, s: str) -> List[List[str]]:\n",
    "        def dfs(s, cur, ans):\n",
    "            if not s:\n",
    "                ans.append(cur[:])\n",
    "            for i in range(1,len(s)+1):\n",
    "                if isPali(s[:i]):\n",
    "                    cur.append(s[:i])\n",
    "                    dfs(s[i:], cur, ans)\n",
    "                    cur.pop()\n",
    "        def isPali(s):\n",
    "            return s == s[::-1]\n",
    "                \n",
    "        ans = list()\n",
    "        dfs(s, [], ans)\n",
    "        return ans"
   ]
  },
  {
   "cell_type": "code",
   "execution_count": 1,
   "metadata": {},
   "outputs": [
    {
     "data": {
      "text/plain": [
       "'dcba'"
      ]
     },
     "execution_count": 1,
     "metadata": {},
     "output_type": "execute_result"
    }
   ],
   "source": [
    "'abcd'[::-1]"
   ]
  }
 ],
 "metadata": {
  "kernelspec": {
   "display_name": "Python 3",
   "language": "python",
   "name": "python3"
  },
  "language_info": {
   "codemirror_mode": {
    "name": "ipython",
    "version": 3
   },
   "file_extension": ".py",
   "mimetype": "text/x-python",
   "name": "python",
   "nbconvert_exporter": "python",
   "pygments_lexer": "ipython3",
   "version": "3.7.6"
  }
 },
 "nbformat": 4,
 "nbformat_minor": 4
}
