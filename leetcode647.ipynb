{
 "cells": [
  {
   "cell_type": "markdown",
   "metadata": {},
   "source": [
    "https://www.youtube.com/watch?v=EIf9zFqufbU"
   ]
  },
  {
   "cell_type": "code",
   "execution_count": 1,
   "metadata": {},
   "outputs": [],
   "source": [
    "class Solution:\n",
    "    def countSubstrings(self, s: str) -> int:\n",
    "        n = len(s)\n",
    "        dp = [[0] * n for _ in range(n)]\n",
    "        count = 0\n",
    "        \n",
    "        for i in range(n):\n",
    "            dp[i][i] = 1\n",
    "            count += 1\n",
    "            \n",
    "        for col in range(1, n):\n",
    "            for row in range(col):\n",
    "                if row == col-1 and s[row] == s[col]:\n",
    "                    dp[row][col] = 1\n",
    "                    count += 1\n",
    "                elif dp[row+1][col-1] and s[row] == s[col]:\n",
    "                    dp[row][col] = 1\n",
    "                    count += 1\n",
    "                    \n",
    "        return count"
   ]
  }
 ],
 "metadata": {
  "kernelspec": {
   "display_name": "Python 3",
   "language": "python",
   "name": "python3"
  },
  "language_info": {
   "codemirror_mode": {
    "name": "ipython",
    "version": 3
   },
   "file_extension": ".py",
   "mimetype": "text/x-python",
   "name": "python",
   "nbconvert_exporter": "python",
   "pygments_lexer": "ipython3",
   "version": "3.7.6"
  }
 },
 "nbformat": 4,
 "nbformat_minor": 4
}
