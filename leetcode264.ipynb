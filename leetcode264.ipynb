{
 "cells": [
  {
   "cell_type": "markdown",
   "metadata": {},
   "source": [
    "https://www.youtube.com/watch?v=ZG86C_U-vRg"
   ]
  },
  {
   "cell_type": "code",
   "execution_count": 3,
   "metadata": {},
   "outputs": [],
   "source": [
    "class Solution:\n",
    "    def nthUglyNumber(self, n: int) -> int:\n",
    "        nums = [1]\n",
    "        i2 = i3 = i5 = 0\n",
    "        \n",
    "        while len(nums) < n:\n",
    "            next2 = nums[i2] * 2\n",
    "            next3 = nums[i3] * 3\n",
    "            next5 = nums[i5] * 5\n",
    "            next = min([next2, next3, next5])\n",
    "            if next == next2:\n",
    "                i2 += 1\n",
    "            if next == next3:\n",
    "                i3 += 1\n",
    "            if next == next5:\n",
    "                i5 += 1\n",
    "                \n",
    "            nums.append(next)\n",
    "            \n",
    "        return nums[-1]"
   ]
  }
 ],
 "metadata": {
  "kernelspec": {
   "display_name": "Python 3",
   "language": "python",
   "name": "python3"
  },
  "language_info": {
   "codemirror_mode": {
    "name": "ipython",
    "version": 3
   },
   "file_extension": ".py",
   "mimetype": "text/x-python",
   "name": "python",
   "nbconvert_exporter": "python",
   "pygments_lexer": "ipython3",
   "version": "3.7.6"
  }
 },
 "nbformat": 4,
 "nbformat_minor": 4
}
