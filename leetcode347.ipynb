{
 "cells": [
  {
   "cell_type": "markdown",
   "metadata": {},
   "source": [
    "https://www.youtube.com/watch?v=lm6pBga98-w"
   ]
  },
  {
   "cell_type": "code",
   "execution_count": 7,
   "metadata": {},
   "outputs": [],
   "source": [
    "# bucket sort\n",
    "# T: O(n), S: O(n)\n",
    "class Solution:\n",
    "    def topKFrequent(self, nums: List[int], k: int) -> List[int]:\n",
    "        n = len(nums)\n",
    "        counter = Counter(nums)\n",
    "        buckets = [[] for _ in range(n+1)]\n",
    "        \n",
    "        for num in counter:\n",
    "            buckets[counter[num]].append(num)\n",
    "            \n",
    "        ans = []\n",
    "        for i in range(n, 0, -1):\n",
    "            ans += buckets[i]\n",
    "            if len(ans) == k:\n",
    "                break\n",
    "                \n",
    "        return ans"
   ]
  },
  {
   "cell_type": "code",
   "execution_count": 3,
   "metadata": {},
   "outputs": [],
   "source": [
    "# T: O(nlogk), S: O(n)\n",
    "from typing import List\n",
    "from queue import PriorityQueue\n",
    "class Solution:\n",
    "    def topKFrequent(self, nums: List[int], k: int) -> List[int]:\n",
    "        counter = Counter(nums)\n",
    "        heap = PriorityQueue()\n",
    "\n",
    "        for num in counter:\n",
    "            heap.put((counter[num], num))\n",
    "            if heap.qsize() > k:\n",
    "                heap.get()\n",
    "                \n",
    "        return [heap.get()[1] for _ in range(heap.qsize())]"
   ]
  },
  {
   "cell_type": "code",
   "execution_count": 4,
   "metadata": {},
   "outputs": [],
   "source": [
    "from queue import PriorityQueue\n",
    "class Solution:\n",
    "    def topKFrequent(self, nums: List[int], k: int) -> List[int]:\n",
    "        counter = Counter(nums)\n",
    "        heap = PriorityQueue()\n",
    "\n",
    "        for num in counter:\n",
    "            heap.put((counter[num], num))\n",
    "            if heap.qsize() > k:\n",
    "                heap.get()\n",
    "                \n",
    "        ans = []\n",
    "        while not heap.empty():\n",
    "            ans += [heap.get()[1]]\n",
    "            \n",
    "        return ans"
   ]
  },
  {
   "cell_type": "code",
   "execution_count": 5,
   "metadata": {},
   "outputs": [],
   "source": [
    "from queue import PriorityQueue\n",
    "class Solution:\n",
    "    def topKFrequent(self, nums: List[int], k: int) -> List[int]:\n",
    "        counter = Counter(nums)\n",
    "        heap = []\n",
    "\n",
    "        for num in counter:\n",
    "            heapq.heappush(heap, (counter[num], num))\n",
    "            if len(heap) > k:\n",
    "                heapq.heappop(heap)\n",
    "                \n",
    "        return [heapq.heappop(heap)[1] for _ in range(len(heap))]"
   ]
  },
  {
   "cell_type": "code",
   "execution_count": null,
   "metadata": {},
   "outputs": [],
   "source": []
  }
 ],
 "metadata": {
  "kernelspec": {
   "display_name": "Python 3",
   "language": "python",
   "name": "python3"
  },
  "language_info": {
   "codemirror_mode": {
    "name": "ipython",
    "version": 3
   },
   "file_extension": ".py",
   "mimetype": "text/x-python",
   "name": "python",
   "nbconvert_exporter": "python",
   "pygments_lexer": "ipython3",
   "version": "3.8.5"
  }
 },
 "nbformat": 4,
 "nbformat_minor": 4
}
