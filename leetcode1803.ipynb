{
 "cells": [
  {
   "cell_type": "markdown",
   "id": "14b610e8-e306-4ac3-81e8-5e759fd9db81",
   "metadata": {},
   "source": [
    "https://leetcode.com/problems/count-pairs-with-xor-in-a-range/solutions/1119703/python3-trie/"
   ]
  },
  {
   "cell_type": "code",
   "execution_count": 15,
   "id": "25dd7d6d-a94f-49a0-904c-bff51da6e629",
   "metadata": {},
   "outputs": [],
   "source": [
    "# T: O(n), S: O(1)\n",
    "from typing import List\n",
    "class Solution:\n",
    "    def countPairs(self, nums: List[int], low: int, high: int) -> int:\n",
    "        trie = Trie()\n",
    "        ans = 0\n",
    "        for x in nums:\n",
    "            ans += trie.countLess(x, high+1) - trie.countLess(x, low)\n",
    "            trie.insert(x)\n",
    "        \n",
    "        return ans\n",
    "\n",
    "class Trie:\n",
    "    def __init__(self):\n",
    "        self.root = {}\n",
    "\n",
    "    def insert(self, val):\n",
    "        node = self.root\n",
    "        for i in reversed(range(15)):\n",
    "            bit = (val >> i) & 1\n",
    "            if bit not in node:\n",
    "                node[bit] = {'cnt':0}\n",
    "            node = node[bit]\n",
    "            node['cnt'] += 1\n",
    "\n",
    "    def countLess(self, val, high):\n",
    "        ans = 0\n",
    "        node = self.root\n",
    "        for i in reversed(range(15)):\n",
    "            if not node:\n",
    "                break\n",
    "            bit = (val >> i) & 1\n",
    "            cmp = (high >> i) & 1\n",
    "            if cmp:\n",
    "                if bit in node:\n",
    "                    ans += node[bit]['cnt']\n",
    "                node = node.get(1^bit)\n",
    "            else:\n",
    "                node = node.get(bit)\n",
    "\n",
    "        return ans"
   ]
  },
  {
   "cell_type": "code",
   "execution_count": 2,
   "id": "5aa7f639-4e03-46f5-8f1c-5649d38c700f",
   "metadata": {},
   "outputs": [
    {
     "data": {
      "text/plain": [
       "[14, 13, 12, 11, 10, 9, 8, 7, 6, 5, 4, 3, 2, 1, 0]"
      ]
     },
     "execution_count": 2,
     "metadata": {},
     "output_type": "execute_result"
    }
   ],
   "source": [
    "list(reversed(range(15)))"
   ]
  },
  {
   "cell_type": "code",
   "execution_count": 3,
   "id": "89d18ac9-7dd8-43f5-a91a-14950f6ca275",
   "metadata": {},
   "outputs": [
    {
     "data": {
      "text/plain": [
       "'0b101'"
      ]
     },
     "execution_count": 3,
     "metadata": {},
     "output_type": "execute_result"
    }
   ],
   "source": [
    "bin(5)"
   ]
  },
  {
   "cell_type": "code",
   "execution_count": 5,
   "id": "afb4f942-e6b1-4da9-a474-5f1116e6fc92",
   "metadata": {},
   "outputs": [
    {
     "data": {
      "text/plain": [
       "'0b1101'"
      ]
     },
     "execution_count": 5,
     "metadata": {},
     "output_type": "execute_result"
    }
   ],
   "source": [
    "bin(13)"
   ]
  },
  {
   "cell_type": "code",
   "execution_count": 6,
   "id": "8adcc718-42fd-4732-928e-0f6db29db377",
   "metadata": {},
   "outputs": [
    {
     "data": {
      "text/plain": [
       "'0b1100'"
      ]
     },
     "execution_count": 6,
     "metadata": {},
     "output_type": "execute_result"
    }
   ],
   "source": [
    "bin(12)"
   ]
  },
  {
   "cell_type": "code",
   "execution_count": 7,
   "id": "8c6239cc-2e62-431c-8bf5-2920c849754f",
   "metadata": {},
   "outputs": [
    {
     "data": {
      "text/plain": [
       "'0b1011'"
      ]
     },
     "execution_count": 7,
     "metadata": {},
     "output_type": "execute_result"
    }
   ],
   "source": [
    "bin(11)"
   ]
  },
  {
   "cell_type": "code",
   "execution_count": 8,
   "id": "eda11a2e-df8f-4bf8-9615-2c04f42afb59",
   "metadata": {},
   "outputs": [
    {
     "data": {
      "text/plain": [
       "'0b1010'"
      ]
     },
     "execution_count": 8,
     "metadata": {},
     "output_type": "execute_result"
    }
   ],
   "source": [
    "bin(10)"
   ]
  },
  {
   "cell_type": "code",
   "execution_count": 9,
   "id": "2fc73aa5-41e2-4ea9-a76f-f94db83c40e3",
   "metadata": {},
   "outputs": [
    {
     "data": {
      "text/plain": [
       "{'a': 1, 'b': 2}"
      ]
     },
     "execution_count": 9,
     "metadata": {},
     "output_type": "execute_result"
    }
   ],
   "source": [
    "d = {'a':1,'b':2}\n",
    "d"
   ]
  },
  {
   "cell_type": "code",
   "execution_count": 10,
   "id": "1cd9d4db-a73a-4554-9006-c462bc0d29c6",
   "metadata": {},
   "outputs": [
    {
     "data": {
      "text/plain": [
       "1"
      ]
     },
     "execution_count": 10,
     "metadata": {},
     "output_type": "execute_result"
    }
   ],
   "source": [
    "d.get('a')"
   ]
  },
  {
   "cell_type": "code",
   "execution_count": 11,
   "id": "beec23f8-e07c-4426-8b42-90e26931d038",
   "metadata": {},
   "outputs": [],
   "source": [
    "d.get(1)"
   ]
  },
  {
   "cell_type": "code",
   "execution_count": 12,
   "id": "62066512-b27d-47c7-8819-943b69e2436f",
   "metadata": {},
   "outputs": [
    {
     "data": {
      "text/plain": [
       "\u001b[1;31mSignature:\u001b[0m \u001b[0md\u001b[0m\u001b[1;33m.\u001b[0m\u001b[0mget\u001b[0m\u001b[1;33m(\u001b[0m\u001b[0mkey\u001b[0m\u001b[1;33m,\u001b[0m \u001b[0mdefault\u001b[0m\u001b[1;33m=\u001b[0m\u001b[1;32mNone\u001b[0m\u001b[1;33m,\u001b[0m \u001b[1;33m/\u001b[0m\u001b[1;33m)\u001b[0m\u001b[1;33m\u001b[0m\u001b[1;33m\u001b[0m\u001b[0m\n",
       "\u001b[1;31mDocstring:\u001b[0m Return the value for key if key is in the dictionary, else default.\n",
       "\u001b[1;31mType:\u001b[0m      builtin_function_or_method\n"
      ]
     },
     "metadata": {},
     "output_type": "display_data"
    }
   ],
   "source": [
    "d.get?"
   ]
  }
 ],
 "metadata": {
  "kernelspec": {
   "display_name": "Python 3 (ipykernel)",
   "language": "python",
   "name": "python3"
  },
  "language_info": {
   "codemirror_mode": {
    "name": "ipython",
    "version": 3
   },
   "file_extension": ".py",
   "mimetype": "text/x-python",
   "name": "python",
   "nbconvert_exporter": "python",
   "pygments_lexer": "ipython3",
   "version": "3.8.5"
  }
 },
 "nbformat": 4,
 "nbformat_minor": 5
}
