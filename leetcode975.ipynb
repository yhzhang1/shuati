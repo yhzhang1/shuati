{
 "cells": [
  {
   "cell_type": "markdown",
   "id": "3ed5e443-432a-4661-b7e5-22887a6f4b84",
   "metadata": {},
   "source": [
    "https://www.youtube.com/watch?v=MEqDu4hA_Wo\n",
    "\n",
    "https://leetcode.com/problems/odd-even-jump/solutions/217981/java-c-python-dp-using-map-or-stack/"
   ]
  },
  {
   "cell_type": "code",
   "execution_count": 4,
   "id": "c826085a-ab68-4fe9-9343-8e713cc22498",
   "metadata": {},
   "outputs": [],
   "source": [
    "# T: O(nlogn), S: O(n)\n",
    "from typing import List\n",
    "from sortedcontainers import SortedDict\n",
    "class Solution:\n",
    "    def oddEvenJumps(self, arr: List[int]) -> int:\n",
    "        n = len(arr)\n",
    "        dp = [[0]*2 for _ in range(n)]\n",
    "        '''\n",
    "        dp[:][0]:   odd jump\n",
    "        dp[:][1]:   even jump\n",
    "        '''\n",
    "        dp[-1][0] = dp[-1][1] = 1\n",
    "        num2min_idx = SortedDict()\n",
    "        num2min_idx[arr[-1]] = n-1\n",
    "        ans = 1\n",
    "        for i in range(n-2, -1, -1):\n",
    "            o = num2min_idx.bisect_left(arr[i])\n",
    "            if o < len(num2min_idx):\n",
    "                o_num, o_idx = num2min_idx.peekitem(o)\n",
    "                dp[i][0] = dp[o_idx][1]\n",
    "            e = num2min_idx.bisect_right(arr[i]) - 1\n",
    "            if 0 <= e:\n",
    "                e_num, e_idx = num2min_idx.peekitem(e)\n",
    "                dp[i][1] = dp[e_idx][0]\n",
    "            if dp[i][0]:\n",
    "                ans += 1\n",
    "            num2min_idx[arr[i]] = i\n",
    "        return ans"
   ]
  },
  {
   "cell_type": "code",
   "execution_count": null,
   "id": "92923050-d5ae-4c85-972a-b16c5d0bb919",
   "metadata": {},
   "outputs": [],
   "source": []
  }
 ],
 "metadata": {
  "kernelspec": {
   "display_name": "Python 3 (ipykernel)",
   "language": "python",
   "name": "python3"
  },
  "language_info": {
   "codemirror_mode": {
    "name": "ipython",
    "version": 3
   },
   "file_extension": ".py",
   "mimetype": "text/x-python",
   "name": "python",
   "nbconvert_exporter": "python",
   "pygments_lexer": "ipython3",
   "version": "3.8.5"
  }
 },
 "nbformat": 4,
 "nbformat_minor": 5
}
