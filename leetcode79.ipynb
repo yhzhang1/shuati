{
 "cells": [
  {
   "cell_type": "markdown",
   "metadata": {},
   "source": [
    "https://www.youtube.com/watch?v=1zSg1WdmhIs\n",
    "\n",
    "https://www.youtube.com/watch?v=oUeGFKZvoo4"
   ]
  },
  {
   "cell_type": "code",
   "execution_count": 4,
   "metadata": {},
   "outputs": [],
   "source": [
    "# T: O(m*n*4^l), l=len(word), S:O(l)\n",
    "class Solution:\n",
    "    def exist(self, board: List[List[str]], word: str) -> bool:\n",
    "        for i in range(len(board)):\n",
    "            for j in range(len(board[0])):\n",
    "                if self.dfs(board, word, i, j, 0):\n",
    "                    return True\n",
    "                \n",
    "        return False\n",
    "                \n",
    "    def dfs(self, board, word, i, j, wordIdx) -> bool:\n",
    "        if wordIdx == len(word):\n",
    "            return True\n",
    "        elif i < 0 or i >= len(board) or j < 0 or j >= len(board[0]) or board[i][j] != word[wordIdx]:\n",
    "            return False\n",
    "        \n",
    "        board[i][j] = '#'\n",
    "        \n",
    "        found = self.dfs(board, word, i-1, j, wordIdx+1) \\\n",
    "                or self.dfs(board, word, i+1, j, wordIdx+1) \\\n",
    "                or self.dfs(board, word, i, j-1, wordIdx+1) \\\n",
    "                or self.dfs(board, word, i, j+1, wordIdx+1)\n",
    "        \n",
    "        board[i][j] = word[wordIdx]\n",
    "        \n",
    "        return found"
   ]
  },
  {
   "cell_type": "code",
   "execution_count": 2,
   "metadata": {},
   "outputs": [],
   "source": [
    "from typing import List\n",
    "class Solution:\n",
    "    def exist(self, board: List[List[str]], word: str) -> bool:\n",
    "        self.m, self.n = len(board), len(board[0])\n",
    "        self.visited = list()\n",
    "        #print(self.visited)\n",
    "        print('len(word)=', len(word))\n",
    "        print('m*n=', self.m*self.n)\n",
    "        for i in range(self.m):\n",
    "            for j in range(self.n):\n",
    "                if board[i][j] == word[0]:\n",
    "                    self.dfs(board, word, (i,j), '')\n",
    "                if self.ans:\n",
    "                    return True\n",
    "                \n",
    "        return False\n",
    "                \n",
    "        \n",
    "    def dfs(self, board, word, pos, cur):\n",
    "        if cur != word[:len(cur)] or len(cur) > len(word) or self.ans:\n",
    "            return\n",
    "        \n",
    "        cur += board[pos[0]][pos[1]]\n",
    "        self.visited.append((pos[0], pos[1]))\n",
    "        #print('cur=',cur)\n",
    "        #print('visited=',self.visited)\n",
    "        if cur == word:\n",
    "            self.ans = True\n",
    "            return\n",
    "\n",
    "        \n",
    "        if 0 <= pos[0]-1 and (pos[0]-1,pos[1]) not in self.visited:\n",
    "            self.dfs(board, word, (pos[0]-1, pos[1]), cur)\n",
    "        if pos[0]+1 <= self.m-1 and (pos[0]+1,pos[1]) not in self.visited:\n",
    "            self.dfs(board, word, (pos[0]+1, pos[1]), cur)\n",
    "        if 0 <= pos[1]-1 and (pos[0], pos[1]-1) not in self.visited:\n",
    "            self.dfs(board, word, (pos[0], pos[1]-1), cur)\n",
    "        if pos[1]+1 <= self.n-1 and (pos[0], pos[1]+1) not in self.visited:\n",
    "            self.dfs(board, word, (pos[0], pos[1]+1), cur)\n",
    "            \n",
    "        self.visited.pop()\n",
    "        \n",
    "    visited = list()\n",
    "    m, n = None, None\n",
    "    ans = False\n",
    "    \n",
    "            \n",
    "            \n",
    "            "
   ]
  },
  {
   "cell_type": "code",
   "execution_count": 2,
   "metadata": {},
   "outputs": [],
   "source": [
    "board = [[\"b\",\"a\",\"a\",\"b\",\"a\",\"b\"],[\"a\",\"b\",\"a\",\"a\",\"a\",\"a\"],[\"a\",\"b\",\"a\",\"a\",\"a\",\"b\"],[\"a\",\"b\",\"a\",\"b\",\"b\",\"a\"],[\"a\",\"a\",\"b\",\"b\",\"a\",\"b\"],[\"a\",\"a\",\"b\",\"b\",\"b\",\"a\"],[\"a\",\"a\",\"b\",\"a\",\"a\",\"b\"]]\n",
    "word = \"aabbbbabbaababaaaabababbaaba\""
   ]
  },
  {
   "cell_type": "code",
   "execution_count": 3,
   "metadata": {},
   "outputs": [
    {
     "name": "stdout",
     "output_type": "stream",
     "text": [
      "len(word)= 28\n",
      "m*n= 42\n"
     ]
    },
    {
     "data": {
      "text/plain": [
       "True"
      ]
     },
     "execution_count": 3,
     "metadata": {},
     "output_type": "execute_result"
    }
   ],
   "source": [
    "Solution().exist(board, word)"
   ]
  },
  {
   "cell_type": "code",
   "execution_count": 14,
   "metadata": {},
   "outputs": [
    {
     "data": {
      "text/plain": [
       "28"
      ]
     },
     "execution_count": 14,
     "metadata": {},
     "output_type": "execute_result"
    }
   ],
   "source": [
    "len(\"aabbbbabbaababaaaabababbaaba\")"
   ]
  },
  {
   "cell_type": "code",
   "execution_count": 3,
   "metadata": {},
   "outputs": [
    {
     "data": {
      "text/plain": [
       "[['A', 'B', 'C', 'E'], ['S', 'F', 'C', 'S'], ['A', 'D', 'E', 'E']]"
      ]
     },
     "execution_count": 3,
     "metadata": {},
     "output_type": "execute_result"
    }
   ],
   "source": [
    "[[\"A\",\"B\",\"C\",\"E\"],\n",
    " [\"S\",\"F\",\"C\",\"S\"],\n",
    " [\"A\",\"D\",\"E\",\"E\"]]"
   ]
  },
  {
   "cell_type": "code",
   "execution_count": null,
   "metadata": {},
   "outputs": [],
   "source": [
    "[[\"A\",\"B\",\"C\",\"E\"],\n",
    " [\"S\",\"F\",\"C\",\"S\"],\n",
    " [\"A\",\"D\",\"E\",\"E\"]]\n",
    "\"ABCB\""
   ]
  }
 ],
 "metadata": {
  "kernelspec": {
   "display_name": "Python 3",
   "language": "python",
   "name": "python3"
  },
  "language_info": {
   "codemirror_mode": {
    "name": "ipython",
    "version": 3
   },
   "file_extension": ".py",
   "mimetype": "text/x-python",
   "name": "python",
   "nbconvert_exporter": "python",
   "pygments_lexer": "ipython3",
   "version": "3.8.5"
  }
 },
 "nbformat": 4,
 "nbformat_minor": 4
}
