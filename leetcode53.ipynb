{
 "cells": [
  {
   "cell_type": "markdown",
   "metadata": {},
   "source": [
    "https://leetcode.com/problems/maximum-subarray/solution/"
   ]
  },
  {
   "cell_type": "code",
   "execution_count": 3,
   "metadata": {},
   "outputs": [],
   "source": [
    "class Solution:\n",
    "    def maxSubArray(self, nums: List[int]) -> int:\n",
    "        cursum = maxsum = nums[0]\n",
    "        \n",
    "        for i in range(1, len(nums)):\n",
    "            cursum = max(nums[i], cursum + nums[i])\n",
    "            maxsum = max(maxsum, cursum)\n",
    "            \n",
    "        return maxsum"
   ]
  },
  {
   "cell_type": "code",
   "execution_count": 2,
   "metadata": {},
   "outputs": [],
   "source": [
    "from typing import List\n",
    "class Solution:\n",
    "    def maxSubArray(self, nums: List[int]) -> int:\n",
    "        # max subarray until i contain nums[i]\n",
    "        dp = [0] * len(nums)\n",
    "        dp[0] = nums[0]\n",
    "        maxsum = dp[0]\n",
    "        \n",
    "        for i in range(1, len(nums)):\n",
    "            dp[i] = max(dp[i-1] + nums[i], nums[i])\n",
    "            maxsum = max(maxsum, dp[i])\n",
    "            \n",
    "        return maxsum"
   ]
  }
 ],
 "metadata": {
  "kernelspec": {
   "display_name": "Python 3",
   "language": "python",
   "name": "python3"
  },
  "language_info": {
   "codemirror_mode": {
    "name": "ipython",
    "version": 3
   },
   "file_extension": ".py",
   "mimetype": "text/x-python",
   "name": "python",
   "nbconvert_exporter": "python",
   "pygments_lexer": "ipython3",
   "version": "3.8.5"
  }
 },
 "nbformat": 4,
 "nbformat_minor": 4
}
