{
 "cells": [
  {
   "cell_type": "code",
   "execution_count": 2,
   "metadata": {},
   "outputs": [],
   "source": [
    "from typing import List\n",
    "class Solution:\n",
    "    def solve(self, board: List[List[str]]) -> None:\n",
    "        \"\"\"\n",
    "        Do not return anything, modify board in-place instead.\n",
    "        \"\"\"\n",
    "        def dfs(x, y):\n",
    "            if x < 0 or x >=m or y < 0 or y >= n or board[x][y] != 'O': return\n",
    "            board[x][y] = 'G'\n",
    "            dfs(x-1,y)\n",
    "            dfs(x+1,y)\n",
    "            dfs(x,y-1)\n",
    "            dfs(x,y+1)\n",
    "            \n",
    "        m = len(board)\n",
    "        if m == 0:  return\n",
    "        n = len(board[0])\n",
    "        for i in range(m):\n",
    "            dfs(i,0), dfs(i,n-1)\n",
    "        for j in range(n):\n",
    "            dfs(0,j), dfs(m-1,j)\n",
    "            \n",
    "        v = {'O':'X', 'X':'X', 'G':'O'}\n",
    "        for i in range(m):\n",
    "            for j in range(n):\n",
    "                board[i][j] = v[board[i][j]]\n",
    "        \n",
    "            \n",
    "            \n",
    "        "
   ]
  }
 ],
 "metadata": {
  "kernelspec": {
   "display_name": "Python 3 (ipykernel)",
   "language": "python",
   "name": "python3"
  },
  "language_info": {
   "codemirror_mode": {
    "name": "ipython",
    "version": 3
   },
   "file_extension": ".py",
   "mimetype": "text/x-python",
   "name": "python",
   "nbconvert_exporter": "python",
   "pygments_lexer": "ipython3",
   "version": "3.8.5"
  }
 },
 "nbformat": 4,
 "nbformat_minor": 4
}
