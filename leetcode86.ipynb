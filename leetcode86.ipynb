{
 "cells": [
  {
   "cell_type": "markdown",
   "metadata": {},
   "source": [
    "https://www.youtube.com/watch?v=Ysp20eXvOYA"
   ]
  },
  {
   "cell_type": "code",
   "execution_count": 2,
   "metadata": {},
   "outputs": [],
   "source": [
    "# Definition for singly-linked list.\n",
    "class ListNode:\n",
    "    def __init__(self, val=0, next=None):\n",
    "        self.val = val\n",
    "        self.next = next\n",
    "class Solution:\n",
    "    def partition(self, head: ListNode, x: int) -> ListNode:\n",
    "        dummy1, dummy2 = ListNode(), ListNode()\n",
    "        tail1 = dummy1\n",
    "        tail2 = dummy2\n",
    "        \n",
    "        while head:\n",
    "            if head.val < x:\n",
    "                tail1.next = head\n",
    "                tail1 = tail1.next\n",
    "            else:\n",
    "                tail2.next = head\n",
    "                tail2 = tail2.next\n",
    "            head = head.next\n",
    "            \n",
    "        tail1.next = dummy2.next\n",
    "        tail2.next = None\n",
    "        \n",
    "        return dummy1.next\n",
    "            "
   ]
  },
  {
   "cell_type": "code",
   "execution_count": null,
   "metadata": {},
   "outputs": [],
   "source": []
  }
 ],
 "metadata": {
  "kernelspec": {
   "display_name": "Python 3",
   "language": "python",
   "name": "python3"
  },
  "language_info": {
   "codemirror_mode": {
    "name": "ipython",
    "version": 3
   },
   "file_extension": ".py",
   "mimetype": "text/x-python",
   "name": "python",
   "nbconvert_exporter": "python",
   "pygments_lexer": "ipython3",
   "version": "3.8.5"
  }
 },
 "nbformat": 4,
 "nbformat_minor": 4
}
