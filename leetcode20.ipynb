{
 "cells": [
  {
   "cell_type": "markdown",
   "metadata": {},
   "source": [
    "https://www.youtube.com/watch?v=4z5fmKMr9lU"
   ]
  },
  {
   "cell_type": "code",
   "execution_count": 2,
   "metadata": {},
   "outputs": [],
   "source": [
    "class Solution:\n",
    "    def isValid(self, s: str) -> bool:\n",
    "        stack = []\n",
    "        lookup = {'(':')','{':'}','[':']'}\n",
    "        \n",
    "        for p in s:\n",
    "            if p in lookup:\n",
    "                stack.append(p)\n",
    "            elif len(stack) == 0 or lookup[stack.pop()] != p:\n",
    "                return False\n",
    "            \n",
    "        return len(stack) == 0"
   ]
  },
  {
   "cell_type": "code",
   "execution_count": 1,
   "metadata": {},
   "outputs": [],
   "source": [
    "class Solution:\n",
    "    def isValid(self, s: str) -> bool:\n",
    "        stack = []\n",
    "        for c in s:\n",
    "            if c in '({[':\n",
    "                stack.append(c)\n",
    "            else:\n",
    "                if len(stack) == 0: return False\n",
    "                top = stack.pop()\n",
    "                if c == ')' and top != '(':    return False\n",
    "                if c == '}' and top != '{':    return False\n",
    "                if c == ']' and top != '[':    return False\n",
    "                \n",
    "        return len(stack) == 0"
   ]
  },
  {
   "cell_type": "code",
   "execution_count": null,
   "metadata": {},
   "outputs": [],
   "source": []
  }
 ],
 "metadata": {
  "kernelspec": {
   "display_name": "Python 3",
   "language": "python",
   "name": "python3"
  },
  "language_info": {
   "codemirror_mode": {
    "name": "ipython",
    "version": 3
   },
   "file_extension": ".py",
   "mimetype": "text/x-python",
   "name": "python",
   "nbconvert_exporter": "python",
   "pygments_lexer": "ipython3",
   "version": "3.8.5"
  }
 },
 "nbformat": 4,
 "nbformat_minor": 4
}
