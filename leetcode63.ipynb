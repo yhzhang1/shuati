{
 "cells": [
  {
   "cell_type": "markdown",
   "metadata": {},
   "source": [
    "https://www.youtube.com/watch?v=8v-dX6ato_Y&t=6s"
   ]
  },
  {
   "cell_type": "code",
   "execution_count": 5,
   "metadata": {},
   "outputs": [],
   "source": [
    "class Solution:\n",
    "    def __init__(self):\n",
    "        self.f_ = []\n",
    "    def uniquePathsWithObstacles(self, obstacleGrid: List[List[int]]) -> int:\n",
    "        m = len(obstacleGrid)\n",
    "        if m == 0:  return 0\n",
    "        n = len(obstacleGrid[0])\n",
    "        \n",
    "        self.f_ = [[-1]*n for _ in range(m)]\n",
    "        \n",
    "        return self.paths(m-1, n-1, obstacleGrid)\n",
    "        \n",
    "        \n",
    "    def paths(self, m, n, o):\n",
    "        if m < 0 or n < 0:\n",
    "            return 0\n",
    "        if m == 0 and n == 0:\n",
    "            return 1 - o[0][0]\n",
    "        if self.f_[m][n] >= 0:\n",
    "            return self.f_[m][n]\n",
    "        \n",
    "        if o[m][n] == 1:\n",
    "            self.f_[m][n] = 0\n",
    "        else:\n",
    "            self.f_[m][n] = self.paths(m-1, n, o) + self.paths(m, n-1, o)\n",
    "        \n",
    "        return self.f_[m][n]"
   ]
  },
  {
   "cell_type": "code",
   "execution_count": 3,
   "metadata": {},
   "outputs": [],
   "source": [
    "class Solution:\n",
    "    def uniquePathsWithObstacles(self, obstacleGrid: List[List[int]]) -> int:\n",
    "        m = len(obstacleGrid)\n",
    "        n = len(obstacleGrid[0]) if m else 0\n",
    "        \n",
    "        dp = [[0]*n for _ in range(m)]\n",
    "        \n",
    "        for i in range(m):\n",
    "            for j in range(n):\n",
    "                if obstacleGrid[i][j] == 1:\n",
    "                    continue\n",
    "                    \n",
    "                if i == 0 and j == 0:\n",
    "                    dp[i][j] = 1\n",
    "                elif i == 0:\n",
    "                    dp[i][j] = dp[i][j-1]\n",
    "                elif j == 0:\n",
    "                    dp[i][j] = dp[i-1][j]\n",
    "                else:\n",
    "                    dp[i][j] = dp[i-1][j] + dp[i][j-1]\n",
    "                    \n",
    "        print(dp)\n",
    "        \n",
    "        return dp[-1][-1]"
   ]
  },
  {
   "cell_type": "code",
   "execution_count": 2,
   "metadata": {},
   "outputs": [],
   "source": [
    "from typing import List\n",
    "class Solution:\n",
    "    def uniquePathsWithObstacles(self, obstacleGrid: List[List[int]]) -> int:\n",
    "        m = len(obstacleGrid)\n",
    "        n = len(obstacleGrid[0])\n",
    "\n",
    "        d = [[1] * n for _ in range(m)]\n",
    "        \n",
    "        # initialize 1st row\n",
    "        for j in range(n):\n",
    "            if obstacleGrid[0][j] == 1:\n",
    "                d[0][j:] = [0 for _ in range(n-j)]\n",
    "                break\n",
    "            else:\n",
    "                d[0][j] = 1\n",
    "        # initialize 1st col\n",
    "        for i in range(m):\n",
    "            if obstacleGrid[i][0] == 1:\n",
    "                for k in range(i,m):\n",
    "                    d[k][0] = 0\n",
    "                break\n",
    "            else:\n",
    "                d[i][0] = 1\n",
    "        \n",
    "        for i in range(1, m):\n",
    "            for j in range(1, n):\n",
    "                if obstacleGrid[i][j] == 1:\n",
    "                    d[i][j] = 0\n",
    "                else:\n",
    "                    d[i][j] = d[i-1][j] + d[i][j-1]\n",
    "                    \n",
    "        return d[-1][-1]"
   ]
  },
  {
   "cell_type": "code",
   "execution_count": null,
   "metadata": {},
   "outputs": [],
   "source": []
  }
 ],
 "metadata": {
  "kernelspec": {
   "display_name": "Python 3",
   "language": "python",
   "name": "python3"
  },
  "language_info": {
   "codemirror_mode": {
    "name": "ipython",
    "version": 3
   },
   "file_extension": ".py",
   "mimetype": "text/x-python",
   "name": "python",
   "nbconvert_exporter": "python",
   "pygments_lexer": "ipython3",
   "version": "3.8.5"
  }
 },
 "nbformat": 4,
 "nbformat_minor": 4
}
