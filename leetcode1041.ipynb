{
 "cells": [
  {
   "cell_type": "markdown",
   "metadata": {},
   "source": [
    "https://leetcode.com/problems/robot-bounded-in-circle/solution/"
   ]
  },
  {
   "cell_type": "code",
   "execution_count": 1,
   "metadata": {},
   "outputs": [],
   "source": [
    "# T: O(n), S: O(1)\n",
    "class Solution:\n",
    "    def isRobotBounded(self, instructions: str) -> bool:\n",
    "        # norht = 0, east = 1, south = 2, west = 3\n",
    "        directions = [[0,1], [1,0], [0,-1], [-1,0]]\n",
    "        x = y = 0\n",
    "        # facing north\n",
    "        idx = 0\n",
    "        \n",
    "        for i in instructions:\n",
    "            if i == 'L':\n",
    "                idx = (idx + 3) % 4\n",
    "            elif i == 'R':\n",
    "                idx = (idx + 1) % 4\n",
    "            else:\n",
    "                x += directions[idx][0]\n",
    "                y += directions[idx][1]\n",
    "                \n",
    "        return x == 0 and y == 0 or idx != 0\n",
    "        "
   ]
  },
  {
   "cell_type": "code",
   "execution_count": 5,
   "metadata": {},
   "outputs": [],
   "source": [
    "class Solution:\n",
    "    def isRobotBounded(self, instructions: str) -> bool:\n",
    "        start = [0,0]\n",
    "        pos = start[:]\n",
    "        face = 'n'\n",
    "        \n",
    "        \n",
    "        \n",
    "        for instru in instructions:\n",
    "            if instru == 'G':\n",
    "                if face == 'n':\n",
    "                    pos[1] += 1\n",
    "                elif face == 's':\n",
    "                    pos[1] -= 1\n",
    "                elif face == 'e':\n",
    "                    pos[0] += 1\n",
    "                elif face == 'w':\n",
    "                    pos[0] -= 1\n",
    "            else:\n",
    "                face = self.turn(instru, face)\n",
    "\n",
    "        if start != pos and face == 'n':\n",
    "            return False\n",
    "        else:\n",
    "            return True\n",
    "                \n",
    "    def turn(self, instru, face):\n",
    "        if face == 'n':\n",
    "            if instru == 'L':\n",
    "                return 'w'\n",
    "            else:\n",
    "                return 'e'\n",
    "        elif face == 's':\n",
    "            if instru == 'L':\n",
    "                return 'e'\n",
    "            else:\n",
    "                return 'w'\n",
    "        elif face == 'e':\n",
    "            if instru == 'L':\n",
    "                return 'n'\n",
    "            else:\n",
    "                return 's'\n",
    "        elif face == 'w':\n",
    "            if instru == 'L':\n",
    "                return 's'\n",
    "            else:\n",
    "                return 'n'\n",
    "            \n",
    "                \n",
    "        \n",
    "        "
   ]
  },
  {
   "cell_type": "code",
   "execution_count": 4,
   "metadata": {},
   "outputs": [
    {
     "data": {
      "text/plain": [
       "[0, 0]"
      ]
     },
     "execution_count": 4,
     "metadata": {},
     "output_type": "execute_result"
    }
   ],
   "source": [
    "start"
   ]
  },
  {
   "cell_type": "code",
   "execution_count": 6,
   "metadata": {},
   "outputs": [
    {
     "data": {
      "text/plain": [
       "[0, 1, 1, 1]"
      ]
     },
     "execution_count": 6,
     "metadata": {},
     "output_type": "execute_result"
    }
   ],
   "source": [
    "[0,1] + [1,1]"
   ]
  }
 ],
 "metadata": {
  "kernelspec": {
   "display_name": "Python 3",
   "language": "python",
   "name": "python3"
  },
  "language_info": {
   "codemirror_mode": {
    "name": "ipython",
    "version": 3
   },
   "file_extension": ".py",
   "mimetype": "text/x-python",
   "name": "python",
   "nbconvert_exporter": "python",
   "pygments_lexer": "ipython3",
   "version": "3.8.5"
  }
 },
 "nbformat": 4,
 "nbformat_minor": 4
}
