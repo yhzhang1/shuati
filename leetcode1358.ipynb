{
 "cells": [
  {
   "cell_type": "code",
   "execution_count": 1,
   "metadata": {},
   "outputs": [],
   "source": [
    "class Solution:\n",
    "    def numberOfSubstrings(self, s: str) -> int:\n",
    "        d = {c : 0 for c in 'abc'}\n",
    "        count = 0\n",
    "        i = 0\n",
    "        \n",
    "        for j in range(len(s)):\n",
    "            d[s[j]] += 1\n",
    "            while all(d.values()):\n",
    "                count += len(s) - j\n",
    "                d[s[i]] -= 1\n",
    "                i += 1\n",
    "                \n",
    "        return count"
   ]
  }
 ],
 "metadata": {
  "kernelspec": {
   "display_name": "Python 3",
   "language": "python",
   "name": "python3"
  },
  "language_info": {
   "codemirror_mode": {
    "name": "ipython",
    "version": 3
   },
   "file_extension": ".py",
   "mimetype": "text/x-python",
   "name": "python",
   "nbconvert_exporter": "python",
   "pygments_lexer": "ipython3",
   "version": "3.7.6"
  }
 },
 "nbformat": 4,
 "nbformat_minor": 4
}
