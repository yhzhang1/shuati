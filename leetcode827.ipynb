{
 "cells": [
  {
   "cell_type": "markdown",
   "metadata": {},
   "source": [
    "https://www.youtube.com/watch?v=KqkXZpRB1x8"
   ]
  },
  {
   "cell_type": "code",
   "execution_count": 1,
   "metadata": {},
   "outputs": [],
   "source": [
    "# T: O(n^2), S: O(n^2)\n",
    "from typing import List\n",
    "class Solution:\n",
    "    def largestIsland(self, grid: List[List[int]]) -> int:\n",
    "        def getArea(x, y) -> int:\n",
    "            if x < 0 or x >= n or y < 0 or y >= n or grid[y][x] != 1:\n",
    "                return 0\n",
    "            grid[y][x] = color_\n",
    "            return 1 + getArea(x-1, y) + getArea(x+1, y) + getArea(x, y-1) + getArea(x, y+1)\n",
    "        def getColor(x, y) -> int:\n",
    "            return 0 if x < 0 or x >= n or y < 0 or y >= n else grid[y][x]\n",
    "\n",
    "        \n",
    "        color_ = 1\n",
    "        n = len(grid)\n",
    "        areas = {}\n",
    "        ans = 0\n",
    "        \n",
    "        for i in range(n):\n",
    "            for j in range(n):\n",
    "                if grid[i][j] == 1:\n",
    "                    color_ += 1\n",
    "                    areas[color_] = getArea(j, i)\n",
    "                    ans = max(ans, areas[color_])\n",
    "                    \n",
    "        for i in range(n):\n",
    "            for j in range(n):\n",
    "                if grid[i][j] == 0:\n",
    "                    area = 1\n",
    "                    for color in set((getColor(j-1, i), getColor(j+1, i), getColor(j, i-1), getColor(j, i+1))):\n",
    "                        area += areas.get(color, 0)\n",
    "                    ans = max(ans, area)\n",
    "                    \n",
    "        return ans\n",
    "        \n",
    "        "
   ]
  },
  {
   "cell_type": "code",
   "execution_count": null,
   "metadata": {},
   "outputs": [],
   "source": []
  }
 ],
 "metadata": {
  "kernelspec": {
   "display_name": "Python 3",
   "language": "python",
   "name": "python3"
  },
  "language_info": {
   "codemirror_mode": {
    "name": "ipython",
    "version": 3
   },
   "file_extension": ".py",
   "mimetype": "text/x-python",
   "name": "python",
   "nbconvert_exporter": "python",
   "pygments_lexer": "ipython3",
   "version": "3.8.5"
  }
 },
 "nbformat": 4,
 "nbformat_minor": 4
}
