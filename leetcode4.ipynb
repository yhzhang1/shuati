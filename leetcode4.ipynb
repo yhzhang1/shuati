{
 "cells": [
  {
   "cell_type": "markdown",
   "metadata": {},
   "source": [
    "https://www.youtube.com/watch?v=KB9IcSCDQ9k"
   ]
  },
  {
   "cell_type": "code",
   "execution_count": 8,
   "metadata": {},
   "outputs": [],
   "source": [
    "class Solution:\n",
    "    def findMedianSortedArrays(self, nums1: List[int], nums2: List[int]) -> float:\n",
    "        n1, n2 = len(nums1), len(nums2)  \n",
    "        if n1 > n2: return self.findMedianSortedArrays(nums2, nums1)\n",
    "        \n",
    "        k = (n1 + n2 + 1) // 2\n",
    "        \n",
    "        l, r = 0, n1\n",
    "        \n",
    "        while l < r:\n",
    "            m1 = (l + r) // 2\n",
    "            m2 = k - m1\n",
    "            if nums1[m1] < nums2[m2 - 1]:\n",
    "                l = m1 + 1\n",
    "            else:\n",
    "                r = m1\n",
    "                \n",
    "        m1 = l\n",
    "        m2 = k - m1\n",
    "        \n",
    "        c1 = max(-sys.maxsize if m1 <= 0 else nums1[m1 - 1], -sys.maxsize if m2 <= 0 else nums2[m2 - 1])\n",
    "        \n",
    "        if (n1 + n2) % 2 == 1:\n",
    "            return c1\n",
    "        \n",
    "        c2 = min(sys.maxsize if m1 >= n1 else nums1[m1], sys.maxsize if m2 >= n2 else nums2[m2])\n",
    "        \n",
    "        return (c1 + c2) / 2"
   ]
  },
  {
   "cell_type": "code",
   "execution_count": 7,
   "metadata": {},
   "outputs": [],
   "source": [
    "class Solution:\n",
    "    def findMedianSortedArrays(self, nums1: List[int], nums2: List[int]) -> float:\n",
    "        n1, n2 = len(nums1), len(nums2)  \n",
    "        if n1 > n2: return self.findMedianSortedArrays(nums2, nums1)\n",
    "        \n",
    "        k = (n1 + n2 + 1) // 2\n",
    "        \n",
    "        l, r = 0, n1\n",
    "        \n",
    "        while l < r:\n",
    "            m1 = (l + r) // 2\n",
    "            m2 = k - m1\n",
    "            if nums1[m1] < nums2[m2 - 1]:\n",
    "                l = m1 + 1\n",
    "            else:\n",
    "                r = m1\n",
    "                \n",
    "        m1 = l\n",
    "        m2 = k - m1\n",
    "        \n",
    "        c1 = max(-sys.maxsize if m1 <= 0 else nums1[m1 - 1], -sys.maxsize if m2 <= 0 else nums2[m2 - 1])\n",
    "        c2 = min(sys.maxsize if m1 >= n1 else nums1[m1], sys.maxsize if m2 >= n2 else nums2[m2])\n",
    "        \n",
    "        return c1 if (n1 + n2) % 2 == 1 else (c1 + c2) / 2"
   ]
  },
  {
   "cell_type": "code",
   "execution_count": 6,
   "metadata": {},
   "outputs": [],
   "source": [
    "from typing import List\n",
    "import sys\n",
    "class Solution:\n",
    "    def findMedianSortedArrays(self, nums1: List[int], nums2: List[int]) -> float:\n",
    "        n1, n2 = len(nums1), len(nums2)  \n",
    "        if n1 > n2: return self.findMedianSortedArrays(nums2, nums1)\n",
    "        \n",
    "        k = (n1 + n2) // 2\n",
    "        \n",
    "        l, r = 0, n1\n",
    "        \n",
    "        while l < r:\n",
    "            m1 = (l + r) // 2\n",
    "            m2 = k - m1\n",
    "            if nums1[m1] < nums2[m2 - 1]:\n",
    "                l = m1 + 1\n",
    "            else:\n",
    "                r = m1\n",
    "                \n",
    "        m1 = l\n",
    "        m2 = k - m1\n",
    "        \n",
    "        c1 = max(-sys.maxsize if m1 <= 0 else nums1[m1 - 1], -sys.maxsize if m2 <= 0 else nums2[m2 - 1])\n",
    "        c2 = min(sys.maxsize if m1 >= n1 else nums1[m1], sys.maxsize if m2 >= n2 else nums2[m2])\n",
    "        \n",
    "        return c2 if (n1 + n2) % 2 == 1 else (c1 + c2) / 2"
   ]
  },
  {
   "cell_type": "code",
   "execution_count": 1,
   "metadata": {},
   "outputs": [],
   "source": [
    "nums1 = [1,3]\n",
    "nums2 = [2]\n"
   ]
  },
  {
   "cell_type": "code",
   "execution_count": 9,
   "metadata": {},
   "outputs": [],
   "source": [
    "nums1 = [1,2]\n",
    "nums2 = [3,4]"
   ]
  },
  {
   "cell_type": "code",
   "execution_count": 7,
   "metadata": {},
   "outputs": [],
   "source": [
    "from typing import List\n",
    "import sys\n",
    "\n",
    "class Solution:\n",
    "    def findMedianSortedArrays(self, nums1: List[int], nums2: List[int]) -> float:\n",
    "        \"\"\"\n",
    "        i: nums1 右边第一个元素的index, 左边元素的个数\n",
    "        j: nums2 右边第一个元素的index, 左边元素的个数\n",
    "        \"\"\"\n",
    "        m = len(nums1)\n",
    "        n = len(nums2)\n",
    "        \n",
    "        if m > n:\n",
    "            m, n, nums1, nums2 = n, m, nums2, nums1\n",
    "            \n",
    "        print('m: {}, n: {}'.format(m, n))\n",
    "                \n",
    "        # nums1 右边第一个， 全在右边, nums1左边0个\n",
    "        imin = 0\n",
    "        # nums1 右边第一个,  全在左边, nums1左边m个\n",
    "        imax = m\n",
    "        \n",
    "        # 左边元素的数量\n",
    "        left_length = (m + n + 1) // 2\n",
    "        print('left length: ', left_length)\n",
    "        \n",
    "        while imin < imax:\n",
    "            i = (imin + imax) // 2\n",
    "            j = left_length - i\n",
    "            print('imin: {}, imax: {}, i: {}, j: {}'.format(imin, imax, i, j))\n",
    "            \n",
    "            if nums1[i] < nums2[j-1]:\n",
    "                #左边i+1个\n",
    "                imin = i+1\n",
    "            else:\n",
    "                imax = i\n",
    "                \n",
    "        i = imin\n",
    "        j = left_length - i\n",
    "                \n",
    "        max_of_left = max(-sys.maxsize if i <= 0 else nums1[i-1],\n",
    "                            -sys.maxsize if j <= 0 else nums2[j-1])\n",
    "        min_of_right = min(sys.maxsize if i >= m else nums1[i], \n",
    "                           sys.maxsize if j >= n else nums2[j])\n",
    "        \n",
    "        print('left mid: ', max_of_left)\n",
    "        print('right mid: ', min_of_right)\n",
    "        \n",
    "        if (m + n) % 2 == 1:\n",
    "            return max_of_left\n",
    "        else:\n",
    "            return (max_of_left + min_of_right) / 2\n",
    "                \n",
    "            \n",
    "                "
   ]
  },
  {
   "cell_type": "code",
   "execution_count": 10,
   "metadata": {},
   "outputs": [
    {
     "name": "stdout",
     "output_type": "stream",
     "text": [
      "m: 2, n: 2\n",
      "left length:  2\n",
      "imin: 0, imax: 2, i: 1, j: 1\n",
      "left mid:  2\n",
      "right mid:  3\n"
     ]
    },
    {
     "data": {
      "text/plain": [
       "2.5"
      ]
     },
     "execution_count": 10,
     "metadata": {},
     "output_type": "execute_result"
    }
   ],
   "source": [
    "Solution().findMedianSortedArrays(nums1, nums2)"
   ]
  },
  {
   "cell_type": "code",
   "execution_count": 8,
   "metadata": {},
   "outputs": [],
   "source": [
    "a = [1,2]\n",
    "b= [3]\n",
    "\n",
    "a, b = b, a\n"
   ]
  },
  {
   "cell_type": "code",
   "execution_count": 9,
   "metadata": {},
   "outputs": [
    {
     "data": {
      "text/plain": [
       "[3]"
      ]
     },
     "execution_count": 9,
     "metadata": {},
     "output_type": "execute_result"
    }
   ],
   "source": [
    "a"
   ]
  },
  {
   "cell_type": "code",
   "execution_count": 10,
   "metadata": {},
   "outputs": [
    {
     "data": {
      "text/plain": [
       "[1, 2]"
      ]
     },
     "execution_count": 10,
     "metadata": {},
     "output_type": "execute_result"
    }
   ],
   "source": [
    "b"
   ]
  },
  {
   "cell_type": "code",
   "execution_count": 21,
   "metadata": {},
   "outputs": [
    {
     "data": {
      "text/plain": [
       "-9223372036854775808"
      ]
     },
     "execution_count": 21,
     "metadata": {},
     "output_type": "execute_result"
    }
   ],
   "source": [
    "import sys\n",
    "\n",
    "-sys.maxsize-1"
   ]
  },
  {
   "cell_type": "code",
   "execution_count": 3,
   "metadata": {},
   "outputs": [
    {
     "data": {
      "text/plain": [
       "1.317431538014886"
      ]
     },
     "execution_count": 3,
     "metadata": {},
     "output_type": "execute_result"
    }
   ],
   "source": [
    "(78750/5000)**(0.1)"
   ]
  },
  {
   "cell_type": "code",
   "execution_count": 5,
   "metadata": {},
   "outputs": [
    {
     "data": {
      "text/plain": [
       "0.35266027941427885"
      ]
     },
     "execution_count": 5,
     "metadata": {},
     "output_type": "execute_result"
    }
   ],
   "source": [
    "import math\n",
    "\n",
    "-1/(math.e*2) + 1 - .4634"
   ]
  },
  {
   "cell_type": "code",
   "execution_count": 3,
   "metadata": {},
   "outputs": [
    {
     "data": {
      "text/plain": [
       "-9223372036854775807"
      ]
     },
     "execution_count": 3,
     "metadata": {},
     "output_type": "execute_result"
    }
   ],
   "source": [
    "import sys\n",
    "\n",
    "-sys.maxsize"
   ]
  },
  {
   "cell_type": "code",
   "execution_count": 4,
   "metadata": {},
   "outputs": [
    {
     "ename": "AttributeError",
     "evalue": "module 'sys' has no attribute 'maxint'",
     "output_type": "error",
     "traceback": [
      "\u001b[1;31m---------------------------------------------------------------------------\u001b[0m",
      "\u001b[1;31mAttributeError\u001b[0m                            Traceback (most recent call last)",
      "\u001b[1;32m<ipython-input-4-142334c936a4>\u001b[0m in \u001b[0;36m<module>\u001b[1;34m\u001b[0m\n\u001b[1;32m----> 1\u001b[1;33m \u001b[0msys\u001b[0m\u001b[1;33m.\u001b[0m\u001b[0mmaxint\u001b[0m\u001b[1;33m\u001b[0m\u001b[1;33m\u001b[0m\u001b[0m\n\u001b[0m",
      "\u001b[1;31mAttributeError\u001b[0m: module 'sys' has no attribute 'maxint'"
     ]
    }
   ],
   "source": [
    "sys.maxint"
   ]
  },
  {
   "cell_type": "code",
   "execution_count": null,
   "metadata": {},
   "outputs": [],
   "source": []
  }
 ],
 "metadata": {
  "kernelspec": {
   "display_name": "Python 3 (ipykernel)",
   "language": "python",
   "name": "python3"
  },
  "language_info": {
   "codemirror_mode": {
    "name": "ipython",
    "version": 3
   },
   "file_extension": ".py",
   "mimetype": "text/x-python",
   "name": "python",
   "nbconvert_exporter": "python",
   "pygments_lexer": "ipython3",
   "version": "3.8.5"
  }
 },
 "nbformat": 4,
 "nbformat_minor": 4
}
