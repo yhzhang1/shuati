{
 "cells": [
  {
   "cell_type": "markdown",
   "metadata": {},
   "source": [
    "https://www.youtube.com/watch?v=9OnS06RYQiw"
   ]
  },
  {
   "cell_type": "code",
   "execution_count": 2,
   "metadata": {},
   "outputs": [],
   "source": [
    "# T:O(mn), S:O(mn)\n",
    "class Solution:\n",
    "    def isMatch(self, s: str, p: str) -> bool:\n",
    "        # match[i][j]: until number of i characters in s and number of j characters in p match\n",
    "        match = [[False] * (len(p)+1) for _ in range(len(s)+1)]\n",
    "        match[0][0] = True\n",
    "        \n",
    "        for pi in range(len(p)):\n",
    "            if p[pi] == '*':\n",
    "                match[0][pi+1] = match[0][pi]\n",
    "                \n",
    "        for si in range(len(s)):\n",
    "            for pi in range(len(p)):\n",
    "                if s[si] == p[pi] or p[pi] == '?':\n",
    "                    match[si+1][pi+1] = match[si][pi]\n",
    "                elif p[pi] == '*':\n",
    "                    # *可以match si之前的, *再match s[si]         # *match empty\n",
    "                    match[si+1][pi+1] = match[si][pi+1] or match[si+1][pi]\n",
    "                    \n",
    "        return match[-1][-1]"
   ]
  },
  {
   "cell_type": "code",
   "execution_count": 4,
   "metadata": {},
   "outputs": [],
   "source": [
    "class Solution:\n",
    "    def isMatch(self, s: str, p: str) -> bool:\n",
    "        match = [[False]*(len(p)+1) for _ in range(len(s)+1)]\n",
    "        match[0][0] = True\n",
    "        \n",
    "        for pi in range(1, len(p)+1):\n",
    "            if p[pi-1] == '*':\n",
    "                match[0][pi] = match[0][pi-1]\n",
    "                \n",
    "        for si in range(1, len(s)+1):\n",
    "            for pi in range(1, len(p)+1):\n",
    "                if s[si-1] == p[pi-1] or p[pi-1] == '?':\n",
    "                    match[si][pi] = match[si-1][pi-1]\n",
    "                elif p[pi-1] == '*':\n",
    "                    match[si][pi] = match[si][pi-1] or match[si-1][pi]\n",
    "                    \n",
    "        return match[-1][-1]"
   ]
  }
 ],
 "metadata": {
  "kernelspec": {
   "display_name": "Python 3 (ipykernel)",
   "language": "python",
   "name": "python3"
  },
  "language_info": {
   "codemirror_mode": {
    "name": "ipython",
    "version": 3
   },
   "file_extension": ".py",
   "mimetype": "text/x-python",
   "name": "python",
   "nbconvert_exporter": "python",
   "pygments_lexer": "ipython3",
   "version": "3.8.5"
  }
 },
 "nbformat": 4,
 "nbformat_minor": 4
}
