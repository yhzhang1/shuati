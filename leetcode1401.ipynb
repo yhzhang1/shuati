{
 "cells": [
  {
   "cell_type": "markdown",
   "id": "a34e5f29-f84c-4dc6-8e39-d731859f6aee",
   "metadata": {},
   "source": [
    "https://leetcode.com/problems/circle-and-rectangle-overlapping/solutions/563463/c-with-simple-explanation/"
   ]
  },
  {
   "cell_type": "code",
   "execution_count": 2,
   "id": "fd1d875c-b74b-4f47-bbc0-20fe52641b5a",
   "metadata": {},
   "outputs": [],
   "source": [
    "# T: O(1), S: O(1)\n",
    "class Solution:\n",
    "    def checkOverlap(self, radius: int, xCenter: int, yCenter: int, x1: int, y1: int, x2: int, y2: int) -> bool:\n",
    "        x1 -= xCenter; x2 -= xCenter\n",
    "        y1 -= yCenter; y2 -= yCenter\n",
    "\n",
    "        minXsquare = 0 if x1*x2 < 0 else min(x1**2, x2**2)\n",
    "        minYsquare = 0 if y1*y2 < 0 else min(y1**2, y2**2)\n",
    "\n",
    "        return minXsquare+minYsquare <= radius**2"
   ]
  },
  {
   "cell_type": "code",
   "execution_count": null,
   "id": "416c400e-2487-4b01-b5ed-e94971c60cc3",
   "metadata": {},
   "outputs": [],
   "source": []
  }
 ],
 "metadata": {
  "kernelspec": {
   "display_name": "Python 3 (ipykernel)",
   "language": "python",
   "name": "python3"
  },
  "language_info": {
   "codemirror_mode": {
    "name": "ipython",
    "version": 3
   },
   "file_extension": ".py",
   "mimetype": "text/x-python",
   "name": "python",
   "nbconvert_exporter": "python",
   "pygments_lexer": "ipython3",
   "version": "3.8.5"
  }
 },
 "nbformat": 4,
 "nbformat_minor": 5
}
