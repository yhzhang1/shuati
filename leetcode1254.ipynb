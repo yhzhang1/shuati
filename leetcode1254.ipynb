{
 "cells": [
  {
   "cell_type": "markdown",
   "id": "d5863ebc-57c5-4cd2-836b-3abca033d3fa",
   "metadata": {},
   "source": [
    "https://leetcode.com/problems/number-of-closed-islands/editorial/\n",
    "\n",
    "https://www.youtube.com/watch?v=1XMpzhFUvco"
   ]
  },
  {
   "cell_type": "code",
   "execution_count": null,
   "id": "a9f20158-6aac-4391-9037-095ed9572766",
   "metadata": {},
   "outputs": [],
   "source": [
    "# T: O(mn), S: O(mn)\n",
    "class Solution:\n",
    "    def closedIsland(self, grid: List[List[int]]) -> int:\n",
    "        def dfs(x,y):\n",
    "            if not (0 <= y < m and 0 <= x <n):\n",
    "                return False\n",
    "            elif grid[y][x] == 1:\n",
    "                return True\n",
    "\n",
    "            grid[y][x] = 1\n",
    "            isClosed = True\n",
    "            dirs = ((0,-1),(0,1),(-1,0),(1,0))\n",
    "            for d in dirs:\n",
    "                nxtX = x + d[0]\n",
    "                nxtY = y + d[1]\n",
    "                if not dfs(nxtX,nxtY):\n",
    "                    isClosed = False\n",
    "            return isClosed\n",
    "\n",
    "        m, n = len(grid), len(grid[0]) if grid else 0\n",
    "        cnt = 0\n",
    "        for i in range(m):\n",
    "            for j in range(n):\n",
    "                if grid[i][j] == 0 and dfs(j,i):\n",
    "                    cnt += 1\n",
    "        return cnt"
   ]
  },
  {
   "cell_type": "code",
   "execution_count": 3,
   "id": "36d75da3-1b73-495a-805e-224ce14ba5b3",
   "metadata": {},
   "outputs": [],
   "source": [
    "# T: O(mn), S: O(mn)\n",
    "from typing import List\n",
    "class Solution:\n",
    "    def closedIsland(self, grid: List[List[int]]) -> int:\n",
    "        def dfs(x,y):\n",
    "            if not (0 <= y <m and 0 <= x <n):\n",
    "                return False\n",
    "            elif grid[y][x] == 1 or visited[y][x]:\n",
    "                return True\n",
    "\n",
    "            visited[y][x] = True\n",
    "            isClosed = True\n",
    "            dirs = ((0,-1),(0,1),(-1,0),(1,0))\n",
    "            for d in dirs:\n",
    "                nxtX = x + d[0]\n",
    "                nxtY = y + d[1]\n",
    "                if not dfs(nxtX,nxtY):\n",
    "                    isClosed = False\n",
    "            return isClosed\n",
    "\n",
    "\n",
    "        m, n = len(grid), len(grid[0]) if grid else 0\n",
    "        visited = [[False]*n for _ in range(m)]\n",
    "        cnt = 0\n",
    "        for i in range(m):\n",
    "            for j in range(n):\n",
    "                if grid[i][j] == 0 and not visited[i][j] and dfs(j,i):\n",
    "                    cnt += 1\n",
    "        return cnt"
   ]
  },
  {
   "cell_type": "code",
   "execution_count": 4,
   "id": "f6494ee3-c901-4426-b81a-e75a13a97623",
   "metadata": {},
   "outputs": [],
   "source": [
    "# T: O(mn), S: O(mn)\n",
    "class Solution:\n",
    "    def closedIsland(self, grid: List[List[int]]) -> int:\n",
    "        def dfs(i,j,depth=0):\n",
    "            if not (0 <= i <m and 0 <= j <n) or grid[i][j] != 0:\n",
    "                return \n",
    "            grid[i][j] = 2\n",
    "            if depth == 0:\n",
    "                islands.append([])\n",
    "            islands[-1].append((i,j))\n",
    "            dfs(i+1,j,depth+1)\n",
    "            dfs(i-1,j,depth+1)\n",
    "            dfs(i,j+1,depth+1)\n",
    "            dfs(i,j-1,depth+1)\n",
    "\n",
    "        m, n = len(grid), len(grid[0]) if grid else 0\n",
    "        islands = []\n",
    "        for i in range(m):\n",
    "            for j in range(n):\n",
    "                dfs(i,j)\n",
    "        n_islands = len(islands)\n",
    "        n_closed_islands = n_islands\n",
    "        for island in islands:\n",
    "            for i,j in island:\n",
    "                if i == 0 or i == m-1 or j == 0 or j == n-1:\n",
    "                    n_closed_islands -= 1\n",
    "                    break\n",
    "        return n_closed_islands"
   ]
  }
 ],
 "metadata": {
  "kernelspec": {
   "display_name": "Python 3 (ipykernel)",
   "language": "python",
   "name": "python3"
  },
  "language_info": {
   "codemirror_mode": {
    "name": "ipython",
    "version": 3
   },
   "file_extension": ".py",
   "mimetype": "text/x-python",
   "name": "python",
   "nbconvert_exporter": "python",
   "pygments_lexer": "ipython3",
   "version": "3.8.5"
  }
 },
 "nbformat": 4,
 "nbformat_minor": 5
}
