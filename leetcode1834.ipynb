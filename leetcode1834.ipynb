{
 "cells": [
  {
   "cell_type": "markdown",
   "id": "3be502c4-1766-4294-ac18-c40313552cf0",
   "metadata": {},
   "source": [
    "https://leetcode.com/problems/single-threaded-cpu/editorial/"
   ]
  },
  {
   "cell_type": "code",
   "execution_count": null,
   "id": "90a038f1-be38-498b-9375-942b3909d294",
   "metadata": {},
   "outputs": [],
   "source": [
    "# T: O(nlogn), S: O(n)\n",
    "from typing import List\n",
    "class Solution:\n",
    "    def getOrder(self, tasks: List[List[int]]) -> List[int]:\n",
    "        n = len(tasks)\n",
    "        q = []\n",
    "        ans = []\n",
    "\n",
    "        sorted_tasks = [(enqueue,process,i) for i, (enqueue, process) in enumerate(tasks)]\n",
    "        sorted_tasks.sort()\n",
    "\n",
    "        task_idx = curr_time = 0\n",
    "\n",
    "        while task_idx < n or q:\n",
    "            if not q and curr_time < sorted_tasks[task_idx][0]:\n",
    "                curr_time = sorted_tasks[task_idx][0]\n",
    "\n",
    "            while task_idx < n and curr_time >= sorted_tasks[task_idx][0]:\n",
    "                _, process_time, original_idx = sorted_tasks[task_idx]\n",
    "                heapq.heappush(q, (process_time, original_idx))\n",
    "                task_idx += 1\n",
    "\n",
    "            process_time, idx = heapq.heappop(q)\n",
    "            curr_time += process_time\n",
    "            ans += [idx]\n",
    "\n",
    "        return ans"
   ]
  }
 ],
 "metadata": {
  "kernelspec": {
   "display_name": "Python 3 (ipykernel)",
   "language": "python",
   "name": "python3"
  },
  "language_info": {
   "codemirror_mode": {
    "name": "ipython",
    "version": 3
   },
   "file_extension": ".py",
   "mimetype": "text/x-python",
   "name": "python",
   "nbconvert_exporter": "python",
   "pygments_lexer": "ipython3",
   "version": "3.8.5"
  }
 },
 "nbformat": 4,
 "nbformat_minor": 5
}
