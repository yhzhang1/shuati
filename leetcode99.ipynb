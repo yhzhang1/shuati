{
 "cells": [
  {
   "cell_type": "markdown",
   "metadata": {},
   "source": [
    "https://leetcode.com/problems/recover-binary-search-tree/solution/"
   ]
  },
  {
   "cell_type": "code",
   "execution_count": 3,
   "metadata": {},
   "outputs": [],
   "source": [
    "# Definition for a binary tree node.\n",
    "# class TreeNode:\n",
    "#     def __init__(self, val=0, left=None, right=None):\n",
    "#         self.val = val\n",
    "#         self.left = left\n",
    "#         self.right = right\n",
    "class Solution:\n",
    "    def recoverTree(self, root: Optional[TreeNode]) -> None:\n",
    "        \"\"\"\n",
    "        Do not return anything, modify root in-place instead.\n",
    "        \"\"\"\n",
    "        def findTwoSwapped(root):\n",
    "            nonlocal x, y, pred\n",
    "            if not root:\n",
    "                return\n",
    "            \n",
    "            findTwoSwapped(root.left)\n",
    "            if pred and root.val < pred.val:\n",
    "                y = root\n",
    "                if not x:\n",
    "                    x = pred\n",
    "                else:\n",
    "                    return\n",
    "                \n",
    "            pred = root\n",
    "            findTwoSwapped(root.right)\n",
    "            \n",
    "            \n",
    "        x = y = pred = None\n",
    "        findTwoSwapped(root)\n",
    "        x.val, y.val = y.val, x.val\n",
    "        "
   ]
  },
  {
   "cell_type": "code",
   "execution_count": 2,
   "metadata": {},
   "outputs": [],
   "source": [
    "from typing import Optional\n",
    "# Definition for a binary tree node.\n",
    "class TreeNode:\n",
    "    def __init__(self, val=0, left=None, right=None):\n",
    "        self.val = val\n",
    "        self.left = left\n",
    "        self.right = right\n",
    "class Solution:\n",
    "    def recoverTree(self, root: Optional[TreeNode]) -> None:\n",
    "        \"\"\"\n",
    "        Do not return anything, modify root in-place instead.\n",
    "        \"\"\"\n",
    "        stack = []\n",
    "        x = y = pred = None\n",
    "        \n",
    "        while stack or root:\n",
    "            while root:\n",
    "                stack.append(root)\n",
    "                root = root.left\n",
    "                \n",
    "            root = stack.pop()\n",
    "            if pred and root.val < pred.val:\n",
    "                y = root\n",
    "                if not x:\n",
    "                    x = pred\n",
    "                else:\n",
    "                    break\n",
    "                    \n",
    "            pred = root\n",
    "            root = root.right\n",
    "            \n",
    "        x.val, y.val = y.val, x.val"
   ]
  },
  {
   "cell_type": "code",
   "execution_count": null,
   "metadata": {},
   "outputs": [],
   "source": []
  }
 ],
 "metadata": {
  "kernelspec": {
   "display_name": "Python 3",
   "language": "python",
   "name": "python3"
  },
  "language_info": {
   "codemirror_mode": {
    "name": "ipython",
    "version": 3
   },
   "file_extension": ".py",
   "mimetype": "text/x-python",
   "name": "python",
   "nbconvert_exporter": "python",
   "pygments_lexer": "ipython3",
   "version": "3.8.5"
  }
 },
 "nbformat": 4,
 "nbformat_minor": 4
}
