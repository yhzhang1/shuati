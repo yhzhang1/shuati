{
 "cells": [
  {
   "cell_type": "markdown",
   "metadata": {},
   "source": [
    "https://leetcode.com/problems/random-pick-with-weight/solution/"
   ]
  },
  {
   "cell_type": "code",
   "execution_count": 6,
   "metadata": {},
   "outputs": [],
   "source": [
    "# T: init O(n) pickIndex O(logn), S: init O(n) pickIndex O(1)\n",
    "\n",
    "class Solution:\n",
    "\n",
    "    def __init__(self, w: List[int]):\n",
    "        self.prefixsums = []\n",
    "        prefixsum = 0\n",
    "        for weight in w:\n",
    "            prefixsum += weight\n",
    "            self.prefixsums += [prefixsum]\n",
    "\n",
    "    def pickIndex(self) -> int:\n",
    "        target = random.randint(0, self.prefixsums[-1] - 1)\n",
    "        l, r = 0, len(self.prefixsums) - 1\n",
    "        while l < r:\n",
    "            mid = (l + r) // 2\n",
    "            if self.prefixsums[mid] > target:\n",
    "                r = mid\n",
    "            else:\n",
    "                l = mid + 1\n",
    "                \n",
    "        return l\n",
    "\n",
    "\n",
    "# Your Solution object will be instantiated and called as such:\n",
    "# obj = Solution(w)\n",
    "# param_1 = obj.pickIndex()"
   ]
  },
  {
   "cell_type": "code",
   "execution_count": 2,
   "metadata": {},
   "outputs": [],
   "source": [
    "from typing import List\n",
    "class Solution:\n",
    "\n",
    "    def __init__(self, w: List[int]):\n",
    "        self.prefixsums = []\n",
    "        prefixsum = 0\n",
    "        for weight in w:\n",
    "            prefixsum += weight\n",
    "            self.prefixsums += [prefixsum]\n",
    "\n",
    "    def pickIndex(self) -> int:\n",
    "        target = random.randint(0, self.prefixsums[-1]-1)\n",
    "        l, r = 0, len(self.prefixsums)\n",
    "        while l < r:\n",
    "            mid = (l + r) // 2\n",
    "            if self.prefixsums[mid] <= target:\n",
    "                l = mid + 1\n",
    "            else:\n",
    "                r = mid\n",
    "        return l\n",
    "\n",
    "\n",
    "# Your Solution object will be instantiated and called as such:\n",
    "# obj = Solution(w)\n",
    "# param_1 = obj.pickIndex()"
   ]
  },
  {
   "cell_type": "code",
   "execution_count": 4,
   "metadata": {},
   "outputs": [],
   "source": [
    "# T: init O(n) pickIndex O(n), S: init O(n) pickIndex O(1)\n",
    "class Solution:\n",
    "\n",
    "    def __init__(self, w: List[int]):\n",
    "        self.prefixsums = []\n",
    "        prefixsum = 0\n",
    "        for weight in w:\n",
    "            prefixsum += weight\n",
    "            self.prefixsums += [prefixsum]\n",
    "\n",
    "    def pickIndex(self) -> int:\n",
    "        target = random.randint(0, self.prefixsums[-1] - 1)\n",
    "        for i, prefixsum in enumerate(self.prefixsums):\n",
    "            if target < prefixsum:\n",
    "                return i\n",
    "\n",
    "\n",
    "# Your Solution object will be instantiated and called as such:\n",
    "# obj = Solution(w)\n",
    "# param_1 = obj.pickIndex()"
   ]
  },
  {
   "cell_type": "code",
   "execution_count": 3,
   "metadata": {},
   "outputs": [
    {
     "data": {
      "text/plain": [
       "3"
      ]
     },
     "execution_count": 3,
     "metadata": {},
     "output_type": "execute_result"
    }
   ],
   "source": [
    "import random\n",
    "\n",
    "random.randint(0,3)"
   ]
  },
  {
   "cell_type": "code",
   "execution_count": 12,
   "metadata": {},
   "outputs": [
    {
     "data": {
      "text/plain": [
       "3"
      ]
     },
     "execution_count": 12,
     "metadata": {},
     "output_type": "execute_result"
    }
   ],
   "source": [
    "random.randint(1,3)"
   ]
  },
  {
   "cell_type": "code",
   "execution_count": null,
   "metadata": {},
   "outputs": [],
   "source": []
  }
 ],
 "metadata": {
  "kernelspec": {
   "display_name": "Python 3",
   "language": "python",
   "name": "python3"
  },
  "language_info": {
   "codemirror_mode": {
    "name": "ipython",
    "version": 3
   },
   "file_extension": ".py",
   "mimetype": "text/x-python",
   "name": "python",
   "nbconvert_exporter": "python",
   "pygments_lexer": "ipython3",
   "version": "3.8.5"
  }
 },
 "nbformat": 4,
 "nbformat_minor": 4
}
