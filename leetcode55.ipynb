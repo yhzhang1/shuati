{
 "cells": [
  {
   "cell_type": "markdown",
   "metadata": {},
   "source": [
    "https://www.youtube.com/watch?v=U3qVF0XrrUI"
   ]
  },
  {
   "cell_type": "code",
   "execution_count": 5,
   "metadata": {},
   "outputs": [],
   "source": [
    "class Solution:\n",
    "    def canJump(self, nums: List[int]) -> bool:\n",
    "        reach = 0\n",
    "        \n",
    "        for i, num in enumerate(nums):\n",
    "            if i > reach:\n",
    "                return False\n",
    "            else:\n",
    "                reach = max(reach, i + num)\n",
    "            \n",
    "        return True\n",
    "\n",
    "                \n",
    "            "
   ]
  },
  {
   "cell_type": "code",
   "execution_count": 3,
   "metadata": {},
   "outputs": [],
   "source": [
    "class Solution:\n",
    "    def canJump(self, nums: List[int]) -> bool:\n",
    "        maxIdx = nums[0]\n",
    "        \n",
    "        for i, num in enumerate(nums):\n",
    "            if i <= maxIdx:\n",
    "                maxIdx = max(maxIdx, i + num)\n",
    "            else:\n",
    "                return False\n",
    "            \n",
    "        return True\n",
    "\n",
    "                \n",
    "            "
   ]
  },
  {
   "cell_type": "code",
   "execution_count": 3,
   "metadata": {},
   "outputs": [],
   "source": [
    "class Solution:\n",
    "    def canJump(self, nums: List[int]) -> bool:\n",
    "        reach = 0\n",
    "        \n",
    "        for i in range(len(nums)):\n",
    "            if i > reach:\n",
    "                break\n",
    "            reach = max(i+nums[i], reach)\n",
    "            if reach >= len(nums)-1:\n",
    "                return True\n",
    "            \n",
    "        return False"
   ]
  },
  {
   "cell_type": "code",
   "execution_count": 2,
   "metadata": {},
   "outputs": [],
   "source": [
    "from typing import List\n",
    "class Solution:\n",
    "    def canJump(self, nums: List[int]) -> bool:\n",
    "        lastPos = len(nums)-1\n",
    "        \n",
    "        for i in range(len(nums)-1, -1, -1):\n",
    "            if i+nums[i] >= lastPos:\n",
    "                lastPos = i\n",
    "                \n",
    "        return lastPos == 0\n",
    "        "
   ]
  },
  {
   "cell_type": "code",
   "execution_count": null,
   "metadata": {},
   "outputs": [],
   "source": []
  }
 ],
 "metadata": {
  "kernelspec": {
   "display_name": "Python 3",
   "language": "python",
   "name": "python3"
  },
  "language_info": {
   "codemirror_mode": {
    "name": "ipython",
    "version": 3
   },
   "file_extension": ".py",
   "mimetype": "text/x-python",
   "name": "python",
   "nbconvert_exporter": "python",
   "pygments_lexer": "ipython3",
   "version": "3.8.5"
  }
 },
 "nbformat": 4,
 "nbformat_minor": 4
}
