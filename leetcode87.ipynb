{
 "cells": [
  {
   "cell_type": "markdown",
   "metadata": {},
   "source": [
    "https://www.youtube.com/watch?v=sETxfdHwxc0"
   ]
  },
  {
   "cell_type": "code",
   "execution_count": 2,
   "metadata": {},
   "outputs": [],
   "source": [
    "from functools import lru_cache\n",
    "class Solution:\n",
    "    @lru_cache(maxsize=None)\n",
    "    def isScramble(self, s1: str, s2: str) -> bool:\n",
    "        if s1 == s2:\n",
    "            return True\n",
    "        if Counter(s1) != Counter(s2):\n",
    "            return False\n",
    "        \n",
    "        L = len(s1)\n",
    "        for k in range(1, L):\n",
    "            if ( self.isScramble(s1[:k], s2[:k]) and self.isScramble(s1[k:], s2[k:]) ) or \\\n",
    "                ( self.isScramble(s1[:k], s2[L-k:]) and self.isScramble(s1[k:], s2[:L-k]) ):\n",
    "                return True\n",
    "                               \n",
    "        return False"
   ]
  },
  {
   "cell_type": "code",
   "execution_count": null,
   "metadata": {},
   "outputs": [],
   "source": []
  }
 ],
 "metadata": {
  "kernelspec": {
   "display_name": "Python 3",
   "language": "python",
   "name": "python3"
  },
  "language_info": {
   "codemirror_mode": {
    "name": "ipython",
    "version": 3
   },
   "file_extension": ".py",
   "mimetype": "text/x-python",
   "name": "python",
   "nbconvert_exporter": "python",
   "pygments_lexer": "ipython3",
   "version": "3.8.5"
  }
 },
 "nbformat": 4,
 "nbformat_minor": 4
}
