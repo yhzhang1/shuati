{
 "cells": [
  {
   "cell_type": "markdown",
   "metadata": {},
   "source": [
    "https://leetcode.com/problems/add-strings/solution/"
   ]
  },
  {
   "cell_type": "code",
   "execution_count": 1,
   "metadata": {},
   "outputs": [],
   "source": [
    "# T: O(max(n1,n2)), S: O(max(n1,n2))\n",
    "class Solution:\n",
    "    def addStrings(self, num1: str, num2: str) -> str:\n",
    "        ans = []\n",
    "        carry = 0\n",
    "        i1, i2 = len(num1)-1, len(num2)-1\n",
    "        \n",
    "        while i1 >= 0 or i2 >= 0 or carry:\n",
    "            x1 = ord(num1[i1]) - ord('0') if i1 >= 0 else 0\n",
    "            x2 = ord(num2[i2]) - ord('0') if i2 >= 0 else 0\n",
    "            digit = (x1 + x2 + carry) % 10\n",
    "            carry = (x1 + x2 + carry) // 10\n",
    "            ans.append(digit)\n",
    "            i1 -= 1\n",
    "            i2 -= 1\n",
    "            \n",
    "        return ''.join(str(x) for x in ans[::-1])"
   ]
  },
  {
   "cell_type": "code",
   "execution_count": null,
   "metadata": {},
   "outputs": [],
   "source": []
  }
 ],
 "metadata": {
  "kernelspec": {
   "display_name": "Python 3",
   "language": "python",
   "name": "python3"
  },
  "language_info": {
   "codemirror_mode": {
    "name": "ipython",
    "version": 3
   },
   "file_extension": ".py",
   "mimetype": "text/x-python",
   "name": "python",
   "nbconvert_exporter": "python",
   "pygments_lexer": "ipython3",
   "version": "3.8.5"
  }
 },
 "nbformat": 4,
 "nbformat_minor": 4
}
