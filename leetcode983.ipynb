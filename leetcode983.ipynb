{
 "cells": [
  {
   "cell_type": "markdown",
   "metadata": {},
   "source": [
    "https://leetcode.com/problems/minimum-cost-for-tickets/solution/"
   ]
  },
  {
   "cell_type": "code",
   "execution_count": 5,
   "metadata": {},
   "outputs": [],
   "source": [
    "# T: O(n), S: O(n)\n",
    "class Solution:\n",
    "    def mincostTickets(self, days: List[int], costs: List[int]) -> int:\n",
    "        @lru_cache(None)\n",
    "        def dp(i):\n",
    "            if i >= n:\n",
    "                return 0\n",
    "            \n",
    "            ans = float('inf')\n",
    "            j = i\n",
    "            for c, d in zip(costs, durations):\n",
    "                while j < n and days[j] < days[i] + d:\n",
    "                    j += 1\n",
    "                ans = min(ans, dp(j) + c)\n",
    "            \n",
    "            return ans\n",
    "            \n",
    "        n = len(days)\n",
    "        durations = [1, 7, 30]\n",
    "        return dp(0)"
   ]
  },
  {
   "cell_type": "code",
   "execution_count": 1,
   "metadata": {},
   "outputs": [],
   "source": [
    "# T: O(w), S: O(w), where w=365\n",
    "from typing import List\n",
    "class Solution:\n",
    "    def mincostTickets(self, days: List[int], costs: List[int]) -> int: \n",
    "        '''\n",
    "        dp(i) = min(dp(i+1)+c0, dp(i+7)+c1, dp(i+30)+c2) , if day i has to travel\n",
    "                dp(i+1),  otherwise\n",
    "        dp(i): mininum cost from day i to the end\n",
    "        '''\n",
    "        @lru_cache(None)\n",
    "        def dp(i):\n",
    "            if i > 365:\n",
    "                return 0\n",
    "            elif i in dayset:\n",
    "                return min(dp(i+d) + c for c, d in zip(costs, durations))\n",
    "            else:\n",
    "                return dp(i+1)\n",
    "            \n",
    "        dayset = set(days)\n",
    "        durations = [1, 7, 30]\n",
    "        return dp(1)"
   ]
  },
  {
   "cell_type": "code",
   "execution_count": null,
   "metadata": {},
   "outputs": [],
   "source": []
  }
 ],
 "metadata": {
  "kernelspec": {
   "display_name": "Python 3",
   "language": "python",
   "name": "python3"
  },
  "language_info": {
   "codemirror_mode": {
    "name": "ipython",
    "version": 3
   },
   "file_extension": ".py",
   "mimetype": "text/x-python",
   "name": "python",
   "nbconvert_exporter": "python",
   "pygments_lexer": "ipython3",
   "version": "3.8.5"
  }
 },
 "nbformat": 4,
 "nbformat_minor": 4
}
