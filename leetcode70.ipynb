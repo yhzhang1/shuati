{
 "cells": [
  {
   "cell_type": "markdown",
   "metadata": {},
   "source": [
    "https://www.youtube.com/watch?v=LpsDWvkd-4Q\n",
    "\n",
    "https://www.youtube.com/watch?v=NgamBohlrf8"
   ]
  },
  {
   "cell_type": "code",
   "execution_count": 1,
   "metadata": {},
   "outputs": [],
   "source": [
    "class Solution:\n",
    "    def climbStairs(self, n: int) -> int:\n",
    "        dp = [1] * (n+1)\n",
    "        \n",
    "        for i in range(2,n+1):\n",
    "            dp[i] = dp[i-1] + dp[i-2]\n",
    "            \n",
    "        return dp[-1]"
   ]
  },
  {
   "cell_type": "code",
   "execution_count": 2,
   "metadata": {},
   "outputs": [],
   "source": [
    "class Solution:\n",
    "    def __init__(self):\n",
    "        self.f_ = []\n",
    "    def climbStairs(self, n: int) -> int:\n",
    "        self.f_ = [0]*(n+1)\n",
    "        \n",
    "        return self.numOfSolutions(n)        \n",
    "\n",
    "        \n",
    "    def numOfSolutions(self, n):\n",
    "        if n <= 1:\n",
    "            return 1\n",
    "        if self.f_[n] > 0:\n",
    "            return self.f_[n]\n",
    "        \n",
    "        self.f_[n] = self.numOfSolutions(n-1) + self.numOfSolutions(n-2)\n",
    "        \n",
    "        return self.f_[n]\n",
    "        "
   ]
  },
  {
   "cell_type": "code",
   "execution_count": 3,
   "metadata": {},
   "outputs": [],
   "source": [
    "class Solution:\n",
    "    def climbStairs(self, n: int) -> int:\n",
    "        prev, current = 0, 1\n",
    "        for i in range(n):\n",
    "            prev, current = current, prev + current\n",
    "        return current"
   ]
  },
  {
   "cell_type": "code",
   "execution_count": null,
   "metadata": {},
   "outputs": [],
   "source": []
  }
 ],
 "metadata": {
  "kernelspec": {
   "display_name": "Python 3",
   "language": "python",
   "name": "python3"
  },
  "language_info": {
   "codemirror_mode": {
    "name": "ipython",
    "version": 3
   },
   "file_extension": ".py",
   "mimetype": "text/x-python",
   "name": "python",
   "nbconvert_exporter": "python",
   "pygments_lexer": "ipython3",
   "version": "3.8.5"
  }
 },
 "nbformat": 4,
 "nbformat_minor": 4
}
