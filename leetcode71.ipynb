{
 "cells": [
  {
   "cell_type": "markdown",
   "metadata": {},
   "source": [
    "https://www.youtube.com/watch?v=oeuaGi_2vHM"
   ]
  },
  {
   "cell_type": "code",
   "execution_count": 2,
   "metadata": {},
   "outputs": [],
   "source": [
    "# T: O(N), S: O(N)\n",
    "class Solution:\n",
    "    def simplifyPath(self, path: str) -> str:\n",
    "        pathList = path.split('/')\n",
    "        stack = []\n",
    "        \n",
    "        for p in pathList:\n",
    "            if p == '.':\n",
    "                continue\n",
    "            elif p == '..':\n",
    "                if stack:\n",
    "                    stack.pop()\n",
    "            elif p:\n",
    "                stack.append(p)\n",
    "                                \n",
    "        return '/' + '/'.join(stack)"
   ]
  },
  {
   "cell_type": "code",
   "execution_count": 4,
   "metadata": {},
   "outputs": [],
   "source": [
    "# T: O(N), S: O(N)\n",
    "class Solution:\n",
    "    def simplifyPath(self, path: str) -> str:\n",
    "        stack = []\n",
    "        path_list = path.split('/')\n",
    "        \n",
    "        for p in path_list:\n",
    "            if p:\n",
    "                if p == '..':\n",
    "                    if stack:\n",
    "                        stack.pop()\n",
    "                elif p == '.':\n",
    "                    continue\n",
    "                else:\n",
    "                    stack.append(p)\n",
    "                    \n",
    "        return '/' + '/'.join(stack)\n",
    "            \n",
    "        \n",
    "            "
   ]
  },
  {
   "cell_type": "code",
   "execution_count": 3,
   "metadata": {},
   "outputs": [],
   "source": [
    "class Solution:\n",
    "    def simplifyPath(self, path: str) -> str:\n",
    "        stack = []\n",
    "        \n",
    "        s = ''\n",
    "        for i in range(len(path)):\n",
    "            if path[i] == '/':\n",
    "                s = ''\n",
    "            s += path[i]\n",
    "            if (i < len(path)-1 and path[i+1] == '/') or i == len(path)-1 :\n",
    "                if s == '/..':\n",
    "                    if len(stack) > 0:\n",
    "                        stack.pop()\n",
    "                elif s == '/.':\n",
    "                    pass\n",
    "                elif s == '/':\n",
    "                    pass\n",
    "                else:\n",
    "                    stack.append(s)\n",
    "                    \n",
    "            \n",
    "            \n",
    "        return ''.join(stack) if len(stack) > 0 else '/'\n",
    "            \n",
    "        \n",
    "            "
   ]
  },
  {
   "cell_type": "code",
   "execution_count": 8,
   "metadata": {},
   "outputs": [
    {
     "data": {
      "text/plain": [
       "['', 'a', '..', '..', 'b', '..', 'c', '', '.', '', '']"
      ]
     },
     "execution_count": 8,
     "metadata": {},
     "output_type": "execute_result"
    }
   ],
   "source": [
    "\"/a/../../b/../c//.//\".split('/')"
   ]
  },
  {
   "cell_type": "code",
   "execution_count": 15,
   "metadata": {},
   "outputs": [
    {
     "data": {
      "text/plain": [
       "'a/b/c'"
      ]
     },
     "execution_count": 15,
     "metadata": {},
     "output_type": "execute_result"
    }
   ],
   "source": [
    "'/'.join(['a','b','c'])"
   ]
  },
  {
   "cell_type": "code",
   "execution_count": 1,
   "metadata": {},
   "outputs": [
    {
     "data": {
      "text/plain": [
       "['', 'home', '']"
      ]
     },
     "execution_count": 1,
     "metadata": {},
     "output_type": "execute_result"
    }
   ],
   "source": [
    "\"/home/\".split('/')"
   ]
  },
  {
   "cell_type": "code",
   "execution_count": 3,
   "metadata": {},
   "outputs": [
    {
     "data": {
      "text/plain": [
       "'a/b'"
      ]
     },
     "execution_count": 3,
     "metadata": {},
     "output_type": "execute_result"
    }
   ],
   "source": [
    "'/'.join(['a','b'])"
   ]
  },
  {
   "cell_type": "code",
   "execution_count": null,
   "metadata": {},
   "outputs": [],
   "source": []
  }
 ],
 "metadata": {
  "kernelspec": {
   "display_name": "Python 3",
   "language": "python",
   "name": "python3"
  },
  "language_info": {
   "codemirror_mode": {
    "name": "ipython",
    "version": 3
   },
   "file_extension": ".py",
   "mimetype": "text/x-python",
   "name": "python",
   "nbconvert_exporter": "python",
   "pygments_lexer": "ipython3",
   "version": "3.8.5"
  }
 },
 "nbformat": 4,
 "nbformat_minor": 4
}
