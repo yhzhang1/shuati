{
 "cells": [
  {
   "cell_type": "markdown",
   "metadata": {},
   "source": [
    "https://www.youtube.com/watch?v=HHiHno66j40"
   ]
  },
  {
   "cell_type": "code",
   "execution_count": 2,
   "metadata": {},
   "outputs": [],
   "source": [
    "from typing import List\n",
    "class Solution:\n",
    "    def findCircleNum(self, M: List[List[int]]) -> int:\n",
    "        n = len(M)\n",
    "        visited = [False] * n\n",
    "        ans = 0\n",
    "        \n",
    "        for i in range(n):\n",
    "            if visited[i]:\n",
    "                continue\n",
    "            self.dfs(M, i, n, visited)\n",
    "            ans += 1\n",
    "            \n",
    "        return ans\n",
    "            \n",
    "    def dfs(self, M, cur, n, visited):\n",
    "        if visited[cur]:\n",
    "            return\n",
    "        \n",
    "        visited[cur] = True\n",
    "        for i in range(n):\n",
    "            if M[cur][i] and not visited[i]:\n",
    "                self.dfs(M, i, n, visited)\n",
    "                \n",
    "        "
   ]
  }
 ],
 "metadata": {
  "kernelspec": {
   "display_name": "Python 3",
   "language": "python",
   "name": "python3"
  },
  "language_info": {
   "name": ""
  }
 },
 "nbformat": 4,
 "nbformat_minor": 4
}
