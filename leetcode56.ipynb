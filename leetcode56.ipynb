{
 "cells": [
  {
   "cell_type": "markdown",
   "metadata": {},
   "source": [
    "https://www.bilibili.com/video/BV1u4411y7bw?from=search&seid=5992254085416287286&spm_id_from=333.337.0.0\n",
    "\n",
    "https://www.youtube.com/watch?v=iZKT4MEbPnQ"
   ]
  },
  {
   "cell_type": "code",
   "execution_count": 3,
   "metadata": {},
   "outputs": [],
   "source": [
    "# no better solution found \n",
    "# T: O(nlogn), S: O(n)\n",
    "class Solution:\n",
    "    def merge(self, intervals: List[List[int]]) -> List[List[int]]:\n",
    "        ans = []\n",
    "        intervals.sort(key=lambda x: x[0])\n",
    "        \n",
    "        for interval in intervals:\n",
    "            if ans:\n",
    "                preStart, preEnd = ans[-1]\n",
    "                curStart, curEnd = interval\n",
    "                \n",
    "                # since intervals is sorted, preStart has to be <= curStart\n",
    "                if curStart <= preEnd:\n",
    "                    # has overlapping\n",
    "                    ans[-1][1] = max(preEnd, curEnd)\n",
    "                else:\n",
    "                    ans += [interval]\n",
    "            else:\n",
    "                ans += [interval]\n",
    "                \n",
    "        return ans"
   ]
  },
  {
   "cell_type": "code",
   "execution_count": 2,
   "metadata": {},
   "outputs": [],
   "source": [
    "from typing import List\n",
    "class Solution:\n",
    "    def merge(self, intervals: List[List[int]]) -> List[List[int]]:\n",
    "        ans = []\n",
    "        intervals.sort(key=lambda x: x[0])\n",
    "        \n",
    "        for interval in intervals:\n",
    "            if ans:\n",
    "                preStart = ans[-1][0]\n",
    "                preEnd = ans[-1][1]\n",
    "                \n",
    "                curStart = interval[0]\n",
    "                curEnd = interval[1]\n",
    "                \n",
    "                hi = min(preEnd, curEnd)\n",
    "                lo = max(preStart, curStart)\n",
    "                \n",
    "                if lo <= hi:\n",
    "                    ans[-1][1] = max(preEnd, curEnd)\n",
    "                else:\n",
    "                    ans.append(interval)\n",
    "            else:\n",
    "                ans.append(interval)\n",
    "                \n",
    "        return ans"
   ]
  },
  {
   "cell_type": "code",
   "execution_count": null,
   "metadata": {},
   "outputs": [],
   "source": []
  }
 ],
 "metadata": {
  "kernelspec": {
   "display_name": "Python 3 (ipykernel)",
   "language": "python",
   "name": "python3"
  },
  "language_info": {
   "codemirror_mode": {
    "name": "ipython",
    "version": 3
   },
   "file_extension": ".py",
   "mimetype": "text/x-python",
   "name": "python",
   "nbconvert_exporter": "python",
   "pygments_lexer": "ipython3",
   "version": "3.11.5"
  }
 },
 "nbformat": 4,
 "nbformat_minor": 4
}
