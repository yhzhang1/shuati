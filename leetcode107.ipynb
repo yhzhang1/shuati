{
 "cells": [
  {
   "cell_type": "code",
   "execution_count": 5,
   "metadata": {},
   "outputs": [],
   "source": [
    "# Definition for a binary tree node.\n",
    "# class TreeNode:\n",
    "#     def __init__(self, val=0, left=None, right=None):\n",
    "#         self.val = val\n",
    "#         self.left = left\n",
    "#         self.right = right\n",
    "class Solution:\n",
    "    def levelOrderBottom(self, root: Optional[TreeNode]) -> List[List[int]]:\n",
    "        ans = []\n",
    "        if not root:\n",
    "            return ans\n",
    "        queue = deque([root])\n",
    "        \n",
    "        while queue:\n",
    "            level = []\n",
    "            for _ in range(len(queue)):\n",
    "                node = queue.pop()\n",
    "                level.append(node.val)\n",
    "                if node.left:\n",
    "                    queue.appendleft(node.left)\n",
    "                if node.right:\n",
    "                    queue.appendleft(node.right)\n",
    "            ans.append(level)\n",
    "            \n",
    "        return ans[::-1]"
   ]
  },
  {
   "cell_type": "code",
   "execution_count": 4,
   "metadata": {},
   "outputs": [],
   "source": [
    "from typing import Optional, List\n",
    "# Definition for a binary tree node.\n",
    "class TreeNode:\n",
    "    def __init__(self, val=0, left=None, right=None):\n",
    "        self.val = val\n",
    "        self.left = left\n",
    "        self.right = right\n",
    "class Solution:\n",
    "    def levelOrderBottom(self, root: Optional[TreeNode]) -> List[List[int]]:\n",
    "        ans = []\n",
    "        if not root:\n",
    "            return ans\n",
    "        \n",
    "        levelLength = []\n",
    "        queue = deque([root])\n",
    "        stack = []\n",
    "        \n",
    "        while queue:\n",
    "            levelLength.append(len(queue))\n",
    "            for i in range(len(queue)):\n",
    "                node = queue.pop()\n",
    "                stack.append(node.val)\n",
    "                if node.right:\n",
    "                    queue.appendleft(node.right)\n",
    "                if node.left:\n",
    "                    queue.appendleft(node.left)\n",
    "                    \n",
    "                \n",
    "        for i in reversed(range(len(levelLength))):\n",
    "            level = []\n",
    "            for _ in range(levelLength[i]):\n",
    "                level.append(stack.pop())\n",
    "            ans.append(level)\n",
    "                \n",
    "        return ans\n",
    "            \n",
    "            "
   ]
  },
  {
   "cell_type": "code",
   "execution_count": null,
   "metadata": {},
   "outputs": [],
   "source": []
  }
 ],
 "metadata": {
  "kernelspec": {
   "display_name": "Python 3",
   "language": "python",
   "name": "python3"
  },
  "language_info": {
   "codemirror_mode": {
    "name": "ipython",
    "version": 3
   },
   "file_extension": ".py",
   "mimetype": "text/x-python",
   "name": "python",
   "nbconvert_exporter": "python",
   "pygments_lexer": "ipython3",
   "version": "3.8.5"
  }
 },
 "nbformat": 4,
 "nbformat_minor": 4
}
