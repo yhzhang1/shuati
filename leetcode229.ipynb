{
 "cells": [
  {
   "cell_type": "markdown",
   "metadata": {},
   "source": [
    "https://www.youtube.com/watch?v=FGwCv6JAZQ8"
   ]
  },
  {
   "cell_type": "code",
   "execution_count": 6,
   "metadata": {},
   "outputs": [],
   "source": [
    "class Solution:\n",
    "    def majorityElement(self, nums: List[int]) -> List[int]:\n",
    "        num1, num2 = 0, 0\n",
    "        c1, c2 = 0, 0\n",
    "        ans = list()\n",
    "        \n",
    "        for i in nums:\n",
    "            if i == num1:\n",
    "                c1 += 1\n",
    "            elif i == num2:\n",
    "                c2 += 1\n",
    "            elif c1 == 0:\n",
    "                num1 = i\n",
    "                c1 = 1\n",
    "            elif c2 == 0:\n",
    "                num2 = i\n",
    "                c2 = 1\n",
    "            else:\n",
    "                c1 -= 1\n",
    "                c2 -= 1\n",
    "                \n",
    "        c1 = 0\n",
    "        c2 = 0\n",
    "        \n",
    "        for i in nums:\n",
    "            if i == num1:\n",
    "                c1 += 1\n",
    "            elif i == num2:\n",
    "                c2 += 1\n",
    "                \n",
    "        l = len(nums)\n",
    "        if c1 > l // 3:\n",
    "            ans.append(num1)\n",
    "        if c2 > l // 3:\n",
    "            ans.append(num2)\n",
    "            \n",
    "        return ans"
   ]
  },
  {
   "cell_type": "code",
   "execution_count": 3,
   "metadata": {},
   "outputs": [
    {
     "data": {
      "text/plain": [
       "{1}"
      ]
     },
     "execution_count": 3,
     "metadata": {},
     "output_type": "execute_result"
    }
   ],
   "source": [
    "s"
   ]
  }
 ],
 "metadata": {
  "kernelspec": {
   "display_name": "Python 3",
   "language": "python",
   "name": "python3"
  },
  "language_info": {
   "codemirror_mode": {
    "name": "ipython",
    "version": 3
   },
   "file_extension": ".py",
   "mimetype": "text/x-python",
   "name": "python",
   "nbconvert_exporter": "python",
   "pygments_lexer": "ipython3",
   "version": "3.7.6"
  }
 },
 "nbformat": 4,
 "nbformat_minor": 4
}
