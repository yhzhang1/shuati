{
 "cells": [
  {
   "cell_type": "markdown",
   "metadata": {},
   "source": [
    "https://www.youtube.com/watch?v=UwdX19UvoCI"
   ]
  },
  {
   "cell_type": "code",
   "execution_count": 3,
   "metadata": {},
   "outputs": [],
   "source": [
    "class Solution:\n",
    "    def combinationSum3(self, k: int, n: int) -> List[List[int]]:\n",
    "        def dfs(k, n, s, cur):\n",
    "            if k == 0:\n",
    "                if n == 0:  ans.append(cur[:])\n",
    "                return\n",
    "            \n",
    "            for i in range(s,10):\n",
    "                if i > n:   return\n",
    "                cur.append(i)\n",
    "                dfs(k-1, n-i, i+1, cur)\n",
    "                cur.pop()\n",
    "                \n",
    "        ans = list()\n",
    "        dfs(k, n, 1, [])\n",
    "        return ans\n",
    "        \n",
    "        "
   ]
  },
  {
   "cell_type": "code",
   "execution_count": 2,
   "metadata": {},
   "outputs": [],
   "source": [
    "from typing import List\n",
    "class Solution:\n",
    "    def combinationSum3(self, k: int, n: int) -> List[List[int]]:\n",
    "        def dfs(d, s, cur, sum):\n",
    "            if d == k:\n",
    "                if sum == n:\n",
    "                    ans.append(cur[:])\n",
    "                return\n",
    "            if sum > n:\n",
    "                return\n",
    "            \n",
    "            for i in range(s,10):\n",
    "                cur.append(i)\n",
    "                dfs(d+1, i+1, cur, sum+i)\n",
    "                cur.pop()\n",
    "                \n",
    "        ans = list()\n",
    "        dfs(0, 1, [], 0)\n",
    "        return ans\n",
    "        \n",
    "        "
   ]
  }
 ],
 "metadata": {
  "kernelspec": {
   "display_name": "Python 3",
   "language": "python",
   "name": "python3"
  },
  "language_info": {
   "codemirror_mode": {
    "name": "ipython",
    "version": 3
   },
   "file_extension": ".py",
   "mimetype": "text/x-python",
   "name": "python",
   "nbconvert_exporter": "python",
   "pygments_lexer": "ipython3",
   "version": "3.7.6"
  }
 },
 "nbformat": 4,
 "nbformat_minor": 4
}
