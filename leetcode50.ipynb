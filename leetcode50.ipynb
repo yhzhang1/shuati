{
 "cells": [
  {
   "cell_type": "markdown",
   "metadata": {},
   "source": [
    "https://www.youtube.com/watch?v=yEQq3t3T_J0\n",
    "\n",
    "https://www.bilibili.com/video/BV1H4411S7jV?from=search&seid=14829528170862227328&spm_id_from=333.337.0.0"
   ]
  },
  {
   "cell_type": "code",
   "execution_count": 1,
   "metadata": {},
   "outputs": [],
   "source": [
    "# T: O(logn) S: O(1)\n",
    "class Solution:\n",
    "    def myPow(self, x: float, n: int) -> float:\n",
    "        if n == 0:  return 1\n",
    "        if n < 0:\n",
    "            return 1/self.myPow(x, -n)\n",
    "        res = 1\n",
    "        while n > 1:\n",
    "            if n % 2 == 1:\n",
    "                res *= x\n",
    "            x *= x\n",
    "            n //= 2\n",
    "\n",
    "        res *= x\n",
    "            \n",
    "        return res"
   ]
  },
  {
   "cell_type": "code",
   "execution_count": null,
   "metadata": {},
   "outputs": [],
   "source": []
  }
 ],
 "metadata": {
  "kernelspec": {
   "display_name": "Python 3",
   "language": "python",
   "name": "python3"
  },
  "language_info": {
   "codemirror_mode": {
    "name": "ipython",
    "version": 3
   },
   "file_extension": ".py",
   "mimetype": "text/x-python",
   "name": "python",
   "nbconvert_exporter": "python",
   "pygments_lexer": "ipython3",
   "version": "3.8.5"
  }
 },
 "nbformat": 4,
 "nbformat_minor": 4
}
