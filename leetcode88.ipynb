{
 "cells": [
  {
   "cell_type": "code",
   "execution_count": 2,
   "metadata": {},
   "outputs": [],
   "source": [
    "from typing import List\n",
    "class Solution:\n",
    "    def merge(self, nums1: List[int], m: int, nums2: List[int], n: int) -> None:\n",
    "        \"\"\"\n",
    "        Do not return anything, modify nums1 in-place instead.\n",
    "        \"\"\"\n",
    "        k = m + n - 1\n",
    "        i = m - 1\n",
    "        j = n - 1\n",
    "        \n",
    "        while i >= 0 or j >= 0:\n",
    "            if i < 0:\n",
    "                nums1[k] = nums2[j]\n",
    "                j -= 1\n",
    "            elif j < 0:\n",
    "                nums1[k] = nums1[i]\n",
    "                i -= 1\n",
    "            elif nums1[i] > nums2[j]:\n",
    "                nums1[k] = nums1[i]\n",
    "                i -= 1\n",
    "            else:\n",
    "                nums1[k] = nums2[j]\n",
    "                j -= 1\n",
    "            k -= 1\n",
    "            "
   ]
  },
  {
   "cell_type": "code",
   "execution_count": null,
   "metadata": {},
   "outputs": [],
   "source": []
  }
 ],
 "metadata": {
  "kernelspec": {
   "display_name": "Python 3",
   "language": "python",
   "name": "python3"
  },
  "language_info": {
   "codemirror_mode": {
    "name": "ipython",
    "version": 3
   },
   "file_extension": ".py",
   "mimetype": "text/x-python",
   "name": "python",
   "nbconvert_exporter": "python",
   "pygments_lexer": "ipython3",
   "version": "3.8.5"
  }
 },
 "nbformat": 4,
 "nbformat_minor": 4
}
