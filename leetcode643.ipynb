{
 "cells": [
  {
   "cell_type": "code",
   "execution_count": 6,
   "metadata": {},
   "outputs": [],
   "source": [
    "from typing import List\n",
    "class Solution:\n",
    "    def findMaxAverage(self, nums: List[int], k: int) -> float:\n",
    "\n",
    "        maxSum = -float('inf')\n",
    "        S = 0\n",
    "        for i in range(len(nums)):\n",
    "            if i < k - 1:\n",
    "                S += nums[i]\n",
    "            elif i == k - 1:\n",
    "                S += nums[i]\n",
    "                maxSum = S\n",
    "            else:\n",
    "                S += nums[i] - nums[i-k]\n",
    "                maxSum = max(maxSum, S)\n",
    "            \n",
    "        return maxSum / k"
   ]
  }
 ],
 "metadata": {
  "kernelspec": {
   "display_name": "Python 3",
   "language": "python",
   "name": "python3"
  },
  "language_info": {
   "codemirror_mode": {
    "name": "ipython",
    "version": 3
   },
   "file_extension": ".py",
   "mimetype": "text/x-python",
   "name": "python",
   "nbconvert_exporter": "python",
   "pygments_lexer": "ipython3",
   "version": "3.7.6"
  }
 },
 "nbformat": 4,
 "nbformat_minor": 4
}
