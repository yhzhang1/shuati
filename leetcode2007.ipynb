{
 "cells": [
  {
   "cell_type": "markdown",
   "id": "46c486b2-eba9-4ace-bd36-f4d643f3343b",
   "metadata": {},
   "source": [
    "https://www.youtube.com/watch?v=z40B-Mr9_qk"
   ]
  },
  {
   "cell_type": "code",
   "execution_count": 3,
   "id": "5e3fed7b-a040-4505-95fc-db674b79337e",
   "metadata": {},
   "outputs": [],
   "source": [
    "# T: O(nlogn), S: O(n)\n",
    "from typing import List\n",
    "class Solution:\n",
    "    def findOriginalArray(self, changed: List[int]) -> List[int]:\n",
    "        n = len(changed)\n",
    "        if n % 2:\n",
    "            return []\n",
    "        count = Counter(changed)\n",
    "        changed.sort()\n",
    "        ans = []\n",
    "        for num in changed:\n",
    "            if num == 0 and count[num] >= 2:\n",
    "                count[num] -= 2\n",
    "                ans.append(num)\n",
    "            elif num > 0 and count[num] and count[2*num]:\n",
    "                count[num] -= 1\n",
    "                count[2*num] -= 1\n",
    "                ans.append(num)\n",
    "        return ans if len(ans) == n //2 else []"
   ]
  },
  {
   "cell_type": "code",
   "execution_count": null,
   "id": "342ca9ff-0cd9-4fb9-8e18-0fec5cebd885",
   "metadata": {},
   "outputs": [],
   "source": []
  }
 ],
 "metadata": {
  "kernelspec": {
   "display_name": "Python 3 (ipykernel)",
   "language": "python",
   "name": "python3"
  },
  "language_info": {
   "codemirror_mode": {
    "name": "ipython",
    "version": 3
   },
   "file_extension": ".py",
   "mimetype": "text/x-python",
   "name": "python",
   "nbconvert_exporter": "python",
   "pygments_lexer": "ipython3",
   "version": "3.8.5"
  }
 },
 "nbformat": 4,
 "nbformat_minor": 5
}
