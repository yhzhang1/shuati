{
 "cells": [
  {
   "cell_type": "markdown",
   "metadata": {},
   "source": [
    "https://www.youtube.com/watch?v=Tuij96VBdu8\n",
    "\n",
    "https://www.youtube.com/watch?v=B0n3gqPKKic"
   ]
  },
  {
   "cell_type": "code",
   "execution_count": 6,
   "metadata": {},
   "outputs": [],
   "source": [
    "# Definition for a binary tree node.\n",
    "# class TreeNode:\n",
    "#     def __init__(self, val=0, left=None, right=None):\n",
    "#         self.val = val\n",
    "#         self.left = left\n",
    "#         self.right = right\n",
    "class Solution:\n",
    "    def levelOrder(self, root: Optional[TreeNode]) -> List[List[int]]:\n",
    "        def dfs(root, depth):\n",
    "            if not root:    return\n",
    "            \n",
    "            while len(ans) <= depth:\n",
    "                ans.append([])\n",
    "                \n",
    "            ans[depth].append(root.val)\n",
    "            dfs(root.left, depth+1)\n",
    "            dfs(root.right, depth+1)\n",
    "            \n",
    "        ans = []\n",
    "        dfs(root, 0)\n",
    "        return ans\n",
    "    \n",
    "    \n"
   ]
  },
  {
   "cell_type": "code",
   "execution_count": 3,
   "metadata": {},
   "outputs": [],
   "source": [
    "from typing import Optional, List\n",
    "# Definition for a binary tree node.\n",
    "class TreeNode:\n",
    "    def __init__(self, val=0, left=None, right=None):\n",
    "        self.val = val\n",
    "        self.left = left\n",
    "        self.right = right\n",
    "class Solution:\n",
    "    def levelOrder(self, root: Optional[TreeNode]) -> List[List[int]]:\n",
    "        if not root:    return []\n",
    "        ans = []\n",
    "        queue = deque([root])\n",
    "        while queue:\n",
    "            cur = []\n",
    "            for i in range(len(queue)):\n",
    "                node = queue.pop()\n",
    "                cur.append(node.val)\n",
    "                if node.left:\n",
    "                    queue.appendleft(node.left)\n",
    "                if node.right:\n",
    "                    queue.appendleft(node.right)\n",
    "            ans.append(cur)\n",
    "                    \n",
    "        return ans\n",
    "            "
   ]
  },
  {
   "cell_type": "code",
   "execution_count": 5,
   "metadata": {},
   "outputs": [
    {
     "data": {
      "text/plain": [
       "1"
      ]
     },
     "execution_count": 5,
     "metadata": {},
     "output_type": "execute_result"
    }
   ],
   "source": [
    "len([[]])"
   ]
  },
  {
   "cell_type": "code",
   "execution_count": null,
   "metadata": {},
   "outputs": [],
   "source": []
  }
 ],
 "metadata": {
  "kernelspec": {
   "display_name": "Python 3",
   "language": "python",
   "name": "python3"
  },
  "language_info": {
   "codemirror_mode": {
    "name": "ipython",
    "version": 3
   },
   "file_extension": ".py",
   "mimetype": "text/x-python",
   "name": "python",
   "nbconvert_exporter": "python",
   "pygments_lexer": "ipython3",
   "version": "3.8.5"
  }
 },
 "nbformat": 4,
 "nbformat_minor": 4
}
