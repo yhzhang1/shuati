{
 "cells": [
  {
   "cell_type": "markdown",
   "metadata": {},
   "source": [
    "https://www.youtube.com/watch?v=GNSTPuSBZFk&t=166s"
   ]
  },
  {
   "cell_type": "code",
   "execution_count": 4,
   "metadata": {},
   "outputs": [],
   "source": [
    "class Solution:\n",
    "    def compareVersion(self, version1: str, version2: str) -> int:\n",
    "        version1 = version1.split('.')\n",
    "        version2 = version2.split('.')\n",
    "        \n",
    "        n = max(len(version1), len(version2))\n",
    "        \n",
    "        for i in range(n):\n",
    "            v1 = int(version1[i]) if i < len(version1) else None\n",
    "            v2 = int(version2[i]) if i < len(version2) else None\n",
    "            if not v2 and v1:\n",
    "                return 1\n",
    "            elif not v1 and v2:\n",
    "                return -1\n",
    "            elif v1 and v2: \n",
    "                if v1 > v2:\n",
    "                    return 1\n",
    "                elif v1 < v2:\n",
    "                    return -1\n",
    "            \n",
    "        return 0"
   ]
  }
 ],
 "metadata": {
  "kernelspec": {
   "display_name": "Python 3",
   "language": "python",
   "name": "python3"
  },
  "language_info": {
   "codemirror_mode": {
    "name": "ipython",
    "version": 3
   },
   "file_extension": ".py",
   "mimetype": "text/x-python",
   "name": "python",
   "nbconvert_exporter": "python",
   "pygments_lexer": "ipython3",
   "version": "3.7.6"
  }
 },
 "nbformat": 4,
 "nbformat_minor": 4
}
