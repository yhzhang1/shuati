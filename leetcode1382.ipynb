{
 "cells": [
  {
   "cell_type": "markdown",
   "metadata": {},
   "source": [
    "https://www.youtube.com/watch?v=U24USYuOWzw"
   ]
  },
  {
   "cell_type": "code",
   "execution_count": 4,
   "metadata": {},
   "outputs": [],
   "source": [
    "# T: O(n), S: O(n)\n",
    "# Definition for a binary tree node.\n",
    "# class TreeNode:\n",
    "#     def __init__(self, val=0, left=None, right=None):\n",
    "#         self.val = val\n",
    "#         self.left = left\n",
    "#         self.right = right\n",
    "class Solution:\n",
    "    def balanceBST(self, root: TreeNode) -> TreeNode:\n",
    "        def inorder(root):\n",
    "            if not root:\n",
    "                return []\n",
    "            \n",
    "            return inorder(root.left) + [root] + inorder(root.right)\n",
    "        def build(arr) -> TreeNode:\n",
    "            if not arr:\n",
    "                return\n",
    "            mid = (len(arr) - 1) // 2\n",
    "            arr[mid].left = build(arr[:mid])\n",
    "            arr[mid].right = build(arr[mid+1:])\n",
    "            \n",
    "            return arr[mid]\n",
    "        \n",
    "        sortedList = inorder(root)\n",
    "        return build(sortedList)"
   ]
  },
  {
   "cell_type": "code",
   "execution_count": 2,
   "metadata": {},
   "outputs": [],
   "source": [
    "# T: O(n), S: O(n)\n",
    "# Definition for a binary tree node.\n",
    "class TreeNode:\n",
    "    def __init__(self, val=0, left=None, right=None):\n",
    "        self.val = val\n",
    "        self.left = left\n",
    "        self.right = right\n",
    "class Solution:\n",
    "    def balanceBST(self, root: TreeNode) -> TreeNode:\n",
    "        def inorder(root):\n",
    "            if not root:\n",
    "                return\n",
    "            \n",
    "            inorder(root.left)\n",
    "            vals.append(root.val)\n",
    "            inorder(root.right)\n",
    "            \n",
    "        def build(l, r):\n",
    "            if l > r:\n",
    "                return\n",
    "            \n",
    "            m = (l + r) // 2\n",
    "            root = TreeNode(vals[m])\n",
    "            root.left = build(l, m-1)\n",
    "            root.right = build(m+1, r)\n",
    "            return root\n",
    "            \n",
    "        vals = []\n",
    "        inorder(root)\n",
    "        return build(0, len(vals)-1)"
   ]
  },
  {
   "cell_type": "code",
   "execution_count": null,
   "metadata": {},
   "outputs": [],
   "source": []
  }
 ],
 "metadata": {
  "kernelspec": {
   "display_name": "Python 3 (ipykernel)",
   "language": "python",
   "name": "python3"
  },
  "language_info": {
   "codemirror_mode": {
    "name": "ipython",
    "version": 3
   },
   "file_extension": ".py",
   "mimetype": "text/x-python",
   "name": "python",
   "nbconvert_exporter": "python",
   "pygments_lexer": "ipython3",
   "version": "3.8.5"
  }
 },
 "nbformat": 4,
 "nbformat_minor": 4
}
