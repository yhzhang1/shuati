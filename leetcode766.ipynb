{
 "cells": [
  {
   "cell_type": "markdown",
   "metadata": {},
   "source": [
    "https://leetcode.com/problems/toeplitz-matrix/solution/"
   ]
  },
  {
   "cell_type": "code",
   "execution_count": 8,
   "metadata": {},
   "outputs": [],
   "source": [
    "# T: O(mn), S: O(1)\n",
    "class Solution:\n",
    "    def isToeplitzMatrix(self, matrix: List[List[int]]) -> bool:\n",
    "        nrows, ncols = len(matrix), len(matrix[0])\n",
    "        \n",
    "        for y in range(nrows):\n",
    "            for x in range(ncols):\n",
    "                if y == 0 or x == 0 or matrix[y][x] == matrix[y-1][x-1]:\n",
    "                    continue\n",
    "                return False\n",
    "                \n",
    "        return True\n",
    "        "
   ]
  },
  {
   "cell_type": "code",
   "execution_count": 10,
   "metadata": {},
   "outputs": [],
   "source": [
    "# T: O(mn), S: O(1)\n",
    "class Solution:\n",
    "    def isToeplitzMatrix(self, matrix: List[List[int]]) -> bool:\n",
    "        return all(x == 0 or y == 0 or matrix[y][x] == matrix[y-1][x-1] \n",
    "                   for y in range(len(matrix)) \n",
    "                   for x in range(len(matrix[0])))"
   ]
  },
  {
   "cell_type": "code",
   "execution_count": 5,
   "metadata": {},
   "outputs": [],
   "source": [
    "# T: O(mn), S: O(m+n)\n",
    "from typing import List\n",
    "class Solution:\n",
    "    def isToeplitzMatrix(self, matrix: List[List[int]]) -> bool:\n",
    "        nrows, ncols = len(matrix), len(matrix[0])\n",
    "        groups = {}\n",
    "        \n",
    "        for y in range(nrows):\n",
    "            for x in range(ncols):\n",
    "                if x-y not in groups:\n",
    "                    groups[x-y] = matrix[y][x]\n",
    "                elif matrix[y][x] != groups[x-y]:\n",
    "                    return False\n",
    "                \n",
    "        return True\n",
    "        "
   ]
  },
  {
   "cell_type": "code",
   "execution_count": 6,
   "metadata": {},
   "outputs": [],
   "source": [
    "# T: O(mn), S: O(mn)\n",
    "class Solution:\n",
    "    def isToeplitzMatrix(self, matrix: List[List[int]]) -> bool:\n",
    "        def isValid(i, j):\n",
    "            return 0 <= i < nrows and 0 <= j < ncols and not visited[i][j]\n",
    "        nrows, ncols = len(matrix), len(matrix[0])\n",
    "        visited = [[False]*ncols for _ in range(nrows)]\n",
    "        \n",
    "        for y in range(nrows):\n",
    "            for x in range(ncols):\n",
    "                num = matrix[y][x]\n",
    "                i, j = y, x\n",
    "                while isValid(i,j):\n",
    "                    if matrix[i][j] != num:\n",
    "                        return False\n",
    "                    visited[i][j] = True\n",
    "                    i += 1\n",
    "                    j += 1\n",
    "                        \n",
    "        return True"
   ]
  },
  {
   "cell_type": "code",
   "execution_count": null,
   "metadata": {},
   "outputs": [],
   "source": []
  }
 ],
 "metadata": {
  "kernelspec": {
   "display_name": "Python 3",
   "language": "python",
   "name": "python3"
  },
  "language_info": {
   "codemirror_mode": {
    "name": "ipython",
    "version": 3
   },
   "file_extension": ".py",
   "mimetype": "text/x-python",
   "name": "python",
   "nbconvert_exporter": "python",
   "pygments_lexer": "ipython3",
   "version": "3.8.5"
  }
 },
 "nbformat": 4,
 "nbformat_minor": 4
}
