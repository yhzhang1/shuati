{
 "cells": [
  {
   "cell_type": "markdown",
   "metadata": {},
   "source": [
    "https://www.youtube.com/watch?v=r6Wz4W1TbuI&t=24s"
   ]
  },
  {
   "cell_type": "code",
   "execution_count": 7,
   "metadata": {},
   "outputs": [],
   "source": [
    "# T: O(n*sum) , S: O(sum)\n",
    "class Solution:\n",
    "    def findTargetSumWays(self, nums: List[int], target: int) -> int:\n",
    "        n = len(nums)\n",
    "        sum_ = sum(nums)\n",
    "        if sum_ < target:   return 0\n",
    "        kOffset = sum_\n",
    "        kMaxN = sum_ * 2 + 1\n",
    "        ways = [0] * kMaxN\n",
    "        ways[kOffset] = 1\n",
    "        \n",
    "        for num in nums:\n",
    "            tmp = [0] * kMaxN\n",
    "            for i in range(num, kMaxN - num):\n",
    "                if ways[i]:\n",
    "                    tmp[i+num] += ways[i]\n",
    "                    tmp[i-num] += ways[i]\n",
    "            ways, tmp = tmp, ways\n",
    "            \n",
    "        return ways[target + kOffset]"
   ]
  },
  {
   "cell_type": "code",
   "execution_count": 5,
   "metadata": {},
   "outputs": [],
   "source": [
    "# T: O(n*sum) , S: O(n*sum)\n",
    "class Solution:\n",
    "    def findTargetSumWays(self, nums: List[int], target: int) -> int:\n",
    "        n = len(nums)\n",
    "        sum_ = sum(nums)\n",
    "        if sum_ < target:   return 0\n",
    "        offset = sum_\n",
    "        ways = [[0]*(sum_ + offset + 1) for _ in range(n+1)]\n",
    "        ways[0][offset] = 1\n",
    "        \n",
    "        for i in range(n):\n",
    "            for j in range(nums[i], 2*sum_ + 1 - nums[i]):\n",
    "                if ways[i][j]:\n",
    "                    ways[i+1][j+nums[i]] += ways[i][j]\n",
    "                    ways[i+1][j-nums[i]] += ways[i][j]\n",
    "        \n",
    "        return ways[-1][target+offset]"
   ]
  },
  {
   "cell_type": "code",
   "execution_count": 3,
   "metadata": {},
   "outputs": [],
   "source": [
    "# dfs, does not pass\n",
    "# T: O(2^n), S: O(n)\n",
    "from typing import List\n",
    "class Solution:\n",
    "    def findTargetSumWays(self, nums: List[int], target: int) -> int:\n",
    "        def dfs(d, target):\n",
    "            nonlocal ans\n",
    "            if d == n:\n",
    "                if target == 0:\n",
    "                    ans += 1\n",
    "                return\n",
    "                \n",
    "            dfs(d+1, target-nums[d])\n",
    "            dfs(d+1, target+nums[d])\n",
    "            \n",
    "        sum_ = sum(nums)\n",
    "        if sum_ < abs(target):\n",
    "            return 0\n",
    "        n = len(nums)\n",
    "        ans = 0\n",
    "        dfs(0, target)\n",
    "        return ans"
   ]
  },
  {
   "cell_type": "code",
   "execution_count": null,
   "metadata": {},
   "outputs": [],
   "source": []
  }
 ],
 "metadata": {
  "kernelspec": {
   "display_name": "Python 3",
   "language": "python",
   "name": "python3"
  },
  "language_info": {
   "codemirror_mode": {
    "name": "ipython",
    "version": 3
   },
   "file_extension": ".py",
   "mimetype": "text/x-python",
   "name": "python",
   "nbconvert_exporter": "python",
   "pygments_lexer": "ipython3",
   "version": "3.8.5"
  }
 },
 "nbformat": 4,
 "nbformat_minor": 4
}
