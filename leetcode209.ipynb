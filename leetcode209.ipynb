{
 "cells": [
  {
   "cell_type": "markdown",
   "metadata": {},
   "source": [
    "https://www.youtube.com/watch?v=jp15K7dTCHc"
   ]
  },
  {
   "cell_type": "code",
   "execution_count": 4,
   "metadata": {},
   "outputs": [],
   "source": [
    "from typing import List\n",
    "class Solution:\n",
    "    def minSubArrayLen(self, s: int, nums: List[int]) -> int:\n",
    "        ans = sys.maxsize\n",
    "        left = 0\n",
    "        sum = 0\n",
    "        \n",
    "        for i in range(len(nums)):\n",
    "            sum += nums[i]\n",
    "            while sum >= s:\n",
    "                ans = min(ans, i-left+1)\n",
    "                sum -= nums[left]\n",
    "                left += 1\n",
    "                \n",
    "        return 0 if ans == sys.maxsize else ans"
   ]
  }
 ],
 "metadata": {
  "kernelspec": {
   "display_name": "Python 3",
   "language": "python",
   "name": "python3"
  },
  "language_info": {
   "codemirror_mode": {
    "name": "ipython",
    "version": 3
   },
   "file_extension": ".py",
   "mimetype": "text/x-python",
   "name": "python",
   "nbconvert_exporter": "python",
   "pygments_lexer": "ipython3",
   "version": "3.7.6"
  }
 },
 "nbformat": 4,
 "nbformat_minor": 4
}
