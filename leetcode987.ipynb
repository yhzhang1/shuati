{
 "cells": [
  {
   "cell_type": "markdown",
   "metadata": {},
   "source": [
    "https://leetcode.com/problems/vertical-order-traversal-of-a-binary-tree/solution/"
   ]
  },
  {
   "cell_type": "code",
   "execution_count": 2,
   "metadata": {},
   "outputs": [],
   "source": [
    "# T: O(nlog(n/k)), S: O(n), where k is the width of the tree, i.e. k is also the number of columns in the result\n",
    "from typing import Optional, List\n",
    "# Definition for a binary tree node.\n",
    "class TreeNode:\n",
    "    def __init__(self, val=0, left=None, right=None):\n",
    "        self.val = val\n",
    "        self.left = left\n",
    "        self.right = right\n",
    "class Solution:\n",
    "    def verticalTraversal(self, root: Optional[TreeNode]) -> List[List[int]]:\n",
    "        ans = []\n",
    "        if not root:\n",
    "            return ans\n",
    "        \n",
    "        columnTable = defaultdict(list)\n",
    "        q = deque()\n",
    "        q.append((root, 0, 0))\n",
    "        maxCol = minCol = 0\n",
    "        \n",
    "        while q:\n",
    "            node, row, col = q.popleft()\n",
    "            if node:\n",
    "                columnTable[col].append((row, node.val))\n",
    "                maxCol = max(col, maxCol)\n",
    "                minCol = min(col, minCol)\n",
    "                q.append((node.left, row+1, col-1))\n",
    "                q.append((node.right, row+1, col+1))\n",
    "                \n",
    "        for col in range(minCol, maxCol+1):\n",
    "            ans.append([val for row,val in sorted(columnTable[col])])\n",
    "        return ans"
   ]
  },
  {
   "cell_type": "code",
   "execution_count": null,
   "metadata": {},
   "outputs": [],
   "source": []
  }
 ],
 "metadata": {
  "kernelspec": {
   "display_name": "Python 3",
   "language": "python",
   "name": "python3"
  },
  "language_info": {
   "codemirror_mode": {
    "name": "ipython",
    "version": 3
   },
   "file_extension": ".py",
   "mimetype": "text/x-python",
   "name": "python",
   "nbconvert_exporter": "python",
   "pygments_lexer": "ipython3",
   "version": "3.8.5"
  }
 },
 "nbformat": 4,
 "nbformat_minor": 4
}
