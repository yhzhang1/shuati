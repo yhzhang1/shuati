{
 "cells": [
  {
   "cell_type": "markdown",
   "metadata": {},
   "source": [
    "https://www.youtube.com/watch?v=-tCHAdfDYDE"
   ]
  },
  {
   "cell_type": "code",
   "execution_count": 3,
   "metadata": {},
   "outputs": [],
   "source": [
    "class Solution:\n",
    "    def subsetsWithDup(self, nums: List[int]) -> List[List[int]]:\n",
    "        def dfs(cur, start):\n",
    "            ans.append(cur.copy())\n",
    "            for i in range(start, len(nums)):\n",
    "                if i > start and nums[i] == nums[i-1]:  continue\n",
    "                cur.append(nums[i])\n",
    "                dfs(cur, i + 1)\n",
    "                cur.pop()\n",
    "                \n",
    "        ans = []\n",
    "        nums.sort()\n",
    "        dfs([], 0)\n",
    "        return ans"
   ]
  },
  {
   "cell_type": "code",
   "execution_count": 2,
   "metadata": {},
   "outputs": [],
   "source": [
    "from typing import List\n",
    "class Solution:\n",
    "    def subsetsWithDup(self, nums: List[int]) -> List[List[int]]:\n",
    "        ans = list()\n",
    "        nums = sorted(nums)\n",
    "        self.dfs(nums, 0, [], ans)\n",
    "        return ans\n",
    "        \n",
    "    def dfs(self, nums, s, subset, ans):\n",
    "        ans.append(subset[:])\n",
    "        for i in range(s, len(nums)):\n",
    "            if i > s and nums[i] == nums[i-1]: \n",
    "                continue\n",
    "            subset.append(nums[i])\n",
    "            self.dfs(nums, i+1, subset, ans)\n",
    "            subset.pop()"
   ]
  },
  {
   "cell_type": "code",
   "execution_count": 41,
   "metadata": {},
   "outputs": [],
   "source": [
    "from typing import List\n",
    "def combination(nums: List[int], d, n, s, cur, ans):\n",
    "    if d == n:\n",
    "        ans.append(cur[:])\n",
    "        return\n",
    "        \n",
    "    for i in range(s, len(nums)):\n",
    "        #if i > 0 and nums[i] == nums[i-1]: continue\n",
    "        cur.append(nums[i])\n",
    "        combination(nums, d+1, n, i+1, cur, ans)\n",
    "        cur.pop()"
   ]
  },
  {
   "cell_type": "code",
   "execution_count": 42,
   "metadata": {},
   "outputs": [
    {
     "data": {
      "text/plain": [
       "[[1, 2], [1, 2], [2, 2]]"
      ]
     },
     "execution_count": 42,
     "metadata": {},
     "output_type": "execute_result"
    }
   ],
   "source": [
    "ans = list()\n",
    "combination([1,2,2], 0, 2, 0, [], ans)\n",
    "ans"
   ]
  },
  {
   "cell_type": "code",
   "execution_count": 6,
   "metadata": {},
   "outputs": [],
   "source": [
    "def dfs(nums, s, subset, ans):\n",
    "    print('subset: ', subset)\n",
    "    ans.append(subset[:])\n",
    "    for i in range(s, len(nums)):\n",
    "        if i > s and nums[i] == nums[i-1]: continue\n",
    "        subset.append(nums[i])\n",
    "        dfs(nums, i+1, subset, ans)\n",
    "        subset.pop()"
   ]
  },
  {
   "cell_type": "code",
   "execution_count": 7,
   "metadata": {},
   "outputs": [
    {
     "name": "stdout",
     "output_type": "stream",
     "text": [
      "subset:  []\n",
      "subset:  [1]\n",
      "subset:  [1, 2]\n",
      "subset:  [1, 2, 2]\n",
      "subset:  [2]\n",
      "subset:  [2, 2]\n"
     ]
    },
    {
     "data": {
      "text/plain": [
       "[[], [1], [1, 2], [1, 2, 2], [2], [2, 2]]"
      ]
     },
     "execution_count": 7,
     "metadata": {},
     "output_type": "execute_result"
    }
   ],
   "source": [
    "ans = list()\n",
    "dfs([1,2,2], 0, [], ans)\n",
    "ans"
   ]
  },
  {
   "cell_type": "code",
   "execution_count": 8,
   "metadata": {},
   "outputs": [
    {
     "data": {
      "text/plain": [
       "[1, 2, 3]"
      ]
     },
     "execution_count": 8,
     "metadata": {},
     "output_type": "execute_result"
    }
   ],
   "source": [
    "sorted([2,1,3])"
   ]
  }
 ],
 "metadata": {
  "kernelspec": {
   "display_name": "Python 3",
   "language": "python",
   "name": "python3"
  },
  "language_info": {
   "codemirror_mode": {
    "name": "ipython",
    "version": 3
   },
   "file_extension": ".py",
   "mimetype": "text/x-python",
   "name": "python",
   "nbconvert_exporter": "python",
   "pygments_lexer": "ipython3",
   "version": "3.8.5"
  }
 },
 "nbformat": 4,
 "nbformat_minor": 4
}
