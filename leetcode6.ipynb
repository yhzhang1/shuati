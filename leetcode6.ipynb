{
 "cells": [
  {
   "cell_type": "markdown",
   "metadata": {},
   "source": [
    "https://www.youtube.com/watch?v=re-WQ14s-Kg"
   ]
  },
  {
   "cell_type": "code",
   "execution_count": 1,
   "metadata": {},
   "outputs": [],
   "source": [
    "# T: O(n), S: O(n)\n",
    "class Solution:\n",
    "    def convert(self, s: str, numRows: int) -> str:\n",
    "        if numRows == 1 or numRows > len(s):\n",
    "            return s\n",
    "        zigzag = ['' for r in range(numRows)]\n",
    "        \n",
    "        r, step = 0, 1\n",
    "        \n",
    "        for c in s:\n",
    "            zigzag[r] += c\n",
    "            \n",
    "            if r == 0:\n",
    "                step = 1\n",
    "            elif r == numRows-1:\n",
    "                step = -1\n",
    "\n",
    "            r += step\n",
    "                        \n",
    "        return ''.join(zigzag)"
   ]
  },
  {
   "cell_type": "code",
   "execution_count": 1,
   "metadata": {},
   "outputs": [],
   "source": [
    "class Solution:\n",
    "    def convert(self, s: str, numRows: int) -> str:\n",
    "        if numRows == 1:\n",
    "            return s\n",
    "        n = len(s)\n",
    "        table = [[] for _ in range(numRows)]\n",
    "        \n",
    "        r = 0\n",
    "        goDown = True\n",
    "        for c in s:\n",
    "            table[r].append(c)\n",
    "            if goDown:\n",
    "                if r == numRows-1:\n",
    "                    goDown = False\n",
    "                    r -= 1\n",
    "                else:\n",
    "                    r += 1\n",
    "            else:\n",
    "                if r == 0:\n",
    "                    goDown = True\n",
    "                    r += 1\n",
    "                else:\n",
    "                    r -= 1\n",
    "                    \n",
    "\n",
    "        return ''.join([''.join(r) for r in table])\n",
    "            "
   ]
  },
  {
   "cell_type": "code",
   "execution_count": null,
   "metadata": {},
   "outputs": [],
   "source": []
  }
 ],
 "metadata": {
  "kernelspec": {
   "display_name": "Python 3 (ipykernel)",
   "language": "python",
   "name": "python3"
  },
  "language_info": {
   "codemirror_mode": {
    "name": "ipython",
    "version": 3
   },
   "file_extension": ".py",
   "mimetype": "text/x-python",
   "name": "python",
   "nbconvert_exporter": "python",
   "pygments_lexer": "ipython3",
   "version": "3.8.5"
  }
 },
 "nbformat": 4,
 "nbformat_minor": 4
}
