{
 "cells": [
  {
   "cell_type": "markdown",
   "metadata": {},
   "source": [
    "https://leetcode.com/problems/summary-ranges/solution/"
   ]
  },
  {
   "cell_type": "code",
   "execution_count": 2,
   "metadata": {},
   "outputs": [],
   "source": [
    "from typing import List\n",
    "class Solution:\n",
    "    def summaryRanges(self, nums: List[int]) -> List[str]:\n",
    "        ans = list()\n",
    "        i = 0\n",
    "        for j in range(len(nums)):\n",
    "            if j + 1 < len(nums) and nums[j+1] == nums[j] + 1:\n",
    "                continue\n",
    "            elif i == j:\n",
    "                ans.append(str(nums[j]))\n",
    "            else:\n",
    "                ans.append(str(nums[i]) + '->' + str(nums[j]))\n",
    "                \n",
    "            i = j + 1\n",
    "            \n",
    "        return ans"
   ]
  }
 ],
 "metadata": {
  "kernelspec": {
   "display_name": "Python 3",
   "language": "python",
   "name": "python3"
  },
  "language_info": {
   "codemirror_mode": {
    "name": "ipython",
    "version": 3
   },
   "file_extension": ".py",
   "mimetype": "text/x-python",
   "name": "python",
   "nbconvert_exporter": "python",
   "pygments_lexer": "ipython3",
   "version": "3.7.6"
  }
 },
 "nbformat": 4,
 "nbformat_minor": 4
}
