{
 "cells": [
  {
   "cell_type": "markdown",
   "metadata": {},
   "source": [
    "https://www.youtube.com/watch?v=gi_Dfz05T6Q"
   ]
  },
  {
   "cell_type": "code",
   "execution_count": 3,
   "metadata": {},
   "outputs": [],
   "source": [
    "from typing import List, Optional\n",
    "# Definition for a binary tree node.\n",
    "class TreeNode:\n",
    "    def __init__(self, val=0, left=None, right=None):\n",
    "        self.val = val\n",
    "        self.left = left\n",
    "        self.right = right\n",
    "class Solution:\n",
    "    def generateTrees(self, n: int) -> List[Optional[TreeNode]]:\n",
    "        def dfs(start, end):\n",
    "            ans = []\n",
    "            \n",
    "            if start > end:\n",
    "                ans.append(None)\n",
    "                return ans\n",
    "            \n",
    "            for i in range(start, end+1):\n",
    "                leftNodes = dfs(start, i-1)\n",
    "                rightNodes = dfs(i+1, end)\n",
    "                \n",
    "                #print('leftNodes: ', leftNodes)\n",
    "                #print('rightNodes: ', rightNodes)\n",
    "                \n",
    "                for l in leftNodes:\n",
    "                    for r in rightNodes:\n",
    "                        root = TreeNode(i, l, r)\n",
    "                        ans.append(root)\n",
    "                        \n",
    "            #print(ans)\n",
    "                        \n",
    "            return ans\n",
    "        \n",
    "        return dfs(1,n)"
   ]
  },
  {
   "cell_type": "code",
   "execution_count": null,
   "metadata": {},
   "outputs": [],
   "source": []
  }
 ],
 "metadata": {
  "kernelspec": {
   "display_name": "Python 3",
   "language": "python",
   "name": "python3"
  },
  "language_info": {
   "codemirror_mode": {
    "name": "ipython",
    "version": 3
   },
   "file_extension": ".py",
   "mimetype": "text/x-python",
   "name": "python",
   "nbconvert_exporter": "python",
   "pygments_lexer": "ipython3",
   "version": "3.8.5"
  }
 },
 "nbformat": 4,
 "nbformat_minor": 4
}
