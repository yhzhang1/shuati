{
 "cells": [
  {
   "cell_type": "markdown",
   "metadata": {},
   "source": [
    "https://leetcode.com/problems/minimum-remove-to-make-valid-parentheses/solution/"
   ]
  },
  {
   "cell_type": "code",
   "execution_count": 2,
   "metadata": {},
   "outputs": [],
   "source": [
    "# T: O(n), S: O(1)\n",
    "class Solution:\n",
    "    def minRemoveToMakeValid(self, s: str) -> str:\n",
    "        dl = dr = m = 0\n",
    "        for c in s:\n",
    "            if c == '(':\n",
    "                dl += 1\n",
    "            elif c == ')':\n",
    "                if dl:\n",
    "                    dl -= 1\n",
    "                    m += 1\n",
    "                else:\n",
    "                    dr += 1\n",
    "            \n",
    "        print(dl, dr)\n",
    "        ans = ''\n",
    "        l = r = 0\n",
    "        for c in s:\n",
    "            if c == '(':\n",
    "                if l < m:\n",
    "                    ans += c\n",
    "                    l += 1\n",
    "            elif c == ')':\n",
    "                if l > r:\n",
    "                    ans += c\n",
    "                    r += 1\n",
    "            else:\n",
    "                ans += c\n",
    "                \n",
    "        return ans"
   ]
  },
  {
   "cell_type": "code",
   "execution_count": 1,
   "metadata": {},
   "outputs": [],
   "source": [
    "# T: O(n), S: O(n)\n",
    "class Solution:\n",
    "    def minRemoveToMakeValid(self, s: str) -> str:\n",
    "        indexToRemove = set()\n",
    "        stack = []\n",
    "        \n",
    "        for i, c in enumerate(s):\n",
    "            if c not in '()':\n",
    "                continue\n",
    "            elif c == '(':\n",
    "                stack.append(i)\n",
    "            elif not stack:\n",
    "                indexToRemove.add(i)\n",
    "            else:\n",
    "                stack.pop()\n",
    "                \n",
    "        indexToRemove = indexToRemove.union(set(stack))\n",
    "        stringBuilder = ''\n",
    "        for i, c in enumerate(s):\n",
    "            if i not in indexToRemove:\n",
    "                stringBuilder += c\n",
    "                \n",
    "        return stringBuilder"
   ]
  },
  {
   "cell_type": "code",
   "execution_count": 1,
   "metadata": {},
   "outputs": [],
   "source": [
    "class Solution:\n",
    "    def minRemoveToMakeValid(self, s: str) -> str:\n",
    "        leftParen = rightParen = 0\n",
    "        stack = []\n",
    "        \n",
    "        for c in s:\n",
    "            if c == ')' and stack:\n",
    "                rightParen += 1\n",
    "                stack.pop()\n",
    "            elif c == '(':\n",
    "                stack.append(c)\n",
    "                leftParen += 1\n",
    "                \n",
    "        while stack:\n",
    "            leftParen -= 1\n",
    "            stack.pop()\n",
    "                \n",
    "        print('leftParen', leftParen)\n",
    "        print('rightParen', rightParen)\n",
    "        ans = ''\n",
    "        for c in s:\n",
    "            if c == '(':\n",
    "                if leftParen:\n",
    "                    ans += c\n",
    "                    leftParen -= 1\n",
    "                    stack.append(c)\n",
    "            elif c == ')':\n",
    "                if rightParen and stack:\n",
    "                    ans += c\n",
    "                    rightParen -= 1\n",
    "                    stack.pop()\n",
    "            else:\n",
    "                ans += c\n",
    "\n",
    "        return ans"
   ]
  },
  {
   "cell_type": "code",
   "execution_count": null,
   "metadata": {},
   "outputs": [],
   "source": []
  }
 ],
 "metadata": {
  "kernelspec": {
   "display_name": "Python 3",
   "language": "python",
   "name": "python3"
  },
  "language_info": {
   "codemirror_mode": {
    "name": "ipython",
    "version": 3
   },
   "file_extension": ".py",
   "mimetype": "text/x-python",
   "name": "python",
   "nbconvert_exporter": "python",
   "pygments_lexer": "ipython3",
   "version": "3.8.5"
  }
 },
 "nbformat": 4,
 "nbformat_minor": 4
}
